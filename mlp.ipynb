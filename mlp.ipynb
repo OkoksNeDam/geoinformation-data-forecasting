{
  "nbformat": 4,
  "nbformat_minor": 0,
  "metadata": {
    "colab": {
      "provenance": [],
      "gpuType": "T4",
      "authorship_tag": "ABX9TyMvmifulAR8kXdZKdIK5U7a",
      "include_colab_link": true
    },
    "kernelspec": {
      "name": "python3",
      "display_name": "Python 3"
    },
    "language_info": {
      "name": "python"
    },
    "accelerator": "GPU"
  },
  "cells": [
    {
      "cell_type": "markdown",
      "metadata": {
        "id": "view-in-github",
        "colab_type": "text"
      },
      "source": [
        "<a href=\"https://colab.research.google.com/github/OkoksNeDam/geoinformation-data-forecasting/blob/main/mlp.ipynb\" target=\"_parent\"><img src=\"https://colab.research.google.com/assets/colab-badge.svg\" alt=\"Open In Colab\"/></a>"
      ]
    },
    {
      "cell_type": "code",
      "source": [
        "import torch\n",
        "import pandas as pd\n",
        "import datetime\n",
        "import matplotlib.pyplot as plt\n",
        "import numpy as np\n",
        "from torch import nn\n",
        "from tqdm import tqdm\n",
        "from sklearn.metrics import mean_squared_error, mean_absolute_percentage_error"
      ],
      "metadata": {
        "id": "_isJCshjPK79"
      },
      "execution_count": 13,
      "outputs": []
    },
    {
      "cell_type": "code",
      "execution_count": 2,
      "metadata": {
        "id": "sprBQfzdObRE"
      },
      "outputs": [],
      "source": [
        "import gdown\n",
        "# Main data.\n",
        "data_url         = 'https://drive.google.com/drive/folders/1Pf0soKlFy21_9VADQ4hvjbMeevTdjuOW?usp=sharing'\n",
        "\n",
        "links = [data_url]\n",
        "\n",
        "# Downloading data.\n",
        "for url in links:\n",
        "    gdown.download_folder(url, quiet=True)"
      ]
    },
    {
      "cell_type": "code",
      "source": [
        "df_train, df_val, df_test = pd.read_csv('/content/data/train/train.csv'), pd.read_csv('/content/data/val/val.csv'), pd.read_csv('/content/data/test/test.csv')"
      ],
      "metadata": {
        "id": "4lZ1UpP6QPGt"
      },
      "execution_count": 128,
      "outputs": []
    },
    {
      "cell_type": "code",
      "source": [
        "df_train.head()"
      ],
      "metadata": {
        "colab": {
          "base_uri": "https://localhost:8080/",
          "height": 204
        },
        "id": "5u7erWzYdHZV",
        "outputId": "53adfc3d-d65a-4205-93cb-6028debf909a"
      },
      "execution_count": 4,
      "outputs": [
        {
          "output_type": "execute_result",
          "data": {
            "text/plain": [
              "                    ds       y\n",
              "0  2003-01-01 01:00:00  1824.7\n",
              "1  2003-01-01 02:00:00  1823.6\n",
              "2  2003-01-01 03:00:00  1814.7\n",
              "3  2003-01-01 04:00:00  1816.8\n",
              "4  2003-01-01 05:00:00  1816.4"
            ],
            "text/html": [
              "\n",
              "  <div id=\"df-3cd58642-73df-45d6-92eb-f8484c43d284\" class=\"colab-df-container\">\n",
              "    <div>\n",
              "<style scoped>\n",
              "    .dataframe tbody tr th:only-of-type {\n",
              "        vertical-align: middle;\n",
              "    }\n",
              "\n",
              "    .dataframe tbody tr th {\n",
              "        vertical-align: top;\n",
              "    }\n",
              "\n",
              "    .dataframe thead th {\n",
              "        text-align: right;\n",
              "    }\n",
              "</style>\n",
              "<table border=\"1\" class=\"dataframe\">\n",
              "  <thead>\n",
              "    <tr style=\"text-align: right;\">\n",
              "      <th></th>\n",
              "      <th>ds</th>\n",
              "      <th>y</th>\n",
              "    </tr>\n",
              "  </thead>\n",
              "  <tbody>\n",
              "    <tr>\n",
              "      <th>0</th>\n",
              "      <td>2003-01-01 01:00:00</td>\n",
              "      <td>1824.7</td>\n",
              "    </tr>\n",
              "    <tr>\n",
              "      <th>1</th>\n",
              "      <td>2003-01-01 02:00:00</td>\n",
              "      <td>1823.6</td>\n",
              "    </tr>\n",
              "    <tr>\n",
              "      <th>2</th>\n",
              "      <td>2003-01-01 03:00:00</td>\n",
              "      <td>1814.7</td>\n",
              "    </tr>\n",
              "    <tr>\n",
              "      <th>3</th>\n",
              "      <td>2003-01-01 04:00:00</td>\n",
              "      <td>1816.8</td>\n",
              "    </tr>\n",
              "    <tr>\n",
              "      <th>4</th>\n",
              "      <td>2003-01-01 05:00:00</td>\n",
              "      <td>1816.4</td>\n",
              "    </tr>\n",
              "  </tbody>\n",
              "</table>\n",
              "</div>\n",
              "    <div class=\"colab-df-buttons\">\n",
              "\n",
              "  <div class=\"colab-df-container\">\n",
              "    <button class=\"colab-df-convert\" onclick=\"convertToInteractive('df-3cd58642-73df-45d6-92eb-f8484c43d284')\"\n",
              "            title=\"Convert this dataframe to an interactive table.\"\n",
              "            style=\"display:none;\">\n",
              "\n",
              "  <svg xmlns=\"http://www.w3.org/2000/svg\" height=\"24px\" viewBox=\"0 -960 960 960\">\n",
              "    <path d=\"M120-120v-720h720v720H120Zm60-500h600v-160H180v160Zm220 220h160v-160H400v160Zm0 220h160v-160H400v160ZM180-400h160v-160H180v160Zm440 0h160v-160H620v160ZM180-180h160v-160H180v160Zm440 0h160v-160H620v160Z\"/>\n",
              "  </svg>\n",
              "    </button>\n",
              "\n",
              "  <style>\n",
              "    .colab-df-container {\n",
              "      display:flex;\n",
              "      gap: 12px;\n",
              "    }\n",
              "\n",
              "    .colab-df-convert {\n",
              "      background-color: #E8F0FE;\n",
              "      border: none;\n",
              "      border-radius: 50%;\n",
              "      cursor: pointer;\n",
              "      display: none;\n",
              "      fill: #1967D2;\n",
              "      height: 32px;\n",
              "      padding: 0 0 0 0;\n",
              "      width: 32px;\n",
              "    }\n",
              "\n",
              "    .colab-df-convert:hover {\n",
              "      background-color: #E2EBFA;\n",
              "      box-shadow: 0px 1px 2px rgba(60, 64, 67, 0.3), 0px 1px 3px 1px rgba(60, 64, 67, 0.15);\n",
              "      fill: #174EA6;\n",
              "    }\n",
              "\n",
              "    .colab-df-buttons div {\n",
              "      margin-bottom: 4px;\n",
              "    }\n",
              "\n",
              "    [theme=dark] .colab-df-convert {\n",
              "      background-color: #3B4455;\n",
              "      fill: #D2E3FC;\n",
              "    }\n",
              "\n",
              "    [theme=dark] .colab-df-convert:hover {\n",
              "      background-color: #434B5C;\n",
              "      box-shadow: 0px 1px 3px 1px rgba(0, 0, 0, 0.15);\n",
              "      filter: drop-shadow(0px 1px 2px rgba(0, 0, 0, 0.3));\n",
              "      fill: #FFFFFF;\n",
              "    }\n",
              "  </style>\n",
              "\n",
              "    <script>\n",
              "      const buttonEl =\n",
              "        document.querySelector('#df-3cd58642-73df-45d6-92eb-f8484c43d284 button.colab-df-convert');\n",
              "      buttonEl.style.display =\n",
              "        google.colab.kernel.accessAllowed ? 'block' : 'none';\n",
              "\n",
              "      async function convertToInteractive(key) {\n",
              "        const element = document.querySelector('#df-3cd58642-73df-45d6-92eb-f8484c43d284');\n",
              "        const dataTable =\n",
              "          await google.colab.kernel.invokeFunction('convertToInteractive',\n",
              "                                                    [key], {});\n",
              "        if (!dataTable) return;\n",
              "\n",
              "        const docLinkHtml = 'Like what you see? Visit the ' +\n",
              "          '<a target=\"_blank\" href=https://colab.research.google.com/notebooks/data_table.ipynb>data table notebook</a>'\n",
              "          + ' to learn more about interactive tables.';\n",
              "        element.innerHTML = '';\n",
              "        dataTable['output_type'] = 'display_data';\n",
              "        await google.colab.output.renderOutput(dataTable, element);\n",
              "        const docLink = document.createElement('div');\n",
              "        docLink.innerHTML = docLinkHtml;\n",
              "        element.appendChild(docLink);\n",
              "      }\n",
              "    </script>\n",
              "  </div>\n",
              "\n",
              "\n",
              "<div id=\"df-941f5720-b2c6-46af-b8bf-774b61f2b1bb\">\n",
              "  <button class=\"colab-df-quickchart\" onclick=\"quickchart('df-941f5720-b2c6-46af-b8bf-774b61f2b1bb')\"\n",
              "            title=\"Suggest charts\"\n",
              "            style=\"display:none;\">\n",
              "\n",
              "<svg xmlns=\"http://www.w3.org/2000/svg\" height=\"24px\"viewBox=\"0 0 24 24\"\n",
              "     width=\"24px\">\n",
              "    <g>\n",
              "        <path d=\"M19 3H5c-1.1 0-2 .9-2 2v14c0 1.1.9 2 2 2h14c1.1 0 2-.9 2-2V5c0-1.1-.9-2-2-2zM9 17H7v-7h2v7zm4 0h-2V7h2v10zm4 0h-2v-4h2v4z\"/>\n",
              "    </g>\n",
              "</svg>\n",
              "  </button>\n",
              "\n",
              "<style>\n",
              "  .colab-df-quickchart {\n",
              "      --bg-color: #E8F0FE;\n",
              "      --fill-color: #1967D2;\n",
              "      --hover-bg-color: #E2EBFA;\n",
              "      --hover-fill-color: #174EA6;\n",
              "      --disabled-fill-color: #AAA;\n",
              "      --disabled-bg-color: #DDD;\n",
              "  }\n",
              "\n",
              "  [theme=dark] .colab-df-quickchart {\n",
              "      --bg-color: #3B4455;\n",
              "      --fill-color: #D2E3FC;\n",
              "      --hover-bg-color: #434B5C;\n",
              "      --hover-fill-color: #FFFFFF;\n",
              "      --disabled-bg-color: #3B4455;\n",
              "      --disabled-fill-color: #666;\n",
              "  }\n",
              "\n",
              "  .colab-df-quickchart {\n",
              "    background-color: var(--bg-color);\n",
              "    border: none;\n",
              "    border-radius: 50%;\n",
              "    cursor: pointer;\n",
              "    display: none;\n",
              "    fill: var(--fill-color);\n",
              "    height: 32px;\n",
              "    padding: 0;\n",
              "    width: 32px;\n",
              "  }\n",
              "\n",
              "  .colab-df-quickchart:hover {\n",
              "    background-color: var(--hover-bg-color);\n",
              "    box-shadow: 0 1px 2px rgba(60, 64, 67, 0.3), 0 1px 3px 1px rgba(60, 64, 67, 0.15);\n",
              "    fill: var(--button-hover-fill-color);\n",
              "  }\n",
              "\n",
              "  .colab-df-quickchart-complete:disabled,\n",
              "  .colab-df-quickchart-complete:disabled:hover {\n",
              "    background-color: var(--disabled-bg-color);\n",
              "    fill: var(--disabled-fill-color);\n",
              "    box-shadow: none;\n",
              "  }\n",
              "\n",
              "  .colab-df-spinner {\n",
              "    border: 2px solid var(--fill-color);\n",
              "    border-color: transparent;\n",
              "    border-bottom-color: var(--fill-color);\n",
              "    animation:\n",
              "      spin 1s steps(1) infinite;\n",
              "  }\n",
              "\n",
              "  @keyframes spin {\n",
              "    0% {\n",
              "      border-color: transparent;\n",
              "      border-bottom-color: var(--fill-color);\n",
              "      border-left-color: var(--fill-color);\n",
              "    }\n",
              "    20% {\n",
              "      border-color: transparent;\n",
              "      border-left-color: var(--fill-color);\n",
              "      border-top-color: var(--fill-color);\n",
              "    }\n",
              "    30% {\n",
              "      border-color: transparent;\n",
              "      border-left-color: var(--fill-color);\n",
              "      border-top-color: var(--fill-color);\n",
              "      border-right-color: var(--fill-color);\n",
              "    }\n",
              "    40% {\n",
              "      border-color: transparent;\n",
              "      border-right-color: var(--fill-color);\n",
              "      border-top-color: var(--fill-color);\n",
              "    }\n",
              "    60% {\n",
              "      border-color: transparent;\n",
              "      border-right-color: var(--fill-color);\n",
              "    }\n",
              "    80% {\n",
              "      border-color: transparent;\n",
              "      border-right-color: var(--fill-color);\n",
              "      border-bottom-color: var(--fill-color);\n",
              "    }\n",
              "    90% {\n",
              "      border-color: transparent;\n",
              "      border-bottom-color: var(--fill-color);\n",
              "    }\n",
              "  }\n",
              "</style>\n",
              "\n",
              "  <script>\n",
              "    async function quickchart(key) {\n",
              "      const quickchartButtonEl =\n",
              "        document.querySelector('#' + key + ' button');\n",
              "      quickchartButtonEl.disabled = true;  // To prevent multiple clicks.\n",
              "      quickchartButtonEl.classList.add('colab-df-spinner');\n",
              "      try {\n",
              "        const charts = await google.colab.kernel.invokeFunction(\n",
              "            'suggestCharts', [key], {});\n",
              "      } catch (error) {\n",
              "        console.error('Error during call to suggestCharts:', error);\n",
              "      }\n",
              "      quickchartButtonEl.classList.remove('colab-df-spinner');\n",
              "      quickchartButtonEl.classList.add('colab-df-quickchart-complete');\n",
              "    }\n",
              "    (() => {\n",
              "      let quickchartButtonEl =\n",
              "        document.querySelector('#df-941f5720-b2c6-46af-b8bf-774b61f2b1bb button');\n",
              "      quickchartButtonEl.style.display =\n",
              "        google.colab.kernel.accessAllowed ? 'block' : 'none';\n",
              "    })();\n",
              "  </script>\n",
              "</div>\n",
              "    </div>\n",
              "  </div>\n"
            ]
          },
          "metadata": {},
          "execution_count": 4
        }
      ]
    },
    {
      "cell_type": "code",
      "source": [
        "def fill_missing_values(dataframe, method):\n",
        "    dataframe = dataframe.copy(deep=True)\n",
        "    if method == 'default':\n",
        "        return dataframe\n",
        "    # fill with mean.\n",
        "    if method == 'mean':\n",
        "        return dataframe.fillna(dataframe.mean(numeric_only=True).round(1))\n",
        "    # fill with median.\n",
        "    if method == 'median':\n",
        "        return dataframe.fillna(dataframe.median(numeric_only=True).round(1))\n",
        "    # if there are nan left, fill with bfill.\n",
        "    if method == 'ffill':\n",
        "        return dataframe.fillna(method=method).fillna(method='bfill')\n",
        "    # filling occurs with next values.\n",
        "    # if there are nan left, fill with ffill.\n",
        "    if method == 'bfill':\n",
        "        return dataframe.fillna(method=method).fillna(method='ffill')\n",
        "    # fill with backward interpolation.\n",
        "    # if there are nan left, fill with forward.\n",
        "    if method == 'interpolate_backward':\n",
        "        return dataframe.apply(lambda col: col.interpolate(method ='linear', limit_direction ='backward')\n",
        "                                              .interpolate(method ='linear', limit_direction ='forward') if col.name != \"ds\" else col)\n",
        "    # fill with forward interpolation.\n",
        "    # if there are nan left, fill with backward.\n",
        "    if method == 'interpolate_forward':\n",
        "        return dataframe.apply(lambda col: col.interpolate(method ='linear', limit_direction ='forward')\n",
        "                                              .interpolate(method ='linear', limit_direction ='backward') if col.name != \"ds\" else col)\n",
        "    # fill with knn method.\n",
        "    if method == 'knn':\n",
        "        imputer = KNNImputer(n_neighbors=15)\n",
        "        dataframe = dataframe.apply(lambda col: imputer.fit_transform(col.to_numpy().reshape(-1, 1)).T[0] if col.name != \"ds\" else col)\n",
        "        return dataframe\n",
        "\n",
        "    return dataframe"
      ],
      "metadata": {
        "id": "AkQi6C7ok1W-"
      },
      "execution_count": 5,
      "outputs": []
    },
    {
      "cell_type": "code",
      "source": [
        "df_train = fill_missing_values(df_train, method='median')\n",
        "df_test = fill_missing_values(df_test, method='median')\n",
        "df_val = fill_missing_values(df_val, method='median')"
      ],
      "metadata": {
        "id": "anCrEmJek78C"
      },
      "execution_count": 129,
      "outputs": []
    },
    {
      "cell_type": "code",
      "source": [
        "from sklearn.preprocessing import StandardScaler\n",
        "\n",
        "scaler = StandardScaler()\n",
        "df_train.y = scaler.fit_transform(np.array(df_train.y).reshape(-1, 1)).T[0]\n",
        "df_val.y = scaler.transform(np.array(df_val.y).reshape(-1, 1)).T[0]\n",
        "df_test.y = scaler.transform(np.array(df_test.y).reshape(-1, 1)).T[0]"
      ],
      "metadata": {
        "id": "drmCJOy0RiMY"
      },
      "execution_count": 130,
      "outputs": []
    },
    {
      "cell_type": "code",
      "source": [
        "plt.plot(df_train.y, label='train')\n",
        "plt.plot(df_val.y, label='val')\n",
        "plt.plot(df_test.y, label='test')\n",
        "plt.legend()"
      ],
      "metadata": {
        "colab": {
          "base_uri": "https://localhost:8080/",
          "height": 447
        },
        "id": "TCQ50nTyX1rG",
        "outputId": "ac240f32-ab18-4a53-fba5-33889b207e22"
      },
      "execution_count": 175,
      "outputs": [
        {
          "output_type": "execute_result",
          "data": {
            "text/plain": [
              "<matplotlib.legend.Legend at 0x7ebbad608220>"
            ]
          },
          "metadata": {},
          "execution_count": 175
        },
        {
          "output_type": "display_data",
          "data": {
            "text/plain": [
              "<Figure size 640x480 with 1 Axes>"
            ],
            "image/png": "[encoded data removed]"
          },
          "metadata": {}
        }
      ]
    },
    {
      "cell_type": "code",
      "source": [
        "def split_sequence(sequence, n_steps_in, n_steps_out):\n",
        "  X, y = list(), list()\n",
        "  for i in range(len(sequence)):\n",
        "    # find the end of this pattern\n",
        "    end_ix = i + n_steps_in\n",
        "    out_end_ix = end_ix + n_steps_out\n",
        "    # check if we are beyond the sequence\n",
        "    if out_end_ix > len(sequence):\n",
        "      break\n",
        "    # gather input and output parts of the pattern\n",
        "    seq_x, seq_y = sequence[i:end_ix], sequence[end_ix:out_end_ix]\n",
        "    X.append(seq_x)\n",
        "    y.append(seq_y)\n",
        "  return np.array(X), np.array(y)"
      ],
      "metadata": {
        "id": "FrGO7Nt3SALR"
      },
      "execution_count": 8,
      "outputs": []
    },
    {
      "cell_type": "code",
      "source": [
        "X_train, y_train = split_sequence(df_train.y, 1000, 1)\n",
        "X_val, y_val = split_sequence(df_val.y, 1000, 1)\n",
        "X_test, y_test = split_sequence(df_test.y, 1000, 1)"
      ],
      "metadata": {
        "id": "DhNpc0erUTHk"
      },
      "execution_count": 133,
      "outputs": []
    },
    {
      "cell_type": "code",
      "source": [
        "class MLP(nn.Module):\n",
        "  def __init__(self, in_dim, hidden_dim, out_dim):\n",
        "    super().__init__()\n",
        "    self.model = nn.Sequential(\n",
        "        nn.Linear(in_dim, hidden_dim),\n",
        "        nn.ReLU(),\n",
        "        nn.Linear(hidden_dim, hidden_dim),\n",
        "        nn.ReLU(),\n",
        "        nn.Linear(hidden_dim, out_dim)\n",
        "    )\n",
        "    self.double()\n",
        "\n",
        "  def forward(self, X):\n",
        "    return self.model(X)"
      ],
      "metadata": {
        "id": "gtO2wwjjc2gm"
      },
      "execution_count": 10,
      "outputs": []
    },
    {
      "cell_type": "code",
      "source": [
        "class TSDataset(torch.utils.data.Dataset):\n",
        "    def __init__(self, x, y):\n",
        "        self.x = x\n",
        "        self.y = y\n",
        "\n",
        "    def __len__(self):\n",
        "        return len(self.x)\n",
        "\n",
        "    def __getitem__(self, idx):\n",
        "        return (\n",
        "            torch.tensor(self.x[idx, :]),\n",
        "            self.y[idx],\n",
        "        )"
      ],
      "metadata": {
        "id": "_7fUx0LVeNDG"
      },
      "execution_count": 11,
      "outputs": []
    },
    {
      "cell_type": "code",
      "source": [
        "train_dataset = TSDataset(X_train, y_train)\n",
        "val_dataset = TSDataset(X_val, y_val)\n",
        "test_dataset = TSDataset(X_test, y_test)"
      ],
      "metadata": {
        "id": "7rpX0A5EexPP"
      },
      "execution_count": 134,
      "outputs": []
    },
    {
      "cell_type": "code",
      "source": [
        "train_dataloader = torch.utils.data.DataLoader(train_dataset, batch_size=32, shuffle=False)\n",
        "val_dataloader = torch.utils.data.DataLoader(val_dataset, batch_size=32, shuffle=False)\n",
        "test_dataloader = torch.utils.data.DataLoader(test_dataset, batch_size=32, shuffle=False)"
      ],
      "metadata": {
        "id": "gC2SACGie3yl"
      },
      "execution_count": 145,
      "outputs": []
    },
    {
      "cell_type": "code",
      "source": [
        "len(train_dataloader)"
      ],
      "metadata": {
        "colab": {
          "base_uri": "https://localhost:8080/"
        },
        "id": "AxCH0h9plv1t",
        "outputId": "e2b03435-b0d8-49c6-d418-445ad0ef674b"
      },
      "execution_count": 114,
      "outputs": [
        {
          "output_type": "execute_result",
          "data": {
            "text/plain": [
              "3094"
            ]
          },
          "metadata": {},
          "execution_count": 114
        }
      ]
    },
    {
      "cell_type": "code",
      "source": [
        "model = MLP(1000, 128, 1)\n",
        "optimizer = torch.optim.SGD(model.parameters(), lr=1e-4, momentum=0.9)\n",
        "\n",
        "train_losses = []\n",
        "test_mapes = []\n",
        "\n",
        "for epoch in range(5):\n",
        "    model.train()\n",
        "    train_loss_per_epoch = 0.0\n",
        "    for x_train, y_train in tqdm(train_dataloader):\n",
        "        y_pred = model(x_train)\n",
        "        loss = nn.MSELoss()(y_pred, y_train)\n",
        "        train_loss_per_epoch += loss\n",
        "        loss.backward()\n",
        "        optimizer.step()\n",
        "        optimizer.zero_grad()\n",
        "\n",
        "    train_loss_per_epoch /= len(train_dataloader)\n",
        "    train_losses += [train_loss_per_epoch.detach().numpy()]\n",
        "    print(f\"train loss: {train_loss_per_epoch}\")\n",
        "\n",
        "    y_pred_arr = torch.tensor([])\n",
        "    y_true_arr = torch.tensor([])\n",
        "    for x_val, y_val in tqdm(val_dataloader):\n",
        "      with torch.no_grad():\n",
        "        y_pred = model(x_val).squeeze(1)\n",
        "        loss = nn.MSELoss()(y_pred, y_val.squeeze(1))\n",
        "\n",
        "        y_pred_arr = torch.cat((y_pred_arr, y_pred))\n",
        "        y_true_arr = torch.cat((y_true_arr, y_val.squeeze(1)))\n",
        "\n",
        "    test_mape = mean_absolute_percentage_error(y_true_arr, y_pred_arr) * 100\n",
        "    test_mapes += [test_mape]\n",
        "    print(f\"test mape: {test_mape}\")"
      ],
      "metadata": {
        "colab": {
          "base_uri": "https://localhost:8080/"
        },
        "id": "ZcU2of1mf7Gs",
        "outputId": "a0880786-45e3-437f-84d6-23f9a80d6e9f"
      },
      "execution_count": 146,
      "outputs": [
        {
          "output_type": "stream",
          "name": "stderr",
          "text": [
            "100%|██████████| 4522/4522 [00:12<00:00, 349.15it/s]\n"
          ]
        },
        {
          "output_type": "stream",
          "name": "stdout",
          "text": [
            "train mape: 53.420996642882145\n",
            "train loss: 0.046748507048809534\n"
          ]
        },
        {
          "output_type": "stream",
          "name": "stderr",
          "text": [
            "100%|██████████| 538/538 [00:01<00:00, 528.03it/s]\n"
          ]
        },
        {
          "output_type": "stream",
          "name": "stdout",
          "text": [
            "test mape: 3.6979960572936106\n"
          ]
        },
        {
          "output_type": "stream",
          "name": "stderr",
          "text": [
            "100%|██████████| 4522/4522 [00:13<00:00, 342.41it/s]\n"
          ]
        },
        {
          "output_type": "stream",
          "name": "stdout",
          "text": [
            "train mape: 50.57217725783916\n",
            "train loss: 0.03562364611090585\n"
          ]
        },
        {
          "output_type": "stream",
          "name": "stderr",
          "text": [
            "100%|██████████| 538/538 [00:01<00:00, 520.89it/s]\n"
          ]
        },
        {
          "output_type": "stream",
          "name": "stdout",
          "text": [
            "test mape: 3.381285681038175\n"
          ]
        },
        {
          "output_type": "stream",
          "name": "stderr",
          "text": [
            "100%|██████████| 4522/4522 [00:12<00:00, 347.85it/s]\n"
          ]
        },
        {
          "output_type": "stream",
          "name": "stdout",
          "text": [
            "train mape: 44.643738116464945\n",
            "train loss: 0.03037838058979588\n"
          ]
        },
        {
          "output_type": "stream",
          "name": "stderr",
          "text": [
            "100%|██████████| 538/538 [00:01<00:00, 519.94it/s]\n"
          ]
        },
        {
          "output_type": "stream",
          "name": "stdout",
          "text": [
            "test mape: 3.307882362896307\n"
          ]
        },
        {
          "output_type": "stream",
          "name": "stderr",
          "text": [
            "100%|██████████| 4522/4522 [00:12<00:00, 350.74it/s]\n"
          ]
        },
        {
          "output_type": "stream",
          "name": "stdout",
          "text": [
            "train mape: 40.84080036829292\n",
            "train loss: 0.027550699552389146\n"
          ]
        },
        {
          "output_type": "stream",
          "name": "stderr",
          "text": [
            "100%|██████████| 538/538 [00:01<00:00, 524.98it/s]\n"
          ]
        },
        {
          "output_type": "stream",
          "name": "stdout",
          "text": [
            "test mape: 3.3215849838108706\n"
          ]
        },
        {
          "output_type": "stream",
          "name": "stderr",
          "text": [
            "100%|██████████| 4522/4522 [00:12<00:00, 350.06it/s]\n"
          ]
        },
        {
          "output_type": "stream",
          "name": "stdout",
          "text": [
            "train mape: 38.76788718668857\n",
            "train loss: 0.025624691321204277\n"
          ]
        },
        {
          "output_type": "stream",
          "name": "stderr",
          "text": [
            "100%|██████████| 538/538 [00:01<00:00, 516.79it/s]"
          ]
        },
        {
          "output_type": "stream",
          "name": "stdout",
          "text": [
            "test mape: 3.3229523294782313\n"
          ]
        },
        {
          "output_type": "stream",
          "name": "stderr",
          "text": [
            "\n"
          ]
        }
      ]
    },
    {
      "cell_type": "code",
      "source": [
        "plt.plot(test_mapes)"
      ],
      "metadata": {
        "colab": {
          "base_uri": "https://localhost:8080/",
          "height": 447
        },
        "id": "yIhPdrS5Tinj",
        "outputId": "9347f097-9195-4458-e308-0e706cde96ac"
      },
      "execution_count": 147,
      "outputs": [
        {
          "output_type": "execute_result",
          "data": {
            "text/plain": [
              "[<matplotlib.lines.Line2D at 0x7ebb9be97640>]"
            ]
          },
          "metadata": {},
          "execution_count": 147
        },
        {
          "output_type": "display_data",
          "data": {
            "text/plain": [
              "<Figure size 640x480 with 1 Axes>"
            ],
            "image/png": "[encoded data removed]"
          },
          "metadata": {}
        }
      ]
    },
    {
      "cell_type": "code",
      "source": [
        "model.eval()\n",
        "y_pred_arr = torch.tensor([])\n",
        "y_true_arr = torch.tensor([])\n",
        "for x_val, y_val in val_dataloader:\n",
        "  with torch.no_grad():\n",
        "    y_pred = model(x_val).squeeze(1)\n",
        "    loss = nn.MSELoss()(y_pred, y_val.squeeze(1))\n",
        "    y_pred_arr = torch.cat((y_pred_arr, y_pred))\n",
        "    y_true_arr = torch.cat((y_true_arr, y_val.squeeze(1)))"
      ],
      "metadata": {
        "id": "5uPRZKXMo9LK"
      },
      "execution_count": 176,
      "outputs": []
    },
    {
      "cell_type": "code",
      "source": [
        "len(y_pred_arr), len(y_true_arr)"
      ],
      "metadata": {
        "colab": {
          "base_uri": "https://localhost:8080/"
        },
        "id": "q5ddWS8AoTTJ",
        "outputId": "113f707b-71b3-4831-b544-176143392cd6"
      },
      "execution_count": 85,
      "outputs": [
        {
          "output_type": "execute_result",
          "data": {
            "text/plain": [
              "(17211, 17211)"
            ]
          },
          "metadata": {},
          "execution_count": 85
        }
      ]
    },
    {
      "cell_type": "code",
      "source": [
        "def calc_smape(actual, predicted) -> float:\n",
        "\n",
        "    # Convert actual and predicted to numpy\n",
        "    # array data type if not already\n",
        "    if not all([isinstance(actual, np.ndarray),\n",
        "                isinstance(predicted, np.ndarray)]):\n",
        "        actual, predicted = np.array(actual), np.array(predicted)\n",
        "\n",
        "    return np.mean(np.abs(predicted - actual) / ((np.abs(predicted) + np.abs(actual)) / 2) ) * 100"
      ],
      "metadata": {
        "id": "kpkarqqic27k"
      },
      "execution_count": 86,
      "outputs": []
    },
    {
      "cell_type": "code",
      "source": [
        "mean_squared_error(y_true_arr, y_pred_arr), mean_absolute_percentage_error(y_true_arr, y_pred_arr) * 100, calc_smape(y_true_arr, y_pred_arr)"
      ],
      "metadata": {
        "colab": {
          "base_uri": "https://localhost:8080/"
        },
        "id": "TCulcMaZnpox",
        "outputId": "5cefd5ff-7f47-472b-f11a-b8a5fea36c2e"
      },
      "execution_count": 177,
      "outputs": [
        {
          "output_type": "execute_result",
          "data": {
            "text/plain": [
              "(0.017411365446401487, 3.3229523294782313, 3.3361840475446907)"
            ]
          },
          "metadata": {},
          "execution_count": 177
        }
      ]
    },
    {
      "cell_type": "code",
      "source": [
        "s = slice(5000, 5200)\n",
        "a = 0\n",
        "plt.plot(y_pred_arr[s] + a)\n",
        "plt.plot(y_true_arr[s] + a)\n",
        "mean_absolute_percentage_error(y_true_arr[s] + a, y_pred_arr[s] + a) * 100, calc_smape(y_true_arr[s] + a, y_pred_arr[s] + a)"
      ],
      "metadata": {
        "colab": {
          "base_uri": "https://localhost:8080/",
          "height": 447
        },
        "id": "HhbpHznOR19t",
        "outputId": "593c18c2-da16-4448-bb96-4a30dac5d568"
      },
      "execution_count": 184,
      "outputs": [
        {
          "output_type": "execute_result",
          "data": {
            "text/plain": [
              "(3.863536325853996, 3.868285632885518)"
            ]
          },
          "metadata": {},
          "execution_count": 184
        },
        {
          "output_type": "display_data",
          "data": {
            "text/plain": [
              "<Figure size 640x480 with 1 Axes>"
            ],
            "image/png": "[encoded data removed]"
          },
          "metadata": {}
        }
      ]
    },
    {
      "cell_type": "code",
      "source": [
        "data_for_pred = torch.tensor(df_train.y[:1000])\n",
        "y_pred_arr = torch.tensor([])\n",
        "y_true_arr = torch.tensor([])\n",
        "for i in range(df_train.shape[0] - 1000):\n",
        "  with torch.no_grad():\n",
        "    y_pred = model(data_for_pred)\n",
        "    y_pred_arr = torch.cat((y_pred_arr, y_pred))\n",
        "    y_true_arr = torch.cat((y_true_arr, torch.tensor(df_train.y[i + 1000]).unsqueeze(0)))\n",
        "    data_for_pred = data_for_pred[1:]\n",
        "    data_for_pred = torch.cat((data_for_pred, y_true_arr[-1].unsqueeze(0)))"
      ],
      "metadata": {
        "id": "Q-I_udo-qK4n"
      },
      "execution_count": 91,
      "outputs": []
    },
    {
      "cell_type": "code",
      "source": [
        "len(y_true_arr)"
      ],
      "metadata": {
        "colab": {
          "base_uri": "https://localhost:8080/"
        },
        "id": "3BcHJFibQCsk",
        "outputId": "9cf6403f-2471-4993-9de8-69f9c4eafc23"
      },
      "execution_count": 89,
      "outputs": [
        {
          "output_type": "execute_result",
          "data": {
            "text/plain": [
              "17211"
            ]
          },
          "metadata": {},
          "execution_count": 89
        }
      ]
    },
    {
      "cell_type": "code",
      "source": [
        "mean_squared_error(y_true_arr, y_pred_arr), mean_absolute_percentage_error(y_true_arr, y_pred_arr) * 100, calc_smape(y_true_arr, y_pred_arr)"
      ],
      "metadata": {
        "colab": {
          "base_uri": "https://localhost:8080/"
        },
        "id": "fIZ5tb1HO_au",
        "outputId": "55fec1ff-05d2-4a75-d057-5a9970f10658"
      },
      "execution_count": 92,
      "outputs": [
        {
          "output_type": "execute_result",
          "data": {
            "text/plain": [
              "(0.024405166645208927, 30.65572607817526, 19.044267056232655)"
            ]
          },
          "metadata": {},
          "execution_count": 92
        }
      ]
    },
    {
      "cell_type": "code",
      "source": [
        "plt.plot(y_pred_arr[1000:1200])\n",
        "plt.plot(y_true_arr[1000:1200])"
      ],
      "metadata": {
        "colab": {
          "base_uri": "https://localhost:8080/",
          "height": 447
        },
        "id": "JWfjBVbQPrRa",
        "outputId": "abe2e98f-a118-4ddf-eb89-69ad1cfe5080"
      },
      "execution_count": 93,
      "outputs": [
        {
          "output_type": "execute_result",
          "data": {
            "text/plain": [
              "[<matplotlib.lines.Line2D at 0x7ebbaa3c14e0>]"
            ]
          },
          "metadata": {},
          "execution_count": 93
        },
        {
          "output_type": "display_data",
          "data": {
            "text/plain": [
              "<Figure size 640x480 with 1 Axes>"
            ],
            "image/png": "[encoded data removed]"
          },
          "metadata": {}
        }
      ]
    },
    {
      "cell_type": "code",
      "source": [],
      "metadata": {
        "id": "g2U3XzIdPwfh"
      },
      "execution_count": null,
      "outputs": []
    }
  ]
}