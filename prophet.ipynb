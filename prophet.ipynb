{
 "cells": [
  {
   "cell_type": "markdown",
   "metadata": {
    "id": "5Y9NkLLkUVvM"
   },
   "source": [
    "# Forecasting data from magnetometer stations with Prophet library."
   ]
  },
  {
   "cell_type": "markdown",
   "metadata": {
    "id": "GKblxXs_UZ6p"
   },
   "source": [
    "## Install libraries."
   ]
  },
  {
   "cell_type": "code",
   "execution_count": 2,
   "metadata": {
    "ExecuteTime": {
     "end_time": "2023-10-24T12:19:15.348001Z",
     "start_time": "2023-10-24T12:19:15.345698Z"
    },
    "colab": {
     "base_uri": "https://localhost:8080/",
     "height": 1000
    },
    "executionInfo": {
     "elapsed": 219731,
     "status": "ok",
     "timestamp": 1698133282541,
     "user": {
      "displayName": "Павел Ломакин",
      "userId": "11833351585793642427"
     },
     "user_tz": -180
    },
    "id": "Ftb4loG95mqK",
    "outputId": "de5bc459-a734-49f0-972d-6a7b897e2b86"
   },
   "outputs": [],
   "source": [
    "# !pip install -r requirements.txt"
   ]
  },
  {
   "cell_type": "markdown",
   "metadata": {
    "id": "EzKPYgEAVXYh"
   },
   "source": [
    "## Import necessary libraries and set up the environment."
   ]
  },
  {
   "cell_type": "code",
   "execution_count": 1,
   "metadata": {
    "ExecuteTime": {
     "end_time": "2023-10-27T08:58:33.007943Z",
     "start_time": "2023-10-27T08:58:31.299825Z"
    },
    "id": "t_TOwK1YvvSN"
   },
   "outputs": [],
   "source": [
    "import prophet\n",
    "from prophet import Prophet\n",
    "from prophet.plot import plot_plotly, add_changepoints_to_plot\n",
    "from prophet.diagnostics import cross_validation\n",
    "from prophet.diagnostics import performance_metrics"
   ]
  },
  {
   "cell_type": "code",
   "execution_count": 45,
   "metadata": {
    "ExecuteTime": {
     "end_time": "2023-10-27T09:41:17.920266Z",
     "start_time": "2023-10-27T09:41:17.916678Z"
    },
    "id": "KwDfIuz6ye7h"
   },
   "outputs": [],
   "source": [
    "import numpy as np\n",
    "import pandas as pd\n",
    "import matplotlib.pyplot as plt\n",
    "import seaborn as sns\n",
    "import datetime\n",
    "import plotly.offline as py\n",
    "import itertools\n",
    "from sklearn.metrics import mean_squared_error, mean_absolute_percentage_error\n",
    "from sklearn.preprocessing import StandardScaler\n",
    "\n",
    "from tqdm import tqdm\n",
    "\n",
    "from sklearn.impute import KNNImputer"
   ]
  },
  {
   "cell_type": "code",
   "execution_count": 4,
   "metadata": {
    "ExecuteTime": {
     "end_time": "2023-10-27T08:59:15.305187Z",
     "start_time": "2023-10-27T08:59:15.301487Z"
    },
    "colab": {
     "base_uri": "https://localhost:8080/",
     "height": 589
    },
    "executionInfo": {
     "elapsed": 7332,
     "status": "error",
     "timestamp": 1698133289867,
     "user": {
      "displayName": "Павел Ломакин",
      "userId": "11833351585793642427"
     },
     "user_tz": -180
    },
    "id": "ZQswUGAmYSvG",
    "outputId": "3f149b3e-4847-4b85-a0b6-85337ae3f717"
   },
   "outputs": [],
   "source": [
    "from etna.analysis import (cross_corr_plot, distribution_plot, plot_anomalies,\n",
    "                           plot_anomalies_interactive, plot_backtest,\n",
    "                           plot_correlation_matrix, plot_forecast)\n",
    "from etna.analysis.outliers import (get_anomalies_density, get_anomalies_hist,\n",
    "                                    get_anomalies_median,\n",
    "                                    get_anomalies_prediction_interval)\n",
    "from etna.transforms import (DateFlagsTransform, FilterFeaturesTransform,\n",
    "                             HolidayTransform, LagTransform,\n",
    "                             LinearTrendTransform, LogTransform, MeanTransform,\n",
    "                             MedianOutliersTransform, SegmentEncoderTransform,\n",
    "                             TimeSeriesImputerTransform)\n",
    "from etna.datasets import TSDataset"
   ]
  },
  {
   "cell_type": "markdown",
   "metadata": {
    "id": "4oaFP0gdba9X"
   },
   "source": [
    "Disable logger outputs from Prophet and cmdstanpy:"
   ]
  },
  {
   "cell_type": "code",
   "execution_count": 5,
   "metadata": {
    "ExecuteTime": {
     "end_time": "2023-10-27T08:59:19.358959Z",
     "start_time": "2023-10-27T08:59:19.355304Z"
    },
    "id": "JUQP2GkmbZs8"
   },
   "outputs": [],
   "source": [
    "import logging\n",
    "\n",
    "logger = logging.getLogger('cmdstanpy')\n",
    "logger.addHandler(logging.NullHandler())\n",
    "logger.propagate = False\n",
    "logger.setLevel(logging.CRITICAL)\n",
    "\n",
    "logging.getLogger('prophet').setLevel(logging.WARNING)"
   ]
  },
  {
   "cell_type": "markdown",
   "metadata": {
    "id": "k3sOp68lW6zL"
   },
   "source": [
    "## Data processing and review."
   ]
  },
  {
   "cell_type": "code",
   "execution_count": 113,
   "metadata": {
    "ExecuteTime": {
     "end_time": "2023-10-27T11:41:23.029233Z",
     "start_time": "2023-10-27T11:41:22.743055Z"
    },
    "id": "pgaMP4T3VSCt"
   },
   "outputs": [
    {
     "data": {
      "text/html": [
       "<div>\n",
       "<style scoped>\n",
       "    .dataframe tbody tr th:only-of-type {\n",
       "        vertical-align: middle;\n",
       "    }\n",
       "\n",
       "    .dataframe tbody tr th {\n",
       "        vertical-align: top;\n",
       "    }\n",
       "\n",
       "    .dataframe thead th {\n",
       "        text-align: right;\n",
       "    }\n",
       "</style>\n",
       "<table border=\"1\" class=\"dataframe\">\n",
       "  <thead>\n",
       "    <tr style=\"text-align: right;\">\n",
       "      <th></th>\n",
       "      <th>YYYY</th>\n",
       "      <th>MM</th>\n",
       "      <th>DD</th>\n",
       "      <th>HH</th>\n",
       "      <th>mm</th>\n",
       "      <th>SS</th>\n",
       "      <th>KEV_Y</th>\n",
       "    </tr>\n",
       "  </thead>\n",
       "  <tbody>\n",
       "    <tr>\n",
       "      <th>0</th>\n",
       "      <td>1983</td>\n",
       "      <td>1</td>\n",
       "      <td>4</td>\n",
       "      <td>1</td>\n",
       "      <td>0</td>\n",
       "      <td>0</td>\n",
       "      <td>NaN</td>\n",
       "    </tr>\n",
       "    <tr>\n",
       "      <th>1</th>\n",
       "      <td>1983</td>\n",
       "      <td>1</td>\n",
       "      <td>4</td>\n",
       "      <td>2</td>\n",
       "      <td>0</td>\n",
       "      <td>0</td>\n",
       "      <td>NaN</td>\n",
       "    </tr>\n",
       "    <tr>\n",
       "      <th>2</th>\n",
       "      <td>1983</td>\n",
       "      <td>1</td>\n",
       "      <td>4</td>\n",
       "      <td>3</td>\n",
       "      <td>0</td>\n",
       "      <td>0</td>\n",
       "      <td>NaN</td>\n",
       "    </tr>\n",
       "    <tr>\n",
       "      <th>3</th>\n",
       "      <td>1983</td>\n",
       "      <td>1</td>\n",
       "      <td>4</td>\n",
       "      <td>4</td>\n",
       "      <td>0</td>\n",
       "      <td>0</td>\n",
       "      <td>NaN</td>\n",
       "    </tr>\n",
       "    <tr>\n",
       "      <th>4</th>\n",
       "      <td>1983</td>\n",
       "      <td>1</td>\n",
       "      <td>4</td>\n",
       "      <td>5</td>\n",
       "      <td>0</td>\n",
       "      <td>0</td>\n",
       "      <td>NaN</td>\n",
       "    </tr>\n",
       "  </tbody>\n",
       "</table>\n",
       "</div>"
      ],
      "text/plain": [
       "   YYYY  MM  DD  HH  mm  SS  KEV_Y\n",
       "0  1983   1   4   1   0   0    NaN\n",
       "1  1983   1   4   2   0   0    NaN\n",
       "2  1983   1   4   3   0   0    NaN\n",
       "3  1983   1   4   4   0   0    NaN\n",
       "4  1983   1   4   5   0   0    NaN"
      ]
     },
     "execution_count": 113,
     "metadata": {},
     "output_type": "execute_result"
    }
   ],
   "source": [
    "original_df = pd.read_csv(\"data/main_row_data.text\", sep='\\s+', na_values=99999.9)[['YYYY', 'MM', 'DD', 'HH', 'MM.1', 'SS', 'KEV_Y']]\n",
    "original_df.rename(columns={\"MM.1\": \"mm\"}, inplace=True)\n",
    "original_df.head()"
   ]
  },
  {
   "cell_type": "markdown",
   "metadata": {
    "id": "mhzbJ-TWOFYS"
   },
   "source": [
    "Fill missing dates"
   ]
  },
  {
   "cell_type": "code",
   "execution_count": 114,
   "metadata": {
    "ExecuteTime": {
     "end_time": "2023-10-27T11:41:35.137285Z",
     "start_time": "2023-10-27T11:41:23.237359Z"
    },
    "id": "wRl3OlqO2Tf3"
   },
   "outputs": [],
   "source": [
    "original_df.insert(0, 'date', original_df.apply(lambda x: datetime.datetime(int(x.YYYY), int(x.MM), int(x.DD), int(x.HH), int(x.mm), int(x.SS)), axis=1))\n",
    "original_df.drop(columns=['YYYY', 'MM', 'DD', 'HH', 'mm', 'SS'], inplace=True)\n",
    "original_df.set_index('date', inplace=True)\n",
    "original_df = original_df.asfreq('H').reset_index()"
   ]
  },
  {
   "cell_type": "code",
   "execution_count": 115,
   "metadata": {
    "ExecuteTime": {
     "end_time": "2023-10-27T11:41:45.748374Z",
     "start_time": "2023-10-27T11:41:45.732767Z"
    },
    "id": "o6v80R-n5cNv"
   },
   "outputs": [
    {
     "data": {
      "text/html": [
       "<div>\n",
       "<style scoped>\n",
       "    .dataframe tbody tr th:only-of-type {\n",
       "        vertical-align: middle;\n",
       "    }\n",
       "\n",
       "    .dataframe tbody tr th {\n",
       "        vertical-align: top;\n",
       "    }\n",
       "\n",
       "    .dataframe thead th {\n",
       "        text-align: right;\n",
       "    }\n",
       "</style>\n",
       "<table border=\"1\" class=\"dataframe\">\n",
       "  <thead>\n",
       "    <tr style=\"text-align: right;\">\n",
       "      <th></th>\n",
       "      <th>date</th>\n",
       "      <th>KEV_Y</th>\n",
       "    </tr>\n",
       "  </thead>\n",
       "  <tbody>\n",
       "    <tr>\n",
       "      <th>3969</th>\n",
       "      <td>1983-06-18 10:00:00</td>\n",
       "      <td>1292.5</td>\n",
       "    </tr>\n",
       "    <tr>\n",
       "      <th>3970</th>\n",
       "      <td>1983-06-18 11:00:00</td>\n",
       "      <td>1282.6</td>\n",
       "    </tr>\n",
       "    <tr>\n",
       "      <th>3971</th>\n",
       "      <td>1983-06-18 12:00:00</td>\n",
       "      <td>1268.7</td>\n",
       "    </tr>\n",
       "    <tr>\n",
       "      <th>3972</th>\n",
       "      <td>1983-06-18 13:00:00</td>\n",
       "      <td>1232.4</td>\n",
       "    </tr>\n",
       "    <tr>\n",
       "      <th>3973</th>\n",
       "      <td>1983-06-18 14:00:00</td>\n",
       "      <td>1284.1</td>\n",
       "    </tr>\n",
       "  </tbody>\n",
       "</table>\n",
       "</div>"
      ],
      "text/plain": [
       "                    date   KEV_Y\n",
       "3969 1983-06-18 10:00:00  1292.5\n",
       "3970 1983-06-18 11:00:00  1282.6\n",
       "3971 1983-06-18 12:00:00  1268.7\n",
       "3972 1983-06-18 13:00:00  1232.4\n",
       "3973 1983-06-18 14:00:00  1284.1"
      ]
     },
     "execution_count": 115,
     "metadata": {},
     "output_type": "execute_result"
    }
   ],
   "source": [
    "original_df[original_df.KEV_Y.notnull()].head()"
   ]
  },
  {
   "cell_type": "markdown",
   "metadata": {
    "id": "E8ro0NDaYUTF"
   },
   "source": [
    "Convert data to a format necessary for the Prophet library:"
   ]
  },
  {
   "cell_type": "code",
   "execution_count": 116,
   "metadata": {
    "ExecuteTime": {
     "end_time": "2023-10-27T11:41:47.152041Z",
     "start_time": "2023-10-27T11:41:47.133126Z"
    },
    "id": "wn1vpyICHnC5"
   },
   "outputs": [
    {
     "data": {
      "text/html": [
       "<div>\n",
       "<style scoped>\n",
       "    .dataframe tbody tr th:only-of-type {\n",
       "        vertical-align: middle;\n",
       "    }\n",
       "\n",
       "    .dataframe tbody tr th {\n",
       "        vertical-align: top;\n",
       "    }\n",
       "\n",
       "    .dataframe thead th {\n",
       "        text-align: right;\n",
       "    }\n",
       "</style>\n",
       "<table border=\"1\" class=\"dataframe\">\n",
       "  <thead>\n",
       "    <tr style=\"text-align: right;\">\n",
       "      <th></th>\n",
       "      <th>ds</th>\n",
       "      <th>y</th>\n",
       "    </tr>\n",
       "  </thead>\n",
       "  <tbody>\n",
       "    <tr>\n",
       "      <th>0</th>\n",
       "      <td>1983-01-04 01:00:00</td>\n",
       "      <td>NaN</td>\n",
       "    </tr>\n",
       "    <tr>\n",
       "      <th>1</th>\n",
       "      <td>1983-01-04 02:00:00</td>\n",
       "      <td>NaN</td>\n",
       "    </tr>\n",
       "    <tr>\n",
       "      <th>2</th>\n",
       "      <td>1983-01-04 03:00:00</td>\n",
       "      <td>NaN</td>\n",
       "    </tr>\n",
       "    <tr>\n",
       "      <th>3</th>\n",
       "      <td>1983-01-04 04:00:00</td>\n",
       "      <td>NaN</td>\n",
       "    </tr>\n",
       "    <tr>\n",
       "      <th>4</th>\n",
       "      <td>1983-01-04 05:00:00</td>\n",
       "      <td>NaN</td>\n",
       "    </tr>\n",
       "  </tbody>\n",
       "</table>\n",
       "</div>"
      ],
      "text/plain": [
       "                   ds   y\n",
       "0 1983-01-04 01:00:00 NaN\n",
       "1 1983-01-04 02:00:00 NaN\n",
       "2 1983-01-04 03:00:00 NaN\n",
       "3 1983-01-04 04:00:00 NaN\n",
       "4 1983-01-04 05:00:00 NaN"
      ]
     },
     "execution_count": 116,
     "metadata": {},
     "output_type": "execute_result"
    }
   ],
   "source": [
    "df = original_df.rename(columns={'date': 'ds',\n",
    "                                'KEV_Y': 'y'})\n",
    "df.ds = pd.to_datetime(df.ds, format='%Y-%m-%d %H:%M:%S')\n",
    "df.head()"
   ]
  },
  {
   "cell_type": "markdown",
   "metadata": {
    "id": "FlH23MX20qns"
   },
   "source": [
    "Amount of data:"
   ]
  },
  {
   "cell_type": "code",
   "execution_count": 117,
   "metadata": {
    "ExecuteTime": {
     "end_time": "2023-10-27T11:41:47.578511Z",
     "start_time": "2023-10-27T11:41:47.574542Z"
    },
    "id": "vdMjgaMD0qEc"
   },
   "outputs": [
    {
     "data": {
      "text/plain": [
       "(357359, 2)"
      ]
     },
     "execution_count": 117,
     "metadata": {},
     "output_type": "execute_result"
    }
   ],
   "source": [
    "df.shape"
   ]
  },
  {
   "cell_type": "markdown",
   "metadata": {
    "id": "PeqT_cphZgip"
   },
   "source": [
    "What raw time series data looks like."
   ]
  },
  {
   "cell_type": "code",
   "execution_count": 118,
   "metadata": {
    "ExecuteTime": {
     "end_time": "2023-10-27T11:41:48.421255Z",
     "start_time": "2023-10-27T11:41:48.032215Z"
    },
    "id": "z10ra9s8J_R8"
   },
   "outputs": [
    {
     "data": {
      "image/png": "[encoded data removed]",
      "text/plain": [
       "<Figure size 720x720 with 2 Axes>"
      ]
     },
     "metadata": {
      "needs_background": "light"
     },
     "output_type": "display_data"
    }
   ],
   "source": [
    "fig, (ax1, ax2) = plt.subplots(2, figsize=(10, 10))\n",
    "fig.tight_layout(pad=5.0)\n",
    "ax1.plot(df.ds, df.y)\n",
    "ax1.set_title('Y component from station KEV (hourly)')\n",
    "ax2.plot(df.resample('1D', on='ds').mean().reset_index().ds, df.resample('1D', on='ds').mean().y)\n",
    "ax2.set_title('Y component from station KEV (daily)')\n",
    "plt.show()"
   ]
  },
  {
   "cell_type": "markdown",
   "metadata": {},
   "source": [
    "Data before 2003 is not of very good quality, so we will not use it:"
   ]
  },
  {
   "cell_type": "code",
   "execution_count": 119,
   "metadata": {
    "ExecuteTime": {
     "end_time": "2023-10-27T11:41:48.763398Z",
     "start_time": "2023-10-27T11:41:48.747491Z"
    }
   },
   "outputs": [
    {
     "data": {
      "text/html": [
       "<div>\n",
       "<style scoped>\n",
       "    .dataframe tbody tr th:only-of-type {\n",
       "        vertical-align: middle;\n",
       "    }\n",
       "\n",
       "    .dataframe tbody tr th {\n",
       "        vertical-align: top;\n",
       "    }\n",
       "\n",
       "    .dataframe thead th {\n",
       "        text-align: right;\n",
       "    }\n",
       "</style>\n",
       "<table border=\"1\" class=\"dataframe\">\n",
       "  <thead>\n",
       "    <tr style=\"text-align: right;\">\n",
       "      <th></th>\n",
       "      <th>ds</th>\n",
       "      <th>y</th>\n",
       "    </tr>\n",
       "  </thead>\n",
       "  <tbody>\n",
       "    <tr>\n",
       "      <th>0</th>\n",
       "      <td>2003-01-01 01:00:00</td>\n",
       "      <td>1824.7</td>\n",
       "    </tr>\n",
       "    <tr>\n",
       "      <th>1</th>\n",
       "      <td>2003-01-01 02:00:00</td>\n",
       "      <td>1823.6</td>\n",
       "    </tr>\n",
       "    <tr>\n",
       "      <th>2</th>\n",
       "      <td>2003-01-01 03:00:00</td>\n",
       "      <td>1814.7</td>\n",
       "    </tr>\n",
       "    <tr>\n",
       "      <th>3</th>\n",
       "      <td>2003-01-01 04:00:00</td>\n",
       "      <td>1816.8</td>\n",
       "    </tr>\n",
       "    <tr>\n",
       "      <th>4</th>\n",
       "      <td>2003-01-01 05:00:00</td>\n",
       "      <td>1816.4</td>\n",
       "    </tr>\n",
       "  </tbody>\n",
       "</table>\n",
       "</div>"
      ],
      "text/plain": [
       "                   ds       y\n",
       "0 2003-01-01 01:00:00  1824.7\n",
       "1 2003-01-01 02:00:00  1823.6\n",
       "2 2003-01-01 03:00:00  1814.7\n",
       "3 2003-01-01 04:00:00  1816.8\n",
       "4 2003-01-01 05:00:00  1816.4"
      ]
     },
     "execution_count": 119,
     "metadata": {},
     "output_type": "execute_result"
    }
   ],
   "source": [
    "df = df[df.ds > datetime.datetime.strptime('2003-01-01 00:00:00', '%Y-%m-%d %H:%M:%S')].reset_index(drop=True)\n",
    "df.head()"
   ]
  },
  {
   "cell_type": "markdown",
   "metadata": {
    "id": "rKD2aVcLd6gV"
   },
   "source": [
    "Train and test split:"
   ]
  },
  {
   "cell_type": "code",
   "execution_count": 183,
   "metadata": {
    "ExecuteTime": {
     "end_time": "2023-10-27T15:50:08.999065Z",
     "start_time": "2023-10-27T15:50:08.991435Z"
    },
    "id": "NJNHp8RqZCaL"
   },
   "outputs": [
    {
     "data": {
      "text/plain": [
       "((145688, 2), (18211, 2), (18212, 2))"
      ]
     },
     "execution_count": 183,
     "metadata": {},
     "output_type": "execute_result"
    }
   ],
   "source": [
    "train_size = int(df.shape[0] * 0.8)\n",
    "test_size = df.shape[0] - train_size\n",
    "\n",
    "df_train = df[:train_size].copy(deep=True)\n",
    "df_val = df[train_size:int(train_size + test_size / 2)].copy(deep=True)\n",
    "df_test = df[int(train_size + test_size / 2):].copy(deep=True)\n",
    "\n",
    "df_train.shape, df_val.shape, df_test.shape"
   ]
  },
  {
   "cell_type": "code",
   "execution_count": 121,
   "metadata": {
    "ExecuteTime": {
     "end_time": "2023-10-27T11:41:50.836785Z",
     "start_time": "2023-10-27T11:41:50.828740Z"
    },
    "id": "h_676ur_Nhgb"
   },
   "outputs": [],
   "source": [
    "def fill_missing_values(dataframe, method):\n",
    "    dataframe = dataframe.copy(deep=True)\n",
    "    if method == 'default':\n",
    "        return dataframe\n",
    "    # fill with mean.\n",
    "    if method == 'mean':\n",
    "        return dataframe.fillna(dataframe.mean(numeric_only=True).round(1))\n",
    "    # fill with median.\n",
    "    if method == 'median':\n",
    "        return dataframe.fillna(dataframe.median(numeric_only=True).round(1))\n",
    "    # if there are nan left, fill with bfill.\n",
    "    if method == 'ffill':\n",
    "        return dataframe.fillna(method=method).fillna(method='bfill')\n",
    "    # filling occurs with next values.\n",
    "    # if there are nan left, fill with ffill.\n",
    "    if method == 'bfill':\n",
    "        return dataframe.fillna(method=method).fillna(method='ffill')\n",
    "    # fill with backward interpolation.\n",
    "    # if there are nan left, fill with forward.\n",
    "    if method == 'interpolate_backward':\n",
    "        return dataframe.apply(lambda col: col.interpolate(method ='linear', limit_direction ='backward')\n",
    "                                              .interpolate(method ='linear', limit_direction ='forward') if col.name != \"ds\" else col)\n",
    "    # fill with forward interpolation.\n",
    "    # if there are nan left, fill with backward.\n",
    "    if method == 'interpolate_forward':\n",
    "        return dataframe.apply(lambda col: col.interpolate(method ='linear', limit_direction ='forward')\n",
    "                                              .interpolate(method ='linear', limit_direction ='backward') if col.name != \"ds\" else col)\n",
    "    # fill with knn method.\n",
    "    if method == 'knn':\n",
    "        imputer = KNNImputer(n_neighbors=15)\n",
    "        dataframe = dataframe.apply(lambda col: imputer.fit_transform(col.to_numpy().reshape(-1, 1)).T[0] if col.name != \"ds\" else col)\n",
    "        return dataframe\n",
    "\n",
    "    return dataframe"
   ]
  },
  {
   "cell_type": "markdown",
   "metadata": {
    "id": "RpoaywCEBik2"
   },
   "source": [
    "Function for smape metric:"
   ]
  },
  {
   "cell_type": "code",
   "execution_count": 122,
   "metadata": {
    "ExecuteTime": {
     "end_time": "2023-10-27T11:41:52.491329Z",
     "start_time": "2023-10-27T11:41:52.487182Z"
    },
    "id": "Ai3FpUiiBY9S"
   },
   "outputs": [],
   "source": [
    "def calc_smape(actual, predicted) -> float: \n",
    "  \n",
    "    # Convert actual and predicted to numpy \n",
    "    # array data type if not already \n",
    "    if not all([isinstance(actual, np.ndarray),  \n",
    "                isinstance(predicted, np.ndarray)]): \n",
    "        actual, predicted = np.array(actual), np.array(predicted) \n",
    "  \n",
    "    return round( \n",
    "        np.mean( \n",
    "            np.abs(predicted - actual) / \n",
    "            ((np.abs(predicted) + np.abs(actual))/2) \n",
    "        ) * 100, 2\n",
    "    ) "
   ]
  },
  {
   "cell_type": "markdown",
   "metadata": {
    "id": "3iBb4GtJEHBc"
   },
   "source": [
    "Function that evaluates model and finds mse, mape and smape metrics:"
   ]
  },
  {
   "cell_type": "code",
   "execution_count": 123,
   "metadata": {
    "ExecuteTime": {
     "end_time": "2023-10-27T11:41:53.083206Z",
     "start_time": "2023-10-27T11:41:53.079131Z"
    },
    "id": "ubxr_QyS97Nv"
   },
   "outputs": [],
   "source": [
    "def evaluate_model(model, df_test):\n",
    "    future = df_test[['ds']]\n",
    "    forecast = model.predict(future)\n",
    "\n",
    "    predictions = forecast.iloc[-len(df_test):]['yhat']\n",
    "    actuals = df_test['y']\n",
    "\n",
    "    mse = mean_squared_error(actuals, predictions)\n",
    "    mape = mean_absolute_percentage_error(actuals, predictions) * 100\n",
    "    smape = calc_smape(actuals, predictions)\n",
    "\n",
    "    return mse, mape, smape, list(actuals), list(predictions)"
   ]
  },
  {
   "cell_type": "markdown",
   "metadata": {
    "id": "ycs3RuIcFauD"
   },
   "source": [
    "Find best method (by mse metric) for filling missing values:"
   ]
  },
  {
   "cell_type": "code",
   "execution_count": 28,
   "metadata": {
    "ExecuteTime": {
     "end_time": "2023-10-27T09:31:10.506407Z",
     "start_time": "2023-10-27T09:16:35.707629Z"
    },
    "colab": {
     "base_uri": "https://localhost:8080/",
     "height": 224
    },
    "executionInfo": {
     "elapsed": 45656,
     "status": "ok",
     "timestamp": 1697807551420,
     "user": {
      "displayName": "Павел Ломакин",
      "userId": "11833351585793642427"
     },
     "user_tz": -180
    },
    "id": "NhrT2DawFMut",
    "outputId": "e7db94b4-2d15-4925-bc0e-25a9e9ee6caa"
   },
   "outputs": [
    {
     "name": "stderr",
     "output_type": "stream",
     "text": [
      "100%|████████████████████████████████████████████| 8/8 [14:34<00:00, 109.35s/it]"
     ]
    },
    {
     "name": "stdout",
     "output_type": "stream",
     "text": [
      "\n",
      "Best method: ffill\n"
     ]
    },
    {
     "name": "stderr",
     "output_type": "stream",
     "text": [
      "\n"
     ]
    },
    {
     "data": {
      "text/html": [
       "<div>\n",
       "<style scoped>\n",
       "    .dataframe tbody tr th:only-of-type {\n",
       "        vertical-align: middle;\n",
       "    }\n",
       "\n",
       "    .dataframe tbody tr th {\n",
       "        vertical-align: top;\n",
       "    }\n",
       "\n",
       "    .dataframe thead th {\n",
       "        text-align: right;\n",
       "    }\n",
       "</style>\n",
       "<table border=\"1\" class=\"dataframe\">\n",
       "  <thead>\n",
       "    <tr style=\"text-align: right;\">\n",
       "      <th></th>\n",
       "      <th>methods</th>\n",
       "      <th>mse</th>\n",
       "    </tr>\n",
       "  </thead>\n",
       "  <tbody>\n",
       "    <tr>\n",
       "      <th>0</th>\n",
       "      <td>ffill</td>\n",
       "      <td>632.418074</td>\n",
       "    </tr>\n",
       "    <tr>\n",
       "      <th>1</th>\n",
       "      <td>interpolate_backward</td>\n",
       "      <td>638.378174</td>\n",
       "    </tr>\n",
       "    <tr>\n",
       "      <th>2</th>\n",
       "      <td>interpolate_forward</td>\n",
       "      <td>638.378174</td>\n",
       "    </tr>\n",
       "    <tr>\n",
       "      <th>3</th>\n",
       "      <td>default</td>\n",
       "      <td>639.935589</td>\n",
       "    </tr>\n",
       "    <tr>\n",
       "      <th>4</th>\n",
       "      <td>bfill</td>\n",
       "      <td>643.573646</td>\n",
       "    </tr>\n",
       "    <tr>\n",
       "      <th>5</th>\n",
       "      <td>knn</td>\n",
       "      <td>830.496093</td>\n",
       "    </tr>\n",
       "    <tr>\n",
       "      <th>6</th>\n",
       "      <td>mean</td>\n",
       "      <td>830.776875</td>\n",
       "    </tr>\n",
       "    <tr>\n",
       "      <th>7</th>\n",
       "      <td>median</td>\n",
       "      <td>851.570975</td>\n",
       "    </tr>\n",
       "  </tbody>\n",
       "</table>\n",
       "</div>"
      ],
      "text/plain": [
       "                methods         mse\n",
       "0                 ffill  632.418074\n",
       "1  interpolate_backward  638.378174\n",
       "2   interpolate_forward  638.378174\n",
       "3               default  639.935589\n",
       "4                 bfill  643.573646\n",
       "5                   knn  830.496093\n",
       "6                  mean  830.776875\n",
       "7                median  851.570975"
      ]
     },
     "execution_count": 28,
     "metadata": {},
     "output_type": "execute_result"
    }
   ],
   "source": [
    "methods = ['default', 'mean', 'median', 'ffill', 'bfill', 'interpolate_backward', 'interpolate_forward', 'knn']\n",
    "mses = {\"mse\":[]}\n",
    "\n",
    "for method in tqdm(methods, position=0, leave=True):\n",
    "    # Replace nan values.\n",
    "    no_nan_df = fill_missing_values(df_train, method)\n",
    "    no_nan_df.reset_index(inplace=True)\n",
    "    model = Prophet()\n",
    "    model.fit(no_nan_df)\n",
    "\n",
    "    mse, _, _, _, _ = evaluate_model(model, df_val)\n",
    "    mses['mse'] += [mse]\n",
    "\n",
    "print(f\"\\nBest method: {methods[np.argmin(mses['mse'])]}\")\n",
    "fill_mv_results = pd.DataFrame(mses)\n",
    "fill_mv_results.insert(0, 'methods', methods)\n",
    "fill_mv_results.sort_values(\"mse\").reset_index(drop=True)"
   ]
  },
  {
   "cell_type": "markdown",
   "metadata": {},
   "source": [
    "Fill missing values in train, val and test data:"
   ]
  },
  {
   "cell_type": "code",
   "execution_count": 184,
   "metadata": {
    "ExecuteTime": {
     "end_time": "2023-10-27T15:50:12.074548Z",
     "start_time": "2023-10-27T15:50:12.063361Z"
    }
   },
   "outputs": [
    {
     "data": {
      "text/plain": [
       "(0, 0, 0)"
      ]
     },
     "execution_count": 184,
     "metadata": {},
     "output_type": "execute_result"
    }
   ],
   "source": [
    "df_train = fill_missing_values(df_train, method='ffill')\n",
    "df_val = fill_missing_values(df_val, method='ffill')\n",
    "df_test = fill_missing_values(df_test, method='ffill')\n",
    "\n",
    "df_train.y.isna().sum(), df_val.y.isna().sum(), df_test.y.isna().sum()"
   ]
  },
  {
   "cell_type": "markdown",
   "metadata": {
    "id": "lpj4W3mbf_2p"
   },
   "source": [
    "Normalizing data:"
   ]
  },
  {
   "cell_type": "code",
   "execution_count": 185,
   "metadata": {
    "ExecuteTime": {
     "end_time": "2023-10-27T15:50:12.625211Z",
     "start_time": "2023-10-27T15:50:12.618259Z"
    },
    "id": "ShkekSPWgABf"
   },
   "outputs": [],
   "source": [
    "from sklearn.preprocessing import StandardScaler\n",
    "\n",
    "scaler = StandardScaler()\n",
    "df_train.y = scaler.fit_transform(np.array(df_train.y).reshape(-1, 1)).T[0]\n",
    "df_val.y = scaler.transform(np.array(df_val.y).reshape(-1, 1)).T[0]\n",
    "df_test.y = scaler.transform(np.array(df_test.y).reshape(-1, 1)).T[0]"
   ]
  },
  {
   "cell_type": "markdown",
   "metadata": {},
   "source": [
    "Let's look at model performance on data with outliers:"
   ]
  },
  {
   "cell_type": "code",
   "execution_count": 126,
   "metadata": {
    "ExecuteTime": {
     "end_time": "2023-10-27T11:43:19.013216Z",
     "start_time": "2023-10-27T11:42:01.427215Z"
    }
   },
   "outputs": [
    {
     "name": "stdout",
     "output_type": "stream",
     "text": [
      "mse: 0.020230103909141848, mape: 3.415749789044733, smape: 3.48\n"
     ]
    }
   ],
   "source": [
    "model_with_outliers = Prophet()\n",
    "model_with_outliers.fit(df_train.reset_index())\n",
    "mse, mape, smape, actuals, predictions = evaluate_model(model_with_outliers, df_val)\n",
    "\n",
    "print(f'mse: {mse}, mape: {mape}, smape: {smape}')"
   ]
  },
  {
   "cell_type": "markdown",
   "metadata": {
    "id": "ii_zGQaZNZEC"
   },
   "source": [
    "Now we will try to find best algorithm for outlier detection.<br>\n",
    "Firstly we bring the dataset into a form convenient for the etna library"
   ]
  },
  {
   "cell_type": "code",
   "execution_count": 186,
   "metadata": {
    "ExecuteTime": {
     "end_time": "2023-10-27T15:50:14.968920Z",
     "start_time": "2023-10-27T15:50:14.850097Z"
    },
    "id": "DuXAKRaSdKYe"
   },
   "outputs": [
    {
     "data": {
      "text/html": [
       "<div>\n",
       "<style scoped>\n",
       "    .dataframe tbody tr th:only-of-type {\n",
       "        vertical-align: middle;\n",
       "    }\n",
       "\n",
       "    .dataframe tbody tr th {\n",
       "        vertical-align: top;\n",
       "    }\n",
       "\n",
       "    .dataframe thead tr th {\n",
       "        text-align: left;\n",
       "    }\n",
       "\n",
       "    .dataframe thead tr:last-of-type th {\n",
       "        text-align: right;\n",
       "    }\n",
       "</style>\n",
       "<table border=\"1\" class=\"dataframe\">\n",
       "  <thead>\n",
       "    <tr>\n",
       "      <th>segment</th>\n",
       "      <th>main</th>\n",
       "    </tr>\n",
       "    <tr>\n",
       "      <th>feature</th>\n",
       "      <th>target</th>\n",
       "    </tr>\n",
       "    <tr>\n",
       "      <th>timestamp</th>\n",
       "      <th></th>\n",
       "    </tr>\n",
       "  </thead>\n",
       "  <tbody>\n",
       "    <tr>\n",
       "      <th>2003-01-01 01:00:00</th>\n",
       "      <td>-1.513407</td>\n",
       "    </tr>\n",
       "    <tr>\n",
       "      <th>2003-01-01 02:00:00</th>\n",
       "      <td>-1.519636</td>\n",
       "    </tr>\n",
       "    <tr>\n",
       "      <th>2003-01-01 03:00:00</th>\n",
       "      <td>-1.570034</td>\n",
       "    </tr>\n",
       "    <tr>\n",
       "      <th>2003-01-01 04:00:00</th>\n",
       "      <td>-1.558142</td>\n",
       "    </tr>\n",
       "    <tr>\n",
       "      <th>2003-01-01 05:00:00</th>\n",
       "      <td>-1.560407</td>\n",
       "    </tr>\n",
       "  </tbody>\n",
       "</table>\n",
       "</div>"
      ],
      "text/plain": [
       "segment                  main\n",
       "feature                target\n",
       "timestamp                    \n",
       "2003-01-01 01:00:00 -1.513407\n",
       "2003-01-01 02:00:00 -1.519636\n",
       "2003-01-01 03:00:00 -1.570034\n",
       "2003-01-01 04:00:00 -1.558142\n",
       "2003-01-01 05:00:00 -1.560407"
      ]
     },
     "execution_count": 186,
     "metadata": {},
     "output_type": "execute_result"
    }
   ],
   "source": [
    "df_etna = df_train.copy(deep=True)\n",
    "df_etna[\"timestamp\"] = df_etna[\"ds\"]\n",
    "df_etna[\"target\"] = df_etna[\"y\"]\n",
    "df_etna.drop(columns=[\"ds\", \"y\"], inplace=True)\n",
    "df_etna[\"segment\"] = \"main\"\n",
    "\n",
    "df_etna = TSDataset.to_dataset(df_etna)\n",
    "ts_etna = TSDataset(df_etna, freq=\"H\")\n",
    "\n",
    "df_etna.head()"
   ]
  },
  {
   "cell_type": "code",
   "execution_count": 132,
   "metadata": {
    "ExecuteTime": {
     "end_time": "2023-10-27T11:51:54.614297Z",
     "start_time": "2023-10-27T11:51:54.607356Z"
    }
   },
   "outputs": [],
   "source": [
    "def find_best_outlier_detector(param_grid, algorithm):\n",
    "    all_params = [dict(zip(param_grid.keys(), v)) for v in itertools.product(*param_grid.values())]\n",
    "    metrics = {\"mape\":[], \"mse\":[], \"smape\":[]}\n",
    "\n",
    "    for params in tqdm(all_params, position=0, leave=True):\n",
    "        m = Prophet()\n",
    "\n",
    "        anomaly_dict = algorithm(ts_etna, **params)\n",
    "\n",
    "        m.fit(df_train.loc[~df_train.ds.isin(anomaly_dict['main'])].reset_index())\n",
    "\n",
    "        mse, mape, smape, _, _ = evaluate_model(m, df_val)\n",
    "        metrics['mse'] += [mse]\n",
    "        metrics['mape'] += [mape]\n",
    "        metrics['smape'] += [smape]\n",
    "\n",
    "    best_params = all_params[np.argmin(metrics['mape'])]\n",
    "    print(\"\\nBest params: \", best_params)\n",
    "\n",
    "    outliers_detection_results = pd.DataFrame(all_params)\n",
    "    outliers_detection_results = outliers_detection_results.join(pd.DataFrame.from_dict(metrics))\n",
    "    return outliers_detection_results.sort_values(\"mape\").reset_index(drop=True)"
   ]
  },
  {
   "cell_type": "markdown",
   "metadata": {},
   "source": [
    "1. Method <b>based on deviation from median values calculated over a window</b>.<br>"
   ]
  },
  {
   "cell_type": "code",
   "execution_count": 136,
   "metadata": {
    "ExecuteTime": {
     "end_time": "2023-10-27T13:52:27.790441Z",
     "start_time": "2023-10-27T12:15:40.216049Z"
    }
   },
   "outputs": [
    {
     "name": "stderr",
     "output_type": "stream",
     "text": [
      "100%|█████████████████████████████████████████| 63/63 [1:36:47<00:00, 92.18s/it]"
     ]
    },
    {
     "name": "stdout",
     "output_type": "stream",
     "text": [
      "\n",
      "Best params:  {'window_size': 500, 'alpha': 2}\n"
     ]
    },
    {
     "name": "stderr",
     "output_type": "stream",
     "text": [
      "\n"
     ]
    },
    {
     "data": {
      "text/html": [
       "<div>\n",
       "<style scoped>\n",
       "    .dataframe tbody tr th:only-of-type {\n",
       "        vertical-align: middle;\n",
       "    }\n",
       "\n",
       "    .dataframe tbody tr th {\n",
       "        vertical-align: top;\n",
       "    }\n",
       "\n",
       "    .dataframe thead th {\n",
       "        text-align: right;\n",
       "    }\n",
       "</style>\n",
       "<table border=\"1\" class=\"dataframe\">\n",
       "  <thead>\n",
       "    <tr style=\"text-align: right;\">\n",
       "      <th></th>\n",
       "      <th>window_size</th>\n",
       "      <th>alpha</th>\n",
       "      <th>mape</th>\n",
       "      <th>mse</th>\n",
       "      <th>smape</th>\n",
       "    </tr>\n",
       "  </thead>\n",
       "  <tbody>\n",
       "    <tr>\n",
       "      <th>0</th>\n",
       "      <td>500</td>\n",
       "      <td>2</td>\n",
       "      <td>3.323581</td>\n",
       "      <td>0.021732</td>\n",
       "      <td>3.42</td>\n",
       "    </tr>\n",
       "    <tr>\n",
       "      <th>1</th>\n",
       "      <td>1000</td>\n",
       "      <td>3</td>\n",
       "      <td>3.339486</td>\n",
       "      <td>0.021046</td>\n",
       "      <td>3.42</td>\n",
       "    </tr>\n",
       "    <tr>\n",
       "      <th>2</th>\n",
       "      <td>2500</td>\n",
       "      <td>3</td>\n",
       "      <td>3.339615</td>\n",
       "      <td>0.021053</td>\n",
       "      <td>3.43</td>\n",
       "    </tr>\n",
       "    <tr>\n",
       "      <th>3</th>\n",
       "      <td>1500</td>\n",
       "      <td>3</td>\n",
       "      <td>3.340035</td>\n",
       "      <td>0.021060</td>\n",
       "      <td>3.43</td>\n",
       "    </tr>\n",
       "    <tr>\n",
       "      <th>4</th>\n",
       "      <td>2000</td>\n",
       "      <td>3</td>\n",
       "      <td>3.343313</td>\n",
       "      <td>0.021102</td>\n",
       "      <td>3.43</td>\n",
       "    </tr>\n",
       "    <tr>\n",
       "      <th>5</th>\n",
       "      <td>3500</td>\n",
       "      <td>3</td>\n",
       "      <td>3.344395</td>\n",
       "      <td>0.021096</td>\n",
       "      <td>3.43</td>\n",
       "    </tr>\n",
       "    <tr>\n",
       "      <th>6</th>\n",
       "      <td>3000</td>\n",
       "      <td>3</td>\n",
       "      <td>3.346684</td>\n",
       "      <td>0.021117</td>\n",
       "      <td>3.43</td>\n",
       "    </tr>\n",
       "    <tr>\n",
       "      <th>7</th>\n",
       "      <td>500</td>\n",
       "      <td>3</td>\n",
       "      <td>3.346798</td>\n",
       "      <td>0.021081</td>\n",
       "      <td>3.43</td>\n",
       "    </tr>\n",
       "    <tr>\n",
       "      <th>8</th>\n",
       "      <td>3000</td>\n",
       "      <td>4</td>\n",
       "      <td>3.361025</td>\n",
       "      <td>0.020668</td>\n",
       "      <td>3.44</td>\n",
       "    </tr>\n",
       "    <tr>\n",
       "      <th>9</th>\n",
       "      <td>2000</td>\n",
       "      <td>4</td>\n",
       "      <td>3.361939</td>\n",
       "      <td>0.020663</td>\n",
       "      <td>3.44</td>\n",
       "    </tr>\n",
       "    <tr>\n",
       "      <th>10</th>\n",
       "      <td>3500</td>\n",
       "      <td>4</td>\n",
       "      <td>3.362176</td>\n",
       "      <td>0.020684</td>\n",
       "      <td>3.44</td>\n",
       "    </tr>\n",
       "    <tr>\n",
       "      <th>11</th>\n",
       "      <td>2500</td>\n",
       "      <td>4</td>\n",
       "      <td>3.363709</td>\n",
       "      <td>0.020695</td>\n",
       "      <td>3.44</td>\n",
       "    </tr>\n",
       "    <tr>\n",
       "      <th>12</th>\n",
       "      <td>1500</td>\n",
       "      <td>4</td>\n",
       "      <td>3.366972</td>\n",
       "      <td>0.020714</td>\n",
       "      <td>3.45</td>\n",
       "    </tr>\n",
       "    <tr>\n",
       "      <th>13</th>\n",
       "      <td>500</td>\n",
       "      <td>4</td>\n",
       "      <td>3.367360</td>\n",
       "      <td>0.020705</td>\n",
       "      <td>3.45</td>\n",
       "    </tr>\n",
       "    <tr>\n",
       "      <th>14</th>\n",
       "      <td>1000</td>\n",
       "      <td>4</td>\n",
       "      <td>3.367634</td>\n",
       "      <td>0.020719</td>\n",
       "      <td>3.45</td>\n",
       "    </tr>\n",
       "    <tr>\n",
       "      <th>15</th>\n",
       "      <td>3500</td>\n",
       "      <td>5</td>\n",
       "      <td>3.377481</td>\n",
       "      <td>0.020451</td>\n",
       "      <td>3.45</td>\n",
       "    </tr>\n",
       "    <tr>\n",
       "      <th>16</th>\n",
       "      <td>1000</td>\n",
       "      <td>5</td>\n",
       "      <td>3.379443</td>\n",
       "      <td>0.020468</td>\n",
       "      <td>3.45</td>\n",
       "    </tr>\n",
       "    <tr>\n",
       "      <th>17</th>\n",
       "      <td>3000</td>\n",
       "      <td>5</td>\n",
       "      <td>3.381525</td>\n",
       "      <td>0.020486</td>\n",
       "      <td>3.46</td>\n",
       "    </tr>\n",
       "    <tr>\n",
       "      <th>18</th>\n",
       "      <td>2500</td>\n",
       "      <td>5</td>\n",
       "      <td>3.381631</td>\n",
       "      <td>0.020487</td>\n",
       "      <td>3.46</td>\n",
       "    </tr>\n",
       "    <tr>\n",
       "      <th>19</th>\n",
       "      <td>2000</td>\n",
       "      <td>5</td>\n",
       "      <td>3.382666</td>\n",
       "      <td>0.020501</td>\n",
       "      <td>3.46</td>\n",
       "    </tr>\n",
       "  </tbody>\n",
       "</table>\n",
       "</div>"
      ],
      "text/plain": [
       "    window_size  alpha      mape       mse  smape\n",
       "0           500      2  3.323581  0.021732   3.42\n",
       "1          1000      3  3.339486  0.021046   3.42\n",
       "2          2500      3  3.339615  0.021053   3.43\n",
       "3          1500      3  3.340035  0.021060   3.43\n",
       "4          2000      3  3.343313  0.021102   3.43\n",
       "5          3500      3  3.344395  0.021096   3.43\n",
       "6          3000      3  3.346684  0.021117   3.43\n",
       "7           500      3  3.346798  0.021081   3.43\n",
       "8          3000      4  3.361025  0.020668   3.44\n",
       "9          2000      4  3.361939  0.020663   3.44\n",
       "10         3500      4  3.362176  0.020684   3.44\n",
       "11         2500      4  3.363709  0.020695   3.44\n",
       "12         1500      4  3.366972  0.020714   3.45\n",
       "13          500      4  3.367360  0.020705   3.45\n",
       "14         1000      4  3.367634  0.020719   3.45\n",
       "15         3500      5  3.377481  0.020451   3.45\n",
       "16         1000      5  3.379443  0.020468   3.45\n",
       "17         3000      5  3.381525  0.020486   3.46\n",
       "18         2500      5  3.381631  0.020487   3.46\n",
       "19         2000      5  3.382666  0.020501   3.46"
      ]
     },
     "execution_count": 136,
     "metadata": {},
     "output_type": "execute_result"
    }
   ],
   "source": [
    "param_grid = {\n",
    "    'window_size': [500, 1000, 1500, 2000, 2500, 3000, 3500],\n",
    "    'alpha': [1, 2, 3, 4, 5, 6, 7, 8, 9]\n",
    "}\n",
    "\n",
    "find_best_outlier_detector(param_grid, algorithm=get_anomalies_median).head(20)"
   ]
  },
  {
   "cell_type": "markdown",
   "metadata": {},
   "source": [
    "2. <b>Density-based</b> method."
   ]
  },
  {
   "cell_type": "code",
   "execution_count": 143,
   "metadata": {
    "ExecuteTime": {
     "end_time": "2023-10-27T15:37:16.505661Z",
     "start_time": "2023-10-27T13:56:55.370026Z"
    }
   },
   "outputs": [
    {
     "name": "stderr",
     "output_type": "stream",
     "text": [
      "100%|████████████████████████████████████████| 60/60 [1:40:21<00:00, 100.35s/it]"
     ]
    },
    {
     "name": "stdout",
     "output_type": "stream",
     "text": [
      "\n",
      "Best params:  {'window_size': 100, 'distance_coef': 1, 'n_neighbors': 4}\n"
     ]
    },
    {
     "name": "stderr",
     "output_type": "stream",
     "text": [
      "\n"
     ]
    },
    {
     "data": {
      "text/html": [
       "<div>\n",
       "<style scoped>\n",
       "    .dataframe tbody tr th:only-of-type {\n",
       "        vertical-align: middle;\n",
       "    }\n",
       "\n",
       "    .dataframe tbody tr th {\n",
       "        vertical-align: top;\n",
       "    }\n",
       "\n",
       "    .dataframe thead th {\n",
       "        text-align: right;\n",
       "    }\n",
       "</style>\n",
       "<table border=\"1\" class=\"dataframe\">\n",
       "  <thead>\n",
       "    <tr style=\"text-align: right;\">\n",
       "      <th></th>\n",
       "      <th>window_size</th>\n",
       "      <th>distance_coef</th>\n",
       "      <th>n_neighbors</th>\n",
       "      <th>mape</th>\n",
       "      <th>mse</th>\n",
       "      <th>smape</th>\n",
       "    </tr>\n",
       "  </thead>\n",
       "  <tbody>\n",
       "    <tr>\n",
       "      <th>0</th>\n",
       "      <td>100</td>\n",
       "      <td>1</td>\n",
       "      <td>4</td>\n",
       "      <td>3.410730</td>\n",
       "      <td>0.020205</td>\n",
       "      <td>3.48</td>\n",
       "    </tr>\n",
       "    <tr>\n",
       "      <th>1</th>\n",
       "      <td>100</td>\n",
       "      <td>1</td>\n",
       "      <td>1</td>\n",
       "      <td>3.411559</td>\n",
       "      <td>0.020164</td>\n",
       "      <td>3.48</td>\n",
       "    </tr>\n",
       "    <tr>\n",
       "      <th>2</th>\n",
       "      <td>500</td>\n",
       "      <td>1</td>\n",
       "      <td>3</td>\n",
       "      <td>3.411695</td>\n",
       "      <td>0.020156</td>\n",
       "      <td>3.48</td>\n",
       "    </tr>\n",
       "    <tr>\n",
       "      <th>3</th>\n",
       "      <td>300</td>\n",
       "      <td>1</td>\n",
       "      <td>4</td>\n",
       "      <td>3.411742</td>\n",
       "      <td>0.020183</td>\n",
       "      <td>3.48</td>\n",
       "    </tr>\n",
       "    <tr>\n",
       "      <th>4</th>\n",
       "      <td>400</td>\n",
       "      <td>1</td>\n",
       "      <td>3</td>\n",
       "      <td>3.412022</td>\n",
       "      <td>0.020165</td>\n",
       "      <td>3.48</td>\n",
       "    </tr>\n",
       "    <tr>\n",
       "      <th>5</th>\n",
       "      <td>200</td>\n",
       "      <td>1</td>\n",
       "      <td>4</td>\n",
       "      <td>3.412396</td>\n",
       "      <td>0.020212</td>\n",
       "      <td>3.48</td>\n",
       "    </tr>\n",
       "    <tr>\n",
       "      <th>6</th>\n",
       "      <td>200</td>\n",
       "      <td>1</td>\n",
       "      <td>3</td>\n",
       "      <td>3.412427</td>\n",
       "      <td>0.020187</td>\n",
       "      <td>3.48</td>\n",
       "    </tr>\n",
       "    <tr>\n",
       "      <th>7</th>\n",
       "      <td>500</td>\n",
       "      <td>1</td>\n",
       "      <td>4</td>\n",
       "      <td>3.412475</td>\n",
       "      <td>0.020187</td>\n",
       "      <td>3.48</td>\n",
       "    </tr>\n",
       "    <tr>\n",
       "      <th>8</th>\n",
       "      <td>400</td>\n",
       "      <td>1</td>\n",
       "      <td>4</td>\n",
       "      <td>3.412475</td>\n",
       "      <td>0.020187</td>\n",
       "      <td>3.48</td>\n",
       "    </tr>\n",
       "    <tr>\n",
       "      <th>9</th>\n",
       "      <td>500</td>\n",
       "      <td>1</td>\n",
       "      <td>2</td>\n",
       "      <td>3.413032</td>\n",
       "      <td>0.020195</td>\n",
       "      <td>3.48</td>\n",
       "    </tr>\n",
       "    <tr>\n",
       "      <th>10</th>\n",
       "      <td>500</td>\n",
       "      <td>1</td>\n",
       "      <td>1</td>\n",
       "      <td>3.413273</td>\n",
       "      <td>0.020198</td>\n",
       "      <td>3.48</td>\n",
       "    </tr>\n",
       "    <tr>\n",
       "      <th>11</th>\n",
       "      <td>400</td>\n",
       "      <td>1</td>\n",
       "      <td>2</td>\n",
       "      <td>3.413729</td>\n",
       "      <td>0.020201</td>\n",
       "      <td>3.48</td>\n",
       "    </tr>\n",
       "    <tr>\n",
       "      <th>12</th>\n",
       "      <td>100</td>\n",
       "      <td>1</td>\n",
       "      <td>3</td>\n",
       "      <td>3.414080</td>\n",
       "      <td>0.020230</td>\n",
       "      <td>3.48</td>\n",
       "    </tr>\n",
       "    <tr>\n",
       "      <th>13</th>\n",
       "      <td>400</td>\n",
       "      <td>1</td>\n",
       "      <td>1</td>\n",
       "      <td>3.414098</td>\n",
       "      <td>0.020206</td>\n",
       "      <td>3.48</td>\n",
       "    </tr>\n",
       "    <tr>\n",
       "      <th>14</th>\n",
       "      <td>300</td>\n",
       "      <td>1</td>\n",
       "      <td>3</td>\n",
       "      <td>3.414359</td>\n",
       "      <td>0.020220</td>\n",
       "      <td>3.48</td>\n",
       "    </tr>\n",
       "    <tr>\n",
       "      <th>15</th>\n",
       "      <td>300</td>\n",
       "      <td>1</td>\n",
       "      <td>2</td>\n",
       "      <td>3.414373</td>\n",
       "      <td>0.020220</td>\n",
       "      <td>3.48</td>\n",
       "    </tr>\n",
       "    <tr>\n",
       "      <th>16</th>\n",
       "      <td>200</td>\n",
       "      <td>1</td>\n",
       "      <td>2</td>\n",
       "      <td>3.414373</td>\n",
       "      <td>0.020220</td>\n",
       "      <td>3.48</td>\n",
       "    </tr>\n",
       "    <tr>\n",
       "      <th>17</th>\n",
       "      <td>100</td>\n",
       "      <td>2</td>\n",
       "      <td>4</td>\n",
       "      <td>3.415533</td>\n",
       "      <td>0.020220</td>\n",
       "      <td>3.48</td>\n",
       "    </tr>\n",
       "    <tr>\n",
       "      <th>18</th>\n",
       "      <td>100</td>\n",
       "      <td>2</td>\n",
       "      <td>3</td>\n",
       "      <td>3.415533</td>\n",
       "      <td>0.020220</td>\n",
       "      <td>3.48</td>\n",
       "    </tr>\n",
       "    <tr>\n",
       "      <th>19</th>\n",
       "      <td>200</td>\n",
       "      <td>2</td>\n",
       "      <td>4</td>\n",
       "      <td>3.415533</td>\n",
       "      <td>0.020220</td>\n",
       "      <td>3.48</td>\n",
       "    </tr>\n",
       "    <tr>\n",
       "      <th>20</th>\n",
       "      <td>500</td>\n",
       "      <td>2</td>\n",
       "      <td>2</td>\n",
       "      <td>3.415586</td>\n",
       "      <td>0.020227</td>\n",
       "      <td>3.48</td>\n",
       "    </tr>\n",
       "    <tr>\n",
       "      <th>21</th>\n",
       "      <td>400</td>\n",
       "      <td>2</td>\n",
       "      <td>2</td>\n",
       "      <td>3.415586</td>\n",
       "      <td>0.020227</td>\n",
       "      <td>3.48</td>\n",
       "    </tr>\n",
       "    <tr>\n",
       "      <th>22</th>\n",
       "      <td>300</td>\n",
       "      <td>2</td>\n",
       "      <td>2</td>\n",
       "      <td>3.415586</td>\n",
       "      <td>0.020227</td>\n",
       "      <td>3.48</td>\n",
       "    </tr>\n",
       "    <tr>\n",
       "      <th>23</th>\n",
       "      <td>200</td>\n",
       "      <td>2</td>\n",
       "      <td>2</td>\n",
       "      <td>3.415586</td>\n",
       "      <td>0.020227</td>\n",
       "      <td>3.48</td>\n",
       "    </tr>\n",
       "    <tr>\n",
       "      <th>24</th>\n",
       "      <td>100</td>\n",
       "      <td>2</td>\n",
       "      <td>2</td>\n",
       "      <td>3.415586</td>\n",
       "      <td>0.020227</td>\n",
       "      <td>3.48</td>\n",
       "    </tr>\n",
       "    <tr>\n",
       "      <th>25</th>\n",
       "      <td>300</td>\n",
       "      <td>1</td>\n",
       "      <td>1</td>\n",
       "      <td>3.415618</td>\n",
       "      <td>0.020238</td>\n",
       "      <td>3.48</td>\n",
       "    </tr>\n",
       "    <tr>\n",
       "      <th>26</th>\n",
       "      <td>200</td>\n",
       "      <td>1</td>\n",
       "      <td>1</td>\n",
       "      <td>3.415618</td>\n",
       "      <td>0.020238</td>\n",
       "      <td>3.48</td>\n",
       "    </tr>\n",
       "    <tr>\n",
       "      <th>27</th>\n",
       "      <td>200</td>\n",
       "      <td>3</td>\n",
       "      <td>4</td>\n",
       "      <td>3.415750</td>\n",
       "      <td>0.020230</td>\n",
       "      <td>3.48</td>\n",
       "    </tr>\n",
       "    <tr>\n",
       "      <th>28</th>\n",
       "      <td>200</td>\n",
       "      <td>3</td>\n",
       "      <td>3</td>\n",
       "      <td>3.415750</td>\n",
       "      <td>0.020230</td>\n",
       "      <td>3.48</td>\n",
       "    </tr>\n",
       "    <tr>\n",
       "      <th>29</th>\n",
       "      <td>400</td>\n",
       "      <td>3</td>\n",
       "      <td>1</td>\n",
       "      <td>3.415750</td>\n",
       "      <td>0.020230</td>\n",
       "      <td>3.48</td>\n",
       "    </tr>\n",
       "    <tr>\n",
       "      <th>30</th>\n",
       "      <td>400</td>\n",
       "      <td>3</td>\n",
       "      <td>2</td>\n",
       "      <td>3.415750</td>\n",
       "      <td>0.020230</td>\n",
       "      <td>3.48</td>\n",
       "    </tr>\n",
       "    <tr>\n",
       "      <th>31</th>\n",
       "      <td>400</td>\n",
       "      <td>3</td>\n",
       "      <td>3</td>\n",
       "      <td>3.415750</td>\n",
       "      <td>0.020230</td>\n",
       "      <td>3.48</td>\n",
       "    </tr>\n",
       "    <tr>\n",
       "      <th>32</th>\n",
       "      <td>100</td>\n",
       "      <td>3</td>\n",
       "      <td>2</td>\n",
       "      <td>3.415750</td>\n",
       "      <td>0.020230</td>\n",
       "      <td>3.48</td>\n",
       "    </tr>\n",
       "    <tr>\n",
       "      <th>33</th>\n",
       "      <td>100</td>\n",
       "      <td>3</td>\n",
       "      <td>1</td>\n",
       "      <td>3.415750</td>\n",
       "      <td>0.020230</td>\n",
       "      <td>3.48</td>\n",
       "    </tr>\n",
       "    <tr>\n",
       "      <th>34</th>\n",
       "      <td>100</td>\n",
       "      <td>2</td>\n",
       "      <td>1</td>\n",
       "      <td>3.415750</td>\n",
       "      <td>0.020230</td>\n",
       "      <td>3.48</td>\n",
       "    </tr>\n",
       "    <tr>\n",
       "      <th>35</th>\n",
       "      <td>500</td>\n",
       "      <td>2</td>\n",
       "      <td>1</td>\n",
       "      <td>3.415750</td>\n",
       "      <td>0.020230</td>\n",
       "      <td>3.48</td>\n",
       "    </tr>\n",
       "    <tr>\n",
       "      <th>36</th>\n",
       "      <td>500</td>\n",
       "      <td>3</td>\n",
       "      <td>1</td>\n",
       "      <td>3.415750</td>\n",
       "      <td>0.020230</td>\n",
       "      <td>3.48</td>\n",
       "    </tr>\n",
       "    <tr>\n",
       "      <th>37</th>\n",
       "      <td>500</td>\n",
       "      <td>3</td>\n",
       "      <td>2</td>\n",
       "      <td>3.415750</td>\n",
       "      <td>0.020230</td>\n",
       "      <td>3.48</td>\n",
       "    </tr>\n",
       "    <tr>\n",
       "      <th>38</th>\n",
       "      <td>400</td>\n",
       "      <td>3</td>\n",
       "      <td>4</td>\n",
       "      <td>3.415750</td>\n",
       "      <td>0.020230</td>\n",
       "      <td>3.48</td>\n",
       "    </tr>\n",
       "    <tr>\n",
       "      <th>39</th>\n",
       "      <td>400</td>\n",
       "      <td>2</td>\n",
       "      <td>1</td>\n",
       "      <td>3.415750</td>\n",
       "      <td>0.020230</td>\n",
       "      <td>3.48</td>\n",
       "    </tr>\n",
       "    <tr>\n",
       "      <th>40</th>\n",
       "      <td>100</td>\n",
       "      <td>3</td>\n",
       "      <td>3</td>\n",
       "      <td>3.415750</td>\n",
       "      <td>0.020230</td>\n",
       "      <td>3.48</td>\n",
       "    </tr>\n",
       "    <tr>\n",
       "      <th>41</th>\n",
       "      <td>200</td>\n",
       "      <td>2</td>\n",
       "      <td>1</td>\n",
       "      <td>3.415750</td>\n",
       "      <td>0.020230</td>\n",
       "      <td>3.48</td>\n",
       "    </tr>\n",
       "    <tr>\n",
       "      <th>42</th>\n",
       "      <td>200</td>\n",
       "      <td>3</td>\n",
       "      <td>2</td>\n",
       "      <td>3.415750</td>\n",
       "      <td>0.020230</td>\n",
       "      <td>3.48</td>\n",
       "    </tr>\n",
       "    <tr>\n",
       "      <th>43</th>\n",
       "      <td>200</td>\n",
       "      <td>3</td>\n",
       "      <td>1</td>\n",
       "      <td>3.415750</td>\n",
       "      <td>0.020230</td>\n",
       "      <td>3.48</td>\n",
       "    </tr>\n",
       "    <tr>\n",
       "      <th>44</th>\n",
       "      <td>300</td>\n",
       "      <td>2</td>\n",
       "      <td>1</td>\n",
       "      <td>3.415750</td>\n",
       "      <td>0.020230</td>\n",
       "      <td>3.48</td>\n",
       "    </tr>\n",
       "    <tr>\n",
       "      <th>45</th>\n",
       "      <td>100</td>\n",
       "      <td>3</td>\n",
       "      <td>4</td>\n",
       "      <td>3.415750</td>\n",
       "      <td>0.020230</td>\n",
       "      <td>3.48</td>\n",
       "    </tr>\n",
       "    <tr>\n",
       "      <th>46</th>\n",
       "      <td>300</td>\n",
       "      <td>3</td>\n",
       "      <td>1</td>\n",
       "      <td>3.415750</td>\n",
       "      <td>0.020230</td>\n",
       "      <td>3.48</td>\n",
       "    </tr>\n",
       "    <tr>\n",
       "      <th>47</th>\n",
       "      <td>500</td>\n",
       "      <td>3</td>\n",
       "      <td>3</td>\n",
       "      <td>3.415750</td>\n",
       "      <td>0.020230</td>\n",
       "      <td>3.48</td>\n",
       "    </tr>\n",
       "    <tr>\n",
       "      <th>48</th>\n",
       "      <td>300</td>\n",
       "      <td>3</td>\n",
       "      <td>3</td>\n",
       "      <td>3.415750</td>\n",
       "      <td>0.020230</td>\n",
       "      <td>3.48</td>\n",
       "    </tr>\n",
       "    <tr>\n",
       "      <th>49</th>\n",
       "      <td>300</td>\n",
       "      <td>3</td>\n",
       "      <td>4</td>\n",
       "      <td>3.415750</td>\n",
       "      <td>0.020230</td>\n",
       "      <td>3.48</td>\n",
       "    </tr>\n",
       "    <tr>\n",
       "      <th>50</th>\n",
       "      <td>300</td>\n",
       "      <td>3</td>\n",
       "      <td>2</td>\n",
       "      <td>3.415750</td>\n",
       "      <td>0.020230</td>\n",
       "      <td>3.48</td>\n",
       "    </tr>\n",
       "    <tr>\n",
       "      <th>51</th>\n",
       "      <td>500</td>\n",
       "      <td>3</td>\n",
       "      <td>4</td>\n",
       "      <td>3.415750</td>\n",
       "      <td>0.020230</td>\n",
       "      <td>3.48</td>\n",
       "    </tr>\n",
       "    <tr>\n",
       "      <th>52</th>\n",
       "      <td>300</td>\n",
       "      <td>2</td>\n",
       "      <td>4</td>\n",
       "      <td>3.416803</td>\n",
       "      <td>0.020245</td>\n",
       "      <td>3.48</td>\n",
       "    </tr>\n",
       "    <tr>\n",
       "      <th>53</th>\n",
       "      <td>300</td>\n",
       "      <td>2</td>\n",
       "      <td>3</td>\n",
       "      <td>3.416803</td>\n",
       "      <td>0.020245</td>\n",
       "      <td>3.48</td>\n",
       "    </tr>\n",
       "    <tr>\n",
       "      <th>54</th>\n",
       "      <td>200</td>\n",
       "      <td>2</td>\n",
       "      <td>3</td>\n",
       "      <td>3.416803</td>\n",
       "      <td>0.020245</td>\n",
       "      <td>3.48</td>\n",
       "    </tr>\n",
       "    <tr>\n",
       "      <th>55</th>\n",
       "      <td>500</td>\n",
       "      <td>2</td>\n",
       "      <td>3</td>\n",
       "      <td>3.416803</td>\n",
       "      <td>0.020245</td>\n",
       "      <td>3.48</td>\n",
       "    </tr>\n",
       "    <tr>\n",
       "      <th>56</th>\n",
       "      <td>500</td>\n",
       "      <td>2</td>\n",
       "      <td>4</td>\n",
       "      <td>3.416803</td>\n",
       "      <td>0.020245</td>\n",
       "      <td>3.48</td>\n",
       "    </tr>\n",
       "    <tr>\n",
       "      <th>57</th>\n",
       "      <td>400</td>\n",
       "      <td>2</td>\n",
       "      <td>4</td>\n",
       "      <td>3.416803</td>\n",
       "      <td>0.020245</td>\n",
       "      <td>3.48</td>\n",
       "    </tr>\n",
       "    <tr>\n",
       "      <th>58</th>\n",
       "      <td>400</td>\n",
       "      <td>2</td>\n",
       "      <td>3</td>\n",
       "      <td>3.416803</td>\n",
       "      <td>0.020245</td>\n",
       "      <td>3.48</td>\n",
       "    </tr>\n",
       "    <tr>\n",
       "      <th>59</th>\n",
       "      <td>100</td>\n",
       "      <td>1</td>\n",
       "      <td>2</td>\n",
       "      <td>3.417100</td>\n",
       "      <td>0.020265</td>\n",
       "      <td>3.49</td>\n",
       "    </tr>\n",
       "  </tbody>\n",
       "</table>\n",
       "</div>"
      ],
      "text/plain": [
       "    window_size  distance_coef  n_neighbors      mape       mse  smape\n",
       "0           100              1            4  3.410730  0.020205   3.48\n",
       "1           100              1            1  3.411559  0.020164   3.48\n",
       "2           500              1            3  3.411695  0.020156   3.48\n",
       "3           300              1            4  3.411742  0.020183   3.48\n",
       "4           400              1            3  3.412022  0.020165   3.48\n",
       "5           200              1            4  3.412396  0.020212   3.48\n",
       "6           200              1            3  3.412427  0.020187   3.48\n",
       "7           500              1            4  3.412475  0.020187   3.48\n",
       "8           400              1            4  3.412475  0.020187   3.48\n",
       "9           500              1            2  3.413032  0.020195   3.48\n",
       "10          500              1            1  3.413273  0.020198   3.48\n",
       "11          400              1            2  3.413729  0.020201   3.48\n",
       "12          100              1            3  3.414080  0.020230   3.48\n",
       "13          400              1            1  3.414098  0.020206   3.48\n",
       "14          300              1            3  3.414359  0.020220   3.48\n",
       "15          300              1            2  3.414373  0.020220   3.48\n",
       "16          200              1            2  3.414373  0.020220   3.48\n",
       "17          100              2            4  3.415533  0.020220   3.48\n",
       "18          100              2            3  3.415533  0.020220   3.48\n",
       "19          200              2            4  3.415533  0.020220   3.48\n",
       "20          500              2            2  3.415586  0.020227   3.48\n",
       "21          400              2            2  3.415586  0.020227   3.48\n",
       "22          300              2            2  3.415586  0.020227   3.48\n",
       "23          200              2            2  3.415586  0.020227   3.48\n",
       "24          100              2            2  3.415586  0.020227   3.48\n",
       "25          300              1            1  3.415618  0.020238   3.48\n",
       "26          200              1            1  3.415618  0.020238   3.48\n",
       "27          200              3            4  3.415750  0.020230   3.48\n",
       "28          200              3            3  3.415750  0.020230   3.48\n",
       "29          400              3            1  3.415750  0.020230   3.48\n",
       "30          400              3            2  3.415750  0.020230   3.48\n",
       "31          400              3            3  3.415750  0.020230   3.48\n",
       "32          100              3            2  3.415750  0.020230   3.48\n",
       "33          100              3            1  3.415750  0.020230   3.48\n",
       "34          100              2            1  3.415750  0.020230   3.48\n",
       "35          500              2            1  3.415750  0.020230   3.48\n",
       "36          500              3            1  3.415750  0.020230   3.48\n",
       "37          500              3            2  3.415750  0.020230   3.48\n",
       "38          400              3            4  3.415750  0.020230   3.48\n",
       "39          400              2            1  3.415750  0.020230   3.48\n",
       "40          100              3            3  3.415750  0.020230   3.48\n",
       "41          200              2            1  3.415750  0.020230   3.48\n",
       "42          200              3            2  3.415750  0.020230   3.48\n",
       "43          200              3            1  3.415750  0.020230   3.48\n",
       "44          300              2            1  3.415750  0.020230   3.48\n",
       "45          100              3            4  3.415750  0.020230   3.48\n",
       "46          300              3            1  3.415750  0.020230   3.48\n",
       "47          500              3            3  3.415750  0.020230   3.48\n",
       "48          300              3            3  3.415750  0.020230   3.48\n",
       "49          300              3            4  3.415750  0.020230   3.48\n",
       "50          300              3            2  3.415750  0.020230   3.48\n",
       "51          500              3            4  3.415750  0.020230   3.48\n",
       "52          300              2            4  3.416803  0.020245   3.48\n",
       "53          300              2            3  3.416803  0.020245   3.48\n",
       "54          200              2            3  3.416803  0.020245   3.48\n",
       "55          500              2            3  3.416803  0.020245   3.48\n",
       "56          500              2            4  3.416803  0.020245   3.48\n",
       "57          400              2            4  3.416803  0.020245   3.48\n",
       "58          400              2            3  3.416803  0.020245   3.48\n",
       "59          100              1            2  3.417100  0.020265   3.49"
      ]
     },
     "execution_count": 143,
     "metadata": {},
     "output_type": "execute_result"
    }
   ],
   "source": [
    "param_grid = {\n",
    "    'window_size': [100, 200, 300, 400, 500],\n",
    "    'distance_coef': [1, 2, 3],\n",
    "    'n_neighbors': [1, 2, 3, 4]\n",
    "}\n",
    "\n",
    "find_best_outlier_detector(param_grid, algorithm=get_anomalies_density).head(20)"
   ]
  },
  {
   "cell_type": "markdown",
   "metadata": {},
   "source": [
    "Vizualize detected outliers for best method:"
   ]
  },
  {
   "cell_type": "code",
   "execution_count": 187,
   "metadata": {
    "ExecuteTime": {
     "end_time": "2023-10-27T15:50:22.340819Z",
     "start_time": "2023-10-27T15:50:21.965602Z"
    }
   },
   "outputs": [
    {
     "data": {
      "image/png": "[encoded data removed]",
      "text/plain": [
       "<Figure size 720x360 with 1 Axes>"
      ]
     },
     "metadata": {
      "needs_background": "light"
     },
     "output_type": "display_data"
    }
   ],
   "source": [
    "anomaly_dict = get_anomalies_median(ts_etna, window_size=500, alpha=2)\n",
    "plot_anomalies(ts_etna, anomaly_dict)"
   ]
  },
  {
   "cell_type": "markdown",
   "metadata": {},
   "source": [
    "Drop outliers from df_train:"
   ]
  },
  {
   "cell_type": "code",
   "execution_count": 194,
   "metadata": {
    "ExecuteTime": {
     "end_time": "2023-10-27T15:54:24.685099Z",
     "start_time": "2023-10-27T15:54:24.674338Z"
    }
   },
   "outputs": [],
   "source": [
    "df_train.y = df_train.y.mask(df_train.ds.isin(anomaly_dict['main']))"
   ]
  },
  {
   "cell_type": "code",
   "execution_count": 197,
   "metadata": {
    "ExecuteTime": {
     "end_time": "2023-10-27T15:54:57.353500Z",
     "start_time": "2023-10-27T15:54:57.349495Z"
    }
   },
   "outputs": [
    {
     "data": {
      "text/plain": [
       "7012"
      ]
     },
     "execution_count": 197,
     "metadata": {},
     "output_type": "execute_result"
    }
   ],
   "source": [
    "len(anomaly_dict['main'])"
   ]
  },
  {
   "cell_type": "markdown",
   "metadata": {},
   "source": [
    "Number of detected outliers:"
   ]
  },
  {
   "cell_type": "code",
   "execution_count": 195,
   "metadata": {
    "ExecuteTime": {
     "end_time": "2023-10-27T15:54:28.424630Z",
     "start_time": "2023-10-27T15:54:28.420762Z"
    }
   },
   "outputs": [
    {
     "name": "stdout",
     "output_type": "stream",
     "text": [
      "Number of detected outliers: 7012\n",
      "Percent of detected outliers: 4.81%\n"
     ]
    }
   ],
   "source": [
    "print('Number of detected outliers: ' + str(len(anomaly_dict['main'])))\n",
    "print('Percent of detected outliers: ' + str(round(len(anomaly_dict['main']) * 100 / df_train.shape[0], 2)) + '%')"
   ]
  },
  {
   "cell_type": "code",
   "execution_count": 194,
   "metadata": {
    "ExecuteTime": {
     "end_time": "2023-10-24T14:53:56.559008Z",
     "start_time": "2023-10-24T14:53:10.555586Z"
    }
   },
   "outputs": [
    {
     "name": "stdout",
     "output_type": "stream",
     "text": [
      "mse: 0.2410435093621071, mape: 22.199547643126092, smape: 14.142390831519998\n"
     ]
    }
   ],
   "source": [
    "m = Prophet()\n",
    "m.fit(df_train.reset_index())\n",
    "mse, mape, smape, actuals, predictions = evaluate_model(m, df_val)\n",
    "\n",
    "print(f'mse: {mse}, mape: {mape}, smape: {smape}')"
   ]
  },
  {
   "cell_type": "markdown",
   "metadata": {
    "id": "3yys1BfoWjLV"
   },
   "source": [
    "Visualize train and test data without outliers:"
   ]
  },
  {
   "cell_type": "code",
   "execution_count": 134,
   "metadata": {
    "ExecuteTime": {
     "end_time": "2023-10-27T11:56:41.941318Z",
     "start_time": "2023-10-27T11:56:41.635347Z"
    },
    "colab": {
     "base_uri": "https://localhost:8080/",
     "height": 493
    },
    "executionInfo": {
     "elapsed": 1533,
     "status": "ok",
     "timestamp": 1697977717340,
     "user": {
      "displayName": "Павел Ломакин",
      "userId": "11833351585793642427"
     },
     "user_tz": -180
    },
    "id": "J60WF25Ad0fm",
    "outputId": "244e84f9-04aa-4ae3-e6fb-dca5cd3a6d60"
   },
   "outputs": [
    {
     "data": {
      "image/png": "[encoded data removed]",
      "text/plain": [
       "<Figure size 720x360 with 1 Axes>"
      ]
     },
     "metadata": {
      "needs_background": "light"
     },
     "output_type": "display_data"
    }
   ],
   "source": [
    "plt.figure(figsize=(10,5))\n",
    "\n",
    "plt.plot(df_train.ds, df_train.y, color='b', label='train', linewidth=0.5)\n",
    "plt.plot(df_val.ds, df_val.y, color='c', label='val', linewidth=0.5)\n",
    "plt.plot(df_test.ds, df_test.y, color='r', label='test', linewidth=0.5)\n",
    "\n",
    "plt.xlabel(\"Date\", fontsize=14)\n",
    "plt.ylabel(\"KEV_Y\")\n",
    "plt.title(\"Train, val and test data\", fontsize=14)\n",
    "\n",
    "plt.legend()\n",
    "\n",
    "plt.show()"
   ]
  },
  {
   "cell_type": "markdown",
   "metadata": {
    "id": "e6YrJbCgXzo-"
   },
   "source": [
    "## Model training."
   ]
  },
  {
   "cell_type": "code",
   "execution_count": 150,
   "metadata": {
    "ExecuteTime": {
     "end_time": "2023-10-24T14:34:02.156909Z",
     "start_time": "2023-10-24T14:34:02.152646Z"
    },
    "id": "nZQq8S5BgGyb"
   },
   "outputs": [],
   "source": [
    "df_train.reset_index(inplace=True)\n",
    "df_val.reset_index(inplace=True)\n",
    "df_test.reset_index(inplace=True)"
   ]
  },
  {
   "cell_type": "markdown",
   "metadata": {
    "id": "fJdTwOteYC6B"
   },
   "source": [
    "Let's look at baseline model performance:"
   ]
  },
  {
   "cell_type": "code",
   "execution_count": 153,
   "metadata": {
    "ExecuteTime": {
     "end_time": "2023-10-24T14:36:33.912089Z",
     "start_time": "2023-10-24T14:36:06.802872Z"
    },
    "colab": {
     "base_uri": "https://localhost:8080/"
    },
    "executionInfo": {
     "elapsed": 79926,
     "status": "ok",
     "timestamp": 1697908917284,
     "user": {
      "displayName": "Павел Ломакин",
      "userId": "11833351585793642427"
     },
     "user_tz": -180
    },
    "id": "Fc85_cyYYCGO",
    "outputId": "f0b45fa6-d125-4925-9b34-3aefb3b3df8b"
   },
   "outputs": [
    {
     "data": {
      "text/plain": [
       "<prophet.forecaster.Prophet at 0x7fb09c465130>"
      ]
     },
     "execution_count": 153,
     "metadata": {},
     "output_type": "execute_result"
    }
   ],
   "source": [
    "baseline_model = Prophet()\n",
    "baseline_model.fit(df_train)"
   ]
  },
  {
   "cell_type": "code",
   "execution_count": 154,
   "metadata": {
    "ExecuteTime": {
     "end_time": "2023-10-24T14:36:55.790488Z",
     "start_time": "2023-10-24T14:36:49.046235Z"
    },
    "colab": {
     "base_uri": "https://localhost:8080/"
    },
    "executionInfo": {
     "elapsed": 5902,
     "status": "ok",
     "timestamp": 1697908923181,
     "user": {
      "displayName": "Павел Ломакин",
      "userId": "11833351585793642427"
     },
     "user_tz": -180
    },
    "id": "brQFnSmDRe-D",
    "outputId": "6e6f7df0-faa6-47c5-8d64-5041c071c803"
   },
   "outputs": [
    {
     "name": "stdout",
     "output_type": "stream",
     "text": [
      "mse: 0.37111955063050195, mape: 56.11902762381655, smape: 19.91546994321057\n"
     ]
    }
   ],
   "source": [
    "mse, mape, smape, _, _ = evaluate_model(baseline_model, df_val)\n",
    "\n",
    "print(f'mse: {mse}, mape: {mape}, smape: {smape}')"
   ]
  },
  {
   "cell_type": "markdown",
   "metadata": {
    "id": "K_zTYRm5n1Cc"
   },
   "source": [
    "Let's look at model performance by changing chengepoint_range. The best model was with the default changepoint_range parameter (=0.8)"
   ]
  },
  {
   "cell_type": "code",
   "execution_count": null,
   "metadata": {
    "colab": {
     "base_uri": "https://localhost:8080/",
     "height": 379
    },
    "executionInfo": {
     "elapsed": 622336,
     "status": "ok",
     "timestamp": 1697815414828,
     "user": {
      "displayName": "Павел Ломакин",
      "userId": "11833351585793642427"
     },
     "user_tz": -180
    },
    "id": "nB8P3FsvnzYo",
    "outputId": "d499d5ad-6aaa-45cf-eac4-5dd1b9df503a"
   },
   "outputs": [
    {
     "name": "stderr",
     "output_type": "stream",
     "text": [
      "100%|██████████| 9/9 [10:22<00:00, 69.12s/it]"
     ]
    },
    {
     "name": "stdout",
     "output_type": "stream",
     "text": [
      "\n",
      "Best changepoint_range: 0.4\n"
     ]
    },
    {
     "name": "stderr",
     "output_type": "stream",
     "text": [
      "\n"
     ]
    },
    {
     "data": {
      "text/html": [
       "\n",
       "  <div id=\"df-29c8d8d1-4457-4717-b9af-8be29d3aea16\" class=\"colab-df-container\">\n",
       "    <div>\n",
       "<style scoped>\n",
       "    .dataframe tbody tr th:only-of-type {\n",
       "        vertical-align: middle;\n",
       "    }\n",
       "\n",
       "    .dataframe tbody tr th {\n",
       "        vertical-align: top;\n",
       "    }\n",
       "\n",
       "    .dataframe thead th {\n",
       "        text-align: right;\n",
       "    }\n",
       "</style>\n",
       "<table border=\"1\" class=\"dataframe\">\n",
       "  <thead>\n",
       "    <tr style=\"text-align: right;\">\n",
       "      <th></th>\n",
       "      <th>changepoint_ranges</th>\n",
       "      <th>mape</th>\n",
       "      <th>mse</th>\n",
       "      <th>smape</th>\n",
       "    </tr>\n",
       "  </thead>\n",
       "  <tbody>\n",
       "    <tr>\n",
       "      <th>0</th>\n",
       "      <td>0.4</td>\n",
       "      <td>25.688602</td>\n",
       "      <td>0.241784</td>\n",
       "      <td>0.241784</td>\n",
       "    </tr>\n",
       "    <tr>\n",
       "      <th>1</th>\n",
       "      <td>0.5</td>\n",
       "      <td>25.698447</td>\n",
       "      <td>0.240338</td>\n",
       "      <td>0.240338</td>\n",
       "    </tr>\n",
       "    <tr>\n",
       "      <th>2</th>\n",
       "      <td>0.3</td>\n",
       "      <td>25.808375</td>\n",
       "      <td>0.248770</td>\n",
       "      <td>0.248770</td>\n",
       "    </tr>\n",
       "    <tr>\n",
       "      <th>3</th>\n",
       "      <td>0.6</td>\n",
       "      <td>25.859919</td>\n",
       "      <td>0.237624</td>\n",
       "      <td>0.237624</td>\n",
       "    </tr>\n",
       "    <tr>\n",
       "      <th>4</th>\n",
       "      <td>0.8</td>\n",
       "      <td>25.869991</td>\n",
       "      <td>0.237559</td>\n",
       "      <td>0.237559</td>\n",
       "    </tr>\n",
       "    <tr>\n",
       "      <th>5</th>\n",
       "      <td>0.9</td>\n",
       "      <td>25.875110</td>\n",
       "      <td>0.237546</td>\n",
       "      <td>0.237546</td>\n",
       "    </tr>\n",
       "    <tr>\n",
       "      <th>6</th>\n",
       "      <td>0.7</td>\n",
       "      <td>26.084403</td>\n",
       "      <td>0.237030</td>\n",
       "      <td>0.237030</td>\n",
       "    </tr>\n",
       "    <tr>\n",
       "      <th>7</th>\n",
       "      <td>0.2</td>\n",
       "      <td>26.320567</td>\n",
       "      <td>0.263688</td>\n",
       "      <td>0.263688</td>\n",
       "    </tr>\n",
       "    <tr>\n",
       "      <th>8</th>\n",
       "      <td>0.1</td>\n",
       "      <td>27.525163</td>\n",
       "      <td>0.292182</td>\n",
       "      <td>0.292182</td>\n",
       "    </tr>\n",
       "  </tbody>\n",
       "</table>\n",
       "</div>\n",
       "    <div class=\"colab-df-buttons\">\n",
       "\n",
       "  <div class=\"colab-df-container\">\n",
       "    <button class=\"colab-df-convert\" onclick=\"convertToInteractive('df-29c8d8d1-4457-4717-b9af-8be29d3aea16')\"\n",
       "            title=\"Convert this dataframe to an interactive table.\"\n",
       "            style=\"display:none;\">\n",
       "\n",
       "  <svg xmlns=\"http://www.w3.org/2000/svg\" height=\"24px\" viewBox=\"0 -960 960 960\">\n",
       "    <path d=\"M120-120v-720h720v720H120Zm60-500h600v-160H180v160Zm220 220h160v-160H400v160Zm0 220h160v-160H400v160ZM180-400h160v-160H180v160Zm440 0h160v-160H620v160ZM180-180h160v-160H180v160Zm440 0h160v-160H620v160Z\"/>\n",
       "  </svg>\n",
       "    </button>\n",
       "\n",
       "  <style>\n",
       "    .colab-df-container {\n",
       "      display:flex;\n",
       "      gap: 12px;\n",
       "    }\n",
       "\n",
       "    .colab-df-convert {\n",
       "      background-color: #E8F0FE;\n",
       "      border: none;\n",
       "      border-radius: 50%;\n",
       "      cursor: pointer;\n",
       "      display: none;\n",
       "      fill: #1967D2;\n",
       "      height: 32px;\n",
       "      padding: 0 0 0 0;\n",
       "      width: 32px;\n",
       "    }\n",
       "\n",
       "    .colab-df-convert:hover {\n",
       "      background-color: #E2EBFA;\n",
       "      box-shadow: 0px 1px 2px rgba(60, 64, 67, 0.3), 0px 1px 3px 1px rgba(60, 64, 67, 0.15);\n",
       "      fill: #174EA6;\n",
       "    }\n",
       "\n",
       "    .colab-df-buttons div {\n",
       "      margin-bottom: 4px;\n",
       "    }\n",
       "\n",
       "    [theme=dark] .colab-df-convert {\n",
       "      background-color: #3B4455;\n",
       "      fill: #D2E3FC;\n",
       "    }\n",
       "\n",
       "    [theme=dark] .colab-df-convert:hover {\n",
       "      background-color: #434B5C;\n",
       "      box-shadow: 0px 1px 3px 1px rgba(0, 0, 0, 0.15);\n",
       "      filter: drop-shadow(0px 1px 2px rgba(0, 0, 0, 0.3));\n",
       "      fill: #FFFFFF;\n",
       "    }\n",
       "  </style>\n",
       "\n",
       "    <script>\n",
       "      const buttonEl =\n",
       "        document.querySelector('#df-29c8d8d1-4457-4717-b9af-8be29d3aea16 button.colab-df-convert');\n",
       "      buttonEl.style.display =\n",
       "        google.colab.kernel.accessAllowed ? 'block' : 'none';\n",
       "\n",
       "      async function convertToInteractive(key) {\n",
       "        const element = document.querySelector('#df-29c8d8d1-4457-4717-b9af-8be29d3aea16');\n",
       "        const dataTable =\n",
       "          await google.colab.kernel.invokeFunction('convertToInteractive',\n",
       "                                                    [key], {});\n",
       "        if (!dataTable) return;\n",
       "\n",
       "        const docLinkHtml = 'Like what you see? Visit the ' +\n",
       "          '<a target=\"_blank\" href=https://colab.research.google.com/notebooks/data_table.ipynb>data table notebook</a>'\n",
       "          + ' to learn more about interactive tables.';\n",
       "        element.innerHTML = '';\n",
       "        dataTable['output_type'] = 'display_data';\n",
       "        await google.colab.output.renderOutput(dataTable, element);\n",
       "        const docLink = document.createElement('div');\n",
       "        docLink.innerHTML = docLinkHtml;\n",
       "        element.appendChild(docLink);\n",
       "      }\n",
       "    </script>\n",
       "  </div>\n",
       "\n",
       "\n",
       "<div id=\"df-3cd5c5df-4e3d-4391-92bb-547d38a12eff\">\n",
       "  <button class=\"colab-df-quickchart\" onclick=\"quickchart('df-3cd5c5df-4e3d-4391-92bb-547d38a12eff')\"\n",
       "            title=\"Suggest charts.\"\n",
       "            style=\"display:none;\">\n",
       "\n",
       "<svg xmlns=\"http://www.w3.org/2000/svg\" height=\"24px\"viewBox=\"0 0 24 24\"\n",
       "     width=\"24px\">\n",
       "    <g>\n",
       "        <path d=\"M19 3H5c-1.1 0-2 .9-2 2v14c0 1.1.9 2 2 2h14c1.1 0 2-.9 2-2V5c0-1.1-.9-2-2-2zM9 17H7v-7h2v7zm4 0h-2V7h2v10zm4 0h-2v-4h2v4z\"/>\n",
       "    </g>\n",
       "</svg>\n",
       "  </button>\n",
       "\n",
       "<style>\n",
       "  .colab-df-quickchart {\n",
       "      --bg-color: #E8F0FE;\n",
       "      --fill-color: #1967D2;\n",
       "      --hover-bg-color: #E2EBFA;\n",
       "      --hover-fill-color: #174EA6;\n",
       "      --disabled-fill-color: #AAA;\n",
       "      --disabled-bg-color: #DDD;\n",
       "  }\n",
       "\n",
       "  [theme=dark] .colab-df-quickchart {\n",
       "      --bg-color: #3B4455;\n",
       "      --fill-color: #D2E3FC;\n",
       "      --hover-bg-color: #434B5C;\n",
       "      --hover-fill-color: #FFFFFF;\n",
       "      --disabled-bg-color: #3B4455;\n",
       "      --disabled-fill-color: #666;\n",
       "  }\n",
       "\n",
       "  .colab-df-quickchart {\n",
       "    background-color: var(--bg-color);\n",
       "    border: none;\n",
       "    border-radius: 50%;\n",
       "    cursor: pointer;\n",
       "    display: none;\n",
       "    fill: var(--fill-color);\n",
       "    height: 32px;\n",
       "    padding: 0;\n",
       "    width: 32px;\n",
       "  }\n",
       "\n",
       "  .colab-df-quickchart:hover {\n",
       "    background-color: var(--hover-bg-color);\n",
       "    box-shadow: 0 1px 2px rgba(60, 64, 67, 0.3), 0 1px 3px 1px rgba(60, 64, 67, 0.15);\n",
       "    fill: var(--button-hover-fill-color);\n",
       "  }\n",
       "\n",
       "  .colab-df-quickchart-complete:disabled,\n",
       "  .colab-df-quickchart-complete:disabled:hover {\n",
       "    background-color: var(--disabled-bg-color);\n",
       "    fill: var(--disabled-fill-color);\n",
       "    box-shadow: none;\n",
       "  }\n",
       "\n",
       "  .colab-df-spinner {\n",
       "    border: 2px solid var(--fill-color);\n",
       "    border-color: transparent;\n",
       "    border-bottom-color: var(--fill-color);\n",
       "    animation:\n",
       "      spin 1s steps(1) infinite;\n",
       "  }\n",
       "\n",
       "  @keyframes spin {\n",
       "    0% {\n",
       "      border-color: transparent;\n",
       "      border-bottom-color: var(--fill-color);\n",
       "      border-left-color: var(--fill-color);\n",
       "    }\n",
       "    20% {\n",
       "      border-color: transparent;\n",
       "      border-left-color: var(--fill-color);\n",
       "      border-top-color: var(--fill-color);\n",
       "    }\n",
       "    30% {\n",
       "      border-color: transparent;\n",
       "      border-left-color: var(--fill-color);\n",
       "      border-top-color: var(--fill-color);\n",
       "      border-right-color: var(--fill-color);\n",
       "    }\n",
       "    40% {\n",
       "      border-color: transparent;\n",
       "      border-right-color: var(--fill-color);\n",
       "      border-top-color: var(--fill-color);\n",
       "    }\n",
       "    60% {\n",
       "      border-color: transparent;\n",
       "      border-right-color: var(--fill-color);\n",
       "    }\n",
       "    80% {\n",
       "      border-color: transparent;\n",
       "      border-right-color: var(--fill-color);\n",
       "      border-bottom-color: var(--fill-color);\n",
       "    }\n",
       "    90% {\n",
       "      border-color: transparent;\n",
       "      border-bottom-color: var(--fill-color);\n",
       "    }\n",
       "  }\n",
       "</style>\n",
       "\n",
       "  <script>\n",
       "    async function quickchart(key) {\n",
       "      const quickchartButtonEl =\n",
       "        document.querySelector('#' + key + ' button');\n",
       "      quickchartButtonEl.disabled = true;  // To prevent multiple clicks.\n",
       "      quickchartButtonEl.classList.add('colab-df-spinner');\n",
       "      try {\n",
       "        const charts = await google.colab.kernel.invokeFunction(\n",
       "            'suggestCharts', [key], {});\n",
       "      } catch (error) {\n",
       "        console.error('Error during call to suggestCharts:', error);\n",
       "      }\n",
       "      quickchartButtonEl.classList.remove('colab-df-spinner');\n",
       "      quickchartButtonEl.classList.add('colab-df-quickchart-complete');\n",
       "    }\n",
       "    (() => {\n",
       "      let quickchartButtonEl =\n",
       "        document.querySelector('#df-3cd5c5df-4e3d-4391-92bb-547d38a12eff button');\n",
       "      quickchartButtonEl.style.display =\n",
       "        google.colab.kernel.accessAllowed ? 'block' : 'none';\n",
       "    })();\n",
       "  </script>\n",
       "</div>\n",
       "    </div>\n",
       "  </div>\n"
      ],
      "text/plain": [
       "   changepoint_ranges       mape       mse     smape\n",
       "0                 0.4  25.688602  0.241784  0.241784\n",
       "1                 0.5  25.698447  0.240338  0.240338\n",
       "2                 0.3  25.808375  0.248770  0.248770\n",
       "3                 0.6  25.859919  0.237624  0.237624\n",
       "4                 0.8  25.869991  0.237559  0.237559\n",
       "5                 0.9  25.875110  0.237546  0.237546\n",
       "6                 0.7  26.084403  0.237030  0.237030\n",
       "7                 0.2  26.320567  0.263688  0.263688\n",
       "8                 0.1  27.525163  0.292182  0.292182"
      ]
     },
     "execution_count": 203,
     "metadata": {},
     "output_type": "execute_result"
    }
   ],
   "source": [
    "metrics = {\"mape\":[], \"mse\":[], \"smape\":[]}\n",
    "crs = [0.1, 0.2, 0.3, 0.4, 0.5, 0.6, 0.7, 0.8, 0.9]\n",
    "\n",
    "for cr in tqdm(crs, position=0, leave=True):\n",
    "    m = Prophet(changepoint_range=cr)\n",
    "    m.fit(df_train)\n",
    "\n",
    "    mse, mape, smape, _, _ = evaluate_model(m, df_val)\n",
    "    metrics['mse'] += [mse]\n",
    "    metrics['mape'] += [mape]\n",
    "    metrics['smape'] += [smape]\n",
    "\n",
    "\n",
    "print(f\"\\nBest changepoint_range: {crs[np.argmin(metrics['mape'])]}\")\n",
    "chose_changepoint_range_results = pd.DataFrame({\"changepoint_ranges\": crs})\n",
    "chose_changepoint_range_results = chose_changepoint_range_results.join(pd.DataFrame.from_dict(metrics))\n",
    "chose_changepoint_range_results.sort_values(\"mape\").reset_index(drop=True)"
   ]
  },
  {
   "cell_type": "markdown",
   "metadata": {
    "id": "L_FcS4rTnTEC"
   },
   "source": [
    "Automatic hyperparameter tuning by MSE metric:"
   ]
  },
  {
   "cell_type": "code",
   "execution_count": null,
   "metadata": {
    "colab": {
     "base_uri": "https://localhost:8080/",
     "height": 436
    },
    "executionInfo": {
     "elapsed": 83670,
     "status": "ok",
     "timestamp": 1697911239373,
     "user": {
      "displayName": "Павел Ломакин",
      "userId": "11833351585793642427"
     },
     "user_tz": -180
    },
    "id": "rpCdAENYnJYs",
    "outputId": "803f1d5c-8569-426b-f89f-2da806692235"
   },
   "outputs": [
    {
     "name": "stderr",
     "output_type": "stream",
     "text": [
      "  1%|          | 1/120 [01:23<2:45:14, 83.31s/it]\n"
     ]
    },
    {
     "ename": "KeyboardInterrupt",
     "evalue": "ignored",
     "output_type": "error",
     "traceback": [
      "\u001b[0;31m---------------------------------------------------------------------------\u001b[0m",
      "\u001b[0;31mKeyboardInterrupt\u001b[0m                         Traceback (most recent call last)",
      "\u001b[0;32m<timed exec>\u001b[0m in \u001b[0;36m<module>\u001b[0;34m\u001b[0m\n",
      "\u001b[0;32m/usr/local/lib/python3.10/dist-packages/prophet/forecaster.py\u001b[0m in \u001b[0;36mfit\u001b[0;34m(self, df, **kwargs)\u001b[0m\n\u001b[1;32m   1230\u001b[0m             \u001b[0mself\u001b[0m\u001b[0;34m.\u001b[0m\u001b[0mparams\u001b[0m \u001b[0;34m=\u001b[0m \u001b[0mself\u001b[0m\u001b[0;34m.\u001b[0m\u001b[0mstan_backend\u001b[0m\u001b[0;34m.\u001b[0m\u001b[0msampling\u001b[0m\u001b[0;34m(\u001b[0m\u001b[0mstan_init\u001b[0m\u001b[0;34m,\u001b[0m \u001b[0mdat\u001b[0m\u001b[0;34m,\u001b[0m \u001b[0mself\u001b[0m\u001b[0;34m.\u001b[0m\u001b[0mmcmc_samples\u001b[0m\u001b[0;34m,\u001b[0m \u001b[0;34m**\u001b[0m\u001b[0mkwargs\u001b[0m\u001b[0;34m)\u001b[0m\u001b[0;34m\u001b[0m\u001b[0;34m\u001b[0m\u001b[0m\n\u001b[1;32m   1231\u001b[0m         \u001b[0;32melse\u001b[0m\u001b[0;34m:\u001b[0m\u001b[0;34m\u001b[0m\u001b[0;34m\u001b[0m\u001b[0m\n\u001b[0;32m-> 1232\u001b[0;31m             \u001b[0mself\u001b[0m\u001b[0;34m.\u001b[0m\u001b[0mparams\u001b[0m \u001b[0;34m=\u001b[0m \u001b[0mself\u001b[0m\u001b[0;34m.\u001b[0m\u001b[0mstan_backend\u001b[0m\u001b[0;34m.\u001b[0m\u001b[0mfit\u001b[0m\u001b[0;34m(\u001b[0m\u001b[0mstan_init\u001b[0m\u001b[0;34m,\u001b[0m \u001b[0mdat\u001b[0m\u001b[0;34m,\u001b[0m \u001b[0;34m**\u001b[0m\u001b[0mkwargs\u001b[0m\u001b[0;34m)\u001b[0m\u001b[0;34m\u001b[0m\u001b[0;34m\u001b[0m\u001b[0m\n\u001b[0m\u001b[1;32m   1233\u001b[0m \u001b[0;34m\u001b[0m\u001b[0m\n\u001b[1;32m   1234\u001b[0m         \u001b[0mself\u001b[0m\u001b[0;34m.\u001b[0m\u001b[0mstan_fit\u001b[0m \u001b[0;34m=\u001b[0m \u001b[0mself\u001b[0m\u001b[0;34m.\u001b[0m\u001b[0mstan_backend\u001b[0m\u001b[0;34m.\u001b[0m\u001b[0mstan_fit\u001b[0m\u001b[0;34m\u001b[0m\u001b[0;34m\u001b[0m\u001b[0m\n",
      "\u001b[0;32m/usr/local/lib/python3.10/dist-packages/prophet/models.py\u001b[0m in \u001b[0;36mfit\u001b[0;34m(self, stan_init, stan_data, **kwargs)\u001b[0m\n\u001b[1;32m    119\u001b[0m \u001b[0;34m\u001b[0m\u001b[0m\n\u001b[1;32m    120\u001b[0m         \u001b[0;32mtry\u001b[0m\u001b[0;34m:\u001b[0m\u001b[0;34m\u001b[0m\u001b[0;34m\u001b[0m\u001b[0m\n\u001b[0;32m--> 121\u001b[0;31m             \u001b[0mself\u001b[0m\u001b[0;34m.\u001b[0m\u001b[0mstan_fit\u001b[0m \u001b[0;34m=\u001b[0m \u001b[0mself\u001b[0m\u001b[0;34m.\u001b[0m\u001b[0mmodel\u001b[0m\u001b[0;34m.\u001b[0m\u001b[0moptimize\u001b[0m\u001b[0;34m(\u001b[0m\u001b[0;34m**\u001b[0m\u001b[0margs\u001b[0m\u001b[0;34m)\u001b[0m\u001b[0;34m\u001b[0m\u001b[0;34m\u001b[0m\u001b[0m\n\u001b[0m\u001b[1;32m    122\u001b[0m         \u001b[0;32mexcept\u001b[0m \u001b[0mRuntimeError\u001b[0m \u001b[0;32mas\u001b[0m \u001b[0me\u001b[0m\u001b[0;34m:\u001b[0m\u001b[0;34m\u001b[0m\u001b[0;34m\u001b[0m\u001b[0m\n\u001b[1;32m    123\u001b[0m             \u001b[0;31m# Fall back on Newton\u001b[0m\u001b[0;34m\u001b[0m\u001b[0;34m\u001b[0m\u001b[0m\n",
      "\u001b[0;32m/usr/local/lib/python3.10/dist-packages/cmdstanpy/model.py\u001b[0m in \u001b[0;36moptimize\u001b[0;34m(self, data, seed, inits, output_dir, sig_figs, save_profile, algorithm, init_alpha, tol_obj, tol_rel_obj, tol_grad, tol_rel_grad, tol_param, history_size, iter, save_iterations, require_converged, show_console, refresh, time_fmt, timeout, jacobian)\u001b[0m\n\u001b[1;32m    679\u001b[0m             \u001b[0mdummy_chain_id\u001b[0m \u001b[0;34m=\u001b[0m \u001b[0;36m0\u001b[0m\u001b[0;34m\u001b[0m\u001b[0;34m\u001b[0m\u001b[0m\n\u001b[1;32m    680\u001b[0m             \u001b[0mrunset\u001b[0m \u001b[0;34m=\u001b[0m \u001b[0mRunSet\u001b[0m\u001b[0;34m(\u001b[0m\u001b[0margs\u001b[0m\u001b[0;34m=\u001b[0m\u001b[0margs\u001b[0m\u001b[0;34m,\u001b[0m \u001b[0mchains\u001b[0m\u001b[0;34m=\u001b[0m\u001b[0;36m1\u001b[0m\u001b[0;34m,\u001b[0m \u001b[0mtime_fmt\u001b[0m\u001b[0;34m=\u001b[0m\u001b[0mtime_fmt\u001b[0m\u001b[0;34m)\u001b[0m\u001b[0;34m\u001b[0m\u001b[0;34m\u001b[0m\u001b[0m\n\u001b[0;32m--> 681\u001b[0;31m             self._run_cmdstan(\n\u001b[0m\u001b[1;32m    682\u001b[0m                 \u001b[0mrunset\u001b[0m\u001b[0;34m,\u001b[0m\u001b[0;34m\u001b[0m\u001b[0;34m\u001b[0m\u001b[0m\n\u001b[1;32m    683\u001b[0m                 \u001b[0mdummy_chain_id\u001b[0m\u001b[0;34m,\u001b[0m\u001b[0;34m\u001b[0m\u001b[0;34m\u001b[0m\u001b[0m\n",
      "\u001b[0;32m/usr/local/lib/python3.10/dist-packages/cmdstanpy/model.py\u001b[0m in \u001b[0;36m_run_cmdstan\u001b[0;34m(self, runset, idx, show_progress, show_console, progress_hook, timeout)\u001b[0m\n\u001b[1;32m   2084\u001b[0m             \u001b[0;32mwhile\u001b[0m \u001b[0mproc\u001b[0m\u001b[0;34m.\u001b[0m\u001b[0mpoll\u001b[0m\u001b[0;34m(\u001b[0m\u001b[0;34m)\u001b[0m \u001b[0;32mis\u001b[0m \u001b[0;32mNone\u001b[0m\u001b[0;34m:\u001b[0m\u001b[0;34m\u001b[0m\u001b[0;34m\u001b[0m\u001b[0m\n\u001b[1;32m   2085\u001b[0m                 \u001b[0;32mif\u001b[0m \u001b[0mproc\u001b[0m\u001b[0;34m.\u001b[0m\u001b[0mstdout\u001b[0m \u001b[0;32mis\u001b[0m \u001b[0;32mnot\u001b[0m \u001b[0;32mNone\u001b[0m\u001b[0;34m:\u001b[0m\u001b[0;34m\u001b[0m\u001b[0;34m\u001b[0m\u001b[0m\n\u001b[0;32m-> 2086\u001b[0;31m                     \u001b[0mline\u001b[0m \u001b[0;34m=\u001b[0m \u001b[0mproc\u001b[0m\u001b[0;34m.\u001b[0m\u001b[0mstdout\u001b[0m\u001b[0;34m.\u001b[0m\u001b[0mreadline\u001b[0m\u001b[0;34m(\u001b[0m\u001b[0;34m)\u001b[0m\u001b[0;34m\u001b[0m\u001b[0;34m\u001b[0m\u001b[0m\n\u001b[0m\u001b[1;32m   2087\u001b[0m                     \u001b[0mfd_out\u001b[0m\u001b[0;34m.\u001b[0m\u001b[0mwrite\u001b[0m\u001b[0;34m(\u001b[0m\u001b[0mline\u001b[0m\u001b[0;34m)\u001b[0m\u001b[0;34m\u001b[0m\u001b[0;34m\u001b[0m\u001b[0m\n\u001b[1;32m   2088\u001b[0m                     \u001b[0mline\u001b[0m \u001b[0;34m=\u001b[0m \u001b[0mline\u001b[0m\u001b[0;34m.\u001b[0m\u001b[0mstrip\u001b[0m\u001b[0;34m(\u001b[0m\u001b[0;34m)\u001b[0m\u001b[0;34m\u001b[0m\u001b[0;34m\u001b[0m\u001b[0m\n",
      "\u001b[0;31mKeyboardInterrupt\u001b[0m: "
     ]
    }
   ],
   "source": [
    "%%time\n",
    "metrics = {\"mape\":[], \"mse\":[], \"smape\":[]}\n",
    "\n",
    "# Set up parameter grid\n",
    "param_grid = {\n",
    "    'changepoint_prior_scale': [0.01, 0.05, 0.1],\n",
    "    'seasonality_prior_scale': [8, 9, 10, 11, 12],\n",
    "    'seasonality_mode': ['additive', 'multiplicative'],\n",
    "    'n_changepoints' : [25, 50, 100, 150],\n",
    "}\n",
    "# Generate all combinations of parameters\n",
    "all_params = [dict(zip(param_grid.keys(), v)) for v in itertools.product(*param_grid.values())]\n",
    "# Create a list to store MAPE values for each combination\n",
    "mses = []\n",
    "\n",
    "for params in tqdm(all_params, position=0, leave=True):\n",
    "    # Fit a model using one parameter combination\n",
    "    m = Prophet(**params, changepoint_range=0.4)\n",
    "    m.fit(df_train)\n",
    "\n",
    "    mse, mape, smape, _, _ = evaluate_model(m, df_val)\n",
    "    metrics['mse'] += [mse]\n",
    "    metrics['mape'] += [mape]\n",
    "    metrics['smape'] += [smape]\n",
    "\n",
    "best_params = all_params[np.argmin(metrics['mape'])]\n",
    "print(\"\\nBest params: \", best_params)\n",
    "\n",
    "tuning_results = pd.DataFrame(all_params)\n",
    "tuning_results = tuning_results.join(pd.DataFrame.from_dict(metrics))\n",
    "tuning_results.sort_values(\"mape\").reset_index(drop=True)"
   ]
  },
  {
   "cell_type": "markdown",
   "metadata": {
    "id": "ZbKF4ywvnsaT"
   },
   "source": [
    "Fit model with tuned parameters:"
   ]
  },
  {
   "cell_type": "code",
   "execution_count": 28,
   "metadata": {
    "ExecuteTime": {
     "end_time": "2023-10-24T15:08:52.841131Z",
     "start_time": "2023-10-24T15:07:50.850239Z"
    },
    "colab": {
     "base_uri": "https://localhost:8080/"
    },
    "executionInfo": {
     "elapsed": 69024,
     "status": "ok",
     "timestamp": 1697911379872,
     "user": {
      "displayName": "Павел Ломакин",
      "userId": "11833351585793642427"
     },
     "user_tz": -180
    },
    "id": "U3A3XaY8nqi8",
    "outputId": "cf18464f-eea3-44ef-9639-57e6aeeaa00f"
   },
   "outputs": [
    {
     "name": "stdout",
     "output_type": "stream",
     "text": [
      "mse: 0.37156338662120303, mape: 55.985011979651425, smape: 19.941564792284588\n"
     ]
    }
   ],
   "source": [
    "tuned_model = Prophet(changepoint_range=0.4, changepoint_prior_scale=0.005, seasonality_prior_scale=10, seasonality_mode='additive')\n",
    "tuned_model.fit(df_train)\n",
    "\n",
    "mse, mape, smape, actuals, predictions = evaluate_model(tuned_model, df_test)\n",
    "\n",
    "print(f'mse: {mse}, mape: {mape}, smape: {smape}')"
   ]
  },
  {
   "cell_type": "code",
   "execution_count": 31,
   "metadata": {
    "ExecuteTime": {
     "end_time": "2023-10-24T15:09:34.815144Z",
     "start_time": "2023-10-24T15:09:34.680437Z"
    },
    "colab": {
     "base_uri": "https://localhost:8080/",
     "height": 430
    },
    "executionInfo": {
     "elapsed": 1335,
     "status": "ok",
     "timestamp": 1697911596795,
     "user": {
      "displayName": "Павел Ломакин",
      "userId": "11833351585793642427"
     },
     "user_tz": -180
    },
    "id": "9jDwtlITIom3",
    "outputId": "6416ead4-1d07-437e-ac77-1ddddbc2381f"
   },
   "outputs": [
    {
     "data": {
      "image/png": "[encoded data removed]",
      "text/plain": [
       "<Figure size 432x288 with 1 Axes>"
      ]
     },
     "metadata": {
      "needs_background": "light"
     },
     "output_type": "display_data"
    }
   ],
   "source": [
    "plt.plot(actuals[-5000:-4800], label='Test', linewidth=1)\n",
    "plt.plot(predictions[-5000:-4800], label='Predicted', linewidth=1)\n",
    "plt.legend()\n",
    "plt.show()"
   ]
  },
  {
   "cell_type": "code",
   "execution_count": null,
   "metadata": {
    "id": "-vBZObZ6-g5b"
   },
   "outputs": [],
   "source": [
    "from prophet.serialize import model_to_json, model_from_json\n",
    "\n",
    "with open('serialized_model.json', 'w') as fout:\n",
    "    fout.write(model_to_json(tuned_model))  # Save model"
   ]
  },
  {
   "cell_type": "code",
   "execution_count": null,
   "metadata": {
    "id": "rzwI15LOPxD9"
   },
   "outputs": [],
   "source": []
  }
 ],
 "metadata": {
  "colab": {
   "provenance": [
    {
     "file_id": "https://github.com/OkoksNeDam/GeoinformationDataAnalysis/blob/main/GeoinformationDataAnalysis/prophet.ipynb",
     "timestamp": 1696246551032
    }
   ]
  },
  "kernelspec": {
   "display_name": "Python 3 (ipykernel)",
   "language": "python",
   "name": "python3"
  },
  "language_info": {
   "codemirror_mode": {
    "name": "ipython",
    "version": 3
   },
   "file_extension": ".py",
   "mimetype": "text/x-python",
   "name": "python",
   "nbconvert_exporter": "python",
   "pygments_lexer": "ipython3",
   "version": "3.9.12"
  },
  "nbTranslate": {
   "displayLangs": [
    "*"
   ],
   "hotkey": "alt-t",
   "langInMainMenu": true,
   "sourceLang": "en",
   "targetLang": "fr",
   "useGoogleTranslate": true
  },
  "toc": {
   "base_numbering": 1,
   "nav_menu": {},
   "number_sections": true,
   "sideBar": true,
   "skip_h1_title": false,
   "title_cell": "Table of Contents",
   "title_sidebar": "Contents",
   "toc_cell": false,
   "toc_position": {},
   "toc_section_display": true,
   "toc_window_display": false
  },
  "varInspector": {
   "cols": {
    "lenName": 16,
    "lenType": 16,
    "lenVar": 40
   },
   "kernels_config": {
    "python": {
     "delete_cmd_postfix": "",
     "delete_cmd_prefix": "del ",
     "library": "var_list.py",
     "varRefreshCmd": "print(var_dic_list())"
    },
    "r": {
     "delete_cmd_postfix": ") ",
     "delete_cmd_prefix": "rm(",
     "library": "var_list.r",
     "varRefreshCmd": "cat(var_dic_list()) "
    }
   },
   "types_to_exclude": [
    "module",
    "function",
    "builtin_function_or_method",
    "instance",
    "_Feature"
   ],
   "window_display": false
  }
 },
 "nbformat": 4,
 "nbformat_minor": 1
}
