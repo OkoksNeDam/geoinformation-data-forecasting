{
 "cells": [
  {
   "cell_type": "markdown",
   "metadata": {
    "id": "5Y9NkLLkUVvM"
   },
   "source": [
    "# Forecasting data from magnetometer stations with Prophet library."
   ]
  },
  {
   "cell_type": "markdown",
   "metadata": {
    "id": "GKblxXs_UZ6p"
   },
   "source": [
    "## Install libraries."
   ]
  },
  {
   "cell_type": "code",
   "execution_count": 2,
   "metadata": {
    "ExecuteTime": {
     "end_time": "2023-10-24T12:19:15.348001Z",
     "start_time": "2023-10-24T12:19:15.345698Z"
    },
    "colab": {
     "base_uri": "https://localhost:8080/",
     "height": 1000
    },
    "executionInfo": {
     "elapsed": 219731,
     "status": "ok",
     "timestamp": 1698133282541,
     "user": {
      "displayName": "Павел Ломакин",
      "userId": "11833351585793642427"
     },
     "user_tz": -180
    },
    "id": "Ftb4loG95mqK",
    "outputId": "de5bc459-a734-49f0-972d-6a7b897e2b86"
   },
   "outputs": [],
   "source": [
    "# !pip install -r requirements.txt"
   ]
  },
  {
   "cell_type": "markdown",
   "metadata": {
    "id": "EzKPYgEAVXYh"
   },
   "source": [
    "## Import necessary libraries and set up the environment."
   ]
  },
  {
   "cell_type": "code",
   "execution_count": 1,
   "metadata": {
    "ExecuteTime": {
     "end_time": "2023-11-03T12:30:03.964330Z",
     "start_time": "2023-11-03T12:30:02.408176Z"
    },
    "id": "t_TOwK1YvvSN"
   },
   "outputs": [],
   "source": [
    "import prophet\n",
    "from prophet import Prophet\n",
    "from prophet.plot import plot_plotly, add_changepoints_to_plot\n",
    "from prophet.diagnostics import cross_validation\n",
    "from prophet.diagnostics import performance_metrics"
   ]
  },
  {
   "cell_type": "code",
   "execution_count": 2,
   "metadata": {
    "ExecuteTime": {
     "end_time": "2023-11-03T12:30:04.892217Z",
     "start_time": "2023-11-03T12:30:03.976738Z"
    },
    "id": "KwDfIuz6ye7h"
   },
   "outputs": [],
   "source": [
    "import numpy as np\n",
    "import pandas as pd\n",
    "import matplotlib.pyplot as plt\n",
    "import seaborn as sns\n",
    "import datetime\n",
    "import plotly.offline as py\n",
    "import itertools\n",
    "from sklearn.metrics import mean_squared_error, mean_absolute_percentage_error\n",
    "from sklearn.preprocessing import StandardScaler\n",
    "\n",
    "from tqdm import tqdm\n",
    "\n",
    "from sklearn.impute import KNNImputer"
   ]
  },
  {
   "cell_type": "code",
   "execution_count": 4,
   "metadata": {
    "ExecuteTime": {
     "end_time": "2023-11-03T12:30:18.925140Z",
     "start_time": "2023-11-03T12:30:18.921278Z"
    },
    "colab": {
     "base_uri": "https://localhost:8080/",
     "height": 589
    },
    "executionInfo": {
     "elapsed": 7332,
     "status": "error",
     "timestamp": 1698133289867,
     "user": {
      "displayName": "Павел Ломакин",
      "userId": "11833351585793642427"
     },
     "user_tz": -180
    },
    "id": "ZQswUGAmYSvG",
    "outputId": "3f149b3e-4847-4b85-a0b6-85337ae3f717"
   },
   "outputs": [],
   "source": [
    "from etna.analysis import (cross_corr_plot, distribution_plot, plot_anomalies,\n",
    "                           plot_anomalies_interactive, plot_backtest,\n",
    "                           plot_correlation_matrix, plot_forecast)\n",
    "from etna.analysis.outliers import (get_anomalies_density, get_anomalies_hist,\n",
    "                                    get_anomalies_median,\n",
    "                                    get_anomalies_prediction_interval)\n",
    "from etna.transforms import (DateFlagsTransform, FilterFeaturesTransform,\n",
    "                             HolidayTransform, LagTransform,\n",
    "                             LinearTrendTransform, LogTransform, MeanTransform,\n",
    "                             MedianOutliersTransform, SegmentEncoderTransform,\n",
    "                             TimeSeriesImputerTransform)\n",
    "from etna.datasets import TSDataset"
   ]
  },
  {
   "cell_type": "markdown",
   "metadata": {
    "id": "4oaFP0gdba9X"
   },
   "source": [
    "Disable logger outputs from Prophet and cmdstanpy:"
   ]
  },
  {
   "cell_type": "code",
   "execution_count": 5,
   "metadata": {
    "ExecuteTime": {
     "end_time": "2023-11-03T12:30:20.645769Z",
     "start_time": "2023-11-03T12:30:20.642087Z"
    },
    "id": "JUQP2GkmbZs8"
   },
   "outputs": [],
   "source": [
    "import logging\n",
    "\n",
    "logger = logging.getLogger('cmdstanpy')\n",
    "logger.addHandler(logging.NullHandler())\n",
    "logger.propagate = False\n",
    "logger.setLevel(logging.CRITICAL)\n",
    "\n",
    "logging.getLogger('prophet').setLevel(logging.WARNING)"
   ]
  },
  {
   "cell_type": "markdown",
   "metadata": {
    "id": "k3sOp68lW6zL"
   },
   "source": [
    "## Data processing and review."
   ]
  },
  {
   "cell_type": "code",
   "execution_count": 6,
   "metadata": {
    "ExecuteTime": {
     "end_time": "2023-11-03T12:30:21.603083Z",
     "start_time": "2023-11-03T12:30:21.278385Z"
    },
    "id": "pgaMP4T3VSCt"
   },
   "outputs": [
    {
     "data": {
      "text/html": [
       "<div>\n",
       "<style scoped>\n",
       "    .dataframe tbody tr th:only-of-type {\n",
       "        vertical-align: middle;\n",
       "    }\n",
       "\n",
       "    .dataframe tbody tr th {\n",
       "        vertical-align: top;\n",
       "    }\n",
       "\n",
       "    .dataframe thead th {\n",
       "        text-align: right;\n",
       "    }\n",
       "</style>\n",
       "<table border=\"1\" class=\"dataframe\">\n",
       "  <thead>\n",
       "    <tr style=\"text-align: right;\">\n",
       "      <th></th>\n",
       "      <th>YYYY</th>\n",
       "      <th>MM</th>\n",
       "      <th>DD</th>\n",
       "      <th>HH</th>\n",
       "      <th>mm</th>\n",
       "      <th>SS</th>\n",
       "      <th>KEV_Y</th>\n",
       "    </tr>\n",
       "  </thead>\n",
       "  <tbody>\n",
       "    <tr>\n",
       "      <th>0</th>\n",
       "      <td>1983</td>\n",
       "      <td>1</td>\n",
       "      <td>4</td>\n",
       "      <td>1</td>\n",
       "      <td>0</td>\n",
       "      <td>0</td>\n",
       "      <td>NaN</td>\n",
       "    </tr>\n",
       "    <tr>\n",
       "      <th>1</th>\n",
       "      <td>1983</td>\n",
       "      <td>1</td>\n",
       "      <td>4</td>\n",
       "      <td>2</td>\n",
       "      <td>0</td>\n",
       "      <td>0</td>\n",
       "      <td>NaN</td>\n",
       "    </tr>\n",
       "    <tr>\n",
       "      <th>2</th>\n",
       "      <td>1983</td>\n",
       "      <td>1</td>\n",
       "      <td>4</td>\n",
       "      <td>3</td>\n",
       "      <td>0</td>\n",
       "      <td>0</td>\n",
       "      <td>NaN</td>\n",
       "    </tr>\n",
       "    <tr>\n",
       "      <th>3</th>\n",
       "      <td>1983</td>\n",
       "      <td>1</td>\n",
       "      <td>4</td>\n",
       "      <td>4</td>\n",
       "      <td>0</td>\n",
       "      <td>0</td>\n",
       "      <td>NaN</td>\n",
       "    </tr>\n",
       "    <tr>\n",
       "      <th>4</th>\n",
       "      <td>1983</td>\n",
       "      <td>1</td>\n",
       "      <td>4</td>\n",
       "      <td>5</td>\n",
       "      <td>0</td>\n",
       "      <td>0</td>\n",
       "      <td>NaN</td>\n",
       "    </tr>\n",
       "  </tbody>\n",
       "</table>\n",
       "</div>"
      ],
      "text/plain": [
       "   YYYY  MM  DD  HH  mm  SS  KEV_Y\n",
       "0  1983   1   4   1   0   0    NaN\n",
       "1  1983   1   4   2   0   0    NaN\n",
       "2  1983   1   4   3   0   0    NaN\n",
       "3  1983   1   4   4   0   0    NaN\n",
       "4  1983   1   4   5   0   0    NaN"
      ]
     },
     "execution_count": 6,
     "metadata": {},
     "output_type": "execute_result"
    }
   ],
   "source": [
    "original_df = pd.read_csv(\"data/main_row_data.text\", sep='\\s+', na_values=99999.9)[['YYYY', 'MM', 'DD', 'HH', 'MM.1', 'SS', 'KEV_Y']]\n",
    "original_df.rename(columns={\"MM.1\": \"mm\"}, inplace=True)\n",
    "original_df.head()"
   ]
  },
  {
   "cell_type": "markdown",
   "metadata": {
    "id": "mhzbJ-TWOFYS"
   },
   "source": [
    "Fill missing dates"
   ]
  },
  {
   "cell_type": "code",
   "execution_count": 7,
   "metadata": {
    "ExecuteTime": {
     "end_time": "2023-11-03T12:30:36.435075Z",
     "start_time": "2023-11-03T12:30:22.756435Z"
    },
    "id": "wRl3OlqO2Tf3"
   },
   "outputs": [],
   "source": [
    "original_df.insert(0, 'date', original_df.apply(lambda x: datetime.datetime(int(x.YYYY), int(x.MM), int(x.DD), int(x.HH), int(x.mm), int(x.SS)), axis=1))\n",
    "original_df.drop(columns=['YYYY', 'MM', 'DD', 'HH', 'mm', 'SS'], inplace=True)\n",
    "original_df.set_index('date', inplace=True)\n",
    "original_df = original_df.asfreq('H').reset_index()"
   ]
  },
  {
   "cell_type": "code",
   "execution_count": 8,
   "metadata": {
    "ExecuteTime": {
     "end_time": "2023-11-03T12:30:42.942529Z",
     "start_time": "2023-11-03T12:30:42.919724Z"
    },
    "id": "o6v80R-n5cNv"
   },
   "outputs": [
    {
     "data": {
      "text/html": [
       "<div>\n",
       "<style scoped>\n",
       "    .dataframe tbody tr th:only-of-type {\n",
       "        vertical-align: middle;\n",
       "    }\n",
       "\n",
       "    .dataframe tbody tr th {\n",
       "        vertical-align: top;\n",
       "    }\n",
       "\n",
       "    .dataframe thead th {\n",
       "        text-align: right;\n",
       "    }\n",
       "</style>\n",
       "<table border=\"1\" class=\"dataframe\">\n",
       "  <thead>\n",
       "    <tr style=\"text-align: right;\">\n",
       "      <th></th>\n",
       "      <th>date</th>\n",
       "      <th>KEV_Y</th>\n",
       "    </tr>\n",
       "  </thead>\n",
       "  <tbody>\n",
       "    <tr>\n",
       "      <th>3969</th>\n",
       "      <td>1983-06-18 10:00:00</td>\n",
       "      <td>1292.5</td>\n",
       "    </tr>\n",
       "    <tr>\n",
       "      <th>3970</th>\n",
       "      <td>1983-06-18 11:00:00</td>\n",
       "      <td>1282.6</td>\n",
       "    </tr>\n",
       "    <tr>\n",
       "      <th>3971</th>\n",
       "      <td>1983-06-18 12:00:00</td>\n",
       "      <td>1268.7</td>\n",
       "    </tr>\n",
       "    <tr>\n",
       "      <th>3972</th>\n",
       "      <td>1983-06-18 13:00:00</td>\n",
       "      <td>1232.4</td>\n",
       "    </tr>\n",
       "    <tr>\n",
       "      <th>3973</th>\n",
       "      <td>1983-06-18 14:00:00</td>\n",
       "      <td>1284.1</td>\n",
       "    </tr>\n",
       "  </tbody>\n",
       "</table>\n",
       "</div>"
      ],
      "text/plain": [
       "                    date   KEV_Y\n",
       "3969 1983-06-18 10:00:00  1292.5\n",
       "3970 1983-06-18 11:00:00  1282.6\n",
       "3971 1983-06-18 12:00:00  1268.7\n",
       "3972 1983-06-18 13:00:00  1232.4\n",
       "3973 1983-06-18 14:00:00  1284.1"
      ]
     },
     "execution_count": 8,
     "metadata": {},
     "output_type": "execute_result"
    }
   ],
   "source": [
    "original_df[original_df.KEV_Y.notnull()].head()"
   ]
  },
  {
   "cell_type": "markdown",
   "metadata": {
    "id": "E8ro0NDaYUTF"
   },
   "source": [
    "Convert data to a format necessary for the Prophet library:"
   ]
  },
  {
   "cell_type": "code",
   "execution_count": 9,
   "metadata": {
    "ExecuteTime": {
     "end_time": "2023-11-03T12:30:45.041048Z",
     "start_time": "2023-11-03T12:30:45.023273Z"
    },
    "id": "wn1vpyICHnC5"
   },
   "outputs": [
    {
     "data": {
      "text/html": [
       "<div>\n",
       "<style scoped>\n",
       "    .dataframe tbody tr th:only-of-type {\n",
       "        vertical-align: middle;\n",
       "    }\n",
       "\n",
       "    .dataframe tbody tr th {\n",
       "        vertical-align: top;\n",
       "    }\n",
       "\n",
       "    .dataframe thead th {\n",
       "        text-align: right;\n",
       "    }\n",
       "</style>\n",
       "<table border=\"1\" class=\"dataframe\">\n",
       "  <thead>\n",
       "    <tr style=\"text-align: right;\">\n",
       "      <th></th>\n",
       "      <th>ds</th>\n",
       "      <th>y</th>\n",
       "    </tr>\n",
       "  </thead>\n",
       "  <tbody>\n",
       "    <tr>\n",
       "      <th>0</th>\n",
       "      <td>1983-01-04 01:00:00</td>\n",
       "      <td>NaN</td>\n",
       "    </tr>\n",
       "    <tr>\n",
       "      <th>1</th>\n",
       "      <td>1983-01-04 02:00:00</td>\n",
       "      <td>NaN</td>\n",
       "    </tr>\n",
       "    <tr>\n",
       "      <th>2</th>\n",
       "      <td>1983-01-04 03:00:00</td>\n",
       "      <td>NaN</td>\n",
       "    </tr>\n",
       "    <tr>\n",
       "      <th>3</th>\n",
       "      <td>1983-01-04 04:00:00</td>\n",
       "      <td>NaN</td>\n",
       "    </tr>\n",
       "    <tr>\n",
       "      <th>4</th>\n",
       "      <td>1983-01-04 05:00:00</td>\n",
       "      <td>NaN</td>\n",
       "    </tr>\n",
       "  </tbody>\n",
       "</table>\n",
       "</div>"
      ],
      "text/plain": [
       "                   ds   y\n",
       "0 1983-01-04 01:00:00 NaN\n",
       "1 1983-01-04 02:00:00 NaN\n",
       "2 1983-01-04 03:00:00 NaN\n",
       "3 1983-01-04 04:00:00 NaN\n",
       "4 1983-01-04 05:00:00 NaN"
      ]
     },
     "execution_count": 9,
     "metadata": {},
     "output_type": "execute_result"
    }
   ],
   "source": [
    "df = original_df.rename(columns={'date': 'ds',\n",
    "                                'KEV_Y': 'y'})\n",
    "df.ds = pd.to_datetime(df.ds, format='%Y-%m-%d %H:%M:%S')\n",
    "df.head()"
   ]
  },
  {
   "cell_type": "markdown",
   "metadata": {
    "id": "FlH23MX20qns"
   },
   "source": [
    "Amount of data:"
   ]
  },
  {
   "cell_type": "code",
   "execution_count": 10,
   "metadata": {
    "ExecuteTime": {
     "end_time": "2023-11-03T12:30:45.850199Z",
     "start_time": "2023-11-03T12:30:45.846332Z"
    },
    "id": "vdMjgaMD0qEc"
   },
   "outputs": [
    {
     "data": {
      "text/plain": [
       "(357359, 2)"
      ]
     },
     "execution_count": 10,
     "metadata": {},
     "output_type": "execute_result"
    }
   ],
   "source": [
    "df.shape"
   ]
  },
  {
   "cell_type": "markdown",
   "metadata": {
    "id": "PeqT_cphZgip"
   },
   "source": [
    "What raw time series data looks like. Data before 2003 is not of very good quality, so we will not use it:"
   ]
  },
  {
   "cell_type": "code",
   "execution_count": 11,
   "metadata": {
    "ExecuteTime": {
     "end_time": "2023-11-03T12:30:46.913802Z",
     "start_time": "2023-11-03T12:30:46.478528Z"
    },
    "id": "z10ra9s8J_R8"
   },
   "outputs": [
    {
     "data": {
      "image/png": "[encoded data removed]",
      "text/plain": [
       "<Figure size 720x720 with 2 Axes>"
      ]
     },
     "metadata": {
      "needs_background": "light"
     },
     "output_type": "display_data"
    }
   ],
   "source": [
    "fig, (ax1, ax2) = plt.subplots(2, figsize=(10, 10))\n",
    "fig.tight_layout(pad=5.0)\n",
    "ax1.plot(df.ds, df.y)\n",
    "ax1.set_title('Y component from station KEV (hourly)')\n",
    "ax2.plot(df.resample('1D', on='ds').mean().reset_index().ds, df.resample('1D', on='ds').mean().y)\n",
    "ax2.set_title('Y component from station KEV (daily)')\n",
    "plt.show()"
   ]
  },
  {
   "cell_type": "code",
   "execution_count": 12,
   "metadata": {
    "ExecuteTime": {
     "end_time": "2023-11-03T12:30:48.885182Z",
     "start_time": "2023-11-03T12:30:48.873220Z"
    }
   },
   "outputs": [],
   "source": [
    "df = df[df.ds > datetime.datetime.strptime('2003-01-01 00:00:00', '%Y-%m-%d %H:%M:%S')].reset_index(drop=True)"
   ]
  },
  {
   "cell_type": "code",
   "execution_count": 13,
   "metadata": {
    "ExecuteTime": {
     "end_time": "2023-11-03T12:30:49.460401Z",
     "start_time": "2023-11-03T12:30:49.453547Z"
    }
   },
   "outputs": [
    {
     "data": {
      "text/html": [
       "<div>\n",
       "<style scoped>\n",
       "    .dataframe tbody tr th:only-of-type {\n",
       "        vertical-align: middle;\n",
       "    }\n",
       "\n",
       "    .dataframe tbody tr th {\n",
       "        vertical-align: top;\n",
       "    }\n",
       "\n",
       "    .dataframe thead th {\n",
       "        text-align: right;\n",
       "    }\n",
       "</style>\n",
       "<table border=\"1\" class=\"dataframe\">\n",
       "  <thead>\n",
       "    <tr style=\"text-align: right;\">\n",
       "      <th></th>\n",
       "      <th>ds</th>\n",
       "      <th>y</th>\n",
       "    </tr>\n",
       "  </thead>\n",
       "  <tbody>\n",
       "    <tr>\n",
       "      <th>0</th>\n",
       "      <td>2003-01-01 01:00:00</td>\n",
       "      <td>1824.7</td>\n",
       "    </tr>\n",
       "    <tr>\n",
       "      <th>1</th>\n",
       "      <td>2003-01-01 02:00:00</td>\n",
       "      <td>1823.6</td>\n",
       "    </tr>\n",
       "    <tr>\n",
       "      <th>2</th>\n",
       "      <td>2003-01-01 03:00:00</td>\n",
       "      <td>1814.7</td>\n",
       "    </tr>\n",
       "    <tr>\n",
       "      <th>3</th>\n",
       "      <td>2003-01-01 04:00:00</td>\n",
       "      <td>1816.8</td>\n",
       "    </tr>\n",
       "    <tr>\n",
       "      <th>4</th>\n",
       "      <td>2003-01-01 05:00:00</td>\n",
       "      <td>1816.4</td>\n",
       "    </tr>\n",
       "  </tbody>\n",
       "</table>\n",
       "</div>"
      ],
      "text/plain": [
       "                   ds       y\n",
       "0 2003-01-01 01:00:00  1824.7\n",
       "1 2003-01-01 02:00:00  1823.6\n",
       "2 2003-01-01 03:00:00  1814.7\n",
       "3 2003-01-01 04:00:00  1816.8\n",
       "4 2003-01-01 05:00:00  1816.4"
      ]
     },
     "execution_count": 13,
     "metadata": {},
     "output_type": "execute_result"
    }
   ],
   "source": [
    "df.head()"
   ]
  },
  {
   "cell_type": "markdown",
   "metadata": {
    "id": "rKD2aVcLd6gV"
   },
   "source": [
    "Train and test split:"
   ]
  },
  {
   "cell_type": "code",
   "execution_count": 14,
   "metadata": {
    "ExecuteTime": {
     "end_time": "2023-11-03T12:30:55.075144Z",
     "start_time": "2023-11-03T12:30:55.068284Z"
    },
    "id": "NJNHp8RqZCaL"
   },
   "outputs": [
    {
     "data": {
      "text/plain": [
       "((145688, 2), (18211, 2), (18212, 2))"
      ]
     },
     "execution_count": 14,
     "metadata": {},
     "output_type": "execute_result"
    }
   ],
   "source": [
    "train_size = int(df.shape[0] * 0.8)\n",
    "test_size = df.shape[0] - train_size\n",
    "\n",
    "df_train = df[:train_size].copy(deep=True)\n",
    "df_val = df[train_size:int(train_size + test_size / 2)].copy(deep=True)\n",
    "df_test = df[int(train_size + test_size / 2):].copy(deep=True)\n",
    "\n",
    "df_train.shape, df_val.shape, df_test.shape"
   ]
  },
  {
   "cell_type": "code",
   "execution_count": 15,
   "metadata": {
    "ExecuteTime": {
     "end_time": "2023-11-03T12:30:56.888235Z",
     "start_time": "2023-11-03T12:30:56.880352Z"
    },
    "id": "h_676ur_Nhgb"
   },
   "outputs": [],
   "source": [
    "def fill_missing_values(dataframe, method):\n",
    "    dataframe = dataframe.copy(deep=True)\n",
    "    if method == 'default':\n",
    "        return dataframe\n",
    "    # fill with mean.\n",
    "    if method == 'mean':\n",
    "        return dataframe.fillna(dataframe.mean(numeric_only=True).round(1))\n",
    "    # fill with median.\n",
    "    if method == 'median':\n",
    "        return dataframe.fillna(dataframe.median(numeric_only=True).round(1))\n",
    "    # if there are nan left, fill with bfill.\n",
    "    if method == 'ffill':\n",
    "        return dataframe.fillna(method=method).fillna(method='bfill')\n",
    "    # filling occurs with next values.\n",
    "    # if there are nan left, fill with ffill.\n",
    "    if method == 'bfill':\n",
    "        return dataframe.fillna(method=method).fillna(method='ffill')\n",
    "    # fill with backward interpolation.\n",
    "    # if there are nan left, fill with forward.\n",
    "    if method == 'interpolate_backward':\n",
    "        return dataframe.apply(lambda col: col.interpolate(method ='linear', limit_direction ='backward')\n",
    "                                              .interpolate(method ='linear', limit_direction ='forward') if col.name != \"ds\" else col)\n",
    "    # fill with forward interpolation.\n",
    "    # if there are nan left, fill with backward.\n",
    "    if method == 'interpolate_forward':\n",
    "        return dataframe.apply(lambda col: col.interpolate(method ='linear', limit_direction ='forward')\n",
    "                                              .interpolate(method ='linear', limit_direction ='backward') if col.name != \"ds\" else col)\n",
    "    # fill with knn method.\n",
    "    if method == 'knn':\n",
    "        imputer = KNNImputer(n_neighbors=15)\n",
    "        dataframe = dataframe.apply(lambda col: imputer.fit_transform(col.to_numpy().reshape(-1, 1)).T[0] if col.name != \"ds\" else col)\n",
    "        return dataframe\n",
    "\n",
    "    return dataframe"
   ]
  },
  {
   "cell_type": "markdown",
   "metadata": {
    "id": "RpoaywCEBik2"
   },
   "source": [
    "Functions for smape and mse metrics:"
   ]
  },
  {
   "cell_type": "code",
   "execution_count": 16,
   "metadata": {
    "ExecuteTime": {
     "end_time": "2023-11-03T12:30:58.907349Z",
     "start_time": "2023-11-03T12:30:58.902776Z"
    },
    "id": "Ai3FpUiiBY9S"
   },
   "outputs": [],
   "source": [
    "def calc_smape(actual, predicted) -> float: \n",
    "  \n",
    "    # Convert actual and predicted to numpy \n",
    "    # array data type if not already \n",
    "    if not all([isinstance(actual, np.ndarray),  \n",
    "                isinstance(predicted, np.ndarray)]): \n",
    "        actual, predicted = np.array(actual), np.array(predicted) \n",
    "  \n",
    "    return np.mean(np.abs(predicted - actual) / ((np.abs(predicted) + np.abs(actual)) / 2) ) * 100\n",
    "def calc_mse(y_true, y_pred):\n",
    "    y_true = np.array(y_true)\n",
    "    y_pred = np.array(y_pred)\n",
    "    return np.nanmean((y_true - y_pred) ** 2)"
   ]
  },
  {
   "cell_type": "markdown",
   "metadata": {
    "id": "3iBb4GtJEHBc"
   },
   "source": [
    "Function that evaluates model and finds mse, mape and smape metrics:"
   ]
  },
  {
   "cell_type": "code",
   "execution_count": 17,
   "metadata": {
    "ExecuteTime": {
     "end_time": "2023-11-03T12:30:59.690121Z",
     "start_time": "2023-11-03T12:30:59.685894Z"
    },
    "id": "ubxr_QyS97Nv"
   },
   "outputs": [],
   "source": [
    "def evaluate_model(model, df_test):\n",
    "    future = df_test[['ds']]\n",
    "    forecast = model.predict(future)\n",
    "\n",
    "    predictions = forecast.iloc[-len(df_test):]['yhat']\n",
    "    actuals = df_test['y']\n",
    "\n",
    "    mse = round(calc_mse(actuals, predictions), 4)\n",
    "    mape = round(mean_absolute_percentage_error(actuals, predictions) * 100, 4)\n",
    "    smape = round(calc_smape(actuals, predictions), 4)\n",
    "\n",
    "    return mse, mape, smape, list(actuals), list(predictions)"
   ]
  },
  {
   "cell_type": "markdown",
   "metadata": {
    "id": "ycs3RuIcFauD"
   },
   "source": [
    "Find best method (by mse metric) for filling missing values:"
   ]
  },
  {
   "cell_type": "code",
   "execution_count": 79,
   "metadata": {
    "ExecuteTime": {
     "end_time": "2023-11-02T13:40:09.477881Z",
     "start_time": "2023-11-02T13:28:17.522298Z"
    },
    "colab": {
     "base_uri": "https://localhost:8080/",
     "height": 224
    },
    "executionInfo": {
     "elapsed": 45656,
     "status": "ok",
     "timestamp": 1697807551420,
     "user": {
      "displayName": "Павел Ломакин",
      "userId": "11833351585793642427"
     },
     "user_tz": -180
    },
    "id": "NhrT2DawFMut",
    "outputId": "e7db94b4-2d15-4925-bc0e-25a9e9ee6caa"
   },
   "outputs": [
    {
     "name": "stderr",
     "output_type": "stream",
     "text": [
      "100%|█████████████████████████████████████████████| 8/8 [11:51<00:00, 88.99s/it]"
     ]
    },
    {
     "name": "stdout",
     "output_type": "stream",
     "text": [
      "\n",
      "Best method: ffill\n"
     ]
    },
    {
     "name": "stderr",
     "output_type": "stream",
     "text": [
      "\n"
     ]
    },
    {
     "data": {
      "text/html": [
       "<div>\n",
       "<style scoped>\n",
       "    .dataframe tbody tr th:only-of-type {\n",
       "        vertical-align: middle;\n",
       "    }\n",
       "\n",
       "    .dataframe tbody tr th {\n",
       "        vertical-align: top;\n",
       "    }\n",
       "\n",
       "    .dataframe thead th {\n",
       "        text-align: right;\n",
       "    }\n",
       "</style>\n",
       "<table border=\"1\" class=\"dataframe\">\n",
       "  <thead>\n",
       "    <tr style=\"text-align: right;\">\n",
       "      <th></th>\n",
       "      <th>methods</th>\n",
       "      <th>mse</th>\n",
       "    </tr>\n",
       "  </thead>\n",
       "  <tbody>\n",
       "    <tr>\n",
       "      <th>0</th>\n",
       "      <td>ffill</td>\n",
       "      <td>632.418074</td>\n",
       "    </tr>\n",
       "    <tr>\n",
       "      <th>1</th>\n",
       "      <td>interpolate_backward</td>\n",
       "      <td>638.378174</td>\n",
       "    </tr>\n",
       "    <tr>\n",
       "      <th>2</th>\n",
       "      <td>interpolate_forward</td>\n",
       "      <td>638.378174</td>\n",
       "    </tr>\n",
       "    <tr>\n",
       "      <th>3</th>\n",
       "      <td>default</td>\n",
       "      <td>639.935589</td>\n",
       "    </tr>\n",
       "    <tr>\n",
       "      <th>4</th>\n",
       "      <td>bfill</td>\n",
       "      <td>643.573646</td>\n",
       "    </tr>\n",
       "    <tr>\n",
       "      <th>5</th>\n",
       "      <td>knn</td>\n",
       "      <td>830.496093</td>\n",
       "    </tr>\n",
       "    <tr>\n",
       "      <th>6</th>\n",
       "      <td>mean</td>\n",
       "      <td>830.776875</td>\n",
       "    </tr>\n",
       "    <tr>\n",
       "      <th>7</th>\n",
       "      <td>median</td>\n",
       "      <td>851.570975</td>\n",
       "    </tr>\n",
       "  </tbody>\n",
       "</table>\n",
       "</div>"
      ],
      "text/plain": [
       "                methods         mse\n",
       "0                 ffill  632.418074\n",
       "1  interpolate_backward  638.378174\n",
       "2   interpolate_forward  638.378174\n",
       "3               default  639.935589\n",
       "4                 bfill  643.573646\n",
       "5                   knn  830.496093\n",
       "6                  mean  830.776875\n",
       "7                median  851.570975"
      ]
     },
     "execution_count": 79,
     "metadata": {},
     "output_type": "execute_result"
    }
   ],
   "source": [
    "methods = ['default', 'mean', 'median', 'ffill', 'bfill', 'interpolate_backward', 'interpolate_forward', 'knn']\n",
    "mses = {\"mse\":[]}\n",
    "\n",
    "for method in tqdm(methods, position=0, leave=True):\n",
    "    # Replace nan values.\n",
    "    no_nan_df = fill_missing_values(df_train, method)\n",
    "    no_nan_df.reset_index(inplace=True)\n",
    "    model = Prophet()\n",
    "    model.fit(no_nan_df)\n",
    "    \n",
    "    mse, _, _, _, _ = evaluate_model(model, df_val)\n",
    "    mses['mse'] += [mse]\n",
    "\n",
    "print(f\"\\nBest method: {methods[np.argmin(mses['mse'])]}\")\n",
    "fill_mv_results = pd.DataFrame(mses)\n",
    "fill_mv_results.insert(0, 'methods', methods)\n",
    "fill_mv_results.sort_values(\"mse\").reset_index(drop=True)"
   ]
  },
  {
   "cell_type": "markdown",
   "metadata": {},
   "source": [
    "Fill missing values in train, val and test data:"
   ]
  },
  {
   "cell_type": "code",
   "execution_count": 18,
   "metadata": {
    "ExecuteTime": {
     "end_time": "2023-11-03T12:31:09.030149Z",
     "start_time": "2023-11-03T12:31:09.013469Z"
    }
   },
   "outputs": [
    {
     "data": {
      "text/plain": [
       "(0, 0, 0)"
      ]
     },
     "execution_count": 18,
     "metadata": {},
     "output_type": "execute_result"
    }
   ],
   "source": [
    "df_train = fill_missing_values(df_train, method='ffill')\n",
    "df_val = fill_missing_values(df_val, method='ffill')\n",
    "df_test = fill_missing_values(df_test, method='ffill')\n",
    "\n",
    "df_train.y.isna().sum(), df_val.y.isna().sum(), df_test.y.isna().sum()"
   ]
  },
  {
   "cell_type": "markdown",
   "metadata": {
    "id": "lpj4W3mbf_2p"
   },
   "source": [
    "Normalizing data:"
   ]
  },
  {
   "cell_type": "code",
   "execution_count": 19,
   "metadata": {
    "ExecuteTime": {
     "end_time": "2023-11-03T12:31:10.775790Z",
     "start_time": "2023-11-03T12:31:10.768635Z"
    },
    "id": "ShkekSPWgABf"
   },
   "outputs": [],
   "source": [
    "from sklearn.preprocessing import StandardScaler\n",
    "\n",
    "scaler = StandardScaler()\n",
    "df_train.y = scaler.fit_transform(np.array(df_train.y).reshape(-1, 1)).T[0]\n",
    "df_val.y = scaler.transform(np.array(df_val.y).reshape(-1, 1)).T[0]\n",
    "df_test.y = scaler.transform(np.array(df_test.y).reshape(-1, 1)).T[0]"
   ]
  },
  {
   "cell_type": "code",
   "execution_count": 20,
   "metadata": {
    "ExecuteTime": {
     "end_time": "2023-11-03T12:31:11.067022Z",
     "start_time": "2023-11-03T12:31:11.062316Z"
    }
   },
   "outputs": [],
   "source": [
    "def plot_train_val_test():\n",
    "    plt.figure(figsize=(10,5))\n",
    "\n",
    "    plt.plot(df_train.ds, df_train.y, color='b', label='train', linewidth=0.5)\n",
    "    plt.plot(df_val.ds, df_val.y, color='c', label='val', linewidth=0.5)\n",
    "    plt.plot(df_test.ds, df_test.y, color='r', label='test', linewidth=0.5)\n",
    "\n",
    "    plt.xlabel(\"Date\", fontsize=14)\n",
    "    plt.ylabel(\"KEV_Y\")\n",
    "    plt.title(\"Train, val and test data\", fontsize=14)\n",
    "\n",
    "    plt.legend()\n",
    "\n",
    "    plt.show()"
   ]
  },
  {
   "cell_type": "markdown",
   "metadata": {},
   "source": [
    "How data with outliers looks like:"
   ]
  },
  {
   "cell_type": "code",
   "execution_count": 21,
   "metadata": {
    "ExecuteTime": {
     "end_time": "2023-11-03T12:31:12.033933Z",
     "start_time": "2023-11-03T12:31:11.744415Z"
    }
   },
   "outputs": [
    {
     "data": {
      "image/png": "[encoded data removed]",
      "text/plain": [
       "<Figure size 720x360 with 1 Axes>"
      ]
     },
     "metadata": {
      "needs_background": "light"
     },
     "output_type": "display_data"
    }
   ],
   "source": [
    "plot_train_val_test()"
   ]
  },
  {
   "cell_type": "markdown",
   "metadata": {},
   "source": [
    "Let's look at model performance on data with outliers:"
   ]
  },
  {
   "cell_type": "code",
   "execution_count": 87,
   "metadata": {
    "ExecuteTime": {
     "end_time": "2023-11-02T13:44:12.910854Z",
     "start_time": "2023-11-02T13:42:43.484316Z"
    }
   },
   "outputs": [
    {
     "name": "stdout",
     "output_type": "stream",
     "text": [
      "mse: 0.0202, mape: 3.4157, smape: 3.4825\n"
     ]
    }
   ],
   "source": [
    "model_with_outliers = Prophet()\n",
    "model_with_outliers.fit(df_train)\n",
    "mse, mape, smape, actuals, predictions = evaluate_model(model_with_outliers, df_val)\n",
    "\n",
    "print(f'mse: {mse}, mape: {mape}, smape: {smape}')"
   ]
  },
  {
   "cell_type": "markdown",
   "metadata": {
    "id": "ii_zGQaZNZEC"
   },
   "source": [
    "Now we will try to find best algorithm for outlier detection.<br>\n",
    "Firstly we bring the dataset into a form convenient for the etna library"
   ]
  },
  {
   "cell_type": "code",
   "execution_count": 22,
   "metadata": {
    "ExecuteTime": {
     "end_time": "2023-11-03T12:31:17.131800Z",
     "start_time": "2023-11-03T12:31:16.877351Z"
    },
    "id": "DuXAKRaSdKYe"
   },
   "outputs": [
    {
     "data": {
      "text/html": [
       "<div>\n",
       "<style scoped>\n",
       "    .dataframe tbody tr th:only-of-type {\n",
       "        vertical-align: middle;\n",
       "    }\n",
       "\n",
       "    .dataframe tbody tr th {\n",
       "        vertical-align: top;\n",
       "    }\n",
       "\n",
       "    .dataframe thead tr th {\n",
       "        text-align: left;\n",
       "    }\n",
       "\n",
       "    .dataframe thead tr:last-of-type th {\n",
       "        text-align: right;\n",
       "    }\n",
       "</style>\n",
       "<table border=\"1\" class=\"dataframe\">\n",
       "  <thead>\n",
       "    <tr>\n",
       "      <th>segment</th>\n",
       "      <th>main</th>\n",
       "    </tr>\n",
       "    <tr>\n",
       "      <th>feature</th>\n",
       "      <th>target</th>\n",
       "    </tr>\n",
       "    <tr>\n",
       "      <th>timestamp</th>\n",
       "      <th></th>\n",
       "    </tr>\n",
       "  </thead>\n",
       "  <tbody>\n",
       "    <tr>\n",
       "      <th>2003-01-01 01:00:00</th>\n",
       "      <td>-1.513407</td>\n",
       "    </tr>\n",
       "    <tr>\n",
       "      <th>2003-01-01 02:00:00</th>\n",
       "      <td>-1.519636</td>\n",
       "    </tr>\n",
       "    <tr>\n",
       "      <th>2003-01-01 03:00:00</th>\n",
       "      <td>-1.570034</td>\n",
       "    </tr>\n",
       "    <tr>\n",
       "      <th>2003-01-01 04:00:00</th>\n",
       "      <td>-1.558142</td>\n",
       "    </tr>\n",
       "    <tr>\n",
       "      <th>2003-01-01 05:00:00</th>\n",
       "      <td>-1.560407</td>\n",
       "    </tr>\n",
       "  </tbody>\n",
       "</table>\n",
       "</div>"
      ],
      "text/plain": [
       "segment                  main\n",
       "feature                target\n",
       "timestamp                    \n",
       "2003-01-01 01:00:00 -1.513407\n",
       "2003-01-01 02:00:00 -1.519636\n",
       "2003-01-01 03:00:00 -1.570034\n",
       "2003-01-01 04:00:00 -1.558142\n",
       "2003-01-01 05:00:00 -1.560407"
      ]
     },
     "execution_count": 22,
     "metadata": {},
     "output_type": "execute_result"
    }
   ],
   "source": [
    "df_etna = df_train.copy(deep=True)\n",
    "df_etna[\"timestamp\"] = df_etna[\"ds\"]\n",
    "df_etna[\"target\"] = df_etna[\"y\"]\n",
    "df_etna.drop(columns=[\"ds\", \"y\"], inplace=True)\n",
    "df_etna[\"segment\"] = \"main\"\n",
    "\n",
    "df_etna = TSDataset.to_dataset(df_etna)\n",
    "ts_etna = TSDataset(df_etna, freq=\"H\")\n",
    "\n",
    "df_etna.head()"
   ]
  },
  {
   "cell_type": "code",
   "execution_count": 23,
   "metadata": {
    "ExecuteTime": {
     "end_time": "2023-11-03T12:31:18.608732Z",
     "start_time": "2023-11-03T12:31:18.602047Z"
    }
   },
   "outputs": [],
   "source": [
    "def find_best_outlier_detector(param_grid, algorithm):\n",
    "    all_params = [dict(zip(param_grid.keys(), v)) for v in itertools.product(*param_grid.values())]\n",
    "    metrics = {\"mape\":[], \"mse\":[], \"smape\":[]}\n",
    "\n",
    "    for params in tqdm(all_params, position=0, leave=True):\n",
    "        m = Prophet()\n",
    "\n",
    "        anomaly_dict = algorithm(ts_etna, **params)\n",
    "\n",
    "        m.fit(df_train.loc[~df_train.ds.isin(anomaly_dict['main'])].reset_index())\n",
    "\n",
    "        mse, mape, smape, _, _ = evaluate_model(m, df_val)\n",
    "        metrics['mse'] += [mse]\n",
    "        metrics['mape'] += [mape]\n",
    "        metrics['smape'] += [smape]\n",
    "\n",
    "    best_params = all_params[np.argmin(metrics['mape'])]\n",
    "    print(\"\\nBest params: \", best_params)\n",
    "\n",
    "    outliers_detection_results = pd.DataFrame(all_params)\n",
    "    outliers_detection_results = outliers_detection_results.join(pd.DataFrame.from_dict(metrics))\n",
    "    return outliers_detection_results.sort_values(\"mape\").reset_index(drop=True)"
   ]
  },
  {
   "cell_type": "markdown",
   "metadata": {},
   "source": [
    "1. Method <b>based on deviation from median values calculated over a window</b>.<br>"
   ]
  },
  {
   "cell_type": "code",
   "execution_count": 95,
   "metadata": {
    "ExecuteTime": {
     "end_time": "2023-11-02T14:58:50.112409Z",
     "start_time": "2023-11-02T13:52:38.338331Z"
    }
   },
   "outputs": [
    {
     "name": "stderr",
     "output_type": "stream",
     "text": [
      "100%|█████████████████████████████████████████| 42/42 [1:06:11<00:00, 94.57s/it]"
     ]
    },
    {
     "name": "stdout",
     "output_type": "stream",
     "text": [
      "\n",
      "Best params:  {'window_size': 400, 'alpha': 1.5}\n"
     ]
    },
    {
     "name": "stderr",
     "output_type": "stream",
     "text": [
      "\n"
     ]
    },
    {
     "data": {
      "text/html": [
       "<div>\n",
       "<style scoped>\n",
       "    .dataframe tbody tr th:only-of-type {\n",
       "        vertical-align: middle;\n",
       "    }\n",
       "\n",
       "    .dataframe tbody tr th {\n",
       "        vertical-align: top;\n",
       "    }\n",
       "\n",
       "    .dataframe thead th {\n",
       "        text-align: right;\n",
       "    }\n",
       "</style>\n",
       "<table border=\"1\" class=\"dataframe\">\n",
       "  <thead>\n",
       "    <tr style=\"text-align: right;\">\n",
       "      <th></th>\n",
       "      <th>window_size</th>\n",
       "      <th>alpha</th>\n",
       "      <th>mape</th>\n",
       "      <th>mse</th>\n",
       "      <th>smape</th>\n",
       "    </tr>\n",
       "  </thead>\n",
       "  <tbody>\n",
       "    <tr>\n",
       "      <th>0</th>\n",
       "      <td>400</td>\n",
       "      <td>1.5</td>\n",
       "      <td>3.3100</td>\n",
       "      <td>0.0222</td>\n",
       "      <td>3.4087</td>\n",
       "    </tr>\n",
       "    <tr>\n",
       "      <th>1</th>\n",
       "      <td>500</td>\n",
       "      <td>1.5</td>\n",
       "      <td>3.3158</td>\n",
       "      <td>0.0222</td>\n",
       "      <td>3.4161</td>\n",
       "    </tr>\n",
       "    <tr>\n",
       "      <th>2</th>\n",
       "      <td>50</td>\n",
       "      <td>1.5</td>\n",
       "      <td>3.3167</td>\n",
       "      <td>0.0222</td>\n",
       "      <td>3.4171</td>\n",
       "    </tr>\n",
       "    <tr>\n",
       "      <th>3</th>\n",
       "      <td>400</td>\n",
       "      <td>2.0</td>\n",
       "      <td>3.3233</td>\n",
       "      <td>0.0217</td>\n",
       "      <td>3.4182</td>\n",
       "    </tr>\n",
       "    <tr>\n",
       "      <th>4</th>\n",
       "      <td>500</td>\n",
       "      <td>2.0</td>\n",
       "      <td>3.3236</td>\n",
       "      <td>0.0217</td>\n",
       "      <td>3.4191</td>\n",
       "    </tr>\n",
       "    <tr>\n",
       "      <th>5</th>\n",
       "      <td>300</td>\n",
       "      <td>1.5</td>\n",
       "      <td>3.3240</td>\n",
       "      <td>0.0223</td>\n",
       "      <td>3.4260</td>\n",
       "    </tr>\n",
       "    <tr>\n",
       "      <th>6</th>\n",
       "      <td>200</td>\n",
       "      <td>2.0</td>\n",
       "      <td>3.3273</td>\n",
       "      <td>0.0217</td>\n",
       "      <td>3.4226</td>\n",
       "    </tr>\n",
       "    <tr>\n",
       "      <th>7</th>\n",
       "      <td>500</td>\n",
       "      <td>2.5</td>\n",
       "      <td>3.3292</td>\n",
       "      <td>0.0213</td>\n",
       "      <td>3.4192</td>\n",
       "    </tr>\n",
       "    <tr>\n",
       "      <th>8</th>\n",
       "      <td>100</td>\n",
       "      <td>2.0</td>\n",
       "      <td>3.3297</td>\n",
       "      <td>0.0216</td>\n",
       "      <td>3.4244</td>\n",
       "    </tr>\n",
       "    <tr>\n",
       "      <th>9</th>\n",
       "      <td>300</td>\n",
       "      <td>2.5</td>\n",
       "      <td>3.3305</td>\n",
       "      <td>0.0213</td>\n",
       "      <td>3.4193</td>\n",
       "    </tr>\n",
       "    <tr>\n",
       "      <th>10</th>\n",
       "      <td>100</td>\n",
       "      <td>1.5</td>\n",
       "      <td>3.3312</td>\n",
       "      <td>0.0223</td>\n",
       "      <td>3.4348</td>\n",
       "    </tr>\n",
       "    <tr>\n",
       "      <th>11</th>\n",
       "      <td>50</td>\n",
       "      <td>2.0</td>\n",
       "      <td>3.3316</td>\n",
       "      <td>0.0215</td>\n",
       "      <td>3.4243</td>\n",
       "    </tr>\n",
       "    <tr>\n",
       "      <th>12</th>\n",
       "      <td>400</td>\n",
       "      <td>2.5</td>\n",
       "      <td>3.3316</td>\n",
       "      <td>0.0213</td>\n",
       "      <td>3.4212</td>\n",
       "    </tr>\n",
       "    <tr>\n",
       "      <th>13</th>\n",
       "      <td>200</td>\n",
       "      <td>1.5</td>\n",
       "      <td>3.3320</td>\n",
       "      <td>0.0224</td>\n",
       "      <td>3.4357</td>\n",
       "    </tr>\n",
       "    <tr>\n",
       "      <th>14</th>\n",
       "      <td>200</td>\n",
       "      <td>2.5</td>\n",
       "      <td>3.3341</td>\n",
       "      <td>0.0213</td>\n",
       "      <td>3.4231</td>\n",
       "    </tr>\n",
       "    <tr>\n",
       "      <th>15</th>\n",
       "      <td>400</td>\n",
       "      <td>1.0</td>\n",
       "      <td>3.3359</td>\n",
       "      <td>0.0231</td>\n",
       "      <td>3.4420</td>\n",
       "    </tr>\n",
       "    <tr>\n",
       "      <th>16</th>\n",
       "      <td>300</td>\n",
       "      <td>2.0</td>\n",
       "      <td>3.3410</td>\n",
       "      <td>0.0218</td>\n",
       "      <td>3.4396</td>\n",
       "    </tr>\n",
       "    <tr>\n",
       "      <th>17</th>\n",
       "      <td>500</td>\n",
       "      <td>3.0</td>\n",
       "      <td>3.3468</td>\n",
       "      <td>0.0211</td>\n",
       "      <td>3.4335</td>\n",
       "    </tr>\n",
       "    <tr>\n",
       "      <th>18</th>\n",
       "      <td>400</td>\n",
       "      <td>3.0</td>\n",
       "      <td>3.3471</td>\n",
       "      <td>0.0211</td>\n",
       "      <td>3.4334</td>\n",
       "    </tr>\n",
       "    <tr>\n",
       "      <th>19</th>\n",
       "      <td>50</td>\n",
       "      <td>2.5</td>\n",
       "      <td>3.3474</td>\n",
       "      <td>0.0210</td>\n",
       "      <td>3.4324</td>\n",
       "    </tr>\n",
       "  </tbody>\n",
       "</table>\n",
       "</div>"
      ],
      "text/plain": [
       "    window_size  alpha    mape     mse   smape\n",
       "0           400    1.5  3.3100  0.0222  3.4087\n",
       "1           500    1.5  3.3158  0.0222  3.4161\n",
       "2            50    1.5  3.3167  0.0222  3.4171\n",
       "3           400    2.0  3.3233  0.0217  3.4182\n",
       "4           500    2.0  3.3236  0.0217  3.4191\n",
       "5           300    1.5  3.3240  0.0223  3.4260\n",
       "6           200    2.0  3.3273  0.0217  3.4226\n",
       "7           500    2.5  3.3292  0.0213  3.4192\n",
       "8           100    2.0  3.3297  0.0216  3.4244\n",
       "9           300    2.5  3.3305  0.0213  3.4193\n",
       "10          100    1.5  3.3312  0.0223  3.4348\n",
       "11           50    2.0  3.3316  0.0215  3.4243\n",
       "12          400    2.5  3.3316  0.0213  3.4212\n",
       "13          200    1.5  3.3320  0.0224  3.4357\n",
       "14          200    2.5  3.3341  0.0213  3.4231\n",
       "15          400    1.0  3.3359  0.0231  3.4420\n",
       "16          300    2.0  3.3410  0.0218  3.4396\n",
       "17          500    3.0  3.3468  0.0211  3.4335\n",
       "18          400    3.0  3.3471  0.0211  3.4334\n",
       "19           50    2.5  3.3474  0.0210  3.4324"
      ]
     },
     "execution_count": 95,
     "metadata": {},
     "output_type": "execute_result"
    }
   ],
   "source": [
    "param_grid = {\n",
    "    'window_size': [50, 100, 200, 300, 400, 500],\n",
    "    'alpha': [1, 1.5, 2, 2.5, 3, 3.5, 4.5]\n",
    "}\n",
    "\n",
    "find_best_outlier_detector(param_grid, algorithm=get_anomalies_median).head(20)"
   ]
  },
  {
   "cell_type": "markdown",
   "metadata": {},
   "source": [
    "2. <b>Density-based</b> method."
   ]
  },
  {
   "cell_type": "code",
   "execution_count": 102,
   "metadata": {
    "ExecuteTime": {
     "end_time": "2023-11-02T16:44:10.170310Z",
     "start_time": "2023-11-02T16:39:13.769096Z"
    }
   },
   "outputs": [
    {
     "name": "stderr",
     "output_type": "stream",
     "text": [
      "100%|█████████████████████████████████████████████| 3/3 [04:56<00:00, 98.79s/it]"
     ]
    },
    {
     "name": "stdout",
     "output_type": "stream",
     "text": [
      "\n",
      "Best params:  {'window_size': 50, 'distance_coef': 1, 'n_neighbors': 45}\n"
     ]
    },
    {
     "name": "stderr",
     "output_type": "stream",
     "text": [
      "\n"
     ]
    },
    {
     "data": {
      "text/html": [
       "<div>\n",
       "<style scoped>\n",
       "    .dataframe tbody tr th:only-of-type {\n",
       "        vertical-align: middle;\n",
       "    }\n",
       "\n",
       "    .dataframe tbody tr th {\n",
       "        vertical-align: top;\n",
       "    }\n",
       "\n",
       "    .dataframe thead th {\n",
       "        text-align: right;\n",
       "    }\n",
       "</style>\n",
       "<table border=\"1\" class=\"dataframe\">\n",
       "  <thead>\n",
       "    <tr style=\"text-align: right;\">\n",
       "      <th></th>\n",
       "      <th>window_size</th>\n",
       "      <th>distance_coef</th>\n",
       "      <th>n_neighbors</th>\n",
       "      <th>mape</th>\n",
       "      <th>mse</th>\n",
       "      <th>smape</th>\n",
       "    </tr>\n",
       "  </thead>\n",
       "  <tbody>\n",
       "    <tr>\n",
       "      <th>0</th>\n",
       "      <td>50</td>\n",
       "      <td>1</td>\n",
       "      <td>45</td>\n",
       "      <td>3.3811</td>\n",
       "      <td>0.0203</td>\n",
       "      <td>3.4498</td>\n",
       "    </tr>\n",
       "    <tr>\n",
       "      <th>1</th>\n",
       "      <td>50</td>\n",
       "      <td>1</td>\n",
       "      <td>40</td>\n",
       "      <td>3.3870</td>\n",
       "      <td>0.0203</td>\n",
       "      <td>3.4556</td>\n",
       "    </tr>\n",
       "    <tr>\n",
       "      <th>2</th>\n",
       "      <td>50</td>\n",
       "      <td>1</td>\n",
       "      <td>30</td>\n",
       "      <td>3.3937</td>\n",
       "      <td>0.0203</td>\n",
       "      <td>3.4626</td>\n",
       "    </tr>\n",
       "  </tbody>\n",
       "</table>\n",
       "</div>"
      ],
      "text/plain": [
       "   window_size  distance_coef  n_neighbors    mape     mse   smape\n",
       "0           50              1           45  3.3811  0.0203  3.4498\n",
       "1           50              1           40  3.3870  0.0203  3.4556\n",
       "2           50              1           30  3.3937  0.0203  3.4626"
      ]
     },
     "execution_count": 102,
     "metadata": {},
     "output_type": "execute_result"
    }
   ],
   "source": [
    "param_grid = {\n",
    "    'window_size': [50],\n",
    "    'distance_coef': [1],\n",
    "    'n_neighbors': [30, 40, 45]\n",
    "}\n",
    "\n",
    "find_best_outlier_detector(param_grid, algorithm=get_anomalies_density).head(20)"
   ]
  },
  {
   "cell_type": "markdown",
   "metadata": {},
   "source": [
    "Vizualize detected outliers for best method:"
   ]
  },
  {
   "cell_type": "code",
   "execution_count": 96,
   "metadata": {
    "ExecuteTime": {
     "end_time": "2023-11-02T15:02:33.167417Z",
     "start_time": "2023-11-02T15:02:32.682980Z"
    }
   },
   "outputs": [
    {
     "data": {
      "image/png": "[encoded data removed]",
      "text/plain": [
       "<Figure size 720x360 with 1 Axes>"
      ]
     },
     "metadata": {
      "needs_background": "light"
     },
     "output_type": "display_data"
    }
   ],
   "source": [
    "anomaly_dict = get_anomalies_median(ts_etna, window_size=400, alpha=1.5)\n",
    "plot_anomalies(ts_etna, anomaly_dict)"
   ]
  },
  {
   "cell_type": "markdown",
   "metadata": {},
   "source": [
    "If you zoom in on the data, you can see that too much data is being deleted. This is not very good."
   ]
  },
  {
   "cell_type": "code",
   "execution_count": 97,
   "metadata": {
    "ExecuteTime": {
     "end_time": "2023-11-02T15:02:35.880608Z",
     "start_time": "2023-11-02T15:02:35.482987Z"
    }
   },
   "outputs": [
    {
     "data": {
      "image/png": "[encoded data removed]",
      "text/plain": [
       "<Figure size 720x360 with 1 Axes>"
      ]
     },
     "metadata": {
      "needs_background": "light"
     },
     "output_type": "display_data"
    }
   ],
   "source": [
    "plot_anomalies(ts_etna, anomaly_dict, start='2008-01-01 01:00:00', end='2008-05-01 05:00:00')"
   ]
  },
  {
   "cell_type": "markdown",
   "metadata": {},
   "source": [
    "Let's try to manually go through the parameters to remove outliers"
   ]
  },
  {
   "cell_type": "code",
   "execution_count": 25,
   "metadata": {
    "ExecuteTime": {
     "end_time": "2023-10-28T12:42:02.490018Z",
     "start_time": "2023-10-28T12:42:01.610409Z"
    }
   },
   "outputs": [
    {
     "data": {
      "application/vnd.jupyter.widget-view+json": {
       "model_id": "8aca5e08ca0c4425bfbb1655f4e5a5e8",
       "version_major": 2,
       "version_minor": 0
      },
      "text/plain": [
       "interactive(children=(IntSlider(value=100, continuous_update=False, description='window_size', max=10000, min=…"
      ]
     },
     "metadata": {},
     "output_type": "display_data"
    }
   ],
   "source": [
    "segment = \"main\"\n",
    "method = get_anomalies_median\n",
    "params_bounds = {\"window_size\": (100, 10000, 50), \"alpha\": (1, 10, 0.5)}\n",
    "plot_anomalies_interactive(ts=ts_etna, segment=segment, method=method, params_bounds=params_bounds)"
   ]
  },
  {
   "cell_type": "markdown",
   "metadata": {},
   "source": [
    "It really seems like it's getting better. So we will use this parameters further"
   ]
  },
  {
   "cell_type": "code",
   "execution_count": 82,
   "metadata": {
    "ExecuteTime": {
     "end_time": "2023-10-28T13:43:17.491819Z",
     "start_time": "2023-10-28T13:43:17.260825Z"
    }
   },
   "outputs": [
    {
     "data": {
      "image/png": "[encoded data removed]",
      "text/plain": [
       "<Figure size 720x360 with 1 Axes>"
      ]
     },
     "metadata": {
      "needs_background": "light"
     },
     "output_type": "display_data"
    }
   ],
   "source": [
    "anomaly_dict_final = get_anomalies_median(ts_etna, window_size=5200, alpha=7.5)\n",
    "plot_anomalies(ts_etna, anomaly_dict_final, start='2008-01-01 01:00:00', end='2008-05-01 05:00:00')"
   ]
  },
  {
   "cell_type": "markdown",
   "metadata": {},
   "source": [
    "Drop outliers from df_train:"
   ]
  },
  {
   "cell_type": "code",
   "execution_count": 83,
   "metadata": {
    "ExecuteTime": {
     "end_time": "2023-10-28T13:43:19.848395Z",
     "start_time": "2023-10-28T13:43:19.840703Z"
    }
   },
   "outputs": [],
   "source": [
    "df_train.y = df_train.y.mask(df_train.ds.isin(anomaly_dict_final['main']))"
   ]
  },
  {
   "cell_type": "markdown",
   "metadata": {},
   "source": [
    "Number of detected outliers:"
   ]
  },
  {
   "cell_type": "code",
   "execution_count": 84,
   "metadata": {
    "ExecuteTime": {
     "end_time": "2023-10-28T13:43:21.175546Z",
     "start_time": "2023-10-28T13:43:21.172061Z"
    }
   },
   "outputs": [
    {
     "name": "stdout",
     "output_type": "stream",
     "text": [
      "Number of detected outliers: 150\n"
     ]
    }
   ],
   "source": [
    "print('Number of detected outliers: ' + str(len(anomaly_dict_final['main'])))"
   ]
  },
  {
   "cell_type": "markdown",
   "metadata": {},
   "source": [
    "Get model performance after dropping outliers:"
   ]
  },
  {
   "cell_type": "code",
   "execution_count": 290,
   "metadata": {
    "ExecuteTime": {
     "end_time": "2023-10-27T19:16:39.584136Z",
     "start_time": "2023-10-27T19:15:07.027932Z"
    }
   },
   "outputs": [
    {
     "name": "stdout",
     "output_type": "stream",
     "text": [
      "mse: 0.0202, mape: 3.4014, smape: 3.4674\n"
     ]
    }
   ],
   "source": [
    "m = Prophet()\n",
    "m.fit(df_train)\n",
    "mse, mape, smape, actuals, predictions = evaluate_model(m, df_val)\n",
    "\n",
    "print(f'mse: {mse}, mape: {mape}, smape: {smape}')"
   ]
  },
  {
   "cell_type": "markdown",
   "metadata": {
    "id": "3yys1BfoWjLV"
   },
   "source": [
    "Visualize train and test data without outliers:"
   ]
  },
  {
   "cell_type": "code",
   "execution_count": 85,
   "metadata": {
    "ExecuteTime": {
     "end_time": "2023-10-28T13:43:24.359166Z",
     "start_time": "2023-10-28T13:43:24.063849Z"
    },
    "colab": {
     "base_uri": "https://localhost:8080/",
     "height": 493
    },
    "executionInfo": {
     "elapsed": 1533,
     "status": "ok",
     "timestamp": 1697977717340,
     "user": {
      "displayName": "Павел Ломакин",
      "userId": "11833351585793642427"
     },
     "user_tz": -180
    },
    "id": "J60WF25Ad0fm",
    "outputId": "244e84f9-04aa-4ae3-e6fb-dca5cd3a6d60"
   },
   "outputs": [
    {
     "data": {
      "image/png": "[encoded data removed]",
      "text/plain": [
       "<Figure size 720x360 with 1 Axes>"
      ]
     },
     "metadata": {
      "needs_background": "light"
     },
     "output_type": "display_data"
    }
   ],
   "source": [
    "plot_train_val_test()"
   ]
  },
  {
   "cell_type": "markdown",
   "metadata": {
    "id": "e6YrJbCgXzo-"
   },
   "source": [
    "## Model training."
   ]
  },
  {
   "cell_type": "markdown",
   "metadata": {
    "id": "K_zTYRm5n1Cc"
   },
   "source": [
    "Let's look at model performance by changing chengepoint_range."
   ]
  },
  {
   "cell_type": "code",
   "execution_count": 308,
   "metadata": {
    "ExecuteTime": {
     "end_time": "2023-10-27T19:38:46.779850Z",
     "start_time": "2023-10-27T19:26:59.526174Z"
    },
    "colab": {
     "base_uri": "https://localhost:8080/",
     "height": 379
    },
    "executionInfo": {
     "elapsed": 622336,
     "status": "ok",
     "timestamp": 1697815414828,
     "user": {
      "displayName": "Павел Ломакин",
      "userId": "11833351585793642427"
     },
     "user_tz": -180
    },
    "id": "nB8P3FsvnzYo",
    "outputId": "d499d5ad-6aaa-45cf-eac4-5dd1b9df503a"
   },
   "outputs": [
    {
     "name": "stderr",
     "output_type": "stream",
     "text": [
      "100%|█████████████████████████████████████████████| 9/9 [11:47<00:00, 78.58s/it]"
     ]
    },
    {
     "name": "stdout",
     "output_type": "stream",
     "text": [
      "\n",
      "Best changepoint_range: 0.8\n"
     ]
    },
    {
     "name": "stderr",
     "output_type": "stream",
     "text": [
      "\n"
     ]
    },
    {
     "data": {
      "text/html": [
       "<div>\n",
       "<style scoped>\n",
       "    .dataframe tbody tr th:only-of-type {\n",
       "        vertical-align: middle;\n",
       "    }\n",
       "\n",
       "    .dataframe tbody tr th {\n",
       "        vertical-align: top;\n",
       "    }\n",
       "\n",
       "    .dataframe thead th {\n",
       "        text-align: right;\n",
       "    }\n",
       "</style>\n",
       "<table border=\"1\" class=\"dataframe\">\n",
       "  <thead>\n",
       "    <tr style=\"text-align: right;\">\n",
       "      <th></th>\n",
       "      <th>changepoint_ranges</th>\n",
       "      <th>mape</th>\n",
       "      <th>mse</th>\n",
       "      <th>smape</th>\n",
       "    </tr>\n",
       "  </thead>\n",
       "  <tbody>\n",
       "    <tr>\n",
       "      <th>0</th>\n",
       "      <td>0.8</td>\n",
       "      <td>3.4014</td>\n",
       "      <td>0.0202</td>\n",
       "      <td>3.4674</td>\n",
       "    </tr>\n",
       "    <tr>\n",
       "      <th>1</th>\n",
       "      <td>0.7</td>\n",
       "      <td>3.4029</td>\n",
       "      <td>0.0203</td>\n",
       "      <td>3.4707</td>\n",
       "    </tr>\n",
       "    <tr>\n",
       "      <th>2</th>\n",
       "      <td>0.6</td>\n",
       "      <td>3.5443</td>\n",
       "      <td>0.0214</td>\n",
       "      <td>3.6433</td>\n",
       "    </tr>\n",
       "    <tr>\n",
       "      <th>3</th>\n",
       "      <td>0.5</td>\n",
       "      <td>3.5563</td>\n",
       "      <td>0.0215</td>\n",
       "      <td>3.6569</td>\n",
       "    </tr>\n",
       "    <tr>\n",
       "      <th>4</th>\n",
       "      <td>0.4</td>\n",
       "      <td>3.7545</td>\n",
       "      <td>0.0227</td>\n",
       "      <td>3.8776</td>\n",
       "    </tr>\n",
       "    <tr>\n",
       "      <th>5</th>\n",
       "      <td>0.9</td>\n",
       "      <td>3.7760</td>\n",
       "      <td>0.0229</td>\n",
       "      <td>3.8986</td>\n",
       "    </tr>\n",
       "    <tr>\n",
       "      <th>6</th>\n",
       "      <td>0.3</td>\n",
       "      <td>4.1820</td>\n",
       "      <td>0.0251</td>\n",
       "      <td>4.3413</td>\n",
       "    </tr>\n",
       "    <tr>\n",
       "      <th>7</th>\n",
       "      <td>0.2</td>\n",
       "      <td>5.1468</td>\n",
       "      <td>0.0307</td>\n",
       "      <td>5.3776</td>\n",
       "    </tr>\n",
       "    <tr>\n",
       "      <th>8</th>\n",
       "      <td>0.1</td>\n",
       "      <td>6.8380</td>\n",
       "      <td>0.0416</td>\n",
       "      <td>7.1957</td>\n",
       "    </tr>\n",
       "  </tbody>\n",
       "</table>\n",
       "</div>"
      ],
      "text/plain": [
       "   changepoint_ranges    mape     mse   smape\n",
       "0                 0.8  3.4014  0.0202  3.4674\n",
       "1                 0.7  3.4029  0.0203  3.4707\n",
       "2                 0.6  3.5443  0.0214  3.6433\n",
       "3                 0.5  3.5563  0.0215  3.6569\n",
       "4                 0.4  3.7545  0.0227  3.8776\n",
       "5                 0.9  3.7760  0.0229  3.8986\n",
       "6                 0.3  4.1820  0.0251  4.3413\n",
       "7                 0.2  5.1468  0.0307  5.3776\n",
       "8                 0.1  6.8380  0.0416  7.1957"
      ]
     },
     "execution_count": 308,
     "metadata": {},
     "output_type": "execute_result"
    }
   ],
   "source": [
    "metrics = {\"mape\":[], \"mse\":[], \"smape\":[]}\n",
    "crs = [0.1, 0.2, 0.3, 0.4, 0.5, 0.6, 0.7, 0.8, 0.9]\n",
    "\n",
    "for cr in tqdm(crs, position=0, leave=True):\n",
    "    m = Prophet(changepoint_range=cr)\n",
    "    m.fit(df_train)\n",
    "\n",
    "    mse, mape, smape, _, _ = evaluate_model(m, df_val)\n",
    "    metrics['mse'] += [mse]\n",
    "    metrics['mape'] += [mape]\n",
    "    metrics['smape'] += [smape]\n",
    "\n",
    "\n",
    "print(f\"\\nBest changepoint_range: {crs[np.argmin(metrics['mape'])]}\")\n",
    "chose_changepoint_range_results = pd.DataFrame({\"changepoint_ranges\": crs})\n",
    "chose_changepoint_range_results = chose_changepoint_range_results.join(pd.DataFrame.from_dict(metrics))\n",
    "chose_changepoint_range_results.sort_values(\"mape\").reset_index(drop=True)"
   ]
  },
  {
   "cell_type": "markdown",
   "metadata": {
    "ExecuteTime": {
     "end_time": "2023-10-27T19:41:00.159549Z",
     "start_time": "2023-10-27T19:41:00.155276Z"
    }
   },
   "source": [
    "The changepoint_range parameter defaults to 0.8. So we won't change it in the future."
   ]
  },
  {
   "cell_type": "markdown",
   "metadata": {},
   "source": [
    "Now let's train model with additional regressors. Get all combinations from additional regressors:"
   ]
  },
  {
   "cell_type": "code",
   "execution_count": 87,
   "metadata": {
    "ExecuteTime": {
     "end_time": "2023-10-28T13:46:42.494489Z",
     "start_time": "2023-10-28T13:46:42.488315Z"
    }
   },
   "outputs": [
    {
     "data": {
      "text/plain": [
       "[(), ('Bmag',), ('dBrms',), ('Bmag', 'dBrms')]"
      ]
     },
     "execution_count": 87,
     "metadata": {},
     "output_type": "execute_result"
    }
   ],
   "source": [
    "variables_list = ['Bmag', 'dBrms', 'Delta', 'Bn', 'Br', 'Lambda', 'Bgsm_z', 'sigma_B']\n",
    "\n",
    "list_combinations = []\n",
    "for i in range(len(variables_list) + 1):\n",
    "    list_combinations += list(itertools.combinations(variables_list, i))\n",
    "list_combinations[-10:]"
   ]
  },
  {
   "cell_type": "code",
   "execution_count": 97,
   "metadata": {
    "ExecuteTime": {
     "end_time": "2023-10-28T14:01:20.434763Z",
     "start_time": "2023-10-28T13:55:13.462235Z"
    }
   },
   "outputs": [
    {
     "name": "stderr",
     "output_type": "stream",
     "text": [
      "100%|█████████████████████████████████████████████| 4/4 [06:06<00:00, 91.74s/it]"
     ]
    },
    {
     "name": "stdout",
     "output_type": "stream",
     "text": [
      "\n",
      "Best params:  {'n_changepoints': 25}\n"
     ]
    },
    {
     "name": "stderr",
     "output_type": "stream",
     "text": [
      "\n"
     ]
    },
    {
     "data": {
      "text/html": [
       "<div>\n",
       "<style scoped>\n",
       "    .dataframe tbody tr th:only-of-type {\n",
       "        vertical-align: middle;\n",
       "    }\n",
       "\n",
       "    .dataframe tbody tr th {\n",
       "        vertical-align: top;\n",
       "    }\n",
       "\n",
       "    .dataframe thead th {\n",
       "        text-align: right;\n",
       "    }\n",
       "</style>\n",
       "<table border=\"1\" class=\"dataframe\">\n",
       "  <thead>\n",
       "    <tr style=\"text-align: right;\">\n",
       "      <th></th>\n",
       "      <th>0</th>\n",
       "      <th>1</th>\n",
       "      <th>mape</th>\n",
       "      <th>mse</th>\n",
       "      <th>smape</th>\n",
       "    </tr>\n",
       "  </thead>\n",
       "  <tbody>\n",
       "    <tr>\n",
       "      <th>0</th>\n",
       "      <td>None</td>\n",
       "      <td>None</td>\n",
       "      <td>3.4014</td>\n",
       "      <td>0.0202</td>\n",
       "      <td>3.4674</td>\n",
       "    </tr>\n",
       "    <tr>\n",
       "      <th>1</th>\n",
       "      <td>dBrms</td>\n",
       "      <td>None</td>\n",
       "      <td>3.4106</td>\n",
       "      <td>0.0203</td>\n",
       "      <td>3.4777</td>\n",
       "    </tr>\n",
       "    <tr>\n",
       "      <th>2</th>\n",
       "      <td>Bmag</td>\n",
       "      <td>None</td>\n",
       "      <td>3.4173</td>\n",
       "      <td>0.0201</td>\n",
       "      <td>3.4790</td>\n",
       "    </tr>\n",
       "    <tr>\n",
       "      <th>3</th>\n",
       "      <td>Bmag</td>\n",
       "      <td>dBrms</td>\n",
       "      <td>3.4176</td>\n",
       "      <td>0.0202</td>\n",
       "      <td>3.4806</td>\n",
       "    </tr>\n",
       "  </tbody>\n",
       "</table>\n",
       "</div>"
      ],
      "text/plain": [
       "       0      1    mape     mse   smape\n",
       "0   None   None  3.4014  0.0202  3.4674\n",
       "1  dBrms   None  3.4106  0.0203  3.4777\n",
       "2   Bmag   None  3.4173  0.0201  3.4790\n",
       "3   Bmag  dBrms  3.4176  0.0202  3.4806"
      ]
     },
     "execution_count": 97,
     "metadata": {},
     "output_type": "execute_result"
    }
   ],
   "source": [
    "metrics = {\"mape\":[], \"mse\":[], \"smape\":[]}\n",
    "\n",
    "for combination in tqdm(list_combinations):\n",
    "    m = Prophet()\n",
    "    for regressor in combination:\n",
    "        m.add_regressor(regressor)\n",
    "    m.fit(df_train)\n",
    "    mse, mape, smape, _, _ = evaluate_model(m, df_val[['ds', 'y'] + list(combination)])\n",
    "    metrics['mse'] += [mse]\n",
    "    metrics['mape'] += [mape]\n",
    "    metrics['smape'] += [smape]\n",
    "\n",
    "best_regressors = all_params[np.argmin(metrics['mape'])]\n",
    "print(\"\\nBest params: \", best_regressors)\n",
    "\n",
    "best_regressors_results = pd.DataFrame(list_combinations)\n",
    "best_regressors_results = best_regressors_results.join(pd.DataFrame.from_dict(metrics))\n",
    "best_regressors_results.sort_values(\"mape\").reset_index(drop=True)"
   ]
  },
  {
   "cell_type": "markdown",
   "metadata": {
    "id": "L_FcS4rTnTEC"
   },
   "source": [
    "Automatic hyperparameter tuning by MSE metric:"
   ]
  },
  {
   "cell_type": "code",
   "execution_count": 34,
   "metadata": {
    "ExecuteTime": {
     "end_time": "2023-10-28T13:24:30.960881Z",
     "start_time": "2023-10-28T13:13:02.225764Z"
    },
    "colab": {
     "base_uri": "https://localhost:8080/",
     "height": 436
    },
    "executionInfo": {
     "elapsed": 83670,
     "status": "ok",
     "timestamp": 1697911239373,
     "user": {
      "displayName": "Павел Ломакин",
      "userId": "11833351585793642427"
     },
     "user_tz": -180
    },
    "id": "rpCdAENYnJYs",
    "outputId": "803f1d5c-8569-426b-f89f-2da806692235"
   },
   "outputs": [
    {
     "name": "stderr",
     "output_type": "stream",
     "text": [
      "100%|████████████████████████████████████████████| 4/4 [11:28<00:00, 172.18s/it]"
     ]
    },
    {
     "name": "stdout",
     "output_type": "stream",
     "text": [
      "\n",
      "Best params:  {'n_changepoints': 25}\n"
     ]
    },
    {
     "name": "stderr",
     "output_type": "stream",
     "text": [
      "\n"
     ]
    },
    {
     "data": {
      "text/html": [
       "<div>\n",
       "<style scoped>\n",
       "    .dataframe tbody tr th:only-of-type {\n",
       "        vertical-align: middle;\n",
       "    }\n",
       "\n",
       "    .dataframe tbody tr th {\n",
       "        vertical-align: top;\n",
       "    }\n",
       "\n",
       "    .dataframe thead th {\n",
       "        text-align: right;\n",
       "    }\n",
       "</style>\n",
       "<table border=\"1\" class=\"dataframe\">\n",
       "  <thead>\n",
       "    <tr style=\"text-align: right;\">\n",
       "      <th></th>\n",
       "      <th>n_changepoints</th>\n",
       "      <th>mape</th>\n",
       "      <th>mse</th>\n",
       "      <th>smape</th>\n",
       "    </tr>\n",
       "  </thead>\n",
       "  <tbody>\n",
       "    <tr>\n",
       "      <th>0</th>\n",
       "      <td>25</td>\n",
       "      <td>3.4014</td>\n",
       "      <td>0.0202</td>\n",
       "      <td>3.4674</td>\n",
       "    </tr>\n",
       "    <tr>\n",
       "      <th>1</th>\n",
       "      <td>150</td>\n",
       "      <td>3.4022</td>\n",
       "      <td>0.0203</td>\n",
       "      <td>3.4689</td>\n",
       "    </tr>\n",
       "    <tr>\n",
       "      <th>2</th>\n",
       "      <td>50</td>\n",
       "      <td>3.4029</td>\n",
       "      <td>0.0203</td>\n",
       "      <td>3.4697</td>\n",
       "    </tr>\n",
       "    <tr>\n",
       "      <th>3</th>\n",
       "      <td>100</td>\n",
       "      <td>3.4037</td>\n",
       "      <td>0.0203</td>\n",
       "      <td>3.4717</td>\n",
       "    </tr>\n",
       "  </tbody>\n",
       "</table>\n",
       "</div>"
      ],
      "text/plain": [
       "   n_changepoints    mape     mse   smape\n",
       "0              25  3.4014  0.0202  3.4674\n",
       "1             150  3.4022  0.0203  3.4689\n",
       "2              50  3.4029  0.0203  3.4697\n",
       "3             100  3.4037  0.0203  3.4717"
      ]
     },
     "execution_count": 34,
     "metadata": {},
     "output_type": "execute_result"
    }
   ],
   "source": [
    "metrics = {\"mape\":[], \"mse\":[], \"smape\":[]}\n",
    "\n",
    "# Set up parameter grid\n",
    "param_grid = {\n",
    "#     'changepoint_prior_scale': [0.1, 1, 5, 10],\n",
    "#     'seasonality_prior_scale': [8, 9, 10, 11, 12],\n",
    "#     'seasonality_mode': ['additive', 'multiplicative'],\n",
    "    'n_changepoints' : [25, 50, 100, 150],\n",
    "}\n",
    "# Generate all combinations of parameters\n",
    "all_params = [dict(zip(param_grid.keys(), v)) for v in itertools.product(*param_grid.values())]\n",
    "\n",
    "for params in tqdm(all_params, position=0, leave=True):\n",
    "    # Fit a model using one parameter combination\n",
    "    m = Prophet(**params)\n",
    "    m.fit(df_train)\n",
    "\n",
    "    mse, mape, smape, _, _ = evaluate_model(m, df_val)\n",
    "    metrics['mse'] += [mse]\n",
    "    metrics['mape'] += [mape]\n",
    "    metrics['smape'] += [smape]\n",
    "\n",
    "best_params = all_params[np.argmin(metrics['mape'])]\n",
    "print(\"\\nBest params: \", best_params)\n",
    "\n",
    "tuning_results = pd.DataFrame(all_params)\n",
    "tuning_results = tuning_results.join(pd.DataFrame.from_dict(metrics))\n",
    "tuning_results.sort_values(\"mape\").reset_index(drop=True)"
   ]
  },
  {
   "cell_type": "code",
   "execution_count": 33,
   "metadata": {
    "ExecuteTime": {
     "end_time": "2023-10-28T13:12:32.738144Z",
     "start_time": "2023-10-28T13:12:32.730622Z"
    }
   },
   "outputs": [],
   "source": [
    "Prophet?"
   ]
  },
  {
   "cell_type": "markdown",
   "metadata": {
    "id": "ZbKF4ywvnsaT"
   },
   "source": [
    "Fit model with tuned parameters:"
   ]
  },
  {
   "cell_type": "code",
   "execution_count": 28,
   "metadata": {
    "ExecuteTime": {
     "end_time": "2023-10-24T15:08:52.841131Z",
     "start_time": "2023-10-24T15:07:50.850239Z"
    },
    "colab": {
     "base_uri": "https://localhost:8080/"
    },
    "executionInfo": {
     "elapsed": 69024,
     "status": "ok",
     "timestamp": 1697911379872,
     "user": {
      "displayName": "Павел Ломакин",
      "userId": "11833351585793642427"
     },
     "user_tz": -180
    },
    "id": "U3A3XaY8nqi8",
    "outputId": "cf18464f-eea3-44ef-9639-57e6aeeaa00f"
   },
   "outputs": [
    {
     "name": "stdout",
     "output_type": "stream",
     "text": [
      "mse: 0.37156338662120303, mape: 55.985011979651425, smape: 19.941564792284588\n"
     ]
    }
   ],
   "source": [
    "tuned_model = Prophet(changepoint_range=0.4, changepoint_prior_scale=0.005, seasonality_prior_scale=10, seasonality_mode='additive')\n",
    "tuned_model.fit(df_train)\n",
    "\n",
    "mse, mape, smape, actuals, predictions = evaluate_model(tuned_model, df_test)\n",
    "\n",
    "print(f'mse: {mse}, mape: {mape}, smape: {smape}')"
   ]
  },
  {
   "cell_type": "code",
   "execution_count": 31,
   "metadata": {
    "ExecuteTime": {
     "end_time": "2023-10-24T15:09:34.815144Z",
     "start_time": "2023-10-24T15:09:34.680437Z"
    },
    "colab": {
     "base_uri": "https://localhost:8080/",
     "height": 430
    },
    "executionInfo": {
     "elapsed": 1335,
     "status": "ok",
     "timestamp": 1697911596795,
     "user": {
      "displayName": "Павел Ломакин",
      "userId": "11833351585793642427"
     },
     "user_tz": -180
    },
    "id": "9jDwtlITIom3",
    "outputId": "6416ead4-1d07-437e-ac77-1ddddbc2381f"
   },
   "outputs": [
    {
     "data": {
      "image/png": "[encoded data removed]",
      "text/plain": [
       "<Figure size 432x288 with 1 Axes>"
      ]
     },
     "metadata": {
      "needs_background": "light"
     },
     "output_type": "display_data"
    }
   ],
   "source": [
    "plt.plot(actuals[-5000:-4800], label='Test', linewidth=1)\n",
    "plt.plot(predictions[-5000:-4800], label='Predicted', linewidth=1)\n",
    "plt.legend()\n",
    "plt.show()"
   ]
  },
  {
   "cell_type": "code",
   "execution_count": null,
   "metadata": {
    "id": "-vBZObZ6-g5b"
   },
   "outputs": [],
   "source": [
    "from prophet.serialize import model_to_json, model_from_json\n",
    "\n",
    "with open('serialized_model.json', 'w') as fout:\n",
    "    fout.write(model_to_json(tuned_model))  # Save model"
   ]
  },
  {
   "cell_type": "code",
   "execution_count": null,
   "metadata": {
    "id": "rzwI15LOPxD9"
   },
   "outputs": [],
   "source": []
  }
 ],
 "metadata": {
  "colab": {
   "provenance": [
    {
     "file_id": "https://github.com/OkoksNeDam/GeoinformationDataAnalysis/blob/main/GeoinformationDataAnalysis/prophet.ipynb",
     "timestamp": 1696246551032
    }
   ]
  },
  "kernelspec": {
   "display_name": "Python 3 (ipykernel)",
   "language": "python",
   "name": "python3"
  },
  "language_info": {
   "codemirror_mode": {
    "name": "ipython",
    "version": 3
   },
   "file_extension": ".py",
   "mimetype": "text/x-python",
   "name": "python",
   "nbconvert_exporter": "python",
   "pygments_lexer": "ipython3",
   "version": "3.9.12"
  },
  "nbTranslate": {
   "displayLangs": [
    "*"
   ],
   "hotkey": "alt-t",
   "langInMainMenu": true,
   "sourceLang": "en",
   "targetLang": "fr",
   "useGoogleTranslate": true
  },
  "toc": {
   "base_numbering": 1,
   "nav_menu": {},
   "number_sections": true,
   "sideBar": true,
   "skip_h1_title": false,
   "title_cell": "Table of Contents",
   "title_sidebar": "Contents",
   "toc_cell": false,
   "toc_position": {},
   "toc_section_display": true,
   "toc_window_display": false
  },
  "varInspector": {
   "cols": {
    "lenName": 16,
    "lenType": 16,
    "lenVar": 40
   },
   "kernels_config": {
    "python": {
     "delete_cmd_postfix": "",
     "delete_cmd_prefix": "del ",
     "library": "var_list.py",
     "varRefreshCmd": "print(var_dic_list())"
    },
    "r": {
     "delete_cmd_postfix": ") ",
     "delete_cmd_prefix": "rm(",
     "library": "var_list.r",
     "varRefreshCmd": "cat(var_dic_list()) "
    }
   },
   "types_to_exclude": [
    "module",
    "function",
    "builtin_function_or_method",
    "instance",
    "_Feature"
   ],
   "window_display": false
  }
 },
 "nbformat": 4,
 "nbformat_minor": 1
}
