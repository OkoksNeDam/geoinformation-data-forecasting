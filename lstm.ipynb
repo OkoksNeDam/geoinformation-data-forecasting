{
  "nbformat": 4,
  "nbformat_minor": 0,
  "metadata": {
    "colab": {
      "provenance": [],
      "collapsed_sections": [
        "XeNUedLxCCiL",
        "ltd33Bb8CIFv",
        "sU8T61sMCQEW",
        "6mfPBb_t64gh",
        "-1WYMpwj8e33",
        "UW2qBLaJ9BlW",
        "wFusQpas9B6d",
        "4xdnH0tu9De_",
        "IKUdTrrT9GXH",
        "P9Z8MNn29HEo",
        "aEJdz2bYA5Ri",
        "ANWlLDrlBDlc",
        "8wNWzLHKFQbq",
        "Avc16XexyfqR"
      ],
      "include_colab_link": true
    },
    "kernelspec": {
      "name": "python3",
      "display_name": "Python 3"
    },
    "language_info": {
      "name": "python"
    }
  },
  "cells": [
    {
      "cell_type": "markdown",
      "metadata": {
        "id": "view-in-github",
        "colab_type": "text"
      },
      "source": [
        "<a href=\"https://colab.research.google.com/github/OkoksNeDam/geoinformation-data-forecasting/blob/main/lstm.ipynb\" target=\"_parent\"><img src=\"https://colab.research.google.com/assets/colab-badge.svg\" alt=\"Open In Colab\"/></a>"
      ]
    },
    {
      "cell_type": "markdown",
      "source": [
        "# Forecasting data from KEV station with LSTM"
      ],
      "metadata": {
        "id": "EuXkRfMHB8j7"
      }
    },
    {
      "cell_type": "markdown",
      "source": [
        "## Import libraries"
      ],
      "metadata": {
        "id": "XeNUedLxCCiL"
      }
    },
    {
      "cell_type": "code",
      "source": [
        "import torch\n",
        "import pandas as pd\n",
        "import datetime\n",
        "import matplotlib.pyplot as plt\n",
        "import numpy as np\n",
        "from torch import nn\n",
        "import tensorflow as tf\n",
        "from tensorflow.keras.models import Sequential\n",
        "from tensorflow.keras.layers import *\n",
        "from tensorflow.keras.callbacks import ModelCheckpoint\n",
        "from tensorflow.keras.losses import MeanSquaredError\n",
        "from tensorflow.keras.metrics import RootMeanSquaredError\n",
        "from tensorflow.keras.optimizers import Adam, SGD\n",
        "from tqdm import tqdm\n",
        "from sklearn.metrics import mean_squared_error, mean_absolute_percentage_error\n",
        "from sklearn.impute import KNNImputer\n",
        "from IPython.display import clear_output\n",
        "from sklearn.preprocessing import StandardScaler\n",
        "import seaborn as sns\n",
        "import random\n",
        "import os\n",
        "import copy"
      ],
      "metadata": {
        "id": "_isJCshjPK79"
      },
      "execution_count": 1,
      "outputs": []
    },
    {
      "cell_type": "markdown",
      "source": [
        "## Seed everything"
      ],
      "metadata": {
        "id": "ltd33Bb8CIFv"
      }
    },
    {
      "cell_type": "code",
      "source": [
        "SEED = 42\n",
        "\n",
        "def seed_everything(seed: int):\n",
        "    random.seed(seed)\n",
        "    os.environ['PYTHONHASHSEED'] = str(seed)\n",
        "    np.random.seed(seed)\n",
        "    torch.manual_seed(seed)\n",
        "    torch.cuda.manual_seed(seed)\n",
        "    torch.backends.cudnn.deterministic = True\n",
        "    torch.backends.cudnn.benchmark = False\n",
        "    tf.random.set_seed(seed)\n",
        "\n",
        "def seed_worker(worker_id):\n",
        "    worker_seed = torch.initial_seed() % 2**32\n",
        "    np.random.seed(worker_seed)\n",
        "    random.seed(worker_seed)\n",
        "\n",
        "seed_everything(SEED)\n",
        "g = torch.Generator()\n",
        "g.manual_seed(SEED)"
      ],
      "metadata": {
        "colab": {
          "base_uri": "https://localhost:8080/"
        },
        "id": "1uVvgBkg61vi",
        "outputId": "87888235-540c-4622-8d0f-db2cc30aa540"
      },
      "execution_count": 85,
      "outputs": [
        {
          "output_type": "execute_result",
          "data": {
            "text/plain": [
              "<torch._C.Generator at 0x7a00a5f09210>"
            ]
          },
          "metadata": {},
          "execution_count": 85
        }
      ]
    },
    {
      "cell_type": "markdown",
      "source": [
        "## Install data"
      ],
      "metadata": {
        "id": "sU8T61sMCQEW"
      }
    },
    {
      "cell_type": "code",
      "execution_count": 3,
      "metadata": {
        "id": "sprBQfzdObRE"
      },
      "outputs": [],
      "source": [
        "import gdown\n",
        "# Main data.\n",
        "data_url         = 'https://drive.google.com/drive/folders/1HH70Q8NDpA3kPflrldGSdYRUs5tWxclI?usp=sharing'\n",
        "\n",
        "links = [data_url]\n",
        "\n",
        "# Downloading data.\n",
        "for url in links:\n",
        "    gdown.download_folder(url, quiet=True)"
      ]
    },
    {
      "cell_type": "code",
      "source": [
        "df_train, df_val, df_test = pd.read_csv('/content/data/train/train.csv'), pd.read_csv('/content/data/val/val.csv'), pd.read_csv('/content/data/test/test.csv')"
      ],
      "metadata": {
        "id": "4lZ1UpP6QPGt"
      },
      "execution_count": 4,
      "outputs": []
    },
    {
      "cell_type": "code",
      "source": [
        "df_train.head()"
      ],
      "metadata": {
        "colab": {
          "base_uri": "https://localhost:8080/",
          "height": 394
        },
        "id": "5u7erWzYdHZV",
        "outputId": "2a5d2359-8be0-4712-c140-98b2969a7830"
      },
      "execution_count": 5,
      "outputs": [
        {
          "output_type": "execute_result",
          "data": {
            "text/plain": [
              "                    ds       y\n",
              "0  2003-01-01 01:00:00  1824.7\n",
              "1  2003-01-01 02:00:00  1823.6\n",
              "2  2003-01-01 03:00:00  1814.7\n",
              "3  2003-01-01 04:00:00  1816.8\n",
              "4  2003-01-01 05:00:00  1816.4"
            ],
            "text/html": [
              "\n",
              "  <div id=\"df-591d25e2-9786-4084-84d1-b4aec639b37a\" class=\"colab-df-container\">\n",
              "    <div>\n",
              "<style scoped>\n",
              "    .dataframe tbody tr th:only-of-type {\n",
              "        vertical-align: middle;\n",
              "    }\n",
              "\n",
              "    .dataframe tbody tr th {\n",
              "        vertical-align: top;\n",
              "    }\n",
              "\n",
              "    .dataframe thead th {\n",
              "        text-align: right;\n",
              "    }\n",
              "</style>\n",
              "<table border=\"1\" class=\"dataframe\">\n",
              "  <thead>\n",
              "    <tr style=\"text-align: right;\">\n",
              "      <th></th>\n",
              "      <th>ds</th>\n",
              "      <th>y</th>\n",
              "    </tr>\n",
              "  </thead>\n",
              "  <tbody>\n",
              "    <tr>\n",
              "      <th>0</th>\n",
              "      <td>2003-01-01 01:00:00</td>\n",
              "      <td>1824.7</td>\n",
              "    </tr>\n",
              "    <tr>\n",
              "      <th>1</th>\n",
              "      <td>2003-01-01 02:00:00</td>\n",
              "      <td>1823.6</td>\n",
              "    </tr>\n",
              "    <tr>\n",
              "      <th>2</th>\n",
              "      <td>2003-01-01 03:00:00</td>\n",
              "      <td>1814.7</td>\n",
              "    </tr>\n",
              "    <tr>\n",
              "      <th>3</th>\n",
              "      <td>2003-01-01 04:00:00</td>\n",
              "      <td>1816.8</td>\n",
              "    </tr>\n",
              "    <tr>\n",
              "      <th>4</th>\n",
              "      <td>2003-01-01 05:00:00</td>\n",
              "      <td>1816.4</td>\n",
              "    </tr>\n",
              "  </tbody>\n",
              "</table>\n",
              "</div>\n",
              "    <div class=\"colab-df-buttons\">\n",
              "\n",
              "  <div class=\"colab-df-container\">\n",
              "    <button class=\"colab-df-convert\" onclick=\"convertToInteractive('df-591d25e2-9786-4084-84d1-b4aec639b37a')\"\n",
              "            title=\"Convert this dataframe to an interactive table.\"\n",
              "            style=\"display:none;\">\n",
              "\n",
              "  <svg xmlns=\"http://www.w3.org/2000/svg\" height=\"24px\" viewBox=\"0 -960 960 960\">\n",
              "    <path d=\"M120-120v-720h720v720H120Zm60-500h600v-160H180v160Zm220 220h160v-160H400v160Zm0 220h160v-160H400v160ZM180-400h160v-160H180v160Zm440 0h160v-160H620v160ZM180-180h160v-160H180v160Zm440 0h160v-160H620v160Z\"/>\n",
              "  </svg>\n",
              "    </button>\n",
              "\n",
              "  <style>\n",
              "    .colab-df-container {\n",
              "      display:flex;\n",
              "      gap: 12px;\n",
              "    }\n",
              "\n",
              "    .colab-df-convert {\n",
              "      background-color: #E8F0FE;\n",
              "      border: none;\n",
              "      border-radius: 50%;\n",
              "      cursor: pointer;\n",
              "      display: none;\n",
              "      fill: #1967D2;\n",
              "      height: 32px;\n",
              "      padding: 0 0 0 0;\n",
              "      width: 32px;\n",
              "    }\n",
              "\n",
              "    .colab-df-convert:hover {\n",
              "      background-color: #E2EBFA;\n",
              "      box-shadow: 0px 1px 2px rgba(60, 64, 67, 0.3), 0px 1px 3px 1px rgba(60, 64, 67, 0.15);\n",
              "      fill: #174EA6;\n",
              "    }\n",
              "\n",
              "    .colab-df-buttons div {\n",
              "      margin-bottom: 4px;\n",
              "    }\n",
              "\n",
              "    [theme=dark] .colab-df-convert {\n",
              "      background-color: #3B4455;\n",
              "      fill: #D2E3FC;\n",
              "    }\n",
              "\n",
              "    [theme=dark] .colab-df-convert:hover {\n",
              "      background-color: #434B5C;\n",
              "      box-shadow: 0px 1px 3px 1px rgba(0, 0, 0, 0.15);\n",
              "      filter: drop-shadow(0px 1px 2px rgba(0, 0, 0, 0.3));\n",
              "      fill: #FFFFFF;\n",
              "    }\n",
              "  </style>\n",
              "\n",
              "    <script>\n",
              "      const buttonEl =\n",
              "        document.querySelector('#df-591d25e2-9786-4084-84d1-b4aec639b37a button.colab-df-convert');\n",
              "      buttonEl.style.display =\n",
              "        google.colab.kernel.accessAllowed ? 'block' : 'none';\n",
              "\n",
              "      async function convertToInteractive(key) {\n",
              "        const element = document.querySelector('#df-591d25e2-9786-4084-84d1-b4aec639b37a');\n",
              "        const dataTable =\n",
              "          await google.colab.kernel.invokeFunction('convertToInteractive',\n",
              "                                                    [key], {});\n",
              "        if (!dataTable) return;\n",
              "\n",
              "        const docLinkHtml = 'Like what you see? Visit the ' +\n",
              "          '<a target=\"_blank\" href=https://colab.research.google.com/notebooks/data_table.ipynb>data table notebook</a>'\n",
              "          + ' to learn more about interactive tables.';\n",
              "        element.innerHTML = '';\n",
              "        dataTable['output_type'] = 'display_data';\n",
              "        await google.colab.output.renderOutput(dataTable, element);\n",
              "        const docLink = document.createElement('div');\n",
              "        docLink.innerHTML = docLinkHtml;\n",
              "        element.appendChild(docLink);\n",
              "      }\n",
              "    </script>\n",
              "  </div>\n",
              "\n",
              "\n",
              "<div id=\"df-534cf293-6357-4313-9f77-b5a974fd8321\">\n",
              "  <button class=\"colab-df-quickchart\" onclick=\"quickchart('df-534cf293-6357-4313-9f77-b5a974fd8321')\"\n",
              "            title=\"Suggest charts\"\n",
              "            style=\"display:none;\">\n",
              "\n",
              "<svg xmlns=\"http://www.w3.org/2000/svg\" height=\"24px\"viewBox=\"0 0 24 24\"\n",
              "     width=\"24px\">\n",
              "    <g>\n",
              "        <path d=\"M19 3H5c-1.1 0-2 .9-2 2v14c0 1.1.9 2 2 2h14c1.1 0 2-.9 2-2V5c0-1.1-.9-2-2-2zM9 17H7v-7h2v7zm4 0h-2V7h2v10zm4 0h-2v-4h2v4z\"/>\n",
              "    </g>\n",
              "</svg>\n",
              "  </button>\n",
              "\n",
              "<style>\n",
              "  .colab-df-quickchart {\n",
              "      --bg-color: #E8F0FE;\n",
              "      --fill-color: #1967D2;\n",
              "      --hover-bg-color: #E2EBFA;\n",
              "      --hover-fill-color: #174EA6;\n",
              "      --disabled-fill-color: #AAA;\n",
              "      --disabled-bg-color: #DDD;\n",
              "  }\n",
              "\n",
              "  [theme=dark] .colab-df-quickchart {\n",
              "      --bg-color: #3B4455;\n",
              "      --fill-color: #D2E3FC;\n",
              "      --hover-bg-color: #434B5C;\n",
              "      --hover-fill-color: #FFFFFF;\n",
              "      --disabled-bg-color: #3B4455;\n",
              "      --disabled-fill-color: #666;\n",
              "  }\n",
              "\n",
              "  .colab-df-quickchart {\n",
              "    background-color: var(--bg-color);\n",
              "    border: none;\n",
              "    border-radius: 50%;\n",
              "    cursor: pointer;\n",
              "    display: none;\n",
              "    fill: var(--fill-color);\n",
              "    height: 32px;\n",
              "    padding: 0;\n",
              "    width: 32px;\n",
              "  }\n",
              "\n",
              "  .colab-df-quickchart:hover {\n",
              "    background-color: var(--hover-bg-color);\n",
              "    box-shadow: 0 1px 2px rgba(60, 64, 67, 0.3), 0 1px 3px 1px rgba(60, 64, 67, 0.15);\n",
              "    fill: var(--button-hover-fill-color);\n",
              "  }\n",
              "\n",
              "  .colab-df-quickchart-complete:disabled,\n",
              "  .colab-df-quickchart-complete:disabled:hover {\n",
              "    background-color: var(--disabled-bg-color);\n",
              "    fill: var(--disabled-fill-color);\n",
              "    box-shadow: none;\n",
              "  }\n",
              "\n",
              "  .colab-df-spinner {\n",
              "    border: 2px solid var(--fill-color);\n",
              "    border-color: transparent;\n",
              "    border-bottom-color: var(--fill-color);\n",
              "    animation:\n",
              "      spin 1s steps(1) infinite;\n",
              "  }\n",
              "\n",
              "  @keyframes spin {\n",
              "    0% {\n",
              "      border-color: transparent;\n",
              "      border-bottom-color: var(--fill-color);\n",
              "      border-left-color: var(--fill-color);\n",
              "    }\n",
              "    20% {\n",
              "      border-color: transparent;\n",
              "      border-left-color: var(--fill-color);\n",
              "      border-top-color: var(--fill-color);\n",
              "    }\n",
              "    30% {\n",
              "      border-color: transparent;\n",
              "      border-left-color: var(--fill-color);\n",
              "      border-top-color: var(--fill-color);\n",
              "      border-right-color: var(--fill-color);\n",
              "    }\n",
              "    40% {\n",
              "      border-color: transparent;\n",
              "      border-right-color: var(--fill-color);\n",
              "      border-top-color: var(--fill-color);\n",
              "    }\n",
              "    60% {\n",
              "      border-color: transparent;\n",
              "      border-right-color: var(--fill-color);\n",
              "    }\n",
              "    80% {\n",
              "      border-color: transparent;\n",
              "      border-right-color: var(--fill-color);\n",
              "      border-bottom-color: var(--fill-color);\n",
              "    }\n",
              "    90% {\n",
              "      border-color: transparent;\n",
              "      border-bottom-color: var(--fill-color);\n",
              "    }\n",
              "  }\n",
              "</style>\n",
              "\n",
              "  <script>\n",
              "    async function quickchart(key) {\n",
              "      const quickchartButtonEl =\n",
              "        document.querySelector('#' + key + ' button');\n",
              "      quickchartButtonEl.disabled = true;  // To prevent multiple clicks.\n",
              "      quickchartButtonEl.classList.add('colab-df-spinner');\n",
              "      try {\n",
              "        const charts = await google.colab.kernel.invokeFunction(\n",
              "            'suggestCharts', [key], {});\n",
              "      } catch (error) {\n",
              "        console.error('Error during call to suggestCharts:', error);\n",
              "      }\n",
              "      quickchartButtonEl.classList.remove('colab-df-spinner');\n",
              "      quickchartButtonEl.classList.add('colab-df-quickchart-complete');\n",
              "    }\n",
              "    (() => {\n",
              "      let quickchartButtonEl =\n",
              "        document.querySelector('#df-534cf293-6357-4313-9f77-b5a974fd8321 button');\n",
              "      quickchartButtonEl.style.display =\n",
              "        google.colab.kernel.accessAllowed ? 'block' : 'none';\n",
              "    })();\n",
              "  </script>\n",
              "</div>\n",
              "    </div>\n",
              "  </div>\n"
            ]
          },
          "metadata": {},
          "execution_count": 5
        }
      ]
    },
    {
      "cell_type": "markdown",
      "source": [
        "## Some functions"
      ],
      "metadata": {
        "id": "6mfPBb_t64gh"
      }
    },
    {
      "cell_type": "markdown",
      "source": [
        "Define method for fill missing values"
      ],
      "metadata": {
        "id": "9eNDBB8bDIyr"
      }
    },
    {
      "cell_type": "code",
      "source": [
        "def fill_missing_values(dataframe, method):\n",
        "    dataframe = dataframe.copy(deep=True)\n",
        "    # fill with mean.\n",
        "    if method == 'mean':\n",
        "        return dataframe.fillna(dataframe.mean(numeric_only=True).round(1))\n",
        "    # fill with median.\n",
        "    if method == 'median':\n",
        "        return dataframe.fillna(dataframe.median(numeric_only=True).round(1))\n",
        "    # if there are nan left, fill with bfill.\n",
        "    if method == 'ffill':\n",
        "        return dataframe.fillna(method=method).fillna(method='bfill')\n",
        "    # filling occurs with next values.\n",
        "    # if there are nan left, fill with ffill.\n",
        "    if method == 'bfill':\n",
        "        return dataframe.fillna(method=method).fillna(method='ffill')\n",
        "    # fill with backward interpolation.\n",
        "    # if there are nan left, fill with forward.\n",
        "    if method == 'interpolate_backward':\n",
        "        return dataframe.apply(lambda col: col.interpolate(method ='linear', limit_direction ='backward')\n",
        "                                              .interpolate(method ='linear', limit_direction ='forward') if col.name != \"ds\" else col)\n",
        "    # fill with knn method.\n",
        "    if method == 'knn':\n",
        "        imputer = KNNImputer(n_neighbors=15)\n",
        "        dataframe = dataframe.apply(lambda col: imputer.fit_transform(col.to_numpy().reshape(-1, 1)).T[0] if col.name != \"ds\" else col)\n",
        "        return dataframe\n",
        "\n",
        "    return dataframe"
      ],
      "metadata": {
        "id": "AkQi6C7ok1W-"
      },
      "execution_count": 6,
      "outputs": []
    },
    {
      "cell_type": "markdown",
      "source": [
        "Method to split data into sequences"
      ],
      "metadata": {
        "id": "Cr0YcLARDOuO"
      }
    },
    {
      "cell_type": "code",
      "source": [
        "def df_to_X_y(df, window_size=5):\n",
        "  df_as_np = df.to_numpy()\n",
        "  X = []\n",
        "  y = []\n",
        "  for i in range(len(df_as_np)-window_size):\n",
        "    row = [[a] for a in df_as_np[i:i+window_size]]\n",
        "    X.append(row)\n",
        "    label = df_as_np[i+window_size]\n",
        "    y.append(label)\n",
        "  return np.array(X), np.array(y)"
      ],
      "metadata": {
        "id": "q2ymUkTYByIH"
      },
      "execution_count": 7,
      "outputs": []
    },
    {
      "cell_type": "markdown",
      "source": [
        "Method for calculating smape metric"
      ],
      "metadata": {
        "id": "9wtNLl3bEXV7"
      }
    },
    {
      "cell_type": "code",
      "source": [
        "def calc_smape(actual, predicted) -> float:\n",
        "\n",
        "    # Convert actual and predicted to numpy\n",
        "    # array data type if not already\n",
        "    if not all([isinstance(actual, np.ndarray),\n",
        "                isinstance(predicted, np.ndarray)]):\n",
        "        actual, predicted = np.array(actual), np.array(predicted)\n",
        "\n",
        "    return np.mean(np.abs(predicted - actual) / ((np.abs(predicted) + np.abs(actual)) / 2) ) * 100"
      ],
      "metadata": {
        "id": "PsIxr6_vtn-Z"
      },
      "execution_count": 8,
      "outputs": []
    },
    {
      "cell_type": "markdown",
      "source": [
        "Visualization of metrics while training"
      ],
      "metadata": {
        "id": "YoT3avokEegC"
      }
    },
    {
      "cell_type": "code",
      "source": [
        "sns.set_style('whitegrid')\n",
        "plt.rcParams.update({'font.size': 15})\n",
        "\n",
        "\n",
        "def plot_metrics(train_losses, val_mape, val_smape):\n",
        "    clear_output()\n",
        "    fig, axs = plt.subplots(1, 2, figsize=(13, 4))\n",
        "    axs[0].plot(range(1, len(train_losses) + 1), train_losses, label='train loss')\n",
        "    axs[0].set_ylabel('loss')\n",
        "\n",
        "    axs[1].plot(range(1, len(val_mape) + 1), val_mape, label='val mape')\n",
        "    axs[1].plot(range(1, len(val_smape) + 1), val_smape, label='val smape')\n",
        "    axs[1].set_ylabel('mape/smape')\n",
        "\n",
        "    for ax in axs:\n",
        "        ax.set_xlabel('epoch')\n",
        "        ax.legend()\n",
        "\n",
        "    plt.show()"
      ],
      "metadata": {
        "id": "AxCH0h9plv1t"
      },
      "execution_count": 9,
      "outputs": []
    },
    {
      "cell_type": "code",
      "source": [
        "def find_best_metric_by_filling_method(train, val, method):\n",
        "    df_train_filled = fill_missing_values(train, method=method)\n",
        "    df_val_filled = fill_missing_values(val, method=method)\n",
        "\n",
        "    scaler = StandardScaler()\n",
        "    df_train_filled.y = scaler.fit_transform(np.array(df_train_filled.y).reshape(-1, 1)).T[0]\n",
        "    df_val_filled.y = scaler.transform(np.array(df_val_filled.y).reshape(-1, 1)).T[0]\n",
        "\n",
        "    df_train_filled.index = pd.to_datetime(df_train_filled['ds'], format='%Y-%m-%d %H:%M:%S')\n",
        "    df_val_filled.index = pd.to_datetime(df_val_filled['ds'], format='%Y-%m-%d %H:%M:%S')\n",
        "\n",
        "    df_train_filled.drop(columns=['ds'], inplace=True)\n",
        "    df_val_filled.drop(columns=['ds'], inplace=True)\n",
        "\n",
        "    WINDOW_SIZE = 5\n",
        "\n",
        "    X_train, y_train = df_to_X_y(df_train_filled, WINDOW_SIZE)\n",
        "    X_val, y_val = df_to_X_y(df_val_filled, WINDOW_SIZE)\n",
        "\n",
        "    model = Sequential()\n",
        "    model.add(InputLayer((5, 1)))\n",
        "    model.add(LSTM(64))\n",
        "    model.add(Dense(8, 'relu'))\n",
        "    model.add(Dense(1, 'linear'))\n",
        "\n",
        "    model.compile(loss=MeanSquaredError(), optimizer=SGD(learning_rate=0.001, momentum=0.9), metrics=[RootMeanSquaredError()])\n",
        "    model_history = model.fit(X_train, y_train, validation_data=(X_val, y_val), epochs=20)\n",
        "\n",
        "    return min(model_history.history['val_loss'])"
      ],
      "metadata": {
        "id": "S42huGgprqpg"
      },
      "execution_count": 10,
      "outputs": []
    },
    {
      "cell_type": "markdown",
      "source": [
        "## Find best method for filling missing values:"
      ],
      "metadata": {
        "id": "-1WYMpwj8e33"
      }
    },
    {
      "cell_type": "markdown",
      "source": [
        "### 1. Fill NaN values with <i><b>mean</b></i> method."
      ],
      "metadata": {
        "id": "6oGcqjFc89oJ"
      }
    },
    {
      "cell_type": "code",
      "source": [
        "mean_best_val_loss = find_best_metric_by_filling_method(df_train, df_val, 'mean')"
      ],
      "metadata": {
        "colab": {
          "base_uri": "https://localhost:8080/"
        },
        "id": "eaJfvrdhs3i4",
        "outputId": "4ff4de10-ec14-48d9-bd6b-e771dbdc889f"
      },
      "execution_count": null,
      "outputs": [
        {
          "output_type": "stream",
          "name": "stdout",
          "text": [
            "Epoch 1/20\n",
            "4553/4553 [==============================] - 31s 6ms/step - loss: 0.0347 - root_mean_squared_error: 0.1863 - val_loss: 0.0290 - val_root_mean_squared_error: 0.1704\n",
            "Epoch 2/20\n",
            "4553/4553 [==============================] - 30s 6ms/step - loss: 0.0169 - root_mean_squared_error: 0.1301 - val_loss: 0.0176 - val_root_mean_squared_error: 0.1327\n",
            "Epoch 3/20\n",
            "4553/4553 [==============================] - 30s 7ms/step - loss: 0.0158 - root_mean_squared_error: 0.1258 - val_loss: 0.0166 - val_root_mean_squared_error: 0.1290\n",
            "Epoch 4/20\n",
            "4553/4553 [==============================] - 38s 8ms/step - loss: 0.0151 - root_mean_squared_error: 0.1228 - val_loss: 0.0158 - val_root_mean_squared_error: 0.1258\n",
            "Epoch 5/20\n",
            "4553/4553 [==============================] - 32s 7ms/step - loss: 0.0146 - root_mean_squared_error: 0.1209 - val_loss: 0.0148 - val_root_mean_squared_error: 0.1216\n",
            "Epoch 6/20\n",
            "4553/4553 [==============================] - 31s 7ms/step - loss: 0.0144 - root_mean_squared_error: 0.1199 - val_loss: 0.0129 - val_root_mean_squared_error: 0.1137\n",
            "Epoch 7/20\n",
            "4553/4553 [==============================] - 32s 7ms/step - loss: 0.0143 - root_mean_squared_error: 0.1194 - val_loss: 0.0143 - val_root_mean_squared_error: 0.1196\n",
            "Epoch 8/20\n",
            "4553/4553 [==============================] - 30s 7ms/step - loss: 0.0142 - root_mean_squared_error: 0.1192 - val_loss: 0.0131 - val_root_mean_squared_error: 0.1144\n",
            "Epoch 9/20\n",
            "4553/4553 [==============================] - 30s 7ms/step - loss: 0.0142 - root_mean_squared_error: 0.1190 - val_loss: 0.0127 - val_root_mean_squared_error: 0.1126\n",
            "Epoch 10/20\n",
            "4553/4553 [==============================] - 32s 7ms/step - loss: 0.0141 - root_mean_squared_error: 0.1189 - val_loss: 0.0151 - val_root_mean_squared_error: 0.1230\n",
            "Epoch 11/20\n",
            "4553/4553 [==============================] - 29s 6ms/step - loss: 0.0141 - root_mean_squared_error: 0.1188 - val_loss: 0.0140 - val_root_mean_squared_error: 0.1185\n",
            "Epoch 12/20\n",
            "4553/4553 [==============================] - 33s 7ms/step - loss: 0.0141 - root_mean_squared_error: 0.1187 - val_loss: 0.0151 - val_root_mean_squared_error: 0.1229\n",
            "Epoch 13/20\n",
            "4553/4553 [==============================] - 30s 7ms/step - loss: 0.0140 - root_mean_squared_error: 0.1185 - val_loss: 0.0154 - val_root_mean_squared_error: 0.1240\n",
            "Epoch 14/20\n",
            "4553/4553 [==============================] - 32s 7ms/step - loss: 0.0140 - root_mean_squared_error: 0.1184 - val_loss: 0.0144 - val_root_mean_squared_error: 0.1201\n",
            "Epoch 15/20\n",
            "4553/4553 [==============================] - 31s 7ms/step - loss: 0.0140 - root_mean_squared_error: 0.1183 - val_loss: 0.0163 - val_root_mean_squared_error: 0.1276\n",
            "Epoch 16/20\n",
            "4553/4553 [==============================] - 34s 7ms/step - loss: 0.0140 - root_mean_squared_error: 0.1182 - val_loss: 0.0134 - val_root_mean_squared_error: 0.1156\n",
            "Epoch 17/20\n",
            "4553/4553 [==============================] - 34s 7ms/step - loss: 0.0140 - root_mean_squared_error: 0.1182 - val_loss: 0.0152 - val_root_mean_squared_error: 0.1232\n",
            "Epoch 18/20\n",
            "4553/4553 [==============================] - 31s 7ms/step - loss: 0.0139 - root_mean_squared_error: 0.1180 - val_loss: 0.0164 - val_root_mean_squared_error: 0.1281\n",
            "Epoch 19/20\n",
            "4553/4553 [==============================] - 33s 7ms/step - loss: 0.0139 - root_mean_squared_error: 0.1180 - val_loss: 0.0179 - val_root_mean_squared_error: 0.1339\n",
            "Epoch 20/20\n",
            "4553/4553 [==============================] - 29s 6ms/step - loss: 0.0139 - root_mean_squared_error: 0.1179 - val_loss: 0.0150 - val_root_mean_squared_error: 0.1223\n"
          ]
        }
      ]
    },
    {
      "cell_type": "code",
      "source": [
        "print(f'Best val_loss for mean: ', mean_best_val_loss)"
      ],
      "metadata": {
        "id": "xV8JQEQvpt31",
        "colab": {
          "base_uri": "https://localhost:8080/"
        },
        "outputId": "756abc45-41ba-4e64-9428-c38013bbb0ab"
      },
      "execution_count": null,
      "outputs": [
        {
          "output_type": "stream",
          "name": "stdout",
          "text": [
            "Best val_loss for mean:  0.012667709030210972\n"
          ]
        }
      ]
    },
    {
      "cell_type": "markdown",
      "source": [
        "### 2. Fill NaN values with <i><b>median</b></i> method."
      ],
      "metadata": {
        "id": "UW2qBLaJ9BlW"
      }
    },
    {
      "cell_type": "code",
      "source": [
        "median_best_val_loss = find_best_metric_by_filling_method(df_train, df_val, 'median')"
      ],
      "metadata": {
        "colab": {
          "base_uri": "https://localhost:8080/"
        },
        "outputId": "3af37783-ed07-4abc-acc0-c960679c3708",
        "id": "k3ktFIeVuCqI"
      },
      "execution_count": null,
      "outputs": [
        {
          "output_type": "stream",
          "name": "stdout",
          "text": [
            "Epoch 1/20\n",
            "4553/4553 [==============================] - 33s 7ms/step - loss: 0.0301 - root_mean_squared_error: 0.1735 - val_loss: 0.0477 - val_root_mean_squared_error: 0.2185\n",
            "Epoch 2/20\n",
            "4553/4553 [==============================] - 31s 7ms/step - loss: 0.0171 - root_mean_squared_error: 0.1308 - val_loss: 0.0359 - val_root_mean_squared_error: 0.1896\n",
            "Epoch 3/20\n",
            "4553/4553 [==============================] - 31s 7ms/step - loss: 0.0161 - root_mean_squared_error: 0.1268 - val_loss: 0.0339 - val_root_mean_squared_error: 0.1840\n",
            "Epoch 4/20\n",
            "4553/4553 [==============================] - 33s 7ms/step - loss: 0.0153 - root_mean_squared_error: 0.1238 - val_loss: 0.0364 - val_root_mean_squared_error: 0.1908\n",
            "Epoch 5/20\n",
            "4553/4553 [==============================] - 31s 7ms/step - loss: 0.0148 - root_mean_squared_error: 0.1218 - val_loss: 0.0343 - val_root_mean_squared_error: 0.1852\n",
            "Epoch 6/20\n",
            "4553/4553 [==============================] - 33s 7ms/step - loss: 0.0146 - root_mean_squared_error: 0.1206 - val_loss: 0.0311 - val_root_mean_squared_error: 0.1762\n",
            "Epoch 7/20\n",
            "4553/4553 [==============================] - 31s 7ms/step - loss: 0.0144 - root_mean_squared_error: 0.1201 - val_loss: 0.0317 - val_root_mean_squared_error: 0.1781\n",
            "Epoch 8/20\n",
            "4553/4553 [==============================] - 31s 7ms/step - loss: 0.0144 - root_mean_squared_error: 0.1199 - val_loss: 0.0358 - val_root_mean_squared_error: 0.1893\n",
            "Epoch 9/20\n",
            "4553/4553 [==============================] - 31s 7ms/step - loss: 0.0143 - root_mean_squared_error: 0.1198 - val_loss: 0.0314 - val_root_mean_squared_error: 0.1773\n",
            "Epoch 10/20\n",
            "4553/4553 [==============================] - 40s 9ms/step - loss: 0.0143 - root_mean_squared_error: 0.1196 - val_loss: 0.0370 - val_root_mean_squared_error: 0.1923\n",
            "Epoch 11/20\n",
            "4553/4553 [==============================] - 37s 8ms/step - loss: 0.0143 - root_mean_squared_error: 0.1195 - val_loss: 0.0340 - val_root_mean_squared_error: 0.1844\n",
            "Epoch 12/20\n",
            "4553/4553 [==============================] - 37s 8ms/step - loss: 0.0143 - root_mean_squared_error: 0.1194 - val_loss: 0.0355 - val_root_mean_squared_error: 0.1884\n",
            "Epoch 13/20\n",
            "4553/4553 [==============================] - 40s 9ms/step - loss: 0.0142 - root_mean_squared_error: 0.1193 - val_loss: 0.0348 - val_root_mean_squared_error: 0.1866\n",
            "Epoch 14/20\n",
            "4553/4553 [==============================] - 31s 7ms/step - loss: 0.0142 - root_mean_squared_error: 0.1192 - val_loss: 0.0321 - val_root_mean_squared_error: 0.1791\n",
            "Epoch 15/20\n",
            "4553/4553 [==============================] - 31s 7ms/step - loss: 0.0142 - root_mean_squared_error: 0.1191 - val_loss: 0.0377 - val_root_mean_squared_error: 0.1941\n",
            "Epoch 16/20\n",
            "4553/4553 [==============================] - 46s 10ms/step - loss: 0.0142 - root_mean_squared_error: 0.1190 - val_loss: 0.0316 - val_root_mean_squared_error: 0.1777\n",
            "Epoch 17/20\n",
            "4553/4553 [==============================] - 47s 10ms/step - loss: 0.0141 - root_mean_squared_error: 0.1189 - val_loss: 0.0362 - val_root_mean_squared_error: 0.1904\n",
            "Epoch 18/20\n",
            "4553/4553 [==============================] - 40s 9ms/step - loss: 0.0141 - root_mean_squared_error: 0.1188 - val_loss: 0.0396 - val_root_mean_squared_error: 0.1991\n",
            "Epoch 19/20\n",
            "4553/4553 [==============================] - 30s 7ms/step - loss: 0.0141 - root_mean_squared_error: 0.1188 - val_loss: 0.0385 - val_root_mean_squared_error: 0.1962\n",
            "Epoch 20/20\n",
            "4553/4553 [==============================] - 30s 7ms/step - loss: 0.0141 - root_mean_squared_error: 0.1187 - val_loss: 0.0325 - val_root_mean_squared_error: 0.1803\n"
          ]
        }
      ]
    },
    {
      "cell_type": "code",
      "source": [
        "print(f'Best val_loss for median: ', median_best_val_loss)"
      ],
      "metadata": {
        "id": "gqFJCZWKuCqK",
        "colab": {
          "base_uri": "https://localhost:8080/"
        },
        "outputId": "3563ad60-b3b1-4162-eab9-c46c7b054d08"
      },
      "execution_count": null,
      "outputs": [
        {
          "output_type": "stream",
          "name": "stdout",
          "text": [
            "Best val_loss for median:  0.03105010837316513\n"
          ]
        }
      ]
    },
    {
      "cell_type": "markdown",
      "source": [
        "### 3. Fill NaN values with <i><b>ffill</b></i> method."
      ],
      "metadata": {
        "id": "wFusQpas9B6d"
      }
    },
    {
      "cell_type": "code",
      "source": [
        "ffill_best_val_loss = find_best_metric_by_filling_method(df_train, df_val, 'ffill')"
      ],
      "metadata": {
        "colab": {
          "base_uri": "https://localhost:8080/"
        },
        "outputId": "9dd5f812-e195-4b89-db1c-f9be0ed64293",
        "id": "r2bQXGc2uOOh"
      },
      "execution_count": null,
      "outputs": [
        {
          "output_type": "stream",
          "name": "stdout",
          "text": [
            "Epoch 1/20\n",
            "4553/4553 [==============================] - 43s 9ms/step - loss: 0.0261 - root_mean_squared_error: 0.1617 - val_loss: 0.0638 - val_root_mean_squared_error: 0.2525\n",
            "Epoch 2/20\n",
            "4553/4553 [==============================] - 34s 8ms/step - loss: 0.0140 - root_mean_squared_error: 0.1182 - val_loss: 0.0391 - val_root_mean_squared_error: 0.1977\n",
            "Epoch 3/20\n",
            "4553/4553 [==============================] - 50s 11ms/step - loss: 0.0132 - root_mean_squared_error: 0.1149 - val_loss: 0.0315 - val_root_mean_squared_error: 0.1776\n",
            "Epoch 4/20\n",
            "4553/4553 [==============================] - 27s 6ms/step - loss: 0.0127 - root_mean_squared_error: 0.1125 - val_loss: 0.0301 - val_root_mean_squared_error: 0.1734\n",
            "Epoch 5/20\n",
            "4553/4553 [==============================] - 27s 6ms/step - loss: 0.0123 - root_mean_squared_error: 0.1110 - val_loss: 0.0266 - val_root_mean_squared_error: 0.1630\n",
            "Epoch 6/20\n",
            "4553/4553 [==============================] - 43s 10ms/step - loss: 0.0121 - root_mean_squared_error: 0.1102 - val_loss: 0.0263 - val_root_mean_squared_error: 0.1621\n",
            "Epoch 7/20\n",
            "4553/4553 [==============================] - 25s 5ms/step - loss: 0.0120 - root_mean_squared_error: 0.1098 - val_loss: 0.0251 - val_root_mean_squared_error: 0.1583\n",
            "Epoch 8/20\n",
            "4553/4553 [==============================] - 30s 7ms/step - loss: 0.0120 - root_mean_squared_error: 0.1096 - val_loss: 0.0274 - val_root_mean_squared_error: 0.1655\n",
            "Epoch 9/20\n",
            "4553/4553 [==============================] - 29s 6ms/step - loss: 0.0120 - root_mean_squared_error: 0.1095 - val_loss: 0.0253 - val_root_mean_squared_error: 0.1591\n",
            "Epoch 10/20\n",
            "4553/4553 [==============================] - 26s 6ms/step - loss: 0.0120 - root_mean_squared_error: 0.1094 - val_loss: 0.0281 - val_root_mean_squared_error: 0.1676\n",
            "Epoch 11/20\n",
            "4553/4553 [==============================] - 32s 7ms/step - loss: 0.0119 - root_mean_squared_error: 0.1092 - val_loss: 0.0251 - val_root_mean_squared_error: 0.1583\n",
            "Epoch 12/20\n",
            "4553/4553 [==============================] - 25s 5ms/step - loss: 0.0119 - root_mean_squared_error: 0.1092 - val_loss: 0.0301 - val_root_mean_squared_error: 0.1734\n",
            "Epoch 13/20\n",
            "4553/4553 [==============================] - 26s 6ms/step - loss: 0.0119 - root_mean_squared_error: 0.1091 - val_loss: 0.0268 - val_root_mean_squared_error: 0.1637\n",
            "Epoch 14/20\n",
            "4553/4553 [==============================] - 26s 6ms/step - loss: 0.0119 - root_mean_squared_error: 0.1090 - val_loss: 0.0249 - val_root_mean_squared_error: 0.1579\n",
            "Epoch 15/20\n",
            "4553/4553 [==============================] - 28s 6ms/step - loss: 0.0119 - root_mean_squared_error: 0.1090 - val_loss: 0.0277 - val_root_mean_squared_error: 0.1664\n",
            "Epoch 16/20\n",
            "4553/4553 [==============================] - 25s 5ms/step - loss: 0.0119 - root_mean_squared_error: 0.1089 - val_loss: 0.0251 - val_root_mean_squared_error: 0.1585\n",
            "Epoch 17/20\n",
            "4553/4553 [==============================] - 27s 6ms/step - loss: 0.0118 - root_mean_squared_error: 0.1088 - val_loss: 0.0277 - val_root_mean_squared_error: 0.1663\n",
            "Epoch 18/20\n",
            "4553/4553 [==============================] - 26s 6ms/step - loss: 0.0118 - root_mean_squared_error: 0.1088 - val_loss: 0.0298 - val_root_mean_squared_error: 0.1726\n",
            "Epoch 19/20\n",
            "4553/4553 [==============================] - 43s 9ms/step - loss: 0.0118 - root_mean_squared_error: 0.1087 - val_loss: 0.0301 - val_root_mean_squared_error: 0.1736\n",
            "Epoch 20/20\n",
            "4553/4553 [==============================] - 39s 9ms/step - loss: 0.0118 - root_mean_squared_error: 0.1087 - val_loss: 0.0244 - val_root_mean_squared_error: 0.1562\n"
          ]
        }
      ]
    },
    {
      "cell_type": "code",
      "source": [
        "print(f'Best val_loss for ffill: ', ffill_best_val_loss)"
      ],
      "metadata": {
        "id": "PHYDHA7MuOOi",
        "colab": {
          "base_uri": "https://localhost:8080/"
        },
        "outputId": "3bd4653c-eadd-4cf8-f0c8-fc1f1c9a51cc"
      },
      "execution_count": null,
      "outputs": [
        {
          "output_type": "stream",
          "name": "stdout",
          "text": [
            "Best val_loss for ffill:  0.02440565824508667\n"
          ]
        }
      ]
    },
    {
      "cell_type": "markdown",
      "source": [
        "### 4. Fill NaN values with <i><b>bfill</b></i> method."
      ],
      "metadata": {
        "id": "4xdnH0tu9De_"
      }
    },
    {
      "cell_type": "code",
      "source": [
        "bfill_best_val_loss = find_best_metric_by_filling_method(df_train, df_val, 'bfill')"
      ],
      "metadata": {
        "colab": {
          "base_uri": "https://localhost:8080/"
        },
        "outputId": "49b166be-0e83-462b-8ca2-0dccd6245ea9",
        "id": "ZEqX3GejuYXz"
      },
      "execution_count": null,
      "outputs": [
        {
          "output_type": "stream",
          "name": "stdout",
          "text": [
            "Epoch 1/20\n",
            "4553/4553 [==============================] - 27s 6ms/step - loss: 0.0271 - root_mean_squared_error: 0.1647 - val_loss: 0.0511 - val_root_mean_squared_error: 0.2260\n",
            "Epoch 2/20\n",
            "4553/4553 [==============================] - 26s 6ms/step - loss: 0.0148 - root_mean_squared_error: 0.1216 - val_loss: 0.0326 - val_root_mean_squared_error: 0.1805\n",
            "Epoch 3/20\n",
            "4553/4553 [==============================] - 29s 6ms/step - loss: 0.0139 - root_mean_squared_error: 0.1180 - val_loss: 0.0256 - val_root_mean_squared_error: 0.1599\n",
            "Epoch 4/20\n",
            "4553/4553 [==============================] - 34s 7ms/step - loss: 0.0133 - root_mean_squared_error: 0.1152 - val_loss: 0.0203 - val_root_mean_squared_error: 0.1426\n",
            "Epoch 5/20\n",
            "4553/4553 [==============================] - 27s 6ms/step - loss: 0.0128 - root_mean_squared_error: 0.1130 - val_loss: 0.0172 - val_root_mean_squared_error: 0.1312\n",
            "Epoch 6/20\n",
            "4553/4553 [==============================] - 31s 7ms/step - loss: 0.0124 - root_mean_squared_error: 0.1115 - val_loss: 0.0151 - val_root_mean_squared_error: 0.1228\n",
            "Epoch 7/20\n",
            "4553/4553 [==============================] - 34s 8ms/step - loss: 0.0122 - root_mean_squared_error: 0.1106 - val_loss: 0.0153 - val_root_mean_squared_error: 0.1237\n",
            "Epoch 8/20\n",
            "4553/4553 [==============================] - 48s 10ms/step - loss: 0.0121 - root_mean_squared_error: 0.1101 - val_loss: 0.0159 - val_root_mean_squared_error: 0.1260\n",
            "Epoch 9/20\n",
            "4553/4553 [==============================] - 37s 8ms/step - loss: 0.0121 - root_mean_squared_error: 0.1098 - val_loss: 0.0172 - val_root_mean_squared_error: 0.1312\n",
            "Epoch 10/20\n",
            "4553/4553 [==============================] - 33s 7ms/step - loss: 0.0120 - root_mean_squared_error: 0.1096 - val_loss: 0.0248 - val_root_mean_squared_error: 0.1576\n",
            "Epoch 11/20\n",
            "4553/4553 [==============================] - 26s 6ms/step - loss: 0.0120 - root_mean_squared_error: 0.1094 - val_loss: 0.0268 - val_root_mean_squared_error: 0.1636\n",
            "Epoch 12/20\n",
            "4553/4553 [==============================] - 26s 6ms/step - loss: 0.0119 - root_mean_squared_error: 0.1093 - val_loss: 0.0325 - val_root_mean_squared_error: 0.1804\n",
            "Epoch 13/20\n",
            "4553/4553 [==============================] - 40s 9ms/step - loss: 0.0119 - root_mean_squared_error: 0.1092 - val_loss: 0.0331 - val_root_mean_squared_error: 0.1818\n",
            "Epoch 14/20\n",
            "4553/4553 [==============================] - 32s 7ms/step - loss: 0.0119 - root_mean_squared_error: 0.1091 - val_loss: 0.0305 - val_root_mean_squared_error: 0.1746\n",
            "Epoch 15/20\n",
            "4553/4553 [==============================] - 29s 6ms/step - loss: 0.0119 - root_mean_squared_error: 0.1090 - val_loss: 0.0324 - val_root_mean_squared_error: 0.1801\n",
            "Epoch 16/20\n",
            "4553/4553 [==============================] - 25s 6ms/step - loss: 0.0119 - root_mean_squared_error: 0.1089 - val_loss: 0.0301 - val_root_mean_squared_error: 0.1734\n",
            "Epoch 17/20\n",
            "4553/4553 [==============================] - 24s 5ms/step - loss: 0.0118 - root_mean_squared_error: 0.1089 - val_loss: 0.0335 - val_root_mean_squared_error: 0.1830\n",
            "Epoch 18/20\n",
            "4553/4553 [==============================] - 25s 5ms/step - loss: 0.0118 - root_mean_squared_error: 0.1088 - val_loss: 0.0368 - val_root_mean_squared_error: 0.1919\n",
            "Epoch 19/20\n",
            "4553/4553 [==============================] - 25s 5ms/step - loss: 0.0118 - root_mean_squared_error: 0.1087 - val_loss: 0.0350 - val_root_mean_squared_error: 0.1870\n",
            "Epoch 20/20\n",
            "4553/4553 [==============================] - 26s 6ms/step - loss: 0.0118 - root_mean_squared_error: 0.1087 - val_loss: 0.0300 - val_root_mean_squared_error: 0.1731\n"
          ]
        }
      ]
    },
    {
      "cell_type": "code",
      "source": [
        "print(f'Best val_loss for bfill: ', bfill_best_val_loss)"
      ],
      "metadata": {
        "id": "lI0TEKP_uYX1",
        "colab": {
          "base_uri": "https://localhost:8080/"
        },
        "outputId": "4537342a-a2bf-4e4b-a13d-4d4432c355fb"
      },
      "execution_count": null,
      "outputs": [
        {
          "output_type": "stream",
          "name": "stdout",
          "text": [
            "Best val_loss for bfill:  0.015073384158313274\n"
          ]
        }
      ]
    },
    {
      "cell_type": "markdown",
      "source": [
        "### 5. Fill NaN values with <i><b>interpolate_backward</b></i> method."
      ],
      "metadata": {
        "id": "IKUdTrrT9GXH"
      }
    },
    {
      "cell_type": "code",
      "source": [
        "interpolate_backward_best_val_loss = find_best_metric_by_filling_method(df_train, df_val, 'interpolate_backward')"
      ],
      "metadata": {
        "colab": {
          "base_uri": "https://localhost:8080/"
        },
        "outputId": "52bdeb4b-645f-4143-a313-0a93f1f084e6",
        "id": "z-qeQugfudZI"
      },
      "execution_count": null,
      "outputs": [
        {
          "output_type": "stream",
          "name": "stdout",
          "text": [
            "Epoch 1/20\n",
            "4553/4553 [==============================] - 29s 6ms/step - loss: 0.0218 - root_mean_squared_error: 0.1478 - val_loss: 0.0430 - val_root_mean_squared_error: 0.2073\n",
            "Epoch 2/20\n",
            "4553/4553 [==============================] - 26s 6ms/step - loss: 0.0141 - root_mean_squared_error: 0.1188 - val_loss: 0.0323 - val_root_mean_squared_error: 0.1796\n",
            "Epoch 3/20\n",
            "4553/4553 [==============================] - 25s 6ms/step - loss: 0.0135 - root_mean_squared_error: 0.1160 - val_loss: 0.0284 - val_root_mean_squared_error: 0.1686\n",
            "Epoch 4/20\n",
            "4553/4553 [==============================] - 24s 5ms/step - loss: 0.0129 - root_mean_squared_error: 0.1136 - val_loss: 0.0260 - val_root_mean_squared_error: 0.1611\n",
            "Epoch 5/20\n",
            "4553/4553 [==============================] - 24s 5ms/step - loss: 0.0125 - root_mean_squared_error: 0.1118 - val_loss: 0.0233 - val_root_mean_squared_error: 0.1526\n",
            "Epoch 6/20\n",
            "4553/4553 [==============================] - 27s 6ms/step - loss: 0.0122 - root_mean_squared_error: 0.1106 - val_loss: 0.0230 - val_root_mean_squared_error: 0.1518\n",
            "Epoch 7/20\n",
            "4553/4553 [==============================] - 27s 6ms/step - loss: 0.0121 - root_mean_squared_error: 0.1098 - val_loss: 0.0249 - val_root_mean_squared_error: 0.1577\n",
            "Epoch 8/20\n",
            "4553/4553 [==============================] - 26s 6ms/step - loss: 0.0120 - root_mean_squared_error: 0.1094 - val_loss: 0.0271 - val_root_mean_squared_error: 0.1645\n",
            "Epoch 9/20\n",
            "4553/4553 [==============================] - 25s 6ms/step - loss: 0.0119 - root_mean_squared_error: 0.1092 - val_loss: 0.0264 - val_root_mean_squared_error: 0.1625\n",
            "Epoch 10/20\n",
            "4553/4553 [==============================] - 24s 5ms/step - loss: 0.0119 - root_mean_squared_error: 0.1090 - val_loss: 0.0307 - val_root_mean_squared_error: 0.1751\n",
            "Epoch 11/20\n",
            "4553/4553 [==============================] - 23s 5ms/step - loss: 0.0119 - root_mean_squared_error: 0.1089 - val_loss: 0.0268 - val_root_mean_squared_error: 0.1637\n",
            "Epoch 12/20\n",
            "4553/4553 [==============================] - 25s 6ms/step - loss: 0.0118 - root_mean_squared_error: 0.1088 - val_loss: 0.0324 - val_root_mean_squared_error: 0.1800\n",
            "Epoch 13/20\n",
            "4553/4553 [==============================] - 27s 6ms/step - loss: 0.0118 - root_mean_squared_error: 0.1087 - val_loss: 0.0305 - val_root_mean_squared_error: 0.1746\n",
            "Epoch 14/20\n",
            "4553/4553 [==============================] - 28s 6ms/step - loss: 0.0118 - root_mean_squared_error: 0.1087 - val_loss: 0.0276 - val_root_mean_squared_error: 0.1662\n",
            "Epoch 15/20\n",
            "4553/4553 [==============================] - 28s 6ms/step - loss: 0.0118 - root_mean_squared_error: 0.1086 - val_loss: 0.0301 - val_root_mean_squared_error: 0.1735\n",
            "Epoch 16/20\n",
            "4553/4553 [==============================] - 24s 5ms/step - loss: 0.0118 - root_mean_squared_error: 0.1085 - val_loss: 0.0286 - val_root_mean_squared_error: 0.1690\n",
            "Epoch 17/20\n",
            "4553/4553 [==============================] - 24s 5ms/step - loss: 0.0118 - root_mean_squared_error: 0.1085 - val_loss: 0.0314 - val_root_mean_squared_error: 0.1773\n",
            "Epoch 18/20\n",
            "4553/4553 [==============================] - 27s 6ms/step - loss: 0.0118 - root_mean_squared_error: 0.1084 - val_loss: 0.0334 - val_root_mean_squared_error: 0.1828\n",
            "Epoch 19/20\n",
            "4553/4553 [==============================] - 29s 6ms/step - loss: 0.0118 - root_mean_squared_error: 0.1084 - val_loss: 0.0326 - val_root_mean_squared_error: 0.1806\n",
            "Epoch 20/20\n",
            "4553/4553 [==============================] - 28s 6ms/step - loss: 0.0117 - root_mean_squared_error: 0.1084 - val_loss: 0.0268 - val_root_mean_squared_error: 0.1636\n"
          ]
        }
      ]
    },
    {
      "cell_type": "code",
      "source": [
        "print(f'Best val_loss for interpolate_backward: ', interpolate_backward_best_val_loss)"
      ],
      "metadata": {
        "id": "GihiIRMpudZJ",
        "colab": {
          "base_uri": "https://localhost:8080/"
        },
        "outputId": "608d4039-e2a1-4014-efc7-32077b2b0b9d"
      },
      "execution_count": null,
      "outputs": [
        {
          "output_type": "stream",
          "name": "stdout",
          "text": [
            "Best val_loss for interpolate_backward:  0.023031016811728477\n"
          ]
        }
      ]
    },
    {
      "cell_type": "markdown",
      "source": [
        "### 6. Fill NaN values with <i><b>knn</b></i> method."
      ],
      "metadata": {
        "id": "P9Z8MNn29HEo"
      }
    },
    {
      "cell_type": "code",
      "source": [
        "knn_best_val_loss = find_best_metric_by_filling_method(df_train, df_val, 'knn')"
      ],
      "metadata": {
        "colab": {
          "base_uri": "https://localhost:8080/"
        },
        "outputId": "3be85d6a-b86d-40cf-b297-6f2162071cd0",
        "id": "_CoB1we9ujkA"
      },
      "execution_count": null,
      "outputs": [
        {
          "output_type": "stream",
          "name": "stdout",
          "text": [
            "Epoch 1/20\n",
            "4553/4553 [==============================] - 29s 6ms/step - loss: 0.0294 - root_mean_squared_error: 0.1715 - val_loss: 0.0611 - val_root_mean_squared_error: 0.2471\n",
            "Epoch 2/20\n",
            "4553/4553 [==============================] - 25s 5ms/step - loss: 0.0167 - root_mean_squared_error: 0.1292 - val_loss: 0.0344 - val_root_mean_squared_error: 0.1855\n",
            "Epoch 3/20\n",
            "4553/4553 [==============================] - 26s 6ms/step - loss: 0.0158 - root_mean_squared_error: 0.1256 - val_loss: 0.0254 - val_root_mean_squared_error: 0.1592\n",
            "Epoch 4/20\n",
            "4553/4553 [==============================] - 27s 6ms/step - loss: 0.0151 - root_mean_squared_error: 0.1228 - val_loss: 0.0223 - val_root_mean_squared_error: 0.1492\n",
            "Epoch 5/20\n",
            "4553/4553 [==============================] - 25s 6ms/step - loss: 0.0146 - root_mean_squared_error: 0.1208 - val_loss: 0.0201 - val_root_mean_squared_error: 0.1419\n",
            "Epoch 6/20\n",
            "4553/4553 [==============================] - 25s 6ms/step - loss: 0.0143 - root_mean_squared_error: 0.1197 - val_loss: 0.0181 - val_root_mean_squared_error: 0.1346\n",
            "Epoch 7/20\n",
            "4553/4553 [==============================] - 25s 6ms/step - loss: 0.0142 - root_mean_squared_error: 0.1191 - val_loss: 0.0203 - val_root_mean_squared_error: 0.1426\n",
            "Epoch 8/20\n",
            "4553/4553 [==============================] - 28s 6ms/step - loss: 0.0141 - root_mean_squared_error: 0.1189 - val_loss: 0.0240 - val_root_mean_squared_error: 0.1549\n",
            "Epoch 9/20\n",
            "4553/4553 [==============================] - 28s 6ms/step - loss: 0.0141 - root_mean_squared_error: 0.1187 - val_loss: 0.0242 - val_root_mean_squared_error: 0.1557\n",
            "Epoch 10/20\n",
            "4553/4553 [==============================] - 31s 7ms/step - loss: 0.0141 - root_mean_squared_error: 0.1186 - val_loss: 0.0310 - val_root_mean_squared_error: 0.1759\n",
            "Epoch 11/20\n",
            "4553/4553 [==============================] - 28s 6ms/step - loss: 0.0140 - root_mean_squared_error: 0.1185 - val_loss: 0.0327 - val_root_mean_squared_error: 0.1808\n",
            "Epoch 12/20\n",
            "4553/4553 [==============================] - 28s 6ms/step - loss: 0.0140 - root_mean_squared_error: 0.1184 - val_loss: 0.0350 - val_root_mean_squared_error: 0.1870\n",
            "Epoch 13/20\n",
            "4553/4553 [==============================] - 28s 6ms/step - loss: 0.0140 - root_mean_squared_error: 0.1183 - val_loss: 0.0336 - val_root_mean_squared_error: 0.1833\n",
            "Epoch 14/20\n",
            "4553/4553 [==============================] - 29s 6ms/step - loss: 0.0140 - root_mean_squared_error: 0.1182 - val_loss: 0.0333 - val_root_mean_squared_error: 0.1825\n",
            "Epoch 15/20\n",
            "4553/4553 [==============================] - 28s 6ms/step - loss: 0.0139 - root_mean_squared_error: 0.1181 - val_loss: 0.0348 - val_root_mean_squared_error: 0.1867\n",
            "Epoch 16/20\n",
            "4553/4553 [==============================] - 28s 6ms/step - loss: 0.0139 - root_mean_squared_error: 0.1179 - val_loss: 0.0318 - val_root_mean_squared_error: 0.1783\n",
            "Epoch 17/20\n",
            "4553/4553 [==============================] - 29s 6ms/step - loss: 0.0139 - root_mean_squared_error: 0.1179 - val_loss: 0.0343 - val_root_mean_squared_error: 0.1852\n",
            "Epoch 18/20\n",
            "4553/4553 [==============================] - 29s 6ms/step - loss: 0.0139 - root_mean_squared_error: 0.1178 - val_loss: 0.0388 - val_root_mean_squared_error: 0.1969\n",
            "Epoch 19/20\n",
            "4553/4553 [==============================] - 30s 6ms/step - loss: 0.0139 - root_mean_squared_error: 0.1177 - val_loss: 0.0354 - val_root_mean_squared_error: 0.1883\n",
            "Epoch 20/20\n",
            "4553/4553 [==============================] - 29s 6ms/step - loss: 0.0138 - root_mean_squared_error: 0.1176 - val_loss: 0.0328 - val_root_mean_squared_error: 0.1810\n"
          ]
        }
      ]
    },
    {
      "cell_type": "code",
      "source": [
        "print(f'Best val_loss for knn: ', knn_best_val_loss)"
      ],
      "metadata": {
        "id": "c4Z3c33NujkC",
        "colab": {
          "base_uri": "https://localhost:8080/"
        },
        "outputId": "0607a64e-4900-42a5-cf27-626190dd7166"
      },
      "execution_count": null,
      "outputs": [
        {
          "output_type": "stream",
          "name": "stdout",
          "text": [
            "Best val_loss for knn:  0.01810467429459095\n"
          ]
        }
      ]
    },
    {
      "cell_type": "markdown",
      "source": [
        "# Hyperparameter tuning"
      ],
      "metadata": {
        "id": "5c0-Bh-xAqSx"
      }
    },
    {
      "cell_type": "markdown",
      "source": [
        "## Find best number of lags"
      ],
      "metadata": {
        "id": "kFIAbZq5Avp4"
      }
    },
    {
      "cell_type": "code",
      "source": [
        "FILLING_NAN_METHOD = 'mean'\n",
        "\n",
        "df_train_filled = fill_missing_values(df_train, method=FILLING_NAN_METHOD)\n",
        "df_val_filled = fill_missing_values(df_val, method=FILLING_NAN_METHOD)\n",
        "\n",
        "scaler = StandardScaler()\n",
        "df_train_filled.y = scaler.fit_transform(np.array(df_train_filled.y).reshape(-1, 1)).T[0]\n",
        "df_val_filled.y = scaler.transform(np.array(df_val_filled.y).reshape(-1, 1)).T[0]\n",
        "\n",
        "df_train_filled.index = pd.to_datetime(df_train_filled['ds'], format='%Y-%m-%d %H:%M:%S')\n",
        "df_val_filled.index = pd.to_datetime(df_val_filled['ds'], format='%Y-%m-%d %H:%M:%S')\n",
        "\n",
        "df_train_filled.drop(columns=['ds'], inplace=True)\n",
        "df_val_filled.drop(columns=['ds'], inplace=True)"
      ],
      "metadata": {
        "id": "lC64z5qrBbqw"
      },
      "execution_count": 61,
      "outputs": []
    },
    {
      "cell_type": "markdown",
      "source": [
        "### 1. Number of lags = <i><b>5</b></i>."
      ],
      "metadata": {
        "id": "e76e3_yP4RP2"
      }
    },
    {
      "cell_type": "code",
      "source": [
        "N_LAGS = 5"
      ],
      "metadata": {
        "id": "REvToB2e4RP6"
      },
      "execution_count": 63,
      "outputs": []
    },
    {
      "cell_type": "code",
      "source": [
        "X_train, y_train = df_to_X_y(df_train_filled, N_LAGS)\n",
        "X_val, y_val = df_to_X_y(df_val_filled, N_LAGS)\n",
        "\n",
        "model = Sequential()\n",
        "model.add(InputLayer((N_LAGS, 1)))\n",
        "model.add(LSTM(64))\n",
        "model.add(Dense(8, 'relu'))\n",
        "model.add(Dense(1, 'linear'))\n",
        "\n",
        "model.compile(loss=MeanSquaredError(), optimizer=SGD(learning_rate=0.001, momentum=0.9), metrics=[RootMeanSquaredError()])\n",
        "model_history = model.fit(X_train, y_train, validation_data=(X_val, y_val), epochs=30)"
      ],
      "metadata": {
        "colab": {
          "base_uri": "https://localhost:8080/"
        },
        "outputId": "d6288492-4300-4588-d4ae-5661e836f2cb",
        "id": "QRcurD-L4RP7"
      },
      "execution_count": 64,
      "outputs": [
        {
          "output_type": "stream",
          "name": "stdout",
          "text": [
            "Epoch 1/30\n",
            "4553/4553 [==============================] - 27s 5ms/step - loss: 0.0347 - root_mean_squared_error: 0.1863 - val_loss: 0.0290 - val_root_mean_squared_error: 0.1704\n",
            "Epoch 2/30\n",
            "4553/4553 [==============================] - 25s 6ms/step - loss: 0.0169 - root_mean_squared_error: 0.1301 - val_loss: 0.0176 - val_root_mean_squared_error: 0.1327\n",
            "Epoch 3/30\n",
            "4553/4553 [==============================] - 24s 5ms/step - loss: 0.0158 - root_mean_squared_error: 0.1258 - val_loss: 0.0166 - val_root_mean_squared_error: 0.1290\n",
            "Epoch 4/30\n",
            "4553/4553 [==============================] - 24s 5ms/step - loss: 0.0151 - root_mean_squared_error: 0.1228 - val_loss: 0.0158 - val_root_mean_squared_error: 0.1258\n",
            "Epoch 5/30\n",
            "4553/4553 [==============================] - 24s 5ms/step - loss: 0.0146 - root_mean_squared_error: 0.1209 - val_loss: 0.0148 - val_root_mean_squared_error: 0.1216\n",
            "Epoch 6/30\n",
            "4553/4553 [==============================] - 26s 6ms/step - loss: 0.0144 - root_mean_squared_error: 0.1199 - val_loss: 0.0129 - val_root_mean_squared_error: 0.1137\n",
            "Epoch 7/30\n",
            "4553/4553 [==============================] - 37s 8ms/step - loss: 0.0143 - root_mean_squared_error: 0.1194 - val_loss: 0.0143 - val_root_mean_squared_error: 0.1196\n",
            "Epoch 8/30\n",
            "4553/4553 [==============================] - 25s 5ms/step - loss: 0.0142 - root_mean_squared_error: 0.1192 - val_loss: 0.0131 - val_root_mean_squared_error: 0.1144\n",
            "Epoch 9/30\n",
            "4553/4553 [==============================] - 25s 5ms/step - loss: 0.0142 - root_mean_squared_error: 0.1190 - val_loss: 0.0127 - val_root_mean_squared_error: 0.1126\n",
            "Epoch 10/30\n",
            "4553/4553 [==============================] - 26s 6ms/step - loss: 0.0141 - root_mean_squared_error: 0.1189 - val_loss: 0.0151 - val_root_mean_squared_error: 0.1230\n",
            "Epoch 11/30\n",
            "4553/4553 [==============================] - 31s 7ms/step - loss: 0.0141 - root_mean_squared_error: 0.1188 - val_loss: 0.0140 - val_root_mean_squared_error: 0.1185\n",
            "Epoch 12/30\n",
            "4553/4553 [==============================] - 30s 7ms/step - loss: 0.0141 - root_mean_squared_error: 0.1187 - val_loss: 0.0151 - val_root_mean_squared_error: 0.1229\n",
            "Epoch 13/30\n",
            "4553/4553 [==============================] - 24s 5ms/step - loss: 0.0140 - root_mean_squared_error: 0.1185 - val_loss: 0.0154 - val_root_mean_squared_error: 0.1240\n",
            "Epoch 14/30\n",
            "4553/4553 [==============================] - 24s 5ms/step - loss: 0.0140 - root_mean_squared_error: 0.1184 - val_loss: 0.0144 - val_root_mean_squared_error: 0.1201\n",
            "Epoch 15/30\n",
            "4553/4553 [==============================] - 25s 5ms/step - loss: 0.0140 - root_mean_squared_error: 0.1183 - val_loss: 0.0163 - val_root_mean_squared_error: 0.1276\n",
            "Epoch 16/30\n",
            "4553/4553 [==============================] - 24s 5ms/step - loss: 0.0140 - root_mean_squared_error: 0.1182 - val_loss: 0.0134 - val_root_mean_squared_error: 0.1156\n",
            "Epoch 17/30\n",
            "4553/4553 [==============================] - 25s 6ms/step - loss: 0.0140 - root_mean_squared_error: 0.1182 - val_loss: 0.0152 - val_root_mean_squared_error: 0.1232\n",
            "Epoch 18/30\n",
            "4553/4553 [==============================] - 24s 5ms/step - loss: 0.0139 - root_mean_squared_error: 0.1180 - val_loss: 0.0164 - val_root_mean_squared_error: 0.1281\n",
            "Epoch 19/30\n",
            "4553/4553 [==============================] - 25s 5ms/step - loss: 0.0139 - root_mean_squared_error: 0.1180 - val_loss: 0.0179 - val_root_mean_squared_error: 0.1339\n",
            "Epoch 20/30\n",
            "4553/4553 [==============================] - 25s 5ms/step - loss: 0.0139 - root_mean_squared_error: 0.1179 - val_loss: 0.0150 - val_root_mean_squared_error: 0.1223\n",
            "Epoch 21/30\n",
            "4553/4553 [==============================] - 25s 5ms/step - loss: 0.0139 - root_mean_squared_error: 0.1178 - val_loss: 0.0163 - val_root_mean_squared_error: 0.1277\n",
            "Epoch 22/30\n",
            "4553/4553 [==============================] - 26s 6ms/step - loss: 0.0139 - root_mean_squared_error: 0.1177 - val_loss: 0.0196 - val_root_mean_squared_error: 0.1400\n",
            "Epoch 23/30\n",
            "4553/4553 [==============================] - 25s 5ms/step - loss: 0.0138 - root_mean_squared_error: 0.1177 - val_loss: 0.0159 - val_root_mean_squared_error: 0.1261\n",
            "Epoch 24/30\n",
            "4553/4553 [==============================] - 25s 5ms/step - loss: 0.0138 - root_mean_squared_error: 0.1176 - val_loss: 0.0184 - val_root_mean_squared_error: 0.1356\n",
            "Epoch 25/30\n",
            "4553/4553 [==============================] - 24s 5ms/step - loss: 0.0138 - root_mean_squared_error: 0.1175 - val_loss: 0.0154 - val_root_mean_squared_error: 0.1240\n",
            "Epoch 26/30\n",
            "4553/4553 [==============================] - 24s 5ms/step - loss: 0.0138 - root_mean_squared_error: 0.1174 - val_loss: 0.0160 - val_root_mean_squared_error: 0.1266\n",
            "Epoch 27/30\n",
            "4553/4553 [==============================] - 26s 6ms/step - loss: 0.0138 - root_mean_squared_error: 0.1174 - val_loss: 0.0145 - val_root_mean_squared_error: 0.1205\n",
            "Epoch 28/30\n",
            "4553/4553 [==============================] - 26s 6ms/step - loss: 0.0138 - root_mean_squared_error: 0.1173 - val_loss: 0.0139 - val_root_mean_squared_error: 0.1178\n",
            "Epoch 29/30\n",
            "4553/4553 [==============================] - 25s 5ms/step - loss: 0.0138 - root_mean_squared_error: 0.1173 - val_loss: 0.0145 - val_root_mean_squared_error: 0.1203\n",
            "Epoch 30/30\n",
            "4553/4553 [==============================] - 25s 5ms/step - loss: 0.0137 - root_mean_squared_error: 0.1172 - val_loss: 0.0164 - val_root_mean_squared_error: 0.1279\n"
          ]
        }
      ]
    },
    {
      "cell_type": "code",
      "source": [
        "train_losses = model_history.history['loss']\n",
        "val_losses = model_history.history['val_loss']"
      ],
      "metadata": {
        "id": "UuEwN2566VcU"
      },
      "execution_count": 65,
      "outputs": []
    },
    {
      "cell_type": "code",
      "source": [
        "plt.plot(val_losses, label='val_loss')\n",
        "plt.plot(train_losses, label='train_loss')\n",
        "plt.legend()"
      ],
      "metadata": {
        "colab": {
          "base_uri": "https://localhost:8080/",
          "height": 453
        },
        "outputId": "a50223cc-48ab-41bd-d544-d7c3157283a0",
        "id": "JhT7kYRb6Vca"
      },
      "execution_count": 66,
      "outputs": [
        {
          "output_type": "execute_result",
          "data": {
            "text/plain": [
              "<matplotlib.legend.Legend at 0x7a00c42fd390>"
            ]
          },
          "metadata": {},
          "execution_count": 66
        },
        {
          "output_type": "display_data",
          "data": {
            "text/plain": [
              "<Figure size 640x480 with 1 Axes>"
            ],
            "image/png": "[encoded data removed]"
          },
          "metadata": {}
        }
      ]
    },
    {
      "cell_type": "code",
      "source": [
        "print(f'Best val_loss for lags=5: ', round(min(val_losses), 5))"
      ],
      "metadata": {
        "colab": {
          "base_uri": "https://localhost:8080/"
        },
        "outputId": "cf3fe0f7-1f94-41b7-917e-2fd4bee7b570",
        "id": "pkOREQxj6Vca"
      },
      "execution_count": 68,
      "outputs": [
        {
          "output_type": "stream",
          "name": "stdout",
          "text": [
            "Best val_loss for lags=5:  0.01267\n"
          ]
        }
      ]
    },
    {
      "cell_type": "markdown",
      "source": [
        "### 2. Number of lags = <i><b>10</b></i>."
      ],
      "metadata": {
        "id": "aEJdz2bYA5Ri"
      }
    },
    {
      "cell_type": "code",
      "source": [
        "N_LAGS = 10"
      ],
      "metadata": {
        "id": "JUqWmgf__jvH"
      },
      "execution_count": 72,
      "outputs": []
    },
    {
      "cell_type": "code",
      "source": [
        "X_train, y_train = df_to_X_y(df_train_filled, N_LAGS)\n",
        "X_val, y_val = df_to_X_y(df_val_filled, N_LAGS)\n",
        "\n",
        "model = Sequential()\n",
        "model.add(InputLayer((N_LAGS, 1)))\n",
        "model.add(LSTM(64))\n",
        "model.add(Dense(8, 'relu'))\n",
        "model.add(Dense(1, 'linear'))\n",
        "\n",
        "model.compile(loss=MeanSquaredError(), optimizer=SGD(learning_rate=0.001, momentum=0.9), metrics=[RootMeanSquaredError()])\n",
        "model_history = model.fit(X_train, y_train, validation_data=(X_val, y_val), epochs=30)"
      ],
      "metadata": {
        "colab": {
          "base_uri": "https://localhost:8080/"
        },
        "outputId": "0bbd3c28-65df-4898-9b05-86e18f0a92dc",
        "id": "HEHjdO4N_jvN"
      },
      "execution_count": 73,
      "outputs": [
        {
          "output_type": "stream",
          "name": "stdout",
          "text": [
            "Epoch 1/30\n",
            "4553/4553 [==============================] - 39s 8ms/step - loss: 0.0346 - root_mean_squared_error: 0.1861 - val_loss: 0.0209 - val_root_mean_squared_error: 0.1446\n",
            "Epoch 2/30\n",
            "4553/4553 [==============================] - 35s 8ms/step - loss: 0.0167 - root_mean_squared_error: 0.1292 - val_loss: 0.0158 - val_root_mean_squared_error: 0.1258\n",
            "Epoch 3/30\n",
            "4553/4553 [==============================] - 36s 8ms/step - loss: 0.0157 - root_mean_squared_error: 0.1255 - val_loss: 0.0151 - val_root_mean_squared_error: 0.1231\n",
            "Epoch 4/30\n",
            "4553/4553 [==============================] - 37s 8ms/step - loss: 0.0153 - root_mean_squared_error: 0.1237 - val_loss: 0.0162 - val_root_mean_squared_error: 0.1274\n",
            "Epoch 5/30\n",
            "4553/4553 [==============================] - 37s 8ms/step - loss: 0.0150 - root_mean_squared_error: 0.1224 - val_loss: 0.0170 - val_root_mean_squared_error: 0.1303\n",
            "Epoch 6/30\n",
            "4553/4553 [==============================] - 37s 8ms/step - loss: 0.0147 - root_mean_squared_error: 0.1213 - val_loss: 0.0139 - val_root_mean_squared_error: 0.1178\n",
            "Epoch 7/30\n",
            "4553/4553 [==============================] - 36s 8ms/step - loss: 0.0145 - root_mean_squared_error: 0.1203 - val_loss: 0.0176 - val_root_mean_squared_error: 0.1328\n",
            "Epoch 8/30\n",
            "4553/4553 [==============================] - 37s 8ms/step - loss: 0.0143 - root_mean_squared_error: 0.1195 - val_loss: 0.0148 - val_root_mean_squared_error: 0.1216\n",
            "Epoch 9/30\n",
            "4553/4553 [==============================] - 35s 8ms/step - loss: 0.0141 - root_mean_squared_error: 0.1187 - val_loss: 0.0148 - val_root_mean_squared_error: 0.1218\n",
            "Epoch 10/30\n",
            "4553/4553 [==============================] - 35s 8ms/step - loss: 0.0140 - root_mean_squared_error: 0.1182 - val_loss: 0.0185 - val_root_mean_squared_error: 0.1360\n",
            "Epoch 11/30\n",
            "4553/4553 [==============================] - 36s 8ms/step - loss: 0.0138 - root_mean_squared_error: 0.1176 - val_loss: 0.0203 - val_root_mean_squared_error: 0.1423\n",
            "Epoch 12/30\n",
            "4553/4553 [==============================] - 36s 8ms/step - loss: 0.0137 - root_mean_squared_error: 0.1172 - val_loss: 0.0192 - val_root_mean_squared_error: 0.1385\n",
            "Epoch 13/30\n",
            "4553/4553 [==============================] - 35s 8ms/step - loss: 0.0137 - root_mean_squared_error: 0.1168 - val_loss: 0.0194 - val_root_mean_squared_error: 0.1392\n",
            "Epoch 14/30\n",
            "4553/4553 [==============================] - 36s 8ms/step - loss: 0.0136 - root_mean_squared_error: 0.1166 - val_loss: 0.0157 - val_root_mean_squared_error: 0.1253\n",
            "Epoch 15/30\n",
            "4553/4553 [==============================] - 38s 8ms/step - loss: 0.0136 - root_mean_squared_error: 0.1164 - val_loss: 0.0155 - val_root_mean_squared_error: 0.1244\n",
            "Epoch 16/30\n",
            "4553/4553 [==============================] - 37s 8ms/step - loss: 0.0135 - root_mean_squared_error: 0.1163 - val_loss: 0.0157 - val_root_mean_squared_error: 0.1253\n",
            "Epoch 17/30\n",
            "4553/4553 [==============================] - 37s 8ms/step - loss: 0.0135 - root_mean_squared_error: 0.1161 - val_loss: 0.0175 - val_root_mean_squared_error: 0.1324\n",
            "Epoch 18/30\n",
            "4553/4553 [==============================] - 36s 8ms/step - loss: 0.0135 - root_mean_squared_error: 0.1161 - val_loss: 0.0152 - val_root_mean_squared_error: 0.1232\n",
            "Epoch 19/30\n",
            "4553/4553 [==============================] - 37s 8ms/step - loss: 0.0135 - root_mean_squared_error: 0.1160 - val_loss: 0.0126 - val_root_mean_squared_error: 0.1122\n",
            "Epoch 20/30\n",
            "4553/4553 [==============================] - 35s 8ms/step - loss: 0.0134 - root_mean_squared_error: 0.1160 - val_loss: 0.0128 - val_root_mean_squared_error: 0.1131\n",
            "Epoch 21/30\n",
            "4553/4553 [==============================] - 39s 9ms/step - loss: 0.0134 - root_mean_squared_error: 0.1159 - val_loss: 0.0156 - val_root_mean_squared_error: 0.1248\n",
            "Epoch 22/30\n",
            "4553/4553 [==============================] - 40s 9ms/step - loss: 0.0134 - root_mean_squared_error: 0.1159 - val_loss: 0.0141 - val_root_mean_squared_error: 0.1188\n",
            "Epoch 23/30\n",
            "4553/4553 [==============================] - 36s 8ms/step - loss: 0.0134 - root_mean_squared_error: 0.1159 - val_loss: 0.0136 - val_root_mean_squared_error: 0.1165\n",
            "Epoch 24/30\n",
            "4553/4553 [==============================] - 46s 10ms/step - loss: 0.0134 - root_mean_squared_error: 0.1158 - val_loss: 0.0129 - val_root_mean_squared_error: 0.1134\n",
            "Epoch 25/30\n",
            "4553/4553 [==============================] - 41s 9ms/step - loss: 0.0134 - root_mean_squared_error: 0.1158 - val_loss: 0.0173 - val_root_mean_squared_error: 0.1314\n",
            "Epoch 26/30\n",
            "4553/4553 [==============================] - 37s 8ms/step - loss: 0.0134 - root_mean_squared_error: 0.1158 - val_loss: 0.0146 - val_root_mean_squared_error: 0.1209\n",
            "Epoch 27/30\n",
            "4553/4553 [==============================] - 36s 8ms/step - loss: 0.0134 - root_mean_squared_error: 0.1157 - val_loss: 0.0146 - val_root_mean_squared_error: 0.1207\n",
            "Epoch 28/30\n",
            "4553/4553 [==============================] - 35s 8ms/step - loss: 0.0134 - root_mean_squared_error: 0.1158 - val_loss: 0.0157 - val_root_mean_squared_error: 0.1255\n",
            "Epoch 29/30\n",
            "4553/4553 [==============================] - 45s 10ms/step - loss: 0.0134 - root_mean_squared_error: 0.1157 - val_loss: 0.0163 - val_root_mean_squared_error: 0.1277\n",
            "Epoch 30/30\n",
            "4553/4553 [==============================] - 45s 10ms/step - loss: 0.0134 - root_mean_squared_error: 0.1157 - val_loss: 0.0139 - val_root_mean_squared_error: 0.1179\n"
          ]
        }
      ]
    },
    {
      "cell_type": "code",
      "source": [
        "train_losses = model_history.history['loss']\n",
        "val_losses = model_history.history['val_loss']"
      ],
      "metadata": {
        "id": "_lSzXQp2_jvO"
      },
      "execution_count": 74,
      "outputs": []
    },
    {
      "cell_type": "code",
      "source": [
        "plt.plot(val_losses, label='val_loss')\n",
        "plt.plot(train_losses, label='train_loss')\n",
        "plt.legend()"
      ],
      "metadata": {
        "colab": {
          "base_uri": "https://localhost:8080/",
          "height": 453
        },
        "id": "8NkSmSE8_jvO",
        "outputId": "1cdb3eca-7b3c-4d84-ebdc-28c88b558bd8"
      },
      "execution_count": 75,
      "outputs": [
        {
          "output_type": "execute_result",
          "data": {
            "text/plain": [
              "<matplotlib.legend.Legend at 0x7a003f677070>"
            ]
          },
          "metadata": {},
          "execution_count": 75
        },
        {
          "output_type": "display_data",
          "data": {
            "text/plain": [
              "<Figure size 640x480 with 1 Axes>"
            ],
            "image/png": "[encoded data removed]"
          },
          "metadata": {}
        }
      ]
    },
    {
      "cell_type": "code",
      "source": [
        "print(f'Best val_loss for lags=10: ', round(min(val_losses), 5))"
      ],
      "metadata": {
        "colab": {
          "base_uri": "https://localhost:8080/"
        },
        "id": "FUrLiKvK_jvP",
        "outputId": "b95eef70-1ada-474f-9999-1285cebb892e"
      },
      "execution_count": 77,
      "outputs": [
        {
          "output_type": "stream",
          "name": "stdout",
          "text": [
            "Best val_loss for lags=10:  0.01258\n"
          ]
        }
      ]
    },
    {
      "cell_type": "markdown",
      "source": [
        "### 3. Number of lags = <i><b>20</b></i>."
      ],
      "metadata": {
        "id": "ANWlLDrlBDlc"
      }
    },
    {
      "cell_type": "code",
      "source": [
        "N_LAGS = 20"
      ],
      "metadata": {
        "id": "_sA8Oa6M_uGJ"
      },
      "execution_count": 79,
      "outputs": []
    },
    {
      "cell_type": "code",
      "source": [
        "X_train, y_train = df_to_X_y(df_train_filled, N_LAGS)\n",
        "X_val, y_val = df_to_X_y(df_val_filled, N_LAGS)\n",
        "\n",
        "model = Sequential()\n",
        "model.add(InputLayer((N_LAGS, 1)))\n",
        "model.add(LSTM(64))\n",
        "model.add(Dense(8, 'relu'))\n",
        "model.add(Dense(1, 'linear'))\n",
        "\n",
        "model.compile(loss=MeanSquaredError(), optimizer=SGD(learning_rate=0.001, momentum=0.9), metrics=[RootMeanSquaredError()])\n",
        "model_history = model.fit(X_train, y_train, validation_data=(X_val, y_val), epochs=7)"
      ],
      "metadata": {
        "colab": {
          "base_uri": "https://localhost:8080/"
        },
        "outputId": "919e87a9-ac1d-44b8-d0a7-4bb413885c35",
        "id": "p-lz7xCp_uGO"
      },
      "execution_count": 81,
      "outputs": [
        {
          "output_type": "stream",
          "name": "stdout",
          "text": [
            "Epoch 1/7\n",
            "4553/4553 [==============================] - 79s 17ms/step - loss: 0.0264 - root_mean_squared_error: 0.1625 - val_loss: 0.0218 - val_root_mean_squared_error: 0.1477\n",
            "Epoch 2/7\n",
            "4553/4553 [==============================] - 70s 15ms/step - loss: 0.0169 - root_mean_squared_error: 0.1299 - val_loss: 0.0170 - val_root_mean_squared_error: 0.1305\n",
            "Epoch 3/7\n",
            "4553/4553 [==============================] - 61s 13ms/step - loss: 0.0153 - root_mean_squared_error: 0.1235 - val_loss: 0.0190 - val_root_mean_squared_error: 0.1378\n",
            "Epoch 4/7\n",
            "4553/4553 [==============================] - 87s 19ms/step - loss: 0.0141 - root_mean_squared_error: 0.1188 - val_loss: 0.0225 - val_root_mean_squared_error: 0.1499\n",
            "Epoch 5/7\n",
            "4553/4553 [==============================] - 72s 16ms/step - loss: 0.0136 - root_mean_squared_error: 0.1165 - val_loss: 0.0138 - val_root_mean_squared_error: 0.1176\n",
            "Epoch 6/7\n",
            "4553/4553 [==============================] - 82s 18ms/step - loss: 0.0134 - root_mean_squared_error: 0.1156 - val_loss: 0.0134 - val_root_mean_squared_error: 0.1156\n",
            "Epoch 7/7\n",
            "4553/4553 [==============================] - 61s 13ms/step - loss: 0.0133 - root_mean_squared_error: 0.1153 - val_loss: 0.0158 - val_root_mean_squared_error: 0.1256\n"
          ]
        }
      ]
    },
    {
      "cell_type": "code",
      "source": [
        "train_losses = model_history.history['loss']\n",
        "val_losses = model_history.history['val_loss']"
      ],
      "metadata": {
        "id": "Kx5Y0wvA_uGP"
      },
      "execution_count": 82,
      "outputs": []
    },
    {
      "cell_type": "code",
      "source": [
        "plt.plot(val_losses, label='val_loss')\n",
        "plt.plot(train_losses, label='train_loss')\n",
        "plt.legend()"
      ],
      "metadata": {
        "colab": {
          "base_uri": "https://localhost:8080/",
          "height": 453
        },
        "id": "s37_B9hs_uGQ",
        "outputId": "76886994-b081-4f77-c178-7ebf77113151"
      },
      "execution_count": 83,
      "outputs": [
        {
          "output_type": "execute_result",
          "data": {
            "text/plain": [
              "<matplotlib.legend.Legend at 0x7a00b3beb850>"
            ]
          },
          "metadata": {},
          "execution_count": 83
        },
        {
          "output_type": "display_data",
          "data": {
            "text/plain": [
              "<Figure size 640x480 with 1 Axes>"
            ],
            "image/png": "[encoded data removed]"
          },
          "metadata": {}
        }
      ]
    },
    {
      "cell_type": "code",
      "source": [
        "print(f'Best val_loss for lags=20: ', round(min(val_losses), 5))"
      ],
      "metadata": {
        "colab": {
          "base_uri": "https://localhost:8080/"
        },
        "id": "Pd_5KDh2_uGQ",
        "outputId": "1d1299b0-2c16-4c1d-ca84-fa00a031931d"
      },
      "execution_count": 84,
      "outputs": [
        {
          "output_type": "stream",
          "name": "stdout",
          "text": [
            "Best val_loss for lags=20:  0.01336\n"
          ]
        }
      ]
    },
    {
      "cell_type": "markdown",
      "source": [
        "## Find best learning rate"
      ],
      "metadata": {
        "id": "8wNWzLHKFQbq"
      }
    },
    {
      "cell_type": "code",
      "source": [
        "FILLING_NAN_METHOD = 'mean'\n",
        "\n",
        "df_train_filled = fill_missing_values(df_train, method=FILLING_NAN_METHOD)\n",
        "df_val_filled = fill_missing_values(df_val, method=FILLING_NAN_METHOD)\n",
        "\n",
        "scaler = StandardScaler()\n",
        "df_train_filled.y = scaler.fit_transform(np.array(df_train_filled.y).reshape(-1, 1)).T[0]\n",
        "df_val_filled.y = scaler.transform(np.array(df_val_filled.y).reshape(-1, 1)).T[0]\n",
        "\n",
        "df_train_filled.index = pd.to_datetime(df_train_filled['ds'], format='%Y-%m-%d %H:%M:%S')\n",
        "df_val_filled.index = pd.to_datetime(df_val_filled['ds'], format='%Y-%m-%d %H:%M:%S')\n",
        "\n",
        "df_train_filled.drop(columns=['ds'], inplace=True)\n",
        "df_val_filled.drop(columns=['ds'], inplace=True)\n",
        "\n",
        "N_LAGS = 5\n",
        "\n",
        "X_train, y_train = df_to_X_y(df_train_filled, N_LAGS)\n",
        "X_val, y_val = df_to_X_y(df_val_filled, N_LAGS)"
      ],
      "metadata": {
        "id": "rhLxQibFFZnJ"
      },
      "execution_count": null,
      "outputs": []
    },
    {
      "cell_type": "markdown",
      "source": [
        "### 1. learning rate = <i><b>1e-2</b></i>."
      ],
      "metadata": {
        "id": "bw3l8ZnoFdC9"
      }
    },
    {
      "cell_type": "code",
      "source": [
        "LEARNING_RATE = 1e-2"
      ],
      "metadata": {
        "id": "FzTGyazxGGQM"
      },
      "execution_count": null,
      "outputs": []
    },
    {
      "cell_type": "code",
      "source": [
        "model = Sequential()\n",
        "model.add(InputLayer((N_LAGS, 1)))\n",
        "model.add(LSTM(64))\n",
        "model.add(Dense(8, 'relu'))\n",
        "model.add(Dense(1, 'linear'))\n",
        "\n",
        "model.compile(loss=MeanSquaredError(), optimizer=SGD(learning_rate=LEARNING_RATE, momentum=0.9), metrics=[RootMeanSquaredError()])\n",
        "model_history = model.fit(X_train, y_train, validation_data=(X_val, y_val), epochs=10)"
      ],
      "metadata": {
        "id": "T3U7sn6UFdC_"
      },
      "execution_count": null,
      "outputs": []
    },
    {
      "cell_type": "code",
      "source": [
        "train_losses = model_history.history['loss']\n",
        "val_losses = model_history.history['val_loss']"
      ],
      "metadata": {
        "id": "-vFDEafVGA5M"
      },
      "execution_count": null,
      "outputs": []
    },
    {
      "cell_type": "code",
      "source": [
        "plt.plot(val_losses, label='val_loss')\n",
        "plt.plot(train_losses, label='train_loss')\n",
        "plt.legend()"
      ],
      "metadata": {
        "id": "96IqOcSXGA5S"
      },
      "execution_count": null,
      "outputs": []
    },
    {
      "cell_type": "code",
      "source": [
        "print(f'Best val_loss for lr=1e-2: ', round(min(val_losses), 5))"
      ],
      "metadata": {
        "id": "KvkdUS0IGA5S"
      },
      "execution_count": null,
      "outputs": []
    },
    {
      "cell_type": "markdown",
      "source": [
        "### 2. learning rate = <i><b>1e-3</b></i>."
      ],
      "metadata": {
        "id": "47EH3cpsFdDB"
      }
    },
    {
      "cell_type": "code",
      "source": [
        "LEARNING_RATE = 1e-3"
      ],
      "metadata": {
        "id": "tH2DFWc7GN2x"
      },
      "execution_count": null,
      "outputs": []
    },
    {
      "cell_type": "code",
      "source": [
        "model = Sequential()\n",
        "model.add(InputLayer((N_LAGS, 1)))\n",
        "model.add(LSTM(64))\n",
        "model.add(Dense(8, 'relu'))\n",
        "model.add(Dense(1, 'linear'))\n",
        "\n",
        "model.compile(loss=MeanSquaredError(), optimizer=SGD(learning_rate=LEARNING_RATE, momentum=0.9), metrics=[RootMeanSquaredError()])\n",
        "model_history = model.fit(X_train, y_train, validation_data=(X_val, y_val), epochs=10)"
      ],
      "metadata": {
        "id": "Ww34gtYlGN22"
      },
      "execution_count": null,
      "outputs": []
    },
    {
      "cell_type": "code",
      "source": [
        "train_losses = model_history.history['loss']\n",
        "val_losses = model_history.history['val_loss']"
      ],
      "metadata": {
        "id": "zr9UlIoQGN23"
      },
      "execution_count": null,
      "outputs": []
    },
    {
      "cell_type": "code",
      "source": [
        "plt.plot(val_losses, label='val_loss')\n",
        "plt.plot(train_losses, label='train_loss')\n",
        "plt.legend()"
      ],
      "metadata": {
        "id": "Jiq98Yy2GN24"
      },
      "execution_count": null,
      "outputs": []
    },
    {
      "cell_type": "code",
      "source": [
        "print(f'Best val_loss for lr=1e-3: ', round(min(val_losses), 5))"
      ],
      "metadata": {
        "id": "C4kSkmGvGN24"
      },
      "execution_count": null,
      "outputs": []
    },
    {
      "cell_type": "markdown",
      "source": [
        "### 3. learning rate = <i><b>1e-4</b></i>."
      ],
      "metadata": {
        "id": "jY6TLSN-FqlS"
      }
    },
    {
      "cell_type": "code",
      "source": [
        "LEARNING_RATE = 1e-4"
      ],
      "metadata": {
        "id": "kvm-g_WqGTRR"
      },
      "execution_count": null,
      "outputs": []
    },
    {
      "cell_type": "code",
      "source": [
        "model = Sequential()\n",
        "model.add(InputLayer((N_LAGS, 1)))\n",
        "model.add(LSTM(64))\n",
        "model.add(Dense(8, 'relu'))\n",
        "model.add(Dense(1, 'linear'))\n",
        "\n",
        "model.compile(loss=MeanSquaredError(), optimizer=SGD(learning_rate=LEARNING_RATE, momentum=0.9), metrics=[RootMeanSquaredError()])\n",
        "model_history = model.fit(X_train, y_train, validation_data=(X_val, y_val), epochs=10)"
      ],
      "metadata": {
        "id": "POdFKqWxGTRW"
      },
      "execution_count": null,
      "outputs": []
    },
    {
      "cell_type": "code",
      "source": [
        "train_losses = model_history.history['loss']\n",
        "val_losses = model_history.history['val_loss']"
      ],
      "metadata": {
        "id": "bMOBfaKmGTRX"
      },
      "execution_count": null,
      "outputs": []
    },
    {
      "cell_type": "code",
      "source": [
        "plt.plot(val_losses, label='val_loss')\n",
        "plt.plot(train_losses, label='train_loss')\n",
        "plt.legend()"
      ],
      "metadata": {
        "id": "JBtulNa3GTRY"
      },
      "execution_count": null,
      "outputs": []
    },
    {
      "cell_type": "code",
      "source": [
        "print(f'Best val_loss for lr=1e-4: ', round(min(val_losses), 5))"
      ],
      "metadata": {
        "id": "CZjt8AmRGTRY"
      },
      "execution_count": null,
      "outputs": []
    },
    {
      "cell_type": "markdown",
      "source": [
        "# Prediction on test data"
      ],
      "metadata": {
        "id": "Avc16XexyfqR"
      }
    },
    {
      "cell_type": "code",
      "source": [
        "FILLING_NAN_METHOD = 'mean'\n",
        "\n",
        "df_train_filled = fill_missing_values(df_train, method=FILLING_NAN_METHOD)\n",
        "df_val_filled = fill_missing_values(df_val, method=FILLING_NAN_METHOD)\n",
        "df_test_filled = fill_missing_values(df_test, method=FILLING_NAN_METHOD)\n",
        "\n",
        "scaler = StandardScaler()\n",
        "df_train_filled.y = scaler.fit_transform(np.array(df_train_filled.y).reshape(-1, 1)).T[0]\n",
        "df_val_filled.y = scaler.transform(np.array(df_val_filled.y).reshape(-1, 1)).T[0]\n",
        "df_test_filled.y = scaler.transform(np.array(df_test_filled.y).reshape(-1, 1)).T[0]\n",
        "\n",
        "df_train_filled.index = pd.to_datetime(df_train_filled['ds'], format='%Y-%m-%d %H:%M:%S')\n",
        "df_val_filled.index = pd.to_datetime(df_val_filled['ds'], format='%Y-%m-%d %H:%M:%S')\n",
        "df_test_filled.index = pd.to_datetime(df_test_filled['ds'], format='%Y-%m-%d %H:%M:%S')\n",
        "\n",
        "df_train_filled.drop(columns=['ds'], inplace=True)\n",
        "df_val_filled.drop(columns=['ds'], inplace=True)\n",
        "df_test_filled.drop(columns=['ds'], inplace=True)"
      ],
      "metadata": {
        "id": "tleEhkB3HExE"
      },
      "execution_count": null,
      "outputs": []
    },
    {
      "cell_type": "code",
      "source": [
        "N_LAGS = 5\n",
        "LEARNING_RATE =\n",
        "\n",
        "X_train, y_train = df_to_X_y(df_train_filled, N_LAGS)\n",
        "X_val, y_val = df_to_X_y(df_val_filled, N_LAGS)\n",
        "\n",
        "model = Sequential()\n",
        "model.add(InputLayer((N_LAGS, 1)))\n",
        "model.add(LSTM(64))\n",
        "model.add(Dense(8, 'relu'))\n",
        "model.add(Dense(1, 'linear'))\n",
        "\n",
        "cp = ModelCheckpoint('best_model/', save_best_only=True, monitor='val_loss', mode='min')\n",
        "model.compile(loss=MeanSquaredError(), optimizer=SGD(learning_rate=LEARNING_RATE, momentum=0.9), metrics=[RootMeanSquaredError()])\n",
        "model_history = model.fit(X_train, y_train, validation_data=(X_val, y_val), callbacks=[cp], epochs=10)"
      ],
      "metadata": {
        "id": "MK3Pl2X7HKKi"
      },
      "execution_count": null,
      "outputs": []
    },
    {
      "cell_type": "code",
      "source": [
        "from tensorflow.keras.models import load_model\n",
        "loaded_model = load_model('best_model/')"
      ],
      "metadata": {
        "id": "K9WejLbrFVP6",
        "colab": {
          "base_uri": "https://localhost:8080/",
          "height": 368
        },
        "outputId": "b20ab5df-7a16-411b-bd1b-68580e13a34e"
      },
      "execution_count": null,
      "outputs": [
        {
          "output_type": "error",
          "ename": "TypeError",
          "evalue": "Error when deserializing class 'MeanSquaredError' using config={'reduction': 'none', 'name': 'mean_squared_error'}.\n\nException encountered: MeanSquaredError.__init__() got an unexpected keyword argument 'reduction'",
          "traceback": [
            "\u001b[0;31m---------------------------------------------------------------------------\u001b[0m",
            "\u001b[0;31mTypeError\u001b[0m                                 Traceback (most recent call last)",
            "\u001b[0;32m<ipython-input-121-90c620986773>\u001b[0m in \u001b[0;36m<cell line: 2>\u001b[0;34m()\u001b[0m\n\u001b[1;32m      1\u001b[0m \u001b[0;32mfrom\u001b[0m \u001b[0mtensorflow\u001b[0m\u001b[0;34m.\u001b[0m\u001b[0mkeras\u001b[0m\u001b[0;34m.\u001b[0m\u001b[0mmodels\u001b[0m \u001b[0;32mimport\u001b[0m \u001b[0mload_model\u001b[0m\u001b[0;34m\u001b[0m\u001b[0;34m\u001b[0m\u001b[0m\n\u001b[0;32m----> 2\u001b[0;31m \u001b[0mloaded_model\u001b[0m \u001b[0;34m=\u001b[0m \u001b[0mload_model\u001b[0m\u001b[0;34m(\u001b[0m\u001b[0;34m'model1_filled_mean/'\u001b[0m\u001b[0;34m)\u001b[0m\u001b[0;34m\u001b[0m\u001b[0;34m\u001b[0m\u001b[0m\n\u001b[0m",
            "\u001b[0;32m/usr/local/lib/python3.10/dist-packages/keras/src/saving/saving_api.py\u001b[0m in \u001b[0;36mload_model\u001b[0;34m(filepath, custom_objects, compile, safe_mode, **kwargs)\u001b[0m\n\u001b[1;32m    260\u001b[0m \u001b[0;34m\u001b[0m\u001b[0m\n\u001b[1;32m    261\u001b[0m     \u001b[0;31m# Legacy case.\u001b[0m\u001b[0;34m\u001b[0m\u001b[0;34m\u001b[0m\u001b[0m\n\u001b[0;32m--> 262\u001b[0;31m     return legacy_sm_saving_lib.load_model(\n\u001b[0m\u001b[1;32m    263\u001b[0m         \u001b[0mfilepath\u001b[0m\u001b[0;34m,\u001b[0m \u001b[0mcustom_objects\u001b[0m\u001b[0;34m=\u001b[0m\u001b[0mcustom_objects\u001b[0m\u001b[0;34m,\u001b[0m \u001b[0mcompile\u001b[0m\u001b[0;34m=\u001b[0m\u001b[0mcompile\u001b[0m\u001b[0;34m,\u001b[0m \u001b[0;34m**\u001b[0m\u001b[0mkwargs\u001b[0m\u001b[0;34m\u001b[0m\u001b[0;34m\u001b[0m\u001b[0m\n\u001b[1;32m    264\u001b[0m     )\n",
            "\u001b[0;32m/usr/local/lib/python3.10/dist-packages/keras/src/utils/traceback_utils.py\u001b[0m in \u001b[0;36merror_handler\u001b[0;34m(*args, **kwargs)\u001b[0m\n\u001b[1;32m     68\u001b[0m             \u001b[0;31m# To get the full stack trace, call:\u001b[0m\u001b[0;34m\u001b[0m\u001b[0;34m\u001b[0m\u001b[0m\n\u001b[1;32m     69\u001b[0m             \u001b[0;31m# `tf.debugging.disable_traceback_filtering()`\u001b[0m\u001b[0;34m\u001b[0m\u001b[0;34m\u001b[0m\u001b[0m\n\u001b[0;32m---> 70\u001b[0;31m             \u001b[0;32mraise\u001b[0m \u001b[0me\u001b[0m\u001b[0;34m.\u001b[0m\u001b[0mwith_traceback\u001b[0m\u001b[0;34m(\u001b[0m\u001b[0mfiltered_tb\u001b[0m\u001b[0;34m)\u001b[0m \u001b[0;32mfrom\u001b[0m \u001b[0;32mNone\u001b[0m\u001b[0;34m\u001b[0m\u001b[0;34m\u001b[0m\u001b[0m\n\u001b[0m\u001b[1;32m     71\u001b[0m         \u001b[0;32mfinally\u001b[0m\u001b[0;34m:\u001b[0m\u001b[0;34m\u001b[0m\u001b[0;34m\u001b[0m\u001b[0m\n\u001b[1;32m     72\u001b[0m             \u001b[0;32mdel\u001b[0m \u001b[0mfiltered_tb\u001b[0m\u001b[0;34m\u001b[0m\u001b[0;34m\u001b[0m\u001b[0m\n",
            "\u001b[0;32m/usr/local/lib/python3.10/dist-packages/keras/src/engine/base_layer.py\u001b[0m in \u001b[0;36mfrom_config\u001b[0;34m(cls, config)\u001b[0m\n\u001b[1;32m    868\u001b[0m             \u001b[0;32mreturn\u001b[0m \u001b[0mcls\u001b[0m\u001b[0;34m(\u001b[0m\u001b[0;34m**\u001b[0m\u001b[0mconfig\u001b[0m\u001b[0;34m)\u001b[0m\u001b[0;34m\u001b[0m\u001b[0;34m\u001b[0m\u001b[0m\n\u001b[1;32m    869\u001b[0m         \u001b[0;32mexcept\u001b[0m \u001b[0mException\u001b[0m \u001b[0;32mas\u001b[0m \u001b[0me\u001b[0m\u001b[0;34m:\u001b[0m\u001b[0;34m\u001b[0m\u001b[0;34m\u001b[0m\u001b[0m\n\u001b[0;32m--> 870\u001b[0;31m             raise TypeError(\n\u001b[0m\u001b[1;32m    871\u001b[0m                 \u001b[0;34mf\"Error when deserializing class '{cls.__name__}' using \"\u001b[0m\u001b[0;34m\u001b[0m\u001b[0;34m\u001b[0m\u001b[0m\n\u001b[1;32m    872\u001b[0m                 \u001b[0;34mf\"config={config}.\\n\\nException encountered: {e}\"\u001b[0m\u001b[0;34m\u001b[0m\u001b[0;34m\u001b[0m\u001b[0m\n",
            "\u001b[0;31mTypeError\u001b[0m: Error when deserializing class 'MeanSquaredError' using config={'reduction': 'none', 'name': 'mean_squared_error'}.\n\nException encountered: MeanSquaredError.__init__() got an unexpected keyword argument 'reduction'"
          ]
        }
      ]
    },
    {
      "cell_type": "code",
      "source": [
        "X_test, y_test = df_to_X_y(df_test_filled, N_LAGS)\n",
        "\n",
        "test_predictions = loaded_model.predict(X_test).flatten()\n",
        "test_results = pd.DataFrame(data={'Test Predictions':list(test_predictions), 'Actuals':list(y_test)})\n",
        "test_results"
      ],
      "metadata": {
        "id": "gBFeilKzF5jh"
      },
      "execution_count": null,
      "outputs": []
    },
    {
      "cell_type": "code",
      "source": [
        "print(\"test mse: \", mean_squared_error(test_results['Actuals'], test_results['Test Predictions']))\n",
        "print(f\"mape: {round(mean_absolute_percentage_error(test_results['Actuals'], test_results['Test Predictions']) * 100, 4)}\")\n",
        "print(\"test smape: \", calc_smape(test_results['Actuals'], test_results['Test Predictions']))"
      ],
      "metadata": {
        "id": "tjp8HxpcG-Dm"
      },
      "execution_count": null,
      "outputs": []
    },
    {
      "cell_type": "code",
      "source": [
        "s = slice(5000, 5200)\n",
        "plt.plot(test_results['Test Predictions'][s], label='y_pred')\n",
        "plt.plot(test_results['Actuals'][s], label='y_true')"
      ],
      "metadata": {
        "colab": {
          "base_uri": "https://localhost:8080/",
          "height": 453
        },
        "id": "0wfvnH-QvM5i",
        "outputId": "3f36742a-950f-45b8-c648-ca71e9d482e7"
      },
      "execution_count": null,
      "outputs": [
        {
          "output_type": "execute_result",
          "data": {
            "text/plain": [
              "[<matplotlib.lines.Line2D at 0x7ca0f9ed3100>]"
            ]
          },
          "metadata": {},
          "execution_count": 113
        },
        {
          "output_type": "display_data",
          "data": {
            "text/plain": [
              "<Figure size 640x480 with 1 Axes>"
            ],
            "image/png": "[encoded data removed]"
          },
          "metadata": {}
        }
      ]
    },
    {
      "cell_type": "code",
      "source": [],
      "metadata": {
        "id": "l-p0aNaKxjPY"
      },
      "execution_count": null,
      "outputs": []
    }
  ]
}