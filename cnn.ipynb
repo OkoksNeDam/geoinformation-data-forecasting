{
  "nbformat": 4,
  "nbformat_minor": 0,
  "metadata": {
    "colab": {
      "provenance": [],
      "collapsed_sections": [
        "XeNUedLxCCiL",
        "ltd33Bb8CIFv",
        "sU8T61sMCQEW",
        "6mfPBb_t64gh",
        "6oGcqjFc89oJ",
        "UW2qBLaJ9BlW",
        "wFusQpas9B6d",
        "4xdnH0tu9De_",
        "IKUdTrrT9GXH",
        "P9Z8MNn29HEo",
        "kFIAbZq5Avp4",
        "e76e3_yP4RP2",
        "aEJdz2bYA5Ri",
        "ANWlLDrlBDlc",
        "bw3l8ZnoFdC9",
        "47EH3cpsFdDB",
        "jY6TLSN-FqlS",
        "iVn7uWeJn409",
        "pTNyoR4FpDKD",
        "X7JR-Nvjn-Sx"
      ],
      "authorship_tag": "ABX9TyNGJyZT5SmCogfxdrs7Y8iy",
      "include_colab_link": true
    },
    "kernelspec": {
      "name": "python3",
      "display_name": "Python 3"
    },
    "language_info": {
      "name": "python"
    }
  },
  "cells": [
    {
      "cell_type": "markdown",
      "metadata": {
        "id": "view-in-github",
        "colab_type": "text"
      },
      "source": [
        "<a href=\"https://colab.research.google.com/github/OkoksNeDam/geoinformation-data-forecasting/blob/main/cnn.ipynb\" target=\"_parent\"><img src=\"https://colab.research.google.com/assets/colab-badge.svg\" alt=\"Open In Colab\"/></a>"
      ]
    },
    {
      "cell_type": "markdown",
      "source": [
        "# Forecasting data from KEV station with CNN"
      ],
      "metadata": {
        "id": "EuXkRfMHB8j7"
      }
    },
    {
      "cell_type": "markdown",
      "source": [
        "## Import libraries"
      ],
      "metadata": {
        "id": "XeNUedLxCCiL"
      }
    },
    {
      "cell_type": "code",
      "source": [
        "import torch\n",
        "import pandas as pd\n",
        "import datetime\n",
        "import matplotlib.pyplot as plt\n",
        "import numpy as np\n",
        "from torch import nn\n",
        "import tensorflow as tf\n",
        "from tensorflow.keras.models import Sequential\n",
        "from tensorflow.keras.layers import *\n",
        "from tensorflow.keras.callbacks import ModelCheckpoint\n",
        "from tensorflow.keras.losses import MeanSquaredError\n",
        "from tensorflow.keras.metrics import RootMeanSquaredError\n",
        "from tensorflow.keras.optimizers import Adam, SGD\n",
        "from tqdm import tqdm\n",
        "from sklearn.metrics import mean_squared_error, mean_absolute_percentage_error\n",
        "from sklearn.impute import KNNImputer\n",
        "from IPython.display import clear_output\n",
        "from sklearn.preprocessing import StandardScaler\n",
        "import seaborn as sns\n",
        "import random\n",
        "import os\n",
        "import copy"
      ],
      "metadata": {
        "id": "_isJCshjPK79"
      },
      "execution_count": 1,
      "outputs": []
    },
    {
      "cell_type": "markdown",
      "source": [
        "## Seed everything"
      ],
      "metadata": {
        "id": "ltd33Bb8CIFv"
      }
    },
    {
      "cell_type": "code",
      "source": [
        "SEED = 42\n",
        "\n",
        "def seed_everything(seed: int):\n",
        "    random.seed(seed)\n",
        "    os.environ['PYTHONHASHSEED'] = str(seed)\n",
        "    np.random.seed(seed)\n",
        "    torch.manual_seed(seed)\n",
        "    torch.cuda.manual_seed(seed)\n",
        "    torch.backends.cudnn.deterministic = True\n",
        "    torch.backends.cudnn.benchmark = False\n",
        "    tf.random.set_seed(seed)\n",
        "\n",
        "def seed_worker(worker_id):\n",
        "    worker_seed = torch.initial_seed() % 2**32\n",
        "    np.random.seed(worker_seed)\n",
        "    random.seed(worker_seed)\n",
        "\n",
        "seed_everything(SEED)\n",
        "g = torch.Generator()\n",
        "g.manual_seed(SEED)"
      ],
      "metadata": {
        "colab": {
          "base_uri": "https://localhost:8080/"
        },
        "id": "1uVvgBkg61vi",
        "outputId": "691dbe76-e199-47a7-abb6-18263583da68"
      },
      "execution_count": 107,
      "outputs": [
        {
          "output_type": "execute_result",
          "data": {
            "text/plain": [
              "<torch._C.Generator at 0x7bdfb2479250>"
            ]
          },
          "metadata": {},
          "execution_count": 107
        }
      ]
    },
    {
      "cell_type": "markdown",
      "source": [
        "## Install data"
      ],
      "metadata": {
        "id": "sU8T61sMCQEW"
      }
    },
    {
      "cell_type": "code",
      "execution_count": 3,
      "metadata": {
        "id": "sprBQfzdObRE"
      },
      "outputs": [],
      "source": [
        "import gdown\n",
        "# Main data.\n",
        "data_url         = 'https://drive.google.com/drive/folders/1HH70Q8NDpA3kPflrldGSdYRUs5tWxclI?usp=sharing'\n",
        "\n",
        "links = [data_url]\n",
        "\n",
        "# Downloading data.\n",
        "for url in links:\n",
        "    gdown.download_folder(url, quiet=True)"
      ]
    },
    {
      "cell_type": "code",
      "source": [
        "df_train, df_val, df_test = pd.read_csv('/content/data/train/train.csv'), pd.read_csv('/content/data/val/val.csv'), pd.read_csv('/content/data/test/test.csv')"
      ],
      "metadata": {
        "id": "4lZ1UpP6QPGt"
      },
      "execution_count": 4,
      "outputs": []
    },
    {
      "cell_type": "code",
      "source": [
        "df_train.head()"
      ],
      "metadata": {
        "colab": {
          "base_uri": "https://localhost:8080/",
          "height": 204
        },
        "id": "5u7erWzYdHZV",
        "outputId": "24759145-4d07-4645-c099-6c5668431e27"
      },
      "execution_count": 5,
      "outputs": [
        {
          "output_type": "execute_result",
          "data": {
            "text/plain": [
              "                    ds       y\n",
              "0  2003-01-01 01:00:00  1824.7\n",
              "1  2003-01-01 02:00:00  1823.6\n",
              "2  2003-01-01 03:00:00  1814.7\n",
              "3  2003-01-01 04:00:00  1816.8\n",
              "4  2003-01-01 05:00:00  1816.4"
            ],
            "text/html": [
              "\n",
              "  <div id=\"df-ef208409-4663-4112-a797-eb9100a158c9\" class=\"colab-df-container\">\n",
              "    <div>\n",
              "<style scoped>\n",
              "    .dataframe tbody tr th:only-of-type {\n",
              "        vertical-align: middle;\n",
              "    }\n",
              "\n",
              "    .dataframe tbody tr th {\n",
              "        vertical-align: top;\n",
              "    }\n",
              "\n",
              "    .dataframe thead th {\n",
              "        text-align: right;\n",
              "    }\n",
              "</style>\n",
              "<table border=\"1\" class=\"dataframe\">\n",
              "  <thead>\n",
              "    <tr style=\"text-align: right;\">\n",
              "      <th></th>\n",
              "      <th>ds</th>\n",
              "      <th>y</th>\n",
              "    </tr>\n",
              "  </thead>\n",
              "  <tbody>\n",
              "    <tr>\n",
              "      <th>0</th>\n",
              "      <td>2003-01-01 01:00:00</td>\n",
              "      <td>1824.7</td>\n",
              "    </tr>\n",
              "    <tr>\n",
              "      <th>1</th>\n",
              "      <td>2003-01-01 02:00:00</td>\n",
              "      <td>1823.6</td>\n",
              "    </tr>\n",
              "    <tr>\n",
              "      <th>2</th>\n",
              "      <td>2003-01-01 03:00:00</td>\n",
              "      <td>1814.7</td>\n",
              "    </tr>\n",
              "    <tr>\n",
              "      <th>3</th>\n",
              "      <td>2003-01-01 04:00:00</td>\n",
              "      <td>1816.8</td>\n",
              "    </tr>\n",
              "    <tr>\n",
              "      <th>4</th>\n",
              "      <td>2003-01-01 05:00:00</td>\n",
              "      <td>1816.4</td>\n",
              "    </tr>\n",
              "  </tbody>\n",
              "</table>\n",
              "</div>\n",
              "    <div class=\"colab-df-buttons\">\n",
              "\n",
              "  <div class=\"colab-df-container\">\n",
              "    <button class=\"colab-df-convert\" onclick=\"convertToInteractive('df-ef208409-4663-4112-a797-eb9100a158c9')\"\n",
              "            title=\"Convert this dataframe to an interactive table.\"\n",
              "            style=\"display:none;\">\n",
              "\n",
              "  <svg xmlns=\"http://www.w3.org/2000/svg\" height=\"24px\" viewBox=\"0 -960 960 960\">\n",
              "    <path d=\"M120-120v-720h720v720H120Zm60-500h600v-160H180v160Zm220 220h160v-160H400v160Zm0 220h160v-160H400v160ZM180-400h160v-160H180v160Zm440 0h160v-160H620v160ZM180-180h160v-160H180v160Zm440 0h160v-160H620v160Z\"/>\n",
              "  </svg>\n",
              "    </button>\n",
              "\n",
              "  <style>\n",
              "    .colab-df-container {\n",
              "      display:flex;\n",
              "      gap: 12px;\n",
              "    }\n",
              "\n",
              "    .colab-df-convert {\n",
              "      background-color: #E8F0FE;\n",
              "      border: none;\n",
              "      border-radius: 50%;\n",
              "      cursor: pointer;\n",
              "      display: none;\n",
              "      fill: #1967D2;\n",
              "      height: 32px;\n",
              "      padding: 0 0 0 0;\n",
              "      width: 32px;\n",
              "    }\n",
              "\n",
              "    .colab-df-convert:hover {\n",
              "      background-color: #E2EBFA;\n",
              "      box-shadow: 0px 1px 2px rgba(60, 64, 67, 0.3), 0px 1px 3px 1px rgba(60, 64, 67, 0.15);\n",
              "      fill: #174EA6;\n",
              "    }\n",
              "\n",
              "    .colab-df-buttons div {\n",
              "      margin-bottom: 4px;\n",
              "    }\n",
              "\n",
              "    [theme=dark] .colab-df-convert {\n",
              "      background-color: #3B4455;\n",
              "      fill: #D2E3FC;\n",
              "    }\n",
              "\n",
              "    [theme=dark] .colab-df-convert:hover {\n",
              "      background-color: #434B5C;\n",
              "      box-shadow: 0px 1px 3px 1px rgba(0, 0, 0, 0.15);\n",
              "      filter: drop-shadow(0px 1px 2px rgba(0, 0, 0, 0.3));\n",
              "      fill: #FFFFFF;\n",
              "    }\n",
              "  </style>\n",
              "\n",
              "    <script>\n",
              "      const buttonEl =\n",
              "        document.querySelector('#df-ef208409-4663-4112-a797-eb9100a158c9 button.colab-df-convert');\n",
              "      buttonEl.style.display =\n",
              "        google.colab.kernel.accessAllowed ? 'block' : 'none';\n",
              "\n",
              "      async function convertToInteractive(key) {\n",
              "        const element = document.querySelector('#df-ef208409-4663-4112-a797-eb9100a158c9');\n",
              "        const dataTable =\n",
              "          await google.colab.kernel.invokeFunction('convertToInteractive',\n",
              "                                                    [key], {});\n",
              "        if (!dataTable) return;\n",
              "\n",
              "        const docLinkHtml = 'Like what you see? Visit the ' +\n",
              "          '<a target=\"_blank\" href=https://colab.research.google.com/notebooks/data_table.ipynb>data table notebook</a>'\n",
              "          + ' to learn more about interactive tables.';\n",
              "        element.innerHTML = '';\n",
              "        dataTable['output_type'] = 'display_data';\n",
              "        await google.colab.output.renderOutput(dataTable, element);\n",
              "        const docLink = document.createElement('div');\n",
              "        docLink.innerHTML = docLinkHtml;\n",
              "        element.appendChild(docLink);\n",
              "      }\n",
              "    </script>\n",
              "  </div>\n",
              "\n",
              "\n",
              "<div id=\"df-4d61dab5-982d-44a7-bf26-6fc273acc231\">\n",
              "  <button class=\"colab-df-quickchart\" onclick=\"quickchart('df-4d61dab5-982d-44a7-bf26-6fc273acc231')\"\n",
              "            title=\"Suggest charts\"\n",
              "            style=\"display:none;\">\n",
              "\n",
              "<svg xmlns=\"http://www.w3.org/2000/svg\" height=\"24px\"viewBox=\"0 0 24 24\"\n",
              "     width=\"24px\">\n",
              "    <g>\n",
              "        <path d=\"M19 3H5c-1.1 0-2 .9-2 2v14c0 1.1.9 2 2 2h14c1.1 0 2-.9 2-2V5c0-1.1-.9-2-2-2zM9 17H7v-7h2v7zm4 0h-2V7h2v10zm4 0h-2v-4h2v4z\"/>\n",
              "    </g>\n",
              "</svg>\n",
              "  </button>\n",
              "\n",
              "<style>\n",
              "  .colab-df-quickchart {\n",
              "      --bg-color: #E8F0FE;\n",
              "      --fill-color: #1967D2;\n",
              "      --hover-bg-color: #E2EBFA;\n",
              "      --hover-fill-color: #174EA6;\n",
              "      --disabled-fill-color: #AAA;\n",
              "      --disabled-bg-color: #DDD;\n",
              "  }\n",
              "\n",
              "  [theme=dark] .colab-df-quickchart {\n",
              "      --bg-color: #3B4455;\n",
              "      --fill-color: #D2E3FC;\n",
              "      --hover-bg-color: #434B5C;\n",
              "      --hover-fill-color: #FFFFFF;\n",
              "      --disabled-bg-color: #3B4455;\n",
              "      --disabled-fill-color: #666;\n",
              "  }\n",
              "\n",
              "  .colab-df-quickchart {\n",
              "    background-color: var(--bg-color);\n",
              "    border: none;\n",
              "    border-radius: 50%;\n",
              "    cursor: pointer;\n",
              "    display: none;\n",
              "    fill: var(--fill-color);\n",
              "    height: 32px;\n",
              "    padding: 0;\n",
              "    width: 32px;\n",
              "  }\n",
              "\n",
              "  .colab-df-quickchart:hover {\n",
              "    background-color: var(--hover-bg-color);\n",
              "    box-shadow: 0 1px 2px rgba(60, 64, 67, 0.3), 0 1px 3px 1px rgba(60, 64, 67, 0.15);\n",
              "    fill: var(--button-hover-fill-color);\n",
              "  }\n",
              "\n",
              "  .colab-df-quickchart-complete:disabled,\n",
              "  .colab-df-quickchart-complete:disabled:hover {\n",
              "    background-color: var(--disabled-bg-color);\n",
              "    fill: var(--disabled-fill-color);\n",
              "    box-shadow: none;\n",
              "  }\n",
              "\n",
              "  .colab-df-spinner {\n",
              "    border: 2px solid var(--fill-color);\n",
              "    border-color: transparent;\n",
              "    border-bottom-color: var(--fill-color);\n",
              "    animation:\n",
              "      spin 1s steps(1) infinite;\n",
              "  }\n",
              "\n",
              "  @keyframes spin {\n",
              "    0% {\n",
              "      border-color: transparent;\n",
              "      border-bottom-color: var(--fill-color);\n",
              "      border-left-color: var(--fill-color);\n",
              "    }\n",
              "    20% {\n",
              "      border-color: transparent;\n",
              "      border-left-color: var(--fill-color);\n",
              "      border-top-color: var(--fill-color);\n",
              "    }\n",
              "    30% {\n",
              "      border-color: transparent;\n",
              "      border-left-color: var(--fill-color);\n",
              "      border-top-color: var(--fill-color);\n",
              "      border-right-color: var(--fill-color);\n",
              "    }\n",
              "    40% {\n",
              "      border-color: transparent;\n",
              "      border-right-color: var(--fill-color);\n",
              "      border-top-color: var(--fill-color);\n",
              "    }\n",
              "    60% {\n",
              "      border-color: transparent;\n",
              "      border-right-color: var(--fill-color);\n",
              "    }\n",
              "    80% {\n",
              "      border-color: transparent;\n",
              "      border-right-color: var(--fill-color);\n",
              "      border-bottom-color: var(--fill-color);\n",
              "    }\n",
              "    90% {\n",
              "      border-color: transparent;\n",
              "      border-bottom-color: var(--fill-color);\n",
              "    }\n",
              "  }\n",
              "</style>\n",
              "\n",
              "  <script>\n",
              "    async function quickchart(key) {\n",
              "      const quickchartButtonEl =\n",
              "        document.querySelector('#' + key + ' button');\n",
              "      quickchartButtonEl.disabled = true;  // To prevent multiple clicks.\n",
              "      quickchartButtonEl.classList.add('colab-df-spinner');\n",
              "      try {\n",
              "        const charts = await google.colab.kernel.invokeFunction(\n",
              "            'suggestCharts', [key], {});\n",
              "      } catch (error) {\n",
              "        console.error('Error during call to suggestCharts:', error);\n",
              "      }\n",
              "      quickchartButtonEl.classList.remove('colab-df-spinner');\n",
              "      quickchartButtonEl.classList.add('colab-df-quickchart-complete');\n",
              "    }\n",
              "    (() => {\n",
              "      let quickchartButtonEl =\n",
              "        document.querySelector('#df-4d61dab5-982d-44a7-bf26-6fc273acc231 button');\n",
              "      quickchartButtonEl.style.display =\n",
              "        google.colab.kernel.accessAllowed ? 'block' : 'none';\n",
              "    })();\n",
              "  </script>\n",
              "</div>\n",
              "    </div>\n",
              "  </div>\n"
            ]
          },
          "metadata": {},
          "execution_count": 5
        }
      ]
    },
    {
      "cell_type": "markdown",
      "source": [
        "## Some functions"
      ],
      "metadata": {
        "id": "6mfPBb_t64gh"
      }
    },
    {
      "cell_type": "markdown",
      "source": [
        "Define method for fill missing values"
      ],
      "metadata": {
        "id": "9eNDBB8bDIyr"
      }
    },
    {
      "cell_type": "code",
      "source": [
        "def fill_missing_values(dataframe, method):\n",
        "    dataframe = dataframe.copy(deep=True)\n",
        "    # fill with mean.\n",
        "    if method == 'mean':\n",
        "        return dataframe.fillna(dataframe.mean(numeric_only=True).round(1))\n",
        "    # fill with median.\n",
        "    if method == 'median':\n",
        "        return dataframe.fillna(dataframe.median(numeric_only=True).round(1))\n",
        "    # if there are nan left, fill with bfill.\n",
        "    if method == 'ffill':\n",
        "        return dataframe.fillna(method=method).fillna(method='bfill')\n",
        "    # filling occurs with next values.\n",
        "    # if there are nan left, fill with ffill.\n",
        "    if method == 'bfill':\n",
        "        return dataframe.fillna(method=method).fillna(method='ffill')\n",
        "    # fill with backward interpolation.\n",
        "    # if there are nan left, fill with forward.\n",
        "    if method == 'interpolate_backward':\n",
        "        return dataframe.apply(lambda col: col.interpolate(method ='linear', limit_direction ='backward')\n",
        "                                              .interpolate(method ='linear', limit_direction ='forward') if col.name != \"ds\" else col)\n",
        "    # fill with knn method.\n",
        "    if method == 'knn':\n",
        "        imputer = KNNImputer(n_neighbors=15)\n",
        "        dataframe = dataframe.apply(lambda col: imputer.fit_transform(col.to_numpy().reshape(-1, 1)).T[0] if col.name != \"ds\" else col)\n",
        "        return dataframe\n",
        "\n",
        "    return dataframe"
      ],
      "metadata": {
        "id": "AkQi6C7ok1W-"
      },
      "execution_count": 75,
      "outputs": []
    },
    {
      "cell_type": "markdown",
      "source": [
        "Method to split data into sequences"
      ],
      "metadata": {
        "id": "Cr0YcLARDOuO"
      }
    },
    {
      "cell_type": "code",
      "source": [
        "def df_to_X_y(df, window_size=5):\n",
        "  df_as_np = df.to_numpy()\n",
        "  X = []\n",
        "  y = []\n",
        "  for i in range(len(df_as_np)-window_size):\n",
        "    row = [[a] for a in df_as_np[i:i+window_size]]\n",
        "    X.append(row)\n",
        "    label = df_as_np[i+window_size]\n",
        "    y.append(label)\n",
        "  return np.array(X), np.array(y)"
      ],
      "metadata": {
        "id": "q2ymUkTYByIH"
      },
      "execution_count": 76,
      "outputs": []
    },
    {
      "cell_type": "markdown",
      "source": [
        "Method for calculating smape metric"
      ],
      "metadata": {
        "id": "9wtNLl3bEXV7"
      }
    },
    {
      "cell_type": "code",
      "source": [
        "def calc_smape(actual, predicted) -> float:\n",
        "\n",
        "    # Convert actual and predicted to numpy\n",
        "    # array data type if not already\n",
        "    if not all([isinstance(actual, np.ndarray),\n",
        "                isinstance(predicted, np.ndarray)]):\n",
        "        actual, predicted = np.array(actual), np.array(predicted)\n",
        "\n",
        "    return np.mean(np.abs(predicted - actual) / ((np.abs(predicted) + np.abs(actual)) / 2) ) * 100"
      ],
      "metadata": {
        "id": "PsIxr6_vtn-Z"
      },
      "execution_count": 77,
      "outputs": []
    },
    {
      "cell_type": "markdown",
      "source": [
        "Visualization of metrics while training"
      ],
      "metadata": {
        "id": "YoT3avokEegC"
      }
    },
    {
      "cell_type": "code",
      "source": [
        "sns.set_style('whitegrid')\n",
        "plt.rcParams.update({'font.size': 15})\n",
        "\n",
        "\n",
        "def plot_metrics(train_losses, val_mape, val_smape):\n",
        "    clear_output()\n",
        "    fig, axs = plt.subplots(1, 2, figsize=(13, 4))\n",
        "    axs[0].plot(range(1, len(train_losses) + 1), train_losses, label='train loss')\n",
        "    axs[0].set_ylabel('loss')\n",
        "\n",
        "    axs[1].plot(range(1, len(val_mape) + 1), val_mape, label='val mape')\n",
        "    axs[1].plot(range(1, len(val_smape) + 1), val_smape, label='val smape')\n",
        "    axs[1].set_ylabel('mape/smape')\n",
        "\n",
        "    for ax in axs:\n",
        "        ax.set_xlabel('epoch')\n",
        "        ax.legend()\n",
        "\n",
        "    plt.show()"
      ],
      "metadata": {
        "id": "AxCH0h9plv1t"
      },
      "execution_count": 78,
      "outputs": []
    },
    {
      "cell_type": "code",
      "source": [
        "def find_best_metric_by_filling_method(train, val, method):\n",
        "    df_train_filled = fill_missing_values(train, method=method)\n",
        "    df_val_filled = fill_missing_values(val, method=method)\n",
        "\n",
        "    scaler = StandardScaler()\n",
        "    df_train_filled.y = scaler.fit_transform(np.array(df_train_filled.y).reshape(-1, 1)).T[0]\n",
        "    df_val_filled.y = scaler.transform(np.array(df_val_filled.y).reshape(-1, 1)).T[0]\n",
        "\n",
        "    df_train_filled.index = pd.to_datetime(df_train_filled['ds'], format='%Y-%m-%d %H:%M:%S')\n",
        "    df_val_filled.index = pd.to_datetime(df_val_filled['ds'], format='%Y-%m-%d %H:%M:%S')\n",
        "\n",
        "    df_train_filled.drop(columns=['ds'], inplace=True)\n",
        "    df_val_filled.drop(columns=['ds'], inplace=True)\n",
        "\n",
        "    WINDOW_SIZE = 5\n",
        "\n",
        "    X_train, y_train = df_to_X_y(df_train_filled, WINDOW_SIZE)\n",
        "    X_val, y_val = df_to_X_y(df_val_filled, WINDOW_SIZE)\n",
        "\n",
        "    model = Sequential()\n",
        "    model.add(Conv1D(filters=128, kernel_size=2, activation='relu', input_shape=(WINDOW_SIZE, 1)))\n",
        "    model.add(MaxPooling1D(pool_size=2))\n",
        "    model.add(Conv1D(filters=64, kernel_size=2, activation='relu'))\n",
        "    model.add(Flatten())\n",
        "    model.add(Dense(128, activation='relu'))\n",
        "    model.add(Dense(1))\n",
        "\n",
        "    model.compile(loss=MeanSquaredError(), optimizer=SGD(learning_rate=0.001, momentum=0.9), metrics=[RootMeanSquaredError()])\n",
        "    model_history = model.fit(X_train, y_train, validation_data=(X_val, y_val), epochs=20)\n",
        "\n",
        "    return min(model_history.history['val_loss'])"
      ],
      "metadata": {
        "id": "S42huGgprqpg"
      },
      "execution_count": 79,
      "outputs": []
    },
    {
      "cell_type": "markdown",
      "source": [
        "## Find best method for filling missing values:"
      ],
      "metadata": {
        "id": "-1WYMpwj8e33"
      }
    },
    {
      "cell_type": "markdown",
      "source": [
        "### 1. Fill NaN values with <i><b>mean</b></i> method."
      ],
      "metadata": {
        "id": "6oGcqjFc89oJ"
      }
    },
    {
      "cell_type": "code",
      "source": [
        "mean_best_val_loss = find_best_metric_by_filling_method(df_train, df_val, 'mean')"
      ],
      "metadata": {
        "colab": {
          "base_uri": "https://localhost:8080/"
        },
        "id": "eaJfvrdhs3i4",
        "outputId": "5b7ad26c-ec31-4457-e23c-d25d7f740852"
      },
      "execution_count": 63,
      "outputs": [
        {
          "output_type": "stream",
          "name": "stdout",
          "text": [
            "Epoch 1/20\n",
            "4553/4553 [==============================] - 12s 3ms/step - loss: 0.0251 - root_mean_squared_error: 0.1586 - val_loss: 0.0207 - val_root_mean_squared_error: 0.1440\n",
            "Epoch 2/20\n",
            "4553/4553 [==============================] - 11s 2ms/step - loss: 0.0158 - root_mean_squared_error: 0.1256 - val_loss: 0.0171 - val_root_mean_squared_error: 0.1307\n",
            "Epoch 3/20\n",
            "4553/4553 [==============================] - 11s 2ms/step - loss: 0.0149 - root_mean_squared_error: 0.1219 - val_loss: 0.0178 - val_root_mean_squared_error: 0.1333\n",
            "Epoch 4/20\n",
            "4553/4553 [==============================] - 11s 2ms/step - loss: 0.0145 - root_mean_squared_error: 0.1204 - val_loss: 0.0198 - val_root_mean_squared_error: 0.1406\n",
            "Epoch 5/20\n",
            "4553/4553 [==============================] - 11s 2ms/step - loss: 0.0143 - root_mean_squared_error: 0.1195 - val_loss: 0.0176 - val_root_mean_squared_error: 0.1326\n",
            "Epoch 6/20\n",
            "4553/4553 [==============================] - 11s 2ms/step - loss: 0.0141 - root_mean_squared_error: 0.1188 - val_loss: 0.0148 - val_root_mean_squared_error: 0.1217\n",
            "Epoch 7/20\n",
            "4553/4553 [==============================] - 10s 2ms/step - loss: 0.0140 - root_mean_squared_error: 0.1183 - val_loss: 0.0191 - val_root_mean_squared_error: 0.1381\n",
            "Epoch 8/20\n",
            "4553/4553 [==============================] - 11s 2ms/step - loss: 0.0139 - root_mean_squared_error: 0.1181 - val_loss: 0.0161 - val_root_mean_squared_error: 0.1268\n",
            "Epoch 9/20\n",
            "4553/4553 [==============================] - 12s 3ms/step - loss: 0.0139 - root_mean_squared_error: 0.1178 - val_loss: 0.0139 - val_root_mean_squared_error: 0.1178\n",
            "Epoch 10/20\n",
            "4553/4553 [==============================] - 12s 3ms/step - loss: 0.0138 - root_mean_squared_error: 0.1176 - val_loss: 0.0173 - val_root_mean_squared_error: 0.1314\n",
            "Epoch 11/20\n",
            "4553/4553 [==============================] - 11s 3ms/step - loss: 0.0138 - root_mean_squared_error: 0.1174 - val_loss: 0.0155 - val_root_mean_squared_error: 0.1245\n",
            "Epoch 12/20\n",
            "4553/4553 [==============================] - 11s 2ms/step - loss: 0.0137 - root_mean_squared_error: 0.1172 - val_loss: 0.0204 - val_root_mean_squared_error: 0.1428\n",
            "Epoch 13/20\n",
            "4553/4553 [==============================] - 11s 2ms/step - loss: 0.0137 - root_mean_squared_error: 0.1171 - val_loss: 0.0159 - val_root_mean_squared_error: 0.1261\n",
            "Epoch 14/20\n",
            "4553/4553 [==============================] - 11s 2ms/step - loss: 0.0137 - root_mean_squared_error: 0.1170 - val_loss: 0.0202 - val_root_mean_squared_error: 0.1420\n",
            "Epoch 15/20\n",
            "4553/4553 [==============================] - 11s 2ms/step - loss: 0.0137 - root_mean_squared_error: 0.1169 - val_loss: 0.0194 - val_root_mean_squared_error: 0.1392\n",
            "Epoch 16/20\n",
            "4553/4553 [==============================] - 10s 2ms/step - loss: 0.0136 - root_mean_squared_error: 0.1167 - val_loss: 0.0164 - val_root_mean_squared_error: 0.1282\n",
            "Epoch 17/20\n",
            "4553/4553 [==============================] - 11s 2ms/step - loss: 0.0136 - root_mean_squared_error: 0.1167 - val_loss: 0.0187 - val_root_mean_squared_error: 0.1368\n",
            "Epoch 18/20\n",
            "4553/4553 [==============================] - 11s 3ms/step - loss: 0.0136 - root_mean_squared_error: 0.1165 - val_loss: 0.0208 - val_root_mean_squared_error: 0.1443\n",
            "Epoch 19/20\n",
            "4553/4553 [==============================] - 12s 3ms/step - loss: 0.0136 - root_mean_squared_error: 0.1165 - val_loss: 0.0226 - val_root_mean_squared_error: 0.1503\n",
            "Epoch 20/20\n",
            "4553/4553 [==============================] - 12s 3ms/step - loss: 0.0136 - root_mean_squared_error: 0.1164 - val_loss: 0.0184 - val_root_mean_squared_error: 0.1355\n"
          ]
        }
      ]
    },
    {
      "cell_type": "code",
      "source": [
        "print(f'Best val_loss for mean: ', mean_best_val_loss)"
      ],
      "metadata": {
        "id": "xV8JQEQvpt31",
        "colab": {
          "base_uri": "https://localhost:8080/"
        },
        "outputId": "6850bef5-a771-4eb9-97c5-e6c3842afe0b"
      },
      "execution_count": 64,
      "outputs": [
        {
          "output_type": "stream",
          "name": "stdout",
          "text": [
            "Best val_loss for mean:  0.013881873339414597\n"
          ]
        }
      ]
    },
    {
      "cell_type": "markdown",
      "source": [
        "### 2. Fill NaN values with <i><b>median</b></i> method."
      ],
      "metadata": {
        "id": "UW2qBLaJ9BlW"
      }
    },
    {
      "cell_type": "code",
      "source": [
        "median_best_val_loss = find_best_metric_by_filling_method(df_train, df_val, 'median')"
      ],
      "metadata": {
        "colab": {
          "base_uri": "https://localhost:8080/"
        },
        "outputId": "8c64453f-3f1d-48d0-fbc4-eb4d5722a67d",
        "id": "k3ktFIeVuCqI"
      },
      "execution_count": 65,
      "outputs": [
        {
          "output_type": "stream",
          "name": "stdout",
          "text": [
            "Epoch 1/20\n",
            "4553/4553 [==============================] - 11s 2ms/step - loss: 0.0256 - root_mean_squared_error: 0.1599 - val_loss: 0.0236 - val_root_mean_squared_error: 0.1535\n",
            "Epoch 2/20\n",
            "4553/4553 [==============================] - 11s 2ms/step - loss: 0.0161 - root_mean_squared_error: 0.1269 - val_loss: 0.0180 - val_root_mean_squared_error: 0.1343\n",
            "Epoch 3/20\n",
            "4553/4553 [==============================] - 10s 2ms/step - loss: 0.0153 - root_mean_squared_error: 0.1235 - val_loss: 0.0194 - val_root_mean_squared_error: 0.1391\n",
            "Epoch 4/20\n",
            "4553/4553 [==============================] - 11s 2ms/step - loss: 0.0149 - root_mean_squared_error: 0.1220 - val_loss: 0.0211 - val_root_mean_squared_error: 0.1453\n",
            "Epoch 5/20\n",
            "4553/4553 [==============================] - 11s 3ms/step - loss: 0.0146 - root_mean_squared_error: 0.1210 - val_loss: 0.0204 - val_root_mean_squared_error: 0.1427\n",
            "Epoch 6/20\n",
            "4553/4553 [==============================] - 12s 3ms/step - loss: 0.0145 - root_mean_squared_error: 0.1202 - val_loss: 0.0155 - val_root_mean_squared_error: 0.1245\n",
            "Epoch 7/20\n",
            "4553/4553 [==============================] - 11s 2ms/step - loss: 0.0143 - root_mean_squared_error: 0.1196 - val_loss: 0.0193 - val_root_mean_squared_error: 0.1388\n",
            "Epoch 8/20\n",
            "4553/4553 [==============================] - 12s 3ms/step - loss: 0.0142 - root_mean_squared_error: 0.1193 - val_loss: 0.0169 - val_root_mean_squared_error: 0.1301\n",
            "Epoch 9/20\n",
            "4553/4553 [==============================] - 11s 2ms/step - loss: 0.0142 - root_mean_squared_error: 0.1190 - val_loss: 0.0142 - val_root_mean_squared_error: 0.1190\n",
            "Epoch 10/20\n",
            "4553/4553 [==============================] - 12s 3ms/step - loss: 0.0141 - root_mean_squared_error: 0.1187 - val_loss: 0.0178 - val_root_mean_squared_error: 0.1335\n",
            "Epoch 11/20\n",
            "4553/4553 [==============================] - 12s 3ms/step - loss: 0.0140 - root_mean_squared_error: 0.1185 - val_loss: 0.0160 - val_root_mean_squared_error: 0.1263\n",
            "Epoch 12/20\n",
            "4553/4553 [==============================] - 11s 2ms/step - loss: 0.0140 - root_mean_squared_error: 0.1183 - val_loss: 0.0207 - val_root_mean_squared_error: 0.1440\n",
            "Epoch 13/20\n",
            "4553/4553 [==============================] - 10s 2ms/step - loss: 0.0140 - root_mean_squared_error: 0.1182 - val_loss: 0.0174 - val_root_mean_squared_error: 0.1317\n",
            "Epoch 14/20\n",
            "4553/4553 [==============================] - 12s 3ms/step - loss: 0.0139 - root_mean_squared_error: 0.1180 - val_loss: 0.0188 - val_root_mean_squared_error: 0.1372\n",
            "Epoch 15/20\n",
            "4553/4553 [==============================] - 11s 3ms/step - loss: 0.0139 - root_mean_squared_error: 0.1179 - val_loss: 0.0199 - val_root_mean_squared_error: 0.1410\n",
            "Epoch 16/20\n",
            "4553/4553 [==============================] - 12s 3ms/step - loss: 0.0139 - root_mean_squared_error: 0.1178 - val_loss: 0.0168 - val_root_mean_squared_error: 0.1296\n",
            "Epoch 17/20\n",
            "4553/4553 [==============================] - 11s 2ms/step - loss: 0.0139 - root_mean_squared_error: 0.1178 - val_loss: 0.0196 - val_root_mean_squared_error: 0.1401\n",
            "Epoch 18/20\n",
            "4553/4553 [==============================] - 11s 3ms/step - loss: 0.0138 - root_mean_squared_error: 0.1176 - val_loss: 0.0212 - val_root_mean_squared_error: 0.1457\n",
            "Epoch 19/20\n",
            "4553/4553 [==============================] - 11s 2ms/step - loss: 0.0138 - root_mean_squared_error: 0.1175 - val_loss: 0.0228 - val_root_mean_squared_error: 0.1509\n",
            "Epoch 20/20\n",
            "4553/4553 [==============================] - 11s 2ms/step - loss: 0.0138 - root_mean_squared_error: 0.1175 - val_loss: 0.0184 - val_root_mean_squared_error: 0.1357\n"
          ]
        }
      ]
    },
    {
      "cell_type": "code",
      "source": [
        "print(f'Best val_loss for median: ', median_best_val_loss)"
      ],
      "metadata": {
        "id": "gqFJCZWKuCqK",
        "colab": {
          "base_uri": "https://localhost:8080/"
        },
        "outputId": "0206c071-72d1-4729-b874-1f174f4cb365"
      },
      "execution_count": 66,
      "outputs": [
        {
          "output_type": "stream",
          "name": "stdout",
          "text": [
            "Best val_loss for median:  0.014150653965771198\n"
          ]
        }
      ]
    },
    {
      "cell_type": "markdown",
      "source": [
        "### 3. Fill NaN values with <i><b>ffill</b></i> method."
      ],
      "metadata": {
        "id": "wFusQpas9B6d"
      }
    },
    {
      "cell_type": "code",
      "source": [
        "ffill_best_val_loss = find_best_metric_by_filling_method(df_train, df_val, 'ffill')"
      ],
      "metadata": {
        "colab": {
          "base_uri": "https://localhost:8080/"
        },
        "outputId": "b19ab4b3-81c4-4ef4-9af2-887b9b4a5da2",
        "id": "r2bQXGc2uOOh"
      },
      "execution_count": 67,
      "outputs": [
        {
          "output_type": "stream",
          "name": "stdout",
          "text": [
            "Epoch 1/20\n",
            "4553/4553 [==============================] - 11s 2ms/step - loss: 0.0236 - root_mean_squared_error: 0.1538 - val_loss: 0.0224 - val_root_mean_squared_error: 0.1496\n",
            "Epoch 2/20\n",
            "4553/4553 [==============================] - 11s 2ms/step - loss: 0.0139 - root_mean_squared_error: 0.1180 - val_loss: 0.0183 - val_root_mean_squared_error: 0.1352\n",
            "Epoch 3/20\n",
            "4553/4553 [==============================] - 11s 2ms/step - loss: 0.0130 - root_mean_squared_error: 0.1139 - val_loss: 0.0187 - val_root_mean_squared_error: 0.1369\n",
            "Epoch 4/20\n",
            "4553/4553 [==============================] - 10s 2ms/step - loss: 0.0125 - root_mean_squared_error: 0.1119 - val_loss: 0.0190 - val_root_mean_squared_error: 0.1378\n",
            "Epoch 5/20\n",
            "4553/4553 [==============================] - 11s 2ms/step - loss: 0.0122 - root_mean_squared_error: 0.1107 - val_loss: 0.0152 - val_root_mean_squared_error: 0.1233\n",
            "Epoch 6/20\n",
            "4553/4553 [==============================] - 11s 2ms/step - loss: 0.0121 - root_mean_squared_error: 0.1098 - val_loss: 0.0141 - val_root_mean_squared_error: 0.1187\n",
            "Epoch 7/20\n",
            "4553/4553 [==============================] - 11s 2ms/step - loss: 0.0119 - root_mean_squared_error: 0.1092 - val_loss: 0.0155 - val_root_mean_squared_error: 0.1246\n",
            "Epoch 8/20\n",
            "4553/4553 [==============================] - 11s 2ms/step - loss: 0.0118 - root_mean_squared_error: 0.1088 - val_loss: 0.0148 - val_root_mean_squared_error: 0.1218\n",
            "Epoch 9/20\n",
            "4553/4553 [==============================] - 11s 2ms/step - loss: 0.0118 - root_mean_squared_error: 0.1085 - val_loss: 0.0130 - val_root_mean_squared_error: 0.1140\n",
            "Epoch 10/20\n",
            "4553/4553 [==============================] - 11s 2ms/step - loss: 0.0117 - root_mean_squared_error: 0.1082 - val_loss: 0.0148 - val_root_mean_squared_error: 0.1218\n",
            "Epoch 11/20\n",
            "4553/4553 [==============================] - 11s 2ms/step - loss: 0.0117 - root_mean_squared_error: 0.1079 - val_loss: 0.0145 - val_root_mean_squared_error: 0.1203\n",
            "Epoch 12/20\n",
            "4553/4553 [==============================] - 12s 3ms/step - loss: 0.0116 - root_mean_squared_error: 0.1078 - val_loss: 0.0185 - val_root_mean_squared_error: 0.1359\n",
            "Epoch 13/20\n",
            "4553/4553 [==============================] - 11s 2ms/step - loss: 0.0116 - root_mean_squared_error: 0.1076 - val_loss: 0.0141 - val_root_mean_squared_error: 0.1189\n",
            "Epoch 14/20\n",
            "4553/4553 [==============================] - 10s 2ms/step - loss: 0.0116 - root_mean_squared_error: 0.1075 - val_loss: 0.0158 - val_root_mean_squared_error: 0.1257\n",
            "Epoch 15/20\n",
            "4553/4553 [==============================] - 12s 3ms/step - loss: 0.0115 - root_mean_squared_error: 0.1074 - val_loss: 0.0162 - val_root_mean_squared_error: 0.1273\n",
            "Epoch 16/20\n",
            "4553/4553 [==============================] - 11s 2ms/step - loss: 0.0115 - root_mean_squared_error: 0.1072 - val_loss: 0.0139 - val_root_mean_squared_error: 0.1177\n",
            "Epoch 17/20\n",
            "4553/4553 [==============================] - 11s 2ms/step - loss: 0.0115 - root_mean_squared_error: 0.1071 - val_loss: 0.0159 - val_root_mean_squared_error: 0.1260\n",
            "Epoch 18/20\n",
            "4553/4553 [==============================] - 11s 2ms/step - loss: 0.0115 - root_mean_squared_error: 0.1070 - val_loss: 0.0175 - val_root_mean_squared_error: 0.1324\n",
            "Epoch 19/20\n",
            "4553/4553 [==============================] - 11s 2ms/step - loss: 0.0114 - root_mean_squared_error: 0.1069 - val_loss: 0.0183 - val_root_mean_squared_error: 0.1354\n",
            "Epoch 20/20\n",
            "4553/4553 [==============================] - 11s 2ms/step - loss: 0.0114 - root_mean_squared_error: 0.1069 - val_loss: 0.0149 - val_root_mean_squared_error: 0.1222\n"
          ]
        }
      ]
    },
    {
      "cell_type": "code",
      "source": [
        "print(f'Best val_loss for ffill: ', ffill_best_val_loss)"
      ],
      "metadata": {
        "id": "PHYDHA7MuOOi",
        "colab": {
          "base_uri": "https://localhost:8080/"
        },
        "outputId": "8b328008-8c2c-4cd5-d162-fe761c0fc9f0"
      },
      "execution_count": 68,
      "outputs": [
        {
          "output_type": "stream",
          "name": "stdout",
          "text": [
            "Best val_loss for ffill:  0.013002852909266949\n"
          ]
        }
      ]
    },
    {
      "cell_type": "markdown",
      "source": [
        "### 4. Fill NaN values with <i><b>bfill</b></i> method."
      ],
      "metadata": {
        "id": "4xdnH0tu9De_"
      }
    },
    {
      "cell_type": "code",
      "source": [
        "bfill_best_val_loss = find_best_metric_by_filling_method(df_train, df_val, 'bfill')"
      ],
      "metadata": {
        "colab": {
          "base_uri": "https://localhost:8080/"
        },
        "outputId": "d25b8146-5902-4d2a-bba4-3eca78919d6f",
        "id": "ZEqX3GejuYXz"
      },
      "execution_count": 98,
      "outputs": [
        {
          "output_type": "stream",
          "name": "stdout",
          "text": [
            "Epoch 1/20\n",
            "4553/4553 [==============================] - 20s 4ms/step - loss: 0.0246 - root_mean_squared_error: 0.1569 - val_loss: 0.0206 - val_root_mean_squared_error: 0.1434\n",
            "Epoch 2/20\n",
            "4553/4553 [==============================] - 17s 4ms/step - loss: 0.0133 - root_mean_squared_error: 0.1154 - val_loss: 0.0170 - val_root_mean_squared_error: 0.1306\n",
            "Epoch 3/20\n",
            "4553/4553 [==============================] - 13s 3ms/step - loss: 0.0124 - root_mean_squared_error: 0.1113 - val_loss: 0.0171 - val_root_mean_squared_error: 0.1308\n",
            "Epoch 4/20\n",
            "4553/4553 [==============================] - 12s 3ms/step - loss: 0.0121 - root_mean_squared_error: 0.1099 - val_loss: 0.0185 - val_root_mean_squared_error: 0.1361\n",
            "Epoch 5/20\n",
            "4553/4553 [==============================] - 11s 3ms/step - loss: 0.0119 - root_mean_squared_error: 0.1092 - val_loss: 0.0154 - val_root_mean_squared_error: 0.1242\n",
            "Epoch 6/20\n",
            "4553/4553 [==============================] - 12s 3ms/step - loss: 0.0118 - root_mean_squared_error: 0.1086 - val_loss: 0.0143 - val_root_mean_squared_error: 0.1195\n",
            "Epoch 7/20\n",
            "4553/4553 [==============================] - 11s 2ms/step - loss: 0.0117 - root_mean_squared_error: 0.1082 - val_loss: 0.0158 - val_root_mean_squared_error: 0.1259\n",
            "Epoch 8/20\n",
            "4553/4553 [==============================] - 12s 3ms/step - loss: 0.0117 - root_mean_squared_error: 0.1080 - val_loss: 0.0156 - val_root_mean_squared_error: 0.1248\n",
            "Epoch 9/20\n",
            "4553/4553 [==============================] - 11s 2ms/step - loss: 0.0116 - root_mean_squared_error: 0.1077 - val_loss: 0.0134 - val_root_mean_squared_error: 0.1158\n",
            "Epoch 10/20\n",
            "4553/4553 [==============================] - 11s 2ms/step - loss: 0.0116 - root_mean_squared_error: 0.1076 - val_loss: 0.0162 - val_root_mean_squared_error: 0.1274\n",
            "Epoch 11/20\n",
            "4553/4553 [==============================] - 20s 4ms/step - loss: 0.0115 - root_mean_squared_error: 0.1074 - val_loss: 0.0144 - val_root_mean_squared_error: 0.1199\n",
            "Epoch 12/20\n",
            "4553/4553 [==============================] - 16s 4ms/step - loss: 0.0115 - root_mean_squared_error: 0.1072 - val_loss: 0.0209 - val_root_mean_squared_error: 0.1446\n",
            "Epoch 13/20\n",
            "4553/4553 [==============================] - 19s 4ms/step - loss: 0.0115 - root_mean_squared_error: 0.1071 - val_loss: 0.0153 - val_root_mean_squared_error: 0.1237\n",
            "Epoch 14/20\n",
            "4553/4553 [==============================] - 12s 3ms/step - loss: 0.0115 - root_mean_squared_error: 0.1070 - val_loss: 0.0179 - val_root_mean_squared_error: 0.1337\n",
            "Epoch 15/20\n",
            "4553/4553 [==============================] - 11s 2ms/step - loss: 0.0114 - root_mean_squared_error: 0.1069 - val_loss: 0.0189 - val_root_mean_squared_error: 0.1375\n",
            "Epoch 16/20\n",
            "4553/4553 [==============================] - 11s 2ms/step - loss: 0.0114 - root_mean_squared_error: 0.1068 - val_loss: 0.0147 - val_root_mean_squared_error: 0.1213\n",
            "Epoch 17/20\n",
            "4553/4553 [==============================] - 11s 2ms/step - loss: 0.0114 - root_mean_squared_error: 0.1067 - val_loss: 0.0178 - val_root_mean_squared_error: 0.1333\n",
            "Epoch 18/20\n",
            "4553/4553 [==============================] - 11s 2ms/step - loss: 0.0114 - root_mean_squared_error: 0.1066 - val_loss: 0.0180 - val_root_mean_squared_error: 0.1343\n",
            "Epoch 19/20\n",
            "4553/4553 [==============================] - 13s 3ms/step - loss: 0.0114 - root_mean_squared_error: 0.1066 - val_loss: 0.0205 - val_root_mean_squared_error: 0.1433\n",
            "Epoch 20/20\n",
            "4553/4553 [==============================] - 12s 3ms/step - loss: 0.0113 - root_mean_squared_error: 0.1065 - val_loss: 0.0166 - val_root_mean_squared_error: 0.1289\n"
          ]
        }
      ]
    },
    {
      "cell_type": "code",
      "source": [
        "print(f'Best val_loss for bfill: ', bfill_best_val_loss)"
      ],
      "metadata": {
        "id": "lI0TEKP_uYX1",
        "colab": {
          "base_uri": "https://localhost:8080/"
        },
        "outputId": "1c21ea4c-c857-4fff-e5cd-aed63939c860"
      },
      "execution_count": 99,
      "outputs": [
        {
          "output_type": "stream",
          "name": "stdout",
          "text": [
            "Best val_loss for bfill:  0.013405246660113335\n"
          ]
        }
      ]
    },
    {
      "cell_type": "markdown",
      "source": [
        "### 5. Fill NaN values with <i><b>interpolate_backward</b></i> method."
      ],
      "metadata": {
        "id": "IKUdTrrT9GXH"
      }
    },
    {
      "cell_type": "code",
      "source": [
        "interpolate_backward_best_val_loss = find_best_metric_by_filling_method(df_train, df_val, 'interpolate_backward')"
      ],
      "metadata": {
        "colab": {
          "base_uri": "https://localhost:8080/"
        },
        "outputId": "2d421cf2-5832-4e50-a6fc-6441f5c36284",
        "id": "z-qeQugfudZI"
      },
      "execution_count": 71,
      "outputs": [
        {
          "output_type": "stream",
          "name": "stdout",
          "text": [
            "Epoch 1/20\n",
            "4553/4553 [==============================] - 11s 2ms/step - loss: 0.0236 - root_mean_squared_error: 0.1535 - val_loss: 0.0195 - val_root_mean_squared_error: 0.1396\n",
            "Epoch 2/20\n",
            "4553/4553 [==============================] - 11s 2ms/step - loss: 0.0136 - root_mean_squared_error: 0.1164 - val_loss: 0.0166 - val_root_mean_squared_error: 0.1289\n",
            "Epoch 3/20\n",
            "4553/4553 [==============================] - 11s 3ms/step - loss: 0.0128 - root_mean_squared_error: 0.1133 - val_loss: 0.0168 - val_root_mean_squared_error: 0.1297\n",
            "Epoch 4/20\n",
            "4553/4553 [==============================] - 11s 2ms/step - loss: 0.0125 - root_mean_squared_error: 0.1117 - val_loss: 0.0187 - val_root_mean_squared_error: 0.1368\n",
            "Epoch 5/20\n",
            "4553/4553 [==============================] - 11s 2ms/step - loss: 0.0122 - root_mean_squared_error: 0.1106 - val_loss: 0.0166 - val_root_mean_squared_error: 0.1290\n",
            "Epoch 6/20\n",
            "4553/4553 [==============================] - 11s 2ms/step - loss: 0.0121 - root_mean_squared_error: 0.1098 - val_loss: 0.0142 - val_root_mean_squared_error: 0.1190\n",
            "Epoch 7/20\n",
            "4553/4553 [==============================] - 11s 2ms/step - loss: 0.0119 - root_mean_squared_error: 0.1091 - val_loss: 0.0159 - val_root_mean_squared_error: 0.1262\n",
            "Epoch 8/20\n",
            "4553/4553 [==============================] - 10s 2ms/step - loss: 0.0118 - root_mean_squared_error: 0.1088 - val_loss: 0.0163 - val_root_mean_squared_error: 0.1278\n",
            "Epoch 9/20\n",
            "4553/4553 [==============================] - 11s 2ms/step - loss: 0.0117 - root_mean_squared_error: 0.1084 - val_loss: 0.0136 - val_root_mean_squared_error: 0.1165\n",
            "Epoch 10/20\n",
            "4553/4553 [==============================] - 11s 2ms/step - loss: 0.0117 - root_mean_squared_error: 0.1081 - val_loss: 0.0158 - val_root_mean_squared_error: 0.1258\n",
            "Epoch 11/20\n",
            "4553/4553 [==============================] - 11s 2ms/step - loss: 0.0116 - root_mean_squared_error: 0.1078 - val_loss: 0.0142 - val_root_mean_squared_error: 0.1191\n",
            "Epoch 12/20\n",
            "4553/4553 [==============================] - 11s 2ms/step - loss: 0.0116 - root_mean_squared_error: 0.1076 - val_loss: 0.0199 - val_root_mean_squared_error: 0.1409\n",
            "Epoch 13/20\n",
            "4553/4553 [==============================] - 11s 2ms/step - loss: 0.0115 - root_mean_squared_error: 0.1074 - val_loss: 0.0144 - val_root_mean_squared_error: 0.1199\n",
            "Epoch 14/20\n",
            "4553/4553 [==============================] - 11s 3ms/step - loss: 0.0115 - root_mean_squared_error: 0.1073 - val_loss: 0.0168 - val_root_mean_squared_error: 0.1296\n",
            "Epoch 15/20\n",
            "4553/4553 [==============================] - 11s 2ms/step - loss: 0.0115 - root_mean_squared_error: 0.1072 - val_loss: 0.0167 - val_root_mean_squared_error: 0.1294\n",
            "Epoch 16/20\n",
            "4553/4553 [==============================] - 11s 2ms/step - loss: 0.0115 - root_mean_squared_error: 0.1070 - val_loss: 0.0148 - val_root_mean_squared_error: 0.1217\n",
            "Epoch 17/20\n",
            "4553/4553 [==============================] - 10s 2ms/step - loss: 0.0114 - root_mean_squared_error: 0.1069 - val_loss: 0.0167 - val_root_mean_squared_error: 0.1294\n",
            "Epoch 18/20\n",
            "4553/4553 [==============================] - 11s 2ms/step - loss: 0.0114 - root_mean_squared_error: 0.1068 - val_loss: 0.0180 - val_root_mean_squared_error: 0.1341\n",
            "Epoch 19/20\n",
            "4553/4553 [==============================] - 17s 4ms/step - loss: 0.0114 - root_mean_squared_error: 0.1068 - val_loss: 0.0187 - val_root_mean_squared_error: 0.1367\n",
            "Epoch 20/20\n",
            "4553/4553 [==============================] - 17s 4ms/step - loss: 0.0114 - root_mean_squared_error: 0.1067 - val_loss: 0.0156 - val_root_mean_squared_error: 0.1249\n"
          ]
        }
      ]
    },
    {
      "cell_type": "code",
      "source": [
        "print(f'Best val_loss for interpolate_backward: ', interpolate_backward_best_val_loss)"
      ],
      "metadata": {
        "id": "GihiIRMpudZJ",
        "colab": {
          "base_uri": "https://localhost:8080/"
        },
        "outputId": "20638b3c-9b94-431b-f0d7-9f0ec30c0db5"
      },
      "execution_count": 72,
      "outputs": [
        {
          "output_type": "stream",
          "name": "stdout",
          "text": [
            "Best val_loss for interpolate_backward:  0.013578114099800587\n"
          ]
        }
      ]
    },
    {
      "cell_type": "markdown",
      "source": [
        "### 6. Fill NaN values with <i><b>knn</b></i> method."
      ],
      "metadata": {
        "id": "P9Z8MNn29HEo"
      }
    },
    {
      "cell_type": "code",
      "source": [
        "knn_best_val_loss = find_best_metric_by_filling_method(df_train, df_val, 'knn')"
      ],
      "metadata": {
        "colab": {
          "base_uri": "https://localhost:8080/"
        },
        "outputId": "52d4a622-5f29-46e9-f9a9-a3fa0ccad649",
        "id": "_CoB1we9ujkA"
      },
      "execution_count": 73,
      "outputs": [
        {
          "output_type": "stream",
          "name": "stdout",
          "text": [
            "Epoch 1/20\n",
            "4553/4553 [==============================] - 11s 2ms/step - loss: 0.0249 - root_mean_squared_error: 0.1577 - val_loss: 0.0228 - val_root_mean_squared_error: 0.1508\n",
            "Epoch 2/20\n",
            "4553/4553 [==============================] - 10s 2ms/step - loss: 0.0160 - root_mean_squared_error: 0.1265 - val_loss: 0.0171 - val_root_mean_squared_error: 0.1308\n",
            "Epoch 3/20\n",
            "4553/4553 [==============================] - 11s 2ms/step - loss: 0.0151 - root_mean_squared_error: 0.1229 - val_loss: 0.0174 - val_root_mean_squared_error: 0.1321\n",
            "Epoch 4/20\n",
            "4553/4553 [==============================] - 11s 2ms/step - loss: 0.0147 - root_mean_squared_error: 0.1211 - val_loss: 0.0199 - val_root_mean_squared_error: 0.1411\n",
            "Epoch 5/20\n",
            "4553/4553 [==============================] - 11s 2ms/step - loss: 0.0144 - root_mean_squared_error: 0.1200 - val_loss: 0.0204 - val_root_mean_squared_error: 0.1430\n",
            "Epoch 6/20\n",
            "4553/4553 [==============================] - 11s 2ms/step - loss: 0.0142 - root_mean_squared_error: 0.1193 - val_loss: 0.0154 - val_root_mean_squared_error: 0.1241\n",
            "Epoch 7/20\n",
            "4553/4553 [==============================] - 11s 2ms/step - loss: 0.0141 - root_mean_squared_error: 0.1187 - val_loss: 0.0193 - val_root_mean_squared_error: 0.1388\n",
            "Epoch 8/20\n",
            "4553/4553 [==============================] - 11s 2ms/step - loss: 0.0140 - root_mean_squared_error: 0.1184 - val_loss: 0.0164 - val_root_mean_squared_error: 0.1280\n",
            "Epoch 9/20\n",
            "4553/4553 [==============================] - 11s 2ms/step - loss: 0.0139 - root_mean_squared_error: 0.1181 - val_loss: 0.0140 - val_root_mean_squared_error: 0.1184\n",
            "Epoch 10/20\n",
            "4553/4553 [==============================] - 10s 2ms/step - loss: 0.0139 - root_mean_squared_error: 0.1178 - val_loss: 0.0173 - val_root_mean_squared_error: 0.1314\n",
            "Epoch 11/20\n",
            "4553/4553 [==============================] - 12s 3ms/step - loss: 0.0138 - root_mean_squared_error: 0.1175 - val_loss: 0.0158 - val_root_mean_squared_error: 0.1257\n",
            "Epoch 12/20\n",
            "4553/4553 [==============================] - 11s 2ms/step - loss: 0.0138 - root_mean_squared_error: 0.1173 - val_loss: 0.0197 - val_root_mean_squared_error: 0.1405\n",
            "Epoch 13/20\n",
            "4553/4553 [==============================] - 11s 2ms/step - loss: 0.0137 - root_mean_squared_error: 0.1172 - val_loss: 0.0164 - val_root_mean_squared_error: 0.1280\n",
            "Epoch 14/20\n",
            "4553/4553 [==============================] - 12s 3ms/step - loss: 0.0137 - root_mean_squared_error: 0.1170 - val_loss: 0.0198 - val_root_mean_squared_error: 0.1406\n",
            "Epoch 15/20\n",
            "4553/4553 [==============================] - 11s 2ms/step - loss: 0.0137 - root_mean_squared_error: 0.1169 - val_loss: 0.0191 - val_root_mean_squared_error: 0.1381\n",
            "Epoch 16/20\n",
            "4553/4553 [==============================] - 12s 3ms/step - loss: 0.0136 - root_mean_squared_error: 0.1168 - val_loss: 0.0158 - val_root_mean_squared_error: 0.1258\n",
            "Epoch 17/20\n",
            "4553/4553 [==============================] - 12s 3ms/step - loss: 0.0136 - root_mean_squared_error: 0.1167 - val_loss: 0.0187 - val_root_mean_squared_error: 0.1367\n",
            "Epoch 18/20\n",
            "4553/4553 [==============================] - 18s 4ms/step - loss: 0.0136 - root_mean_squared_error: 0.1166 - val_loss: 0.0200 - val_root_mean_squared_error: 0.1414\n",
            "Epoch 19/20\n",
            "4553/4553 [==============================] - 11s 3ms/step - loss: 0.0136 - root_mean_squared_error: 0.1165 - val_loss: 0.0214 - val_root_mean_squared_error: 0.1462\n",
            "Epoch 20/20\n",
            "4553/4553 [==============================] - 11s 2ms/step - loss: 0.0136 - root_mean_squared_error: 0.1165 - val_loss: 0.0166 - val_root_mean_squared_error: 0.1288\n"
          ]
        }
      ]
    },
    {
      "cell_type": "code",
      "source": [
        "print(f'Best val_loss for knn: ', knn_best_val_loss)"
      ],
      "metadata": {
        "id": "c4Z3c33NujkC",
        "colab": {
          "base_uri": "https://localhost:8080/"
        },
        "outputId": "6e2b907a-ff10-4788-c3dc-08637602e14f"
      },
      "execution_count": 74,
      "outputs": [
        {
          "output_type": "stream",
          "name": "stdout",
          "text": [
            "Best val_loss for knn:  0.014011465013027191\n"
          ]
        }
      ]
    },
    {
      "cell_type": "markdown",
      "source": [
        "# Hyperparameter tuning"
      ],
      "metadata": {
        "id": "5c0-Bh-xAqSx"
      }
    },
    {
      "cell_type": "markdown",
      "source": [
        "## Find best number of lags"
      ],
      "metadata": {
        "id": "kFIAbZq5Avp4"
      }
    },
    {
      "cell_type": "code",
      "source": [
        "FILLING_NAN_METHOD = 'ffill'\n",
        "\n",
        "df_train_filled = fill_missing_values(df_train, method=FILLING_NAN_METHOD)\n",
        "df_val_filled = fill_missing_values(df_val, method=FILLING_NAN_METHOD)\n",
        "\n",
        "scaler = StandardScaler()\n",
        "df_train_filled.y = scaler.fit_transform(np.array(df_train_filled.y).reshape(-1, 1)).T[0]\n",
        "df_val_filled.y = scaler.transform(np.array(df_val_filled.y).reshape(-1, 1)).T[0]\n",
        "\n",
        "df_train_filled.index = pd.to_datetime(df_train_filled['ds'], format='%Y-%m-%d %H:%M:%S')\n",
        "df_val_filled.index = pd.to_datetime(df_val_filled['ds'], format='%Y-%m-%d %H:%M:%S')\n",
        "\n",
        "df_train_filled.drop(columns=['ds'], inplace=True)\n",
        "df_val_filled.drop(columns=['ds'], inplace=True)"
      ],
      "metadata": {
        "id": "lC64z5qrBbqw"
      },
      "execution_count": 108,
      "outputs": []
    },
    {
      "cell_type": "markdown",
      "source": [
        "### 1. Number of lags = <i><b>5</b></i>."
      ],
      "metadata": {
        "id": "e76e3_yP4RP2"
      }
    },
    {
      "cell_type": "code",
      "source": [
        "N_LAGS = 5"
      ],
      "metadata": {
        "id": "REvToB2e4RP6"
      },
      "execution_count": 109,
      "outputs": []
    },
    {
      "cell_type": "code",
      "source": [
        "X_train, y_train = df_to_X_y(df_train_filled, N_LAGS)\n",
        "X_val, y_val = df_to_X_y(df_val_filled, N_LAGS)\n",
        "\n",
        "model = Sequential()\n",
        "model.add(Conv1D(filters=128, kernel_size=2, activation='relu', input_shape=(N_LAGS, 1)))\n",
        "model.add(MaxPooling1D(pool_size=2))\n",
        "model.add(Conv1D(filters=64, kernel_size=2, activation='relu'))\n",
        "model.add(Flatten())\n",
        "model.add(Dense(128, activation='relu'))\n",
        "model.add(Dense(1))\n",
        "\n",
        "model.compile(loss=MeanSquaredError(), optimizer=SGD(learning_rate=0.001, momentum=0.9), metrics=[RootMeanSquaredError()])\n",
        "model_history = model.fit(X_train, y_train, validation_data=(X_val, y_val), epochs=20)"
      ],
      "metadata": {
        "colab": {
          "base_uri": "https://localhost:8080/"
        },
        "outputId": "699ad809-620e-4a5a-a351-ac68bdbe700f",
        "id": "QRcurD-L4RP7"
      },
      "execution_count": 111,
      "outputs": [
        {
          "output_type": "stream",
          "name": "stdout",
          "text": [
            "Epoch 1/20\n",
            "4553/4553 [==============================] - 12s 3ms/step - loss: 0.0265 - root_mean_squared_error: 0.1628 - val_loss: 0.0217 - val_root_mean_squared_error: 0.1473\n",
            "Epoch 2/20\n",
            "4553/4553 [==============================] - 12s 3ms/step - loss: 0.0142 - root_mean_squared_error: 0.1192 - val_loss: 0.0175 - val_root_mean_squared_error: 0.1324\n",
            "Epoch 3/20\n",
            "4553/4553 [==============================] - 11s 2ms/step - loss: 0.0131 - root_mean_squared_error: 0.1147 - val_loss: 0.0170 - val_root_mean_squared_error: 0.1304\n",
            "Epoch 4/20\n",
            "4553/4553 [==============================] - 11s 3ms/step - loss: 0.0126 - root_mean_squared_error: 0.1124 - val_loss: 0.0186 - val_root_mean_squared_error: 0.1365\n",
            "Epoch 5/20\n",
            "4553/4553 [==============================] - 12s 3ms/step - loss: 0.0124 - root_mean_squared_error: 0.1112 - val_loss: 0.0159 - val_root_mean_squared_error: 0.1262\n",
            "Epoch 6/20\n",
            "4553/4553 [==============================] - 14s 3ms/step - loss: 0.0121 - root_mean_squared_error: 0.1101 - val_loss: 0.0137 - val_root_mean_squared_error: 0.1170\n",
            "Epoch 7/20\n",
            "4553/4553 [==============================] - 22s 5ms/step - loss: 0.0119 - root_mean_squared_error: 0.1093 - val_loss: 0.0150 - val_root_mean_squared_error: 0.1227\n",
            "Epoch 8/20\n",
            "4553/4553 [==============================] - 11s 2ms/step - loss: 0.0119 - root_mean_squared_error: 0.1089 - val_loss: 0.0148 - val_root_mean_squared_error: 0.1217\n",
            "Epoch 9/20\n",
            "4553/4553 [==============================] - 14s 3ms/step - loss: 0.0118 - root_mean_squared_error: 0.1085 - val_loss: 0.0131 - val_root_mean_squared_error: 0.1143\n",
            "Epoch 10/20\n",
            "4553/4553 [==============================] - 11s 2ms/step - loss: 0.0117 - root_mean_squared_error: 0.1082 - val_loss: 0.0146 - val_root_mean_squared_error: 0.1208\n",
            "Epoch 11/20\n",
            "4553/4553 [==============================] - 11s 2ms/step - loss: 0.0117 - root_mean_squared_error: 0.1079 - val_loss: 0.0136 - val_root_mean_squared_error: 0.1168\n",
            "Epoch 12/20\n",
            "4553/4553 [==============================] - 10s 2ms/step - loss: 0.0116 - root_mean_squared_error: 0.1078 - val_loss: 0.0182 - val_root_mean_squared_error: 0.1350\n",
            "Epoch 13/20\n",
            "4553/4553 [==============================] - 11s 2ms/step - loss: 0.0116 - root_mean_squared_error: 0.1076 - val_loss: 0.0137 - val_root_mean_squared_error: 0.1171\n",
            "Epoch 14/20\n",
            "4553/4553 [==============================] - 12s 3ms/step - loss: 0.0116 - root_mean_squared_error: 0.1075 - val_loss: 0.0162 - val_root_mean_squared_error: 0.1273\n",
            "Epoch 15/20\n",
            "4553/4553 [==============================] - 13s 3ms/step - loss: 0.0115 - root_mean_squared_error: 0.1074 - val_loss: 0.0164 - val_root_mean_squared_error: 0.1279\n",
            "Epoch 16/20\n",
            "4553/4553 [==============================] - 12s 3ms/step - loss: 0.0115 - root_mean_squared_error: 0.1073 - val_loss: 0.0143 - val_root_mean_squared_error: 0.1196\n",
            "Epoch 17/20\n",
            "4553/4553 [==============================] - 13s 3ms/step - loss: 0.0115 - root_mean_squared_error: 0.1072 - val_loss: 0.0166 - val_root_mean_squared_error: 0.1289\n",
            "Epoch 18/20\n",
            "4553/4553 [==============================] - 14s 3ms/step - loss: 0.0115 - root_mean_squared_error: 0.1071 - val_loss: 0.0175 - val_root_mean_squared_error: 0.1322\n",
            "Epoch 19/20\n",
            "4553/4553 [==============================] - 14s 3ms/step - loss: 0.0115 - root_mean_squared_error: 0.1071 - val_loss: 0.0180 - val_root_mean_squared_error: 0.1342\n",
            "Epoch 20/20\n",
            "4553/4553 [==============================] - 14s 3ms/step - loss: 0.0115 - root_mean_squared_error: 0.1070 - val_loss: 0.0150 - val_root_mean_squared_error: 0.1225\n"
          ]
        }
      ]
    },
    {
      "cell_type": "code",
      "source": [
        "train_losses = model_history.history['loss']\n",
        "val_losses = model_history.history['val_loss']"
      ],
      "metadata": {
        "id": "UuEwN2566VcU"
      },
      "execution_count": 112,
      "outputs": []
    },
    {
      "cell_type": "code",
      "source": [
        "plt.plot(val_losses, label='val_loss')\n",
        "plt.plot(train_losses, label='train_loss')\n",
        "plt.legend()"
      ],
      "metadata": {
        "colab": {
          "base_uri": "https://localhost:8080/",
          "height": 453
        },
        "outputId": "6088137a-a731-443f-ed81-dd74782d51fa",
        "id": "JhT7kYRb6Vca"
      },
      "execution_count": 113,
      "outputs": [
        {
          "output_type": "execute_result",
          "data": {
            "text/plain": [
              "<matplotlib.legend.Legend at 0x7bdfb0b866e0>"
            ]
          },
          "metadata": {},
          "execution_count": 113
        },
        {
          "output_type": "display_data",
          "data": {
            "text/plain": [
              "<Figure size 640x480 with 1 Axes>"
            ],
            "image/png": "[encoded data removed]"
          },
          "metadata": {}
        }
      ]
    },
    {
      "cell_type": "code",
      "source": [
        "print(f'Best val_loss for lags=5: ', round(min(val_losses), 5))"
      ],
      "metadata": {
        "colab": {
          "base_uri": "https://localhost:8080/"
        },
        "outputId": "bbef209a-e449-4df6-ab40-663b33c8e261",
        "id": "pkOREQxj6Vca"
      },
      "execution_count": 114,
      "outputs": [
        {
          "output_type": "stream",
          "name": "stdout",
          "text": [
            "Best val_loss for lags=5:  0.01307\n"
          ]
        }
      ]
    },
    {
      "cell_type": "markdown",
      "source": [
        "### 2. Number of lags = <i><b>10</b></i>."
      ],
      "metadata": {
        "id": "aEJdz2bYA5Ri"
      }
    },
    {
      "cell_type": "code",
      "source": [
        "N_LAGS = 10"
      ],
      "metadata": {
        "id": "JUqWmgf__jvH"
      },
      "execution_count": 115,
      "outputs": []
    },
    {
      "cell_type": "code",
      "source": [
        "X_train, y_train = df_to_X_y(df_train_filled, N_LAGS)\n",
        "X_val, y_val = df_to_X_y(df_val_filled, N_LAGS)\n",
        "\n",
        "model = Sequential()\n",
        "model.add(Conv1D(filters=128, kernel_size=2, activation='relu', input_shape=(N_LAGS, 1)))\n",
        "model.add(MaxPooling1D(pool_size=2))\n",
        "model.add(Conv1D(filters=64, kernel_size=2, activation='relu'))\n",
        "model.add(Flatten())\n",
        "model.add(Dense(128, activation='relu'))\n",
        "model.add(Dense(1))\n",
        "\n",
        "model.compile(loss=MeanSquaredError(), optimizer=SGD(learning_rate=0.001, momentum=0.9), metrics=[RootMeanSquaredError()])\n",
        "model_history = model.fit(X_train, y_train, validation_data=(X_val, y_val), epochs=20)"
      ],
      "metadata": {
        "colab": {
          "base_uri": "https://localhost:8080/"
        },
        "outputId": "8a4a53e1-9183-4ee5-9bd7-cb9edd03e7be",
        "id": "HEHjdO4N_jvN"
      },
      "execution_count": 117,
      "outputs": [
        {
          "output_type": "stream",
          "name": "stdout",
          "text": [
            "Epoch 1/20\n",
            "4553/4553 [==============================] - 15s 3ms/step - loss: 0.0306 - root_mean_squared_error: 0.1749 - val_loss: 0.0282 - val_root_mean_squared_error: 0.1680\n",
            "Epoch 2/20\n",
            "4553/4553 [==============================] - 14s 3ms/step - loss: 0.0211 - root_mean_squared_error: 0.1454 - val_loss: 0.0248 - val_root_mean_squared_error: 0.1574\n",
            "Epoch 3/20\n",
            "4553/4553 [==============================] - 19s 4ms/step - loss: 0.0196 - root_mean_squared_error: 0.1402 - val_loss: 0.0241 - val_root_mean_squared_error: 0.1552\n",
            "Epoch 4/20\n",
            "4553/4553 [==============================] - 15s 3ms/step - loss: 0.0190 - root_mean_squared_error: 0.1379 - val_loss: 0.0279 - val_root_mean_squared_error: 0.1670\n",
            "Epoch 5/20\n",
            "4553/4553 [==============================] - 15s 3ms/step - loss: 0.0186 - root_mean_squared_error: 0.1364 - val_loss: 0.0263 - val_root_mean_squared_error: 0.1621\n",
            "Epoch 6/20\n",
            "4553/4553 [==============================] - 14s 3ms/step - loss: 0.0183 - root_mean_squared_error: 0.1353 - val_loss: 0.0215 - val_root_mean_squared_error: 0.1465\n",
            "Epoch 7/20\n",
            "4553/4553 [==============================] - 14s 3ms/step - loss: 0.0181 - root_mean_squared_error: 0.1344 - val_loss: 0.0283 - val_root_mean_squared_error: 0.1682\n",
            "Epoch 8/20\n",
            "4553/4553 [==============================] - 15s 3ms/step - loss: 0.0179 - root_mean_squared_error: 0.1336 - val_loss: 0.0247 - val_root_mean_squared_error: 0.1573\n",
            "Epoch 9/20\n",
            "4553/4553 [==============================] - 15s 3ms/step - loss: 0.0177 - root_mean_squared_error: 0.1331 - val_loss: 0.0282 - val_root_mean_squared_error: 0.1680\n",
            "Epoch 10/20\n",
            "4553/4553 [==============================] - 21s 5ms/step - loss: 0.0176 - root_mean_squared_error: 0.1326 - val_loss: 0.0257 - val_root_mean_squared_error: 0.1602\n",
            "Epoch 11/20\n",
            "4553/4553 [==============================] - 19s 4ms/step - loss: 0.0175 - root_mean_squared_error: 0.1323 - val_loss: 0.0272 - val_root_mean_squared_error: 0.1648\n",
            "Epoch 12/20\n",
            "4553/4553 [==============================] - 17s 4ms/step - loss: 0.0174 - root_mean_squared_error: 0.1320 - val_loss: 0.0242 - val_root_mean_squared_error: 0.1557\n",
            "Epoch 13/20\n",
            "4553/4553 [==============================] - 17s 4ms/step - loss: 0.0173 - root_mean_squared_error: 0.1317 - val_loss: 0.0369 - val_root_mean_squared_error: 0.1920\n",
            "Epoch 14/20\n",
            "4553/4553 [==============================] - 20s 4ms/step - loss: 0.0173 - root_mean_squared_error: 0.1314 - val_loss: 0.0261 - val_root_mean_squared_error: 0.1616\n",
            "Epoch 15/20\n",
            "4553/4553 [==============================] - 14s 3ms/step - loss: 0.0172 - root_mean_squared_error: 0.1313 - val_loss: 0.0313 - val_root_mean_squared_error: 0.1771\n",
            "Epoch 16/20\n",
            "4553/4553 [==============================] - 15s 3ms/step - loss: 0.0172 - root_mean_squared_error: 0.1310 - val_loss: 0.0286 - val_root_mean_squared_error: 0.1691\n",
            "Epoch 17/20\n",
            "4553/4553 [==============================] - 14s 3ms/step - loss: 0.0171 - root_mean_squared_error: 0.1309 - val_loss: 0.0262 - val_root_mean_squared_error: 0.1619\n",
            "Epoch 18/20\n",
            "4553/4553 [==============================] - 15s 3ms/step - loss: 0.0171 - root_mean_squared_error: 0.1308 - val_loss: 0.0240 - val_root_mean_squared_error: 0.1551\n",
            "Epoch 19/20\n",
            "4553/4553 [==============================] - 15s 3ms/step - loss: 0.0171 - root_mean_squared_error: 0.1307 - val_loss: 0.0228 - val_root_mean_squared_error: 0.1508\n",
            "Epoch 20/20\n",
            "4553/4553 [==============================] - 15s 3ms/step - loss: 0.0170 - root_mean_squared_error: 0.1303 - val_loss: 0.0269 - val_root_mean_squared_error: 0.1641\n"
          ]
        }
      ]
    },
    {
      "cell_type": "code",
      "source": [
        "train_losses = model_history.history['loss']\n",
        "val_losses = model_history.history['val_loss']"
      ],
      "metadata": {
        "id": "_lSzXQp2_jvO"
      },
      "execution_count": 118,
      "outputs": []
    },
    {
      "cell_type": "code",
      "source": [
        "plt.plot(val_losses, label='val_loss')\n",
        "plt.plot(train_losses, label='train_loss')\n",
        "plt.legend()"
      ],
      "metadata": {
        "colab": {
          "base_uri": "https://localhost:8080/",
          "height": 453
        },
        "id": "8NkSmSE8_jvO",
        "outputId": "09f37492-6176-4c61-ccc3-2d8979795a26"
      },
      "execution_count": 119,
      "outputs": [
        {
          "output_type": "execute_result",
          "data": {
            "text/plain": [
              "<matplotlib.legend.Legend at 0x7bdf9bab77f0>"
            ]
          },
          "metadata": {},
          "execution_count": 119
        },
        {
          "output_type": "display_data",
          "data": {
            "text/plain": [
              "<Figure size 640x480 with 1 Axes>"
            ],
            "image/png": "[encoded data removed]"
          },
          "metadata": {}
        }
      ]
    },
    {
      "cell_type": "code",
      "source": [
        "print(f'Best val_loss for lags=10: ', round(min(val_losses), 5))"
      ],
      "metadata": {
        "colab": {
          "base_uri": "https://localhost:8080/"
        },
        "id": "FUrLiKvK_jvP",
        "outputId": "fa7ac105-7670-4ddb-de39-50405b1d1798"
      },
      "execution_count": 120,
      "outputs": [
        {
          "output_type": "stream",
          "name": "stdout",
          "text": [
            "Best val_loss for lags=10:  0.02146\n"
          ]
        }
      ]
    },
    {
      "cell_type": "markdown",
      "source": [
        "### 3. Number of lags = <i><b>20</b></i>."
      ],
      "metadata": {
        "id": "ANWlLDrlBDlc"
      }
    },
    {
      "cell_type": "code",
      "source": [
        "N_LAGS = 20"
      ],
      "metadata": {
        "id": "_sA8Oa6M_uGJ"
      },
      "execution_count": 121,
      "outputs": []
    },
    {
      "cell_type": "code",
      "source": [
        "X_train, y_train = df_to_X_y(df_train_filled, N_LAGS)\n",
        "X_val, y_val = df_to_X_y(df_val_filled, N_LAGS)\n",
        "\n",
        "model = Sequential()\n",
        "model.add(Conv1D(filters=128, kernel_size=2, activation='relu', input_shape=(N_LAGS, 1)))\n",
        "model.add(MaxPooling1D(pool_size=2))\n",
        "model.add(Conv1D(filters=64, kernel_size=2, activation='relu'))\n",
        "model.add(Flatten())\n",
        "model.add(Dense(128, activation='relu'))\n",
        "model.add(Dense(1))\n",
        "\n",
        "model.compile(loss=MeanSquaredError(), optimizer=SGD(learning_rate=0.001, momentum=0.9), metrics=[RootMeanSquaredError()])\n",
        "model_history = model.fit(X_train, y_train, validation_data=(X_val, y_val), epochs=7)"
      ],
      "metadata": {
        "colab": {
          "base_uri": "https://localhost:8080/"
        },
        "outputId": "f448ccd5-fc6c-4d0c-86ba-d68ff671bb86",
        "id": "p-lz7xCp_uGO"
      },
      "execution_count": 122,
      "outputs": [
        {
          "output_type": "stream",
          "name": "stdout",
          "text": [
            "Epoch 1/7\n",
            "4553/4553 [==============================] - 22s 5ms/step - loss: 0.0264 - root_mean_squared_error: 0.1626 - val_loss: 0.0254 - val_root_mean_squared_error: 0.1593\n",
            "Epoch 2/7\n",
            "4553/4553 [==============================] - 21s 5ms/step - loss: 0.0174 - root_mean_squared_error: 0.1320 - val_loss: 0.0197 - val_root_mean_squared_error: 0.1405\n",
            "Epoch 3/7\n",
            "4553/4553 [==============================] - 21s 5ms/step - loss: 0.0164 - root_mean_squared_error: 0.1282 - val_loss: 0.0185 - val_root_mean_squared_error: 0.1359\n",
            "Epoch 4/7\n",
            "4553/4553 [==============================] - 22s 5ms/step - loss: 0.0160 - root_mean_squared_error: 0.1263 - val_loss: 0.0187 - val_root_mean_squared_error: 0.1369\n",
            "Epoch 5/7\n",
            "4553/4553 [==============================] - 23s 5ms/step - loss: 0.0157 - root_mean_squared_error: 0.1251 - val_loss: 0.0177 - val_root_mean_squared_error: 0.1331\n",
            "Epoch 6/7\n",
            "4553/4553 [==============================] - 21s 5ms/step - loss: 0.0154 - root_mean_squared_error: 0.1241 - val_loss: 0.0193 - val_root_mean_squared_error: 0.1389\n",
            "Epoch 7/7\n",
            "4553/4553 [==============================] - 22s 5ms/step - loss: 0.0152 - root_mean_squared_error: 0.1233 - val_loss: 0.0218 - val_root_mean_squared_error: 0.1477\n"
          ]
        }
      ]
    },
    {
      "cell_type": "code",
      "source": [
        "train_losses = model_history.history['loss']\n",
        "val_losses = model_history.history['val_loss']"
      ],
      "metadata": {
        "id": "Kx5Y0wvA_uGP"
      },
      "execution_count": 123,
      "outputs": []
    },
    {
      "cell_type": "code",
      "source": [
        "plt.plot(val_losses, label='val_loss')\n",
        "plt.plot(train_losses, label='train_loss')\n",
        "plt.legend()"
      ],
      "metadata": {
        "colab": {
          "base_uri": "https://localhost:8080/",
          "height": 453
        },
        "id": "s37_B9hs_uGQ",
        "outputId": "a4f4b41e-3e1f-496b-8d1e-82286a0c8053"
      },
      "execution_count": 124,
      "outputs": [
        {
          "output_type": "execute_result",
          "data": {
            "text/plain": [
              "<matplotlib.legend.Legend at 0x7bdfb683f2e0>"
            ]
          },
          "metadata": {},
          "execution_count": 124
        },
        {
          "output_type": "display_data",
          "data": {
            "text/plain": [
              "<Figure size 640x480 with 1 Axes>"
            ],
            "image/png": "[encoded data removed]"
          },
          "metadata": {}
        }
      ]
    },
    {
      "cell_type": "code",
      "source": [
        "print(f'Best val_loss for lags=20: ', round(min(val_losses), 5))"
      ],
      "metadata": {
        "colab": {
          "base_uri": "https://localhost:8080/"
        },
        "id": "Pd_5KDh2_uGQ",
        "outputId": "31c04225-15a8-4777-9dfa-5b44b56bbe88"
      },
      "execution_count": 125,
      "outputs": [
        {
          "output_type": "stream",
          "name": "stdout",
          "text": [
            "Best val_loss for lags=20:  0.01771\n"
          ]
        }
      ]
    },
    {
      "cell_type": "markdown",
      "source": [
        "## Find best learning rate"
      ],
      "metadata": {
        "id": "8wNWzLHKFQbq"
      }
    },
    {
      "cell_type": "code",
      "source": [
        "FILLING_NAN_METHOD = 'ffill'\n",
        "\n",
        "df_train_filled = fill_missing_values(df_train, method=FILLING_NAN_METHOD)\n",
        "df_val_filled = fill_missing_values(df_val, method=FILLING_NAN_METHOD)\n",
        "\n",
        "scaler = StandardScaler()\n",
        "df_train_filled.y = scaler.fit_transform(np.array(df_train_filled.y).reshape(-1, 1)).T[0]\n",
        "df_val_filled.y = scaler.transform(np.array(df_val_filled.y).reshape(-1, 1)).T[0]\n",
        "\n",
        "df_train_filled.index = pd.to_datetime(df_train_filled['ds'], format='%Y-%m-%d %H:%M:%S')\n",
        "df_val_filled.index = pd.to_datetime(df_val_filled['ds'], format='%Y-%m-%d %H:%M:%S')\n",
        "\n",
        "df_train_filled.drop(columns=['ds'], inplace=True)\n",
        "df_val_filled.drop(columns=['ds'], inplace=True)\n",
        "\n",
        "N_LAGS = 5\n",
        "\n",
        "X_train, y_train = df_to_X_y(df_train_filled, N_LAGS)\n",
        "X_val, y_val = df_to_X_y(df_val_filled, N_LAGS)"
      ],
      "metadata": {
        "id": "rhLxQibFFZnJ"
      },
      "execution_count": 126,
      "outputs": []
    },
    {
      "cell_type": "markdown",
      "source": [
        "### 1. learning rate = <i><b>1e-2</b></i>."
      ],
      "metadata": {
        "id": "bw3l8ZnoFdC9"
      }
    },
    {
      "cell_type": "code",
      "source": [
        "LEARNING_RATE = 1e-2"
      ],
      "metadata": {
        "id": "FzTGyazxGGQM"
      },
      "execution_count": 127,
      "outputs": []
    },
    {
      "cell_type": "code",
      "source": [
        "model = Sequential()\n",
        "model.add(Conv1D(filters=128, kernel_size=2, activation='relu', input_shape=(N_LAGS, 1)))\n",
        "model.add(MaxPooling1D(pool_size=2))\n",
        "model.add(Conv1D(filters=64, kernel_size=2, activation='relu'))\n",
        "model.add(Flatten())\n",
        "model.add(Dense(128, activation='relu'))\n",
        "model.add(Dense(1))\n",
        "\n",
        "model.compile(loss=MeanSquaredError(), optimizer=SGD(learning_rate=LEARNING_RATE, momentum=0.9), metrics=[RootMeanSquaredError()])\n",
        "model_history = model.fit(X_train, y_train, validation_data=(X_val, y_val), epochs=20)"
      ],
      "metadata": {
        "id": "T3U7sn6UFdC_",
        "colab": {
          "base_uri": "https://localhost:8080/"
        },
        "outputId": "30e8f6b0-1175-4324-ea84-fe122fb9cd4b"
      },
      "execution_count": 128,
      "outputs": [
        {
          "output_type": "stream",
          "name": "stdout",
          "text": [
            "Epoch 1/20\n",
            "4553/4553 [==============================] - 12s 2ms/step - loss: 0.0160 - root_mean_squared_error: 0.1264 - val_loss: 0.0142 - val_root_mean_squared_error: 0.1193\n",
            "Epoch 2/20\n",
            "4553/4553 [==============================] - 12s 3ms/step - loss: 0.0125 - root_mean_squared_error: 0.1118 - val_loss: 0.0142 - val_root_mean_squared_error: 0.1190\n",
            "Epoch 3/20\n",
            "4553/4553 [==============================] - 11s 2ms/step - loss: 0.0122 - root_mean_squared_error: 0.1103 - val_loss: 0.0217 - val_root_mean_squared_error: 0.1472\n",
            "Epoch 4/20\n",
            "4553/4553 [==============================] - 12s 3ms/step - loss: 0.0120 - root_mean_squared_error: 0.1097 - val_loss: 0.0151 - val_root_mean_squared_error: 0.1230\n",
            "Epoch 5/20\n",
            "4553/4553 [==============================] - 11s 2ms/step - loss: 0.0120 - root_mean_squared_error: 0.1094 - val_loss: 0.0183 - val_root_mean_squared_error: 0.1352\n",
            "Epoch 6/20\n",
            "4553/4553 [==============================] - 13s 3ms/step - loss: 0.0119 - root_mean_squared_error: 0.1090 - val_loss: 0.0159 - val_root_mean_squared_error: 0.1260\n",
            "Epoch 7/20\n",
            "4553/4553 [==============================] - 11s 2ms/step - loss: 0.0118 - root_mean_squared_error: 0.1084 - val_loss: 0.0175 - val_root_mean_squared_error: 0.1323\n",
            "Epoch 8/20\n",
            "4553/4553 [==============================] - 12s 3ms/step - loss: 0.0117 - root_mean_squared_error: 0.1083 - val_loss: 0.0126 - val_root_mean_squared_error: 0.1122\n",
            "Epoch 9/20\n",
            "4553/4553 [==============================] - 12s 3ms/step - loss: 0.0117 - root_mean_squared_error: 0.1082 - val_loss: 0.0152 - val_root_mean_squared_error: 0.1234\n",
            "Epoch 10/20\n",
            "4553/4553 [==============================] - 12s 3ms/step - loss: 0.0117 - root_mean_squared_error: 0.1080 - val_loss: 0.0129 - val_root_mean_squared_error: 0.1136\n",
            "Epoch 11/20\n",
            "4553/4553 [==============================] - 10s 2ms/step - loss: 0.0116 - root_mean_squared_error: 0.1078 - val_loss: 0.0119 - val_root_mean_squared_error: 0.1091\n",
            "Epoch 12/20\n",
            "4553/4553 [==============================] - 10s 2ms/step - loss: 0.0116 - root_mean_squared_error: 0.1076 - val_loss: 0.0336 - val_root_mean_squared_error: 0.1834\n",
            "Epoch 13/20\n",
            "4553/4553 [==============================] - 11s 2ms/step - loss: 0.0115 - root_mean_squared_error: 0.1074 - val_loss: 0.0219 - val_root_mean_squared_error: 0.1479\n",
            "Epoch 14/20\n",
            "4553/4553 [==============================] - 11s 3ms/step - loss: 0.0115 - root_mean_squared_error: 0.1074 - val_loss: 0.0140 - val_root_mean_squared_error: 0.1183\n",
            "Epoch 15/20\n",
            "4553/4553 [==============================] - 11s 2ms/step - loss: 0.0115 - root_mean_squared_error: 0.1074 - val_loss: 0.0215 - val_root_mean_squared_error: 0.1465\n",
            "Epoch 16/20\n",
            "4553/4553 [==============================] - 14s 3ms/step - loss: 0.0114 - root_mean_squared_error: 0.1070 - val_loss: 0.0176 - val_root_mean_squared_error: 0.1325\n",
            "Epoch 17/20\n",
            "4553/4553 [==============================] - 13s 3ms/step - loss: 0.0115 - root_mean_squared_error: 0.1072 - val_loss: 0.0131 - val_root_mean_squared_error: 0.1144\n",
            "Epoch 18/20\n",
            "4553/4553 [==============================] - 11s 2ms/step - loss: 0.0115 - root_mean_squared_error: 0.1070 - val_loss: 0.0179 - val_root_mean_squared_error: 0.1339\n",
            "Epoch 19/20\n",
            "4553/4553 [==============================] - 11s 2ms/step - loss: 0.0114 - root_mean_squared_error: 0.1069 - val_loss: 0.0289 - val_root_mean_squared_error: 0.1701\n",
            "Epoch 20/20\n",
            "4553/4553 [==============================] - 11s 2ms/step - loss: 0.0114 - root_mean_squared_error: 0.1067 - val_loss: 0.0201 - val_root_mean_squared_error: 0.1418\n"
          ]
        }
      ]
    },
    {
      "cell_type": "code",
      "source": [
        "train_losses = model_history.history['loss']\n",
        "val_losses = model_history.history['val_loss']"
      ],
      "metadata": {
        "id": "-vFDEafVGA5M"
      },
      "execution_count": 129,
      "outputs": []
    },
    {
      "cell_type": "code",
      "source": [
        "plt.plot(val_losses, label='val_loss')\n",
        "plt.plot(train_losses, label='train_loss')\n",
        "plt.legend()"
      ],
      "metadata": {
        "colab": {
          "base_uri": "https://localhost:8080/",
          "height": 453
        },
        "id": "96IqOcSXGA5S",
        "outputId": "2321c630-afb5-412e-8510-6ab44519ff2d"
      },
      "execution_count": 130,
      "outputs": [
        {
          "output_type": "execute_result",
          "data": {
            "text/plain": [
              "<matplotlib.legend.Legend at 0x7bdfaa987880>"
            ]
          },
          "metadata": {},
          "execution_count": 130
        },
        {
          "output_type": "display_data",
          "data": {
            "text/plain": [
              "<Figure size 640x480 with 1 Axes>"
            ],
            "image/png": "[encoded data removed]"
          },
          "metadata": {}
        }
      ]
    },
    {
      "cell_type": "code",
      "source": [
        "print(f'Best val_loss for lr=1e-2: ', round(min(val_losses), 5))"
      ],
      "metadata": {
        "colab": {
          "base_uri": "https://localhost:8080/"
        },
        "id": "KvkdUS0IGA5S",
        "outputId": "27289eda-18bd-4450-938b-a9c3f9cc0d19"
      },
      "execution_count": 131,
      "outputs": [
        {
          "output_type": "stream",
          "name": "stdout",
          "text": [
            "Best val_loss for lr=1e-2:  0.0119\n"
          ]
        }
      ]
    },
    {
      "cell_type": "markdown",
      "source": [
        "### 2. learning rate = <i><b>1e-3</b></i>."
      ],
      "metadata": {
        "id": "47EH3cpsFdDB"
      }
    },
    {
      "cell_type": "code",
      "source": [
        "LEARNING_RATE = 1e-3"
      ],
      "metadata": {
        "id": "tH2DFWc7GN2x"
      },
      "execution_count": 132,
      "outputs": []
    },
    {
      "cell_type": "code",
      "source": [
        "model = Sequential()\n",
        "model.add(Conv1D(filters=128, kernel_size=2, activation='relu', input_shape=(N_LAGS, 1)))\n",
        "model.add(MaxPooling1D(pool_size=2))\n",
        "model.add(Conv1D(filters=64, kernel_size=2, activation='relu'))\n",
        "model.add(Flatten())\n",
        "model.add(Dense(128, activation='relu'))\n",
        "model.add(Dense(1))\n",
        "\n",
        "model.compile(loss=MeanSquaredError(), optimizer=SGD(learning_rate=LEARNING_RATE, momentum=0.9), metrics=[RootMeanSquaredError()])\n",
        "model_history = model.fit(X_train, y_train, validation_data=(X_val, y_val), epochs=20)"
      ],
      "metadata": {
        "colab": {
          "base_uri": "https://localhost:8080/"
        },
        "id": "Ww34gtYlGN22",
        "outputId": "7d80fdc9-47d8-49ca-b491-7ba788245bad"
      },
      "execution_count": 133,
      "outputs": [
        {
          "output_type": "stream",
          "name": "stdout",
          "text": [
            "Epoch 1/20\n",
            "4553/4553 [==============================] - 12s 2ms/step - loss: 0.0232 - root_mean_squared_error: 0.1523 - val_loss: 0.0190 - val_root_mean_squared_error: 0.1380\n",
            "Epoch 2/20\n",
            "4553/4553 [==============================] - 11s 3ms/step - loss: 0.0133 - root_mean_squared_error: 0.1154 - val_loss: 0.0171 - val_root_mean_squared_error: 0.1308\n",
            "Epoch 3/20\n",
            "4553/4553 [==============================] - 11s 2ms/step - loss: 0.0125 - root_mean_squared_error: 0.1120 - val_loss: 0.0171 - val_root_mean_squared_error: 0.1306\n",
            "Epoch 4/20\n",
            "4553/4553 [==============================] - 11s 2ms/step - loss: 0.0122 - root_mean_squared_error: 0.1104 - val_loss: 0.0186 - val_root_mean_squared_error: 0.1364\n",
            "Epoch 5/20\n",
            "4553/4553 [==============================] - 11s 2ms/step - loss: 0.0120 - root_mean_squared_error: 0.1095 - val_loss: 0.0152 - val_root_mean_squared_error: 0.1232\n",
            "Epoch 6/20\n",
            "4553/4553 [==============================] - 11s 2ms/step - loss: 0.0119 - root_mean_squared_error: 0.1089 - val_loss: 0.0135 - val_root_mean_squared_error: 0.1162\n",
            "Epoch 7/20\n",
            "4553/4553 [==============================] - 11s 2ms/step - loss: 0.0117 - root_mean_squared_error: 0.1083 - val_loss: 0.0154 - val_root_mean_squared_error: 0.1241\n",
            "Epoch 8/20\n",
            "4553/4553 [==============================] - 11s 2ms/step - loss: 0.0117 - root_mean_squared_error: 0.1080 - val_loss: 0.0152 - val_root_mean_squared_error: 0.1231\n",
            "Epoch 9/20\n",
            "4553/4553 [==============================] - 10s 2ms/step - loss: 0.0116 - root_mean_squared_error: 0.1077 - val_loss: 0.0130 - val_root_mean_squared_error: 0.1139\n",
            "Epoch 10/20\n",
            "4553/4553 [==============================] - 11s 2ms/step - loss: 0.0116 - root_mean_squared_error: 0.1075 - val_loss: 0.0147 - val_root_mean_squared_error: 0.1211\n",
            "Epoch 11/20\n",
            "4553/4553 [==============================] - 11s 2ms/step - loss: 0.0115 - root_mean_squared_error: 0.1073 - val_loss: 0.0140 - val_root_mean_squared_error: 0.1185\n",
            "Epoch 12/20\n",
            "4553/4553 [==============================] - 11s 2ms/step - loss: 0.0115 - root_mean_squared_error: 0.1072 - val_loss: 0.0179 - val_root_mean_squared_error: 0.1338\n",
            "Epoch 13/20\n",
            "4553/4553 [==============================] - 11s 2ms/step - loss: 0.0114 - root_mean_squared_error: 0.1070 - val_loss: 0.0138 - val_root_mean_squared_error: 0.1176\n",
            "Epoch 14/20\n",
            "4553/4553 [==============================] - 11s 2ms/step - loss: 0.0114 - root_mean_squared_error: 0.1069 - val_loss: 0.0156 - val_root_mean_squared_error: 0.1250\n",
            "Epoch 15/20\n",
            "4553/4553 [==============================] - 11s 2ms/step - loss: 0.0114 - root_mean_squared_error: 0.1068 - val_loss: 0.0156 - val_root_mean_squared_error: 0.1251\n",
            "Epoch 16/20\n",
            "4553/4553 [==============================] - 11s 2ms/step - loss: 0.0114 - root_mean_squared_error: 0.1067 - val_loss: 0.0135 - val_root_mean_squared_error: 0.1161\n",
            "Epoch 17/20\n",
            "4553/4553 [==============================] - 15s 3ms/step - loss: 0.0114 - root_mean_squared_error: 0.1066 - val_loss: 0.0156 - val_root_mean_squared_error: 0.1250\n",
            "Epoch 18/20\n",
            "4553/4553 [==============================] - 11s 2ms/step - loss: 0.0114 - root_mean_squared_error: 0.1065 - val_loss: 0.0164 - val_root_mean_squared_error: 0.1282\n",
            "Epoch 19/20\n",
            "4553/4553 [==============================] - 11s 2ms/step - loss: 0.0113 - root_mean_squared_error: 0.1065 - val_loss: 0.0176 - val_root_mean_squared_error: 0.1328\n",
            "Epoch 20/20\n",
            "4553/4553 [==============================] - 11s 2ms/step - loss: 0.0113 - root_mean_squared_error: 0.1064 - val_loss: 0.0149 - val_root_mean_squared_error: 0.1220\n"
          ]
        }
      ]
    },
    {
      "cell_type": "code",
      "source": [
        "train_losses = model_history.history['loss']\n",
        "val_losses = model_history.history['val_loss']"
      ],
      "metadata": {
        "id": "zr9UlIoQGN23"
      },
      "execution_count": 134,
      "outputs": []
    },
    {
      "cell_type": "code",
      "source": [
        "plt.plot(val_losses, label='val_loss')\n",
        "plt.plot(train_losses, label='train_loss')\n",
        "plt.legend()"
      ],
      "metadata": {
        "colab": {
          "base_uri": "https://localhost:8080/",
          "height": 453
        },
        "id": "Jiq98Yy2GN24",
        "outputId": "e61e6327-7b8e-4f68-b8f5-bcde1c75a678"
      },
      "execution_count": 135,
      "outputs": [
        {
          "output_type": "execute_result",
          "data": {
            "text/plain": [
              "<matplotlib.legend.Legend at 0x7bdf9ba4c790>"
            ]
          },
          "metadata": {},
          "execution_count": 135
        },
        {
          "output_type": "display_data",
          "data": {
            "text/plain": [
              "<Figure size 640x480 with 1 Axes>"
            ],
            "image/png": "[encoded data removed]"
          },
          "metadata": {}
        }
      ]
    },
    {
      "cell_type": "code",
      "source": [
        "print(f'Best val_loss for lr=1e-3: ', round(min(val_losses), 5))"
      ],
      "metadata": {
        "colab": {
          "base_uri": "https://localhost:8080/"
        },
        "id": "C4kSkmGvGN24",
        "outputId": "7f1467d4-34ed-4a44-c56f-e8ff937bd8ad"
      },
      "execution_count": 136,
      "outputs": [
        {
          "output_type": "stream",
          "name": "stdout",
          "text": [
            "Best val_loss for lr=1e-3:  0.01297\n"
          ]
        }
      ]
    },
    {
      "cell_type": "markdown",
      "source": [
        "### 3. learning rate = <i><b>1e-4</b></i>."
      ],
      "metadata": {
        "id": "jY6TLSN-FqlS"
      }
    },
    {
      "cell_type": "code",
      "source": [
        "LEARNING_RATE = 1e-4"
      ],
      "metadata": {
        "id": "kvm-g_WqGTRR"
      },
      "execution_count": 137,
      "outputs": []
    },
    {
      "cell_type": "code",
      "source": [
        "model = Sequential()\n",
        "model.add(Conv1D(filters=128, kernel_size=2, activation='relu', input_shape=(N_LAGS, 1)))\n",
        "model.add(MaxPooling1D(pool_size=2))\n",
        "model.add(Conv1D(filters=64, kernel_size=2, activation='relu'))\n",
        "model.add(Flatten())\n",
        "model.add(Dense(128, activation='relu'))\n",
        "model.add(Dense(1))\n",
        "\n",
        "model.compile(loss=MeanSquaredError(), optimizer=SGD(learning_rate=LEARNING_RATE, momentum=0.9), metrics=[RootMeanSquaredError()])\n",
        "model_history = model.fit(X_train, y_train, validation_data=(X_val, y_val), epochs=20)"
      ],
      "metadata": {
        "colab": {
          "base_uri": "https://localhost:8080/"
        },
        "id": "POdFKqWxGTRW",
        "outputId": "f8c0fad6-8d36-4490-d9a3-0b3c05d392a8"
      },
      "execution_count": 138,
      "outputs": [
        {
          "output_type": "stream",
          "name": "stdout",
          "text": [
            "Epoch 1/20\n",
            "4553/4553 [==============================] - 12s 3ms/step - loss: 0.0697 - root_mean_squared_error: 0.2641 - val_loss: 0.0291 - val_root_mean_squared_error: 0.1706\n",
            "Epoch 2/20\n",
            "4553/4553 [==============================] - 11s 3ms/step - loss: 0.0174 - root_mean_squared_error: 0.1320 - val_loss: 0.0239 - val_root_mean_squared_error: 0.1545\n",
            "Epoch 3/20\n",
            "4553/4553 [==============================] - 11s 3ms/step - loss: 0.0166 - root_mean_squared_error: 0.1287 - val_loss: 0.0218 - val_root_mean_squared_error: 0.1478\n",
            "Epoch 4/20\n",
            "4553/4553 [==============================] - 11s 2ms/step - loss: 0.0160 - root_mean_squared_error: 0.1266 - val_loss: 0.0215 - val_root_mean_squared_error: 0.1465\n",
            "Epoch 5/20\n",
            "4553/4553 [==============================] - 10s 2ms/step - loss: 0.0156 - root_mean_squared_error: 0.1249 - val_loss: 0.0204 - val_root_mean_squared_error: 0.1428\n",
            "Epoch 6/20\n",
            "4553/4553 [==============================] - 11s 2ms/step - loss: 0.0153 - root_mean_squared_error: 0.1235 - val_loss: 0.0195 - val_root_mean_squared_error: 0.1398\n",
            "Epoch 7/20\n",
            "4553/4553 [==============================] - 11s 2ms/step - loss: 0.0150 - root_mean_squared_error: 0.1223 - val_loss: 0.0192 - val_root_mean_squared_error: 0.1387\n",
            "Epoch 8/20\n",
            "4553/4553 [==============================] - 11s 2ms/step - loss: 0.0147 - root_mean_squared_error: 0.1212 - val_loss: 0.0201 - val_root_mean_squared_error: 0.1417\n",
            "Epoch 9/20\n",
            "4553/4553 [==============================] - 11s 2ms/step - loss: 0.0145 - root_mean_squared_error: 0.1203 - val_loss: 0.0187 - val_root_mean_squared_error: 0.1367\n",
            "Epoch 10/20\n",
            "4553/4553 [==============================] - 12s 3ms/step - loss: 0.0143 - root_mean_squared_error: 0.1194 - val_loss: 0.0186 - val_root_mean_squared_error: 0.1364\n",
            "Epoch 11/20\n",
            "4553/4553 [==============================] - 11s 3ms/step - loss: 0.0141 - root_mean_squared_error: 0.1187 - val_loss: 0.0176 - val_root_mean_squared_error: 0.1326\n",
            "Epoch 12/20\n",
            "4553/4553 [==============================] - 15s 3ms/step - loss: 0.0139 - root_mean_squared_error: 0.1180 - val_loss: 0.0205 - val_root_mean_squared_error: 0.1431\n",
            "Epoch 13/20\n",
            "4553/4553 [==============================] - 19s 4ms/step - loss: 0.0138 - root_mean_squared_error: 0.1174 - val_loss: 0.0185 - val_root_mean_squared_error: 0.1360\n",
            "Epoch 14/20\n",
            "4553/4553 [==============================] - 13s 3ms/step - loss: 0.0137 - root_mean_squared_error: 0.1169 - val_loss: 0.0172 - val_root_mean_squared_error: 0.1310\n",
            "Epoch 15/20\n",
            "4553/4553 [==============================] - 11s 2ms/step - loss: 0.0136 - root_mean_squared_error: 0.1164 - val_loss: 0.0193 - val_root_mean_squared_error: 0.1388\n",
            "Epoch 16/20\n",
            "4553/4553 [==============================] - 13s 3ms/step - loss: 0.0134 - root_mean_squared_error: 0.1160 - val_loss: 0.0175 - val_root_mean_squared_error: 0.1325\n",
            "Epoch 17/20\n",
            "4553/4553 [==============================] - 16s 4ms/step - loss: 0.0133 - root_mean_squared_error: 0.1155 - val_loss: 0.0184 - val_root_mean_squared_error: 0.1357\n",
            "Epoch 18/20\n",
            "4553/4553 [==============================] - 12s 3ms/step - loss: 0.0132 - root_mean_squared_error: 0.1150 - val_loss: 0.0182 - val_root_mean_squared_error: 0.1349\n",
            "Epoch 19/20\n",
            "4553/4553 [==============================] - 16s 4ms/step - loss: 0.0131 - root_mean_squared_error: 0.1146 - val_loss: 0.0174 - val_root_mean_squared_error: 0.1321\n",
            "Epoch 20/20\n",
            "4553/4553 [==============================] - 11s 2ms/step - loss: 0.0131 - root_mean_squared_error: 0.1143 - val_loss: 0.0167 - val_root_mean_squared_error: 0.1294\n"
          ]
        }
      ]
    },
    {
      "cell_type": "code",
      "source": [
        "train_losses = model_history.history['loss']\n",
        "val_losses = model_history.history['val_loss']"
      ],
      "metadata": {
        "id": "bMOBfaKmGTRX"
      },
      "execution_count": 139,
      "outputs": []
    },
    {
      "cell_type": "code",
      "source": [
        "plt.plot(val_losses, label='val_loss')\n",
        "plt.plot(train_losses, label='train_loss')\n",
        "plt.legend()"
      ],
      "metadata": {
        "colab": {
          "base_uri": "https://localhost:8080/",
          "height": 453
        },
        "id": "JBtulNa3GTRY",
        "outputId": "c10a5df6-d732-4d3f-b773-df9103118823"
      },
      "execution_count": 140,
      "outputs": [
        {
          "output_type": "execute_result",
          "data": {
            "text/plain": [
              "<matplotlib.legend.Legend at 0x7bdfaebefd30>"
            ]
          },
          "metadata": {},
          "execution_count": 140
        },
        {
          "output_type": "display_data",
          "data": {
            "text/plain": [
              "<Figure size 640x480 with 1 Axes>"
            ],
            "image/png": "[encoded data removed]"
          },
          "metadata": {}
        }
      ]
    },
    {
      "cell_type": "code",
      "source": [
        "print(f'Best val_loss for lr=1e-4: ', round(min(val_losses), 5))"
      ],
      "metadata": {
        "colab": {
          "base_uri": "https://localhost:8080/"
        },
        "id": "CZjt8AmRGTRY",
        "outputId": "0390dc9f-3f65-404e-925d-b71ded5137a2"
      },
      "execution_count": 141,
      "outputs": [
        {
          "output_type": "stream",
          "name": "stdout",
          "text": [
            "Best val_loss for lr=1e-4:  0.01674\n"
          ]
        }
      ]
    },
    {
      "cell_type": "markdown",
      "source": [
        "## Dropout"
      ],
      "metadata": {
        "id": "SWeeaVeqk2_C"
      }
    },
    {
      "cell_type": "code",
      "source": [
        "FILLING_NAN_METHOD = 'ffill'\n",
        "\n",
        "df_train_filled = fill_missing_values(df_train, method=FILLING_NAN_METHOD)\n",
        "df_val_filled = fill_missing_values(df_val, method=FILLING_NAN_METHOD)\n",
        "\n",
        "scaler = StandardScaler()\n",
        "df_train_filled.y = scaler.fit_transform(np.array(df_train_filled.y).reshape(-1, 1)).T[0]\n",
        "df_val_filled.y = scaler.transform(np.array(df_val_filled.y).reshape(-1, 1)).T[0]\n",
        "\n",
        "df_train_filled.index = pd.to_datetime(df_train_filled['ds'], format='%Y-%m-%d %H:%M:%S')\n",
        "df_val_filled.index = pd.to_datetime(df_val_filled['ds'], format='%Y-%m-%d %H:%M:%S')\n",
        "\n",
        "df_train_filled.drop(columns=['ds'], inplace=True)\n",
        "df_val_filled.drop(columns=['ds'], inplace=True)"
      ],
      "metadata": {
        "id": "D32qhDkHk-kE"
      },
      "execution_count": 142,
      "outputs": []
    },
    {
      "cell_type": "markdown",
      "source": [
        "### 1. dropout = 0.1"
      ],
      "metadata": {
        "id": "iVn7uWeJn409"
      }
    },
    {
      "cell_type": "code",
      "source": [
        "N_LAGS = 5\n",
        "LEARNING_RATE = 1e-2\n",
        "\n",
        "X_train, y_train = df_to_X_y(df_train_filled, N_LAGS)\n",
        "X_val, y_val = df_to_X_y(df_val_filled, N_LAGS)\n",
        "\n",
        "model = Sequential()\n",
        "model.add(Conv1D(filters=128, kernel_size=2, activation='relu', input_shape=(N_LAGS, 1)))\n",
        "model.add(MaxPooling1D(pool_size=2))\n",
        "model.add(Dropout(0.1))\n",
        "model.add(Conv1D(filters=64, kernel_size=2, activation='relu'))\n",
        "model.add(Flatten())\n",
        "model.add(Dense(128, activation='relu'))\n",
        "model.add(Dense(1))\n",
        "\n",
        "model.compile(loss=MeanSquaredError(), optimizer=SGD(learning_rate=LEARNING_RATE, momentum=0.9), metrics=[RootMeanSquaredError()])\n",
        "model_history = model.fit(X_train, y_train, validation_data=(X_val, y_val), epochs=20)"
      ],
      "metadata": {
        "colab": {
          "base_uri": "https://localhost:8080/"
        },
        "id": "4eypGiNVlCEE",
        "outputId": "383e59e5-05d0-496f-f29d-1f09de05d577"
      },
      "execution_count": 143,
      "outputs": [
        {
          "output_type": "stream",
          "name": "stdout",
          "text": [
            "Epoch 1/20\n",
            "4553/4553 [==============================] - 12s 3ms/step - loss: 0.0188 - root_mean_squared_error: 0.1370 - val_loss: 0.0199 - val_root_mean_squared_error: 0.1410\n",
            "Epoch 2/20\n",
            "4553/4553 [==============================] - 12s 3ms/step - loss: 0.0137 - root_mean_squared_error: 0.1170 - val_loss: 0.0158 - val_root_mean_squared_error: 0.1258\n",
            "Epoch 3/20\n",
            "4553/4553 [==============================] - 12s 3ms/step - loss: 0.0132 - root_mean_squared_error: 0.1150 - val_loss: 0.0153 - val_root_mean_squared_error: 0.1235\n",
            "Epoch 4/20\n",
            "4553/4553 [==============================] - 12s 3ms/step - loss: 0.0129 - root_mean_squared_error: 0.1136 - val_loss: 0.0197 - val_root_mean_squared_error: 0.1402\n",
            "Epoch 5/20\n",
            "4553/4553 [==============================] - 12s 3ms/step - loss: 0.0128 - root_mean_squared_error: 0.1132 - val_loss: 0.0330 - val_root_mean_squared_error: 0.1817\n",
            "Epoch 6/20\n",
            "4553/4553 [==============================] - 11s 2ms/step - loss: 0.0127 - root_mean_squared_error: 0.1125 - val_loss: 0.0253 - val_root_mean_squared_error: 0.1591\n",
            "Epoch 7/20\n",
            "4553/4553 [==============================] - 11s 2ms/step - loss: 0.0125 - root_mean_squared_error: 0.1119 - val_loss: 0.0372 - val_root_mean_squared_error: 0.1930\n",
            "Epoch 8/20\n",
            "4553/4553 [==============================] - 12s 3ms/step - loss: 0.0124 - root_mean_squared_error: 0.1116 - val_loss: 0.0285 - val_root_mean_squared_error: 0.1688\n",
            "Epoch 9/20\n",
            "4553/4553 [==============================] - 11s 2ms/step - loss: 0.0124 - root_mean_squared_error: 0.1114 - val_loss: 0.0117 - val_root_mean_squared_error: 0.1082\n",
            "Epoch 10/20\n",
            "4553/4553 [==============================] - 11s 2ms/step - loss: 0.0123 - root_mean_squared_error: 0.1111 - val_loss: 0.0310 - val_root_mean_squared_error: 0.1759\n",
            "Epoch 11/20\n",
            "4553/4553 [==============================] - 11s 2ms/step - loss: 0.0123 - root_mean_squared_error: 0.1110 - val_loss: 0.0203 - val_root_mean_squared_error: 0.1424\n",
            "Epoch 12/20\n",
            "4553/4553 [==============================] - 12s 3ms/step - loss: 0.0123 - root_mean_squared_error: 0.1108 - val_loss: 0.0465 - val_root_mean_squared_error: 0.2156\n",
            "Epoch 13/20\n",
            "4553/4553 [==============================] - 11s 2ms/step - loss: 0.0122 - root_mean_squared_error: 0.1106 - val_loss: 0.0396 - val_root_mean_squared_error: 0.1991\n",
            "Epoch 14/20\n",
            "4553/4553 [==============================] - 13s 3ms/step - loss: 0.0122 - root_mean_squared_error: 0.1105 - val_loss: 0.0242 - val_root_mean_squared_error: 0.1556\n",
            "Epoch 15/20\n",
            "4553/4553 [==============================] - 12s 3ms/step - loss: 0.0122 - root_mean_squared_error: 0.1103 - val_loss: 0.0478 - val_root_mean_squared_error: 0.2187\n",
            "Epoch 16/20\n",
            "4553/4553 [==============================] - 12s 3ms/step - loss: 0.0121 - root_mean_squared_error: 0.1101 - val_loss: 0.0345 - val_root_mean_squared_error: 0.1857\n",
            "Epoch 17/20\n",
            "4553/4553 [==============================] - 11s 3ms/step - loss: 0.0121 - root_mean_squared_error: 0.1100 - val_loss: 0.0238 - val_root_mean_squared_error: 0.1543\n",
            "Epoch 18/20\n",
            "4553/4553 [==============================] - 11s 3ms/step - loss: 0.0121 - root_mean_squared_error: 0.1101 - val_loss: 0.0338 - val_root_mean_squared_error: 0.1839\n",
            "Epoch 19/20\n",
            "4553/4553 [==============================] - 11s 3ms/step - loss: 0.0121 - root_mean_squared_error: 0.1099 - val_loss: 0.0543 - val_root_mean_squared_error: 0.2329\n",
            "Epoch 20/20\n",
            "4553/4553 [==============================] - 12s 3ms/step - loss: 0.0120 - root_mean_squared_error: 0.1095 - val_loss: 0.0360 - val_root_mean_squared_error: 0.1897\n"
          ]
        }
      ]
    },
    {
      "cell_type": "code",
      "source": [
        "train_losses = model_history.history['loss']\n",
        "val_losses = model_history.history['val_loss']"
      ],
      "metadata": {
        "id": "HiE4d62hntcp"
      },
      "execution_count": 144,
      "outputs": []
    },
    {
      "cell_type": "code",
      "source": [
        "plt.plot(val_losses, label='val_loss')\n",
        "plt.plot(train_losses, label='train_loss')\n",
        "plt.legend()"
      ],
      "metadata": {
        "colab": {
          "base_uri": "https://localhost:8080/",
          "height": 453
        },
        "outputId": "5983d9c5-cf69-4557-e1a8-20dc1726f20a",
        "id": "7a5hS1hXntcr"
      },
      "execution_count": 145,
      "outputs": [
        {
          "output_type": "execute_result",
          "data": {
            "text/plain": [
              "<matplotlib.legend.Legend at 0x7bdfb2566860>"
            ]
          },
          "metadata": {},
          "execution_count": 145
        },
        {
          "output_type": "display_data",
          "data": {
            "text/plain": [
              "<Figure size 640x480 with 1 Axes>"
            ],
            "image/png": "[encoded data removed]"
          },
          "metadata": {}
        }
      ]
    },
    {
      "cell_type": "code",
      "source": [
        "print(f'Best val_loss for dropout=0.1: ', round(min(val_losses), 5))"
      ],
      "metadata": {
        "colab": {
          "base_uri": "https://localhost:8080/"
        },
        "outputId": "081ecfb7-bb93-4e77-86fe-17e5a82fe11d",
        "id": "7Eg8aOsWntcs"
      },
      "execution_count": 146,
      "outputs": [
        {
          "output_type": "stream",
          "name": "stdout",
          "text": [
            "Best val_loss for dropout=0.1:  0.01171\n"
          ]
        }
      ]
    },
    {
      "cell_type": "markdown",
      "source": [
        "### 2. dropout = 0.25"
      ],
      "metadata": {
        "id": "pTNyoR4FpDKD"
      }
    },
    {
      "cell_type": "code",
      "source": [
        "N_LAGS = 5\n",
        "LEARNING_RATE = 1e-2\n",
        "\n",
        "X_train, y_train = df_to_X_y(df_train_filled, N_LAGS)\n",
        "X_val, y_val = df_to_X_y(df_val_filled, N_LAGS)\n",
        "\n",
        "model = Sequential()\n",
        "model.add(Conv1D(filters=128, kernel_size=2, activation='relu', input_shape=(N_LAGS, 1)))\n",
        "model.add(MaxPooling1D(pool_size=2))\n",
        "model.add(Dropout(0.25))\n",
        "model.add(Conv1D(filters=64, kernel_size=2, activation='relu'))\n",
        "model.add(Flatten())\n",
        "model.add(Dense(128, activation='relu'))\n",
        "model.add(Dense(1))\n",
        "\n",
        "model.compile(loss=MeanSquaredError(), optimizer=SGD(learning_rate=LEARNING_RATE, momentum=0.9), metrics=[RootMeanSquaredError()])\n",
        "model_history = model.fit(X_train, y_train, validation_data=(X_val, y_val), epochs=20)"
      ],
      "metadata": {
        "colab": {
          "base_uri": "https://localhost:8080/"
        },
        "outputId": "c2b251d3-20c0-4ca8-bc2f-b6e4b16da99e",
        "id": "jmbmG8X3pGD8"
      },
      "execution_count": 147,
      "outputs": [
        {
          "output_type": "stream",
          "name": "stdout",
          "text": [
            "Epoch 1/20\n",
            "4553/4553 [==============================] - 13s 3ms/step - loss: 0.0208 - root_mean_squared_error: 0.1442 - val_loss: 0.0222 - val_root_mean_squared_error: 0.1489\n",
            "Epoch 2/20\n",
            "4553/4553 [==============================] - 12s 3ms/step - loss: 0.0149 - root_mean_squared_error: 0.1221 - val_loss: 0.0252 - val_root_mean_squared_error: 0.1588\n",
            "Epoch 3/20\n",
            "4553/4553 [==============================] - 11s 2ms/step - loss: 0.0142 - root_mean_squared_error: 0.1192 - val_loss: 0.0151 - val_root_mean_squared_error: 0.1229\n",
            "Epoch 4/20\n",
            "4553/4553 [==============================] - 12s 3ms/step - loss: 0.0139 - root_mean_squared_error: 0.1177 - val_loss: 0.0313 - val_root_mean_squared_error: 0.1770\n",
            "Epoch 5/20\n",
            "4553/4553 [==============================] - 12s 3ms/step - loss: 0.0136 - root_mean_squared_error: 0.1168 - val_loss: 0.0629 - val_root_mean_squared_error: 0.2508\n",
            "Epoch 6/20\n",
            "4553/4553 [==============================] - 12s 3ms/step - loss: 0.0136 - root_mean_squared_error: 0.1165 - val_loss: 0.0355 - val_root_mean_squared_error: 0.1885\n",
            "Epoch 7/20\n",
            "4553/4553 [==============================] - 12s 3ms/step - loss: 0.0134 - root_mean_squared_error: 0.1157 - val_loss: 0.0487 - val_root_mean_squared_error: 0.2208\n",
            "Epoch 8/20\n",
            "4553/4553 [==============================] - 12s 3ms/step - loss: 0.0132 - root_mean_squared_error: 0.1150 - val_loss: 0.0333 - val_root_mean_squared_error: 0.1825\n",
            "Epoch 9/20\n",
            "4553/4553 [==============================] - 12s 3ms/step - loss: 0.0131 - root_mean_squared_error: 0.1147 - val_loss: 0.0214 - val_root_mean_squared_error: 0.1463\n",
            "Epoch 10/20\n",
            "4553/4553 [==============================] - 12s 3ms/step - loss: 0.0131 - root_mean_squared_error: 0.1143 - val_loss: 0.0308 - val_root_mean_squared_error: 0.1754\n",
            "Epoch 11/20\n",
            "4553/4553 [==============================] - 11s 3ms/step - loss: 0.0130 - root_mean_squared_error: 0.1141 - val_loss: 0.0333 - val_root_mean_squared_error: 0.1824\n",
            "Epoch 12/20\n",
            "4553/4553 [==============================] - 12s 3ms/step - loss: 0.0130 - root_mean_squared_error: 0.1139 - val_loss: 0.0454 - val_root_mean_squared_error: 0.2131\n",
            "Epoch 13/20\n",
            "4553/4553 [==============================] - 11s 3ms/step - loss: 0.0129 - root_mean_squared_error: 0.1136 - val_loss: 0.0409 - val_root_mean_squared_error: 0.2021\n",
            "Epoch 14/20\n",
            "4553/4553 [==============================] - 12s 3ms/step - loss: 0.0129 - root_mean_squared_error: 0.1137 - val_loss: 0.0307 - val_root_mean_squared_error: 0.1752\n",
            "Epoch 15/20\n",
            "4553/4553 [==============================] - 12s 3ms/step - loss: 0.0128 - root_mean_squared_error: 0.1133 - val_loss: 0.0469 - val_root_mean_squared_error: 0.2166\n",
            "Epoch 16/20\n",
            "4553/4553 [==============================] - 11s 3ms/step - loss: 0.0127 - root_mean_squared_error: 0.1129 - val_loss: 0.0429 - val_root_mean_squared_error: 0.2071\n",
            "Epoch 17/20\n",
            "4553/4553 [==============================] - 11s 2ms/step - loss: 0.0127 - root_mean_squared_error: 0.1129 - val_loss: 0.0385 - val_root_mean_squared_error: 0.1961\n",
            "Epoch 18/20\n",
            "4553/4553 [==============================] - 12s 3ms/step - loss: 0.0127 - root_mean_squared_error: 0.1128 - val_loss: 0.0353 - val_root_mean_squared_error: 0.1880\n",
            "Epoch 19/20\n",
            "4553/4553 [==============================] - 12s 3ms/step - loss: 0.0128 - root_mean_squared_error: 0.1130 - val_loss: 0.0533 - val_root_mean_squared_error: 0.2310\n",
            "Epoch 20/20\n",
            "4553/4553 [==============================] - 12s 3ms/step - loss: 0.0127 - root_mean_squared_error: 0.1126 - val_loss: 0.0341 - val_root_mean_squared_error: 0.1848\n"
          ]
        }
      ]
    },
    {
      "cell_type": "code",
      "source": [
        "train_losses = model_history.history['loss']\n",
        "val_losses = model_history.history['val_loss']"
      ],
      "metadata": {
        "id": "mpJhDIFZpGD-"
      },
      "execution_count": 148,
      "outputs": []
    },
    {
      "cell_type": "code",
      "source": [
        "plt.plot(val_losses, label='val_loss')\n",
        "plt.plot(train_losses, label='train_loss')\n",
        "plt.legend()"
      ],
      "metadata": {
        "id": "AMZVgMPupGD_",
        "colab": {
          "base_uri": "https://localhost:8080/",
          "height": 453
        },
        "outputId": "504a8649-9c5b-4cfe-9958-167b61f0c683"
      },
      "execution_count": 149,
      "outputs": [
        {
          "output_type": "execute_result",
          "data": {
            "text/plain": [
              "<matplotlib.legend.Legend at 0x7bdf9bb0a320>"
            ]
          },
          "metadata": {},
          "execution_count": 149
        },
        {
          "output_type": "display_data",
          "data": {
            "text/plain": [
              "<Figure size 640x480 with 1 Axes>"
            ],
            "image/png": "[encoded data removed]"
          },
          "metadata": {}
        }
      ]
    },
    {
      "cell_type": "code",
      "source": [
        "print(f'Best val_loss for dropout=0.25: ', round(min(val_losses), 5))"
      ],
      "metadata": {
        "id": "-F4ndD51pGD_",
        "colab": {
          "base_uri": "https://localhost:8080/"
        },
        "outputId": "8bc7dac7-3809-40ab-ca0a-3afd75189bcf"
      },
      "execution_count": 150,
      "outputs": [
        {
          "output_type": "stream",
          "name": "stdout",
          "text": [
            "Best val_loss for dropout=0.25:  0.01509\n"
          ]
        }
      ]
    },
    {
      "cell_type": "markdown",
      "source": [
        "### 3. dropout = 0.5"
      ],
      "metadata": {
        "id": "X7JR-Nvjn-Sx"
      }
    },
    {
      "cell_type": "code",
      "source": [
        "N_LAGS = 5\n",
        "LEARNING_RATE = 1e-2\n",
        "\n",
        "X_train, y_train = df_to_X_y(df_train_filled, N_LAGS)\n",
        "X_val, y_val = df_to_X_y(df_val_filled, N_LAGS)\n",
        "\n",
        "model = Sequential()\n",
        "model.add(Conv1D(filters=128, kernel_size=2, activation='relu', input_shape=(N_LAGS, 1)))\n",
        "model.add(MaxPooling1D(pool_size=2))\n",
        "model.add(Dropout(0.5))\n",
        "model.add(Conv1D(filters=64, kernel_size=2, activation='relu'))\n",
        "model.add(Flatten())\n",
        "model.add(Dense(128, activation='relu'))\n",
        "model.add(Dense(1))\n",
        "\n",
        "model.compile(loss=MeanSquaredError(), optimizer=SGD(learning_rate=LEARNING_RATE, momentum=0.9), metrics=[RootMeanSquaredError()])\n",
        "model_history = model.fit(X_train, y_train, validation_data=(X_val, y_val), epochs=20)"
      ],
      "metadata": {
        "colab": {
          "base_uri": "https://localhost:8080/"
        },
        "outputId": "d7900648-32d1-4620-a286-1518f12ab296",
        "id": "bAVc3mDqoD81"
      },
      "execution_count": 151,
      "outputs": [
        {
          "output_type": "stream",
          "name": "stdout",
          "text": [
            "Epoch 1/20\n",
            "4553/4553 [==============================] - 12s 3ms/step - loss: 0.0241 - root_mean_squared_error: 0.1553 - val_loss: 0.0622 - val_root_mean_squared_error: 0.2493\n",
            "Epoch 2/20\n",
            "4553/4553 [==============================] - 12s 3ms/step - loss: 0.0171 - root_mean_squared_error: 0.1308 - val_loss: 0.0848 - val_root_mean_squared_error: 0.2913\n",
            "Epoch 3/20\n",
            "4553/4553 [==============================] - 11s 3ms/step - loss: 0.0162 - root_mean_squared_error: 0.1274 - val_loss: 0.0895 - val_root_mean_squared_error: 0.2992\n",
            "Epoch 4/20\n",
            "4553/4553 [==============================] - 12s 3ms/step - loss: 0.0156 - root_mean_squared_error: 0.1248 - val_loss: 0.2300 - val_root_mean_squared_error: 0.4796\n",
            "Epoch 5/20\n",
            "4553/4553 [==============================] - 12s 3ms/step - loss: 0.0155 - root_mean_squared_error: 0.1245 - val_loss: 0.3226 - val_root_mean_squared_error: 0.5680\n",
            "Epoch 6/20\n",
            "4553/4553 [==============================] - 11s 3ms/step - loss: 0.0151 - root_mean_squared_error: 0.1231 - val_loss: 0.2063 - val_root_mean_squared_error: 0.4542\n",
            "Epoch 7/20\n",
            "4553/4553 [==============================] - 13s 3ms/step - loss: 0.0149 - root_mean_squared_error: 0.1220 - val_loss: 0.2701 - val_root_mean_squared_error: 0.5197\n",
            "Epoch 8/20\n",
            "4553/4553 [==============================] - 12s 3ms/step - loss: 0.0148 - root_mean_squared_error: 0.1216 - val_loss: 0.2984 - val_root_mean_squared_error: 0.5463\n",
            "Epoch 9/20\n",
            "4553/4553 [==============================] - 12s 3ms/step - loss: 0.0147 - root_mean_squared_error: 0.1211 - val_loss: 0.2409 - val_root_mean_squared_error: 0.4908\n",
            "Epoch 10/20\n",
            "4553/4553 [==============================] - 12s 3ms/step - loss: 0.0145 - root_mean_squared_error: 0.1206 - val_loss: 0.3112 - val_root_mean_squared_error: 0.5579\n",
            "Epoch 11/20\n",
            "4553/4553 [==============================] - 16s 4ms/step - loss: 0.0144 - root_mean_squared_error: 0.1200 - val_loss: 0.3450 - val_root_mean_squared_error: 0.5874\n",
            "Epoch 12/20\n",
            "4553/4553 [==============================] - 16s 4ms/step - loss: 0.0143 - root_mean_squared_error: 0.1195 - val_loss: 0.3789 - val_root_mean_squared_error: 0.6155\n",
            "Epoch 13/20\n",
            "4553/4553 [==============================] - 14s 3ms/step - loss: 0.0142 - root_mean_squared_error: 0.1194 - val_loss: 0.3057 - val_root_mean_squared_error: 0.5529\n",
            "Epoch 14/20\n",
            "4553/4553 [==============================] - 12s 3ms/step - loss: 0.0142 - root_mean_squared_error: 0.1190 - val_loss: 0.3380 - val_root_mean_squared_error: 0.5814\n",
            "Epoch 15/20\n",
            "4553/4553 [==============================] - 11s 3ms/step - loss: 0.0142 - root_mean_squared_error: 0.1192 - val_loss: 0.3722 - val_root_mean_squared_error: 0.6101\n",
            "Epoch 16/20\n",
            "4553/4553 [==============================] - 12s 3ms/step - loss: 0.0140 - root_mean_squared_error: 0.1184 - val_loss: 0.3805 - val_root_mean_squared_error: 0.6169\n",
            "Epoch 17/20\n",
            "4553/4553 [==============================] - 11s 3ms/step - loss: 0.0141 - root_mean_squared_error: 0.1186 - val_loss: 0.3746 - val_root_mean_squared_error: 0.6120\n",
            "Epoch 18/20\n",
            "4553/4553 [==============================] - 12s 3ms/step - loss: 0.0139 - root_mean_squared_error: 0.1181 - val_loss: 0.3895 - val_root_mean_squared_error: 0.6241\n",
            "Epoch 19/20\n",
            "4553/4553 [==============================] - 12s 3ms/step - loss: 0.0140 - root_mean_squared_error: 0.1183 - val_loss: 0.4447 - val_root_mean_squared_error: 0.6668\n",
            "Epoch 20/20\n",
            "4553/4553 [==============================] - 11s 2ms/step - loss: 0.0139 - root_mean_squared_error: 0.1178 - val_loss: 0.3918 - val_root_mean_squared_error: 0.6260\n"
          ]
        }
      ]
    },
    {
      "cell_type": "code",
      "source": [
        "train_losses = model_history.history['loss']\n",
        "val_losses = model_history.history['val_loss']"
      ],
      "metadata": {
        "id": "troAkSaloD83"
      },
      "execution_count": 152,
      "outputs": []
    },
    {
      "cell_type": "code",
      "source": [
        "plt.plot(val_losses, label='val_loss')\n",
        "plt.plot(train_losses, label='train_loss')\n",
        "plt.legend()"
      ],
      "metadata": {
        "id": "OHBAKEdFoD84",
        "colab": {
          "base_uri": "https://localhost:8080/",
          "height": 105
        },
        "outputId": "1e80cc6e-040d-4ac3-f222-3aa2840c9291"
      },
      "execution_count": 153,
      "outputs": [
        {
          "output_type": "execute_result",
          "data": {
            "text/plain": [
              "<matplotlib.legend.Legend at 0x7bdfb126f3d0>"
            ]
          },
          "metadata": {},
          "execution_count": 153
        },
        {
          "output_type": "display_data",
          "data": {
            "text/plain": [
              "<Figure size 640x480 with 1 Axes>"
            ],
            "image/png": "[encoded data removed]"
          },
          "metadata": {}
        }
      ]
    },
    {
      "cell_type": "code",
      "source": [
        "print(f'Best val_loss for dropout=0.5: ', round(min(val_losses), 5))"
      ],
      "metadata": {
        "id": "DTdkbdztoD84",
        "colab": {
          "base_uri": "https://localhost:8080/"
        },
        "outputId": "74567880-9181-4ee9-a80a-bfbb1e002d0c"
      },
      "execution_count": 154,
      "outputs": [
        {
          "output_type": "stream",
          "name": "stdout",
          "text": [
            "Best val_loss for dropout=0.5:  0.06215\n"
          ]
        }
      ]
    },
    {
      "cell_type": "markdown",
      "source": [
        "# Prediction on test data"
      ],
      "metadata": {
        "id": "Avc16XexyfqR"
      }
    },
    {
      "cell_type": "code",
      "source": [
        "FILLING_NAN_METHOD = 'ffill'\n",
        "\n",
        "df_train_filled = fill_missing_values(df_train, method=FILLING_NAN_METHOD)\n",
        "df_val_filled = fill_missing_values(df_val, method=FILLING_NAN_METHOD)\n",
        "df_test_filled = fill_missing_values(df_test, method=FILLING_NAN_METHOD)\n",
        "\n",
        "scaler = StandardScaler()\n",
        "df_train_filled.y = scaler.fit_transform(np.array(df_train_filled.y).reshape(-1, 1)).T[0]\n",
        "df_val_filled.y = scaler.transform(np.array(df_val_filled.y).reshape(-1, 1)).T[0]\n",
        "df_test_filled.y = scaler.transform(np.array(df_test_filled.y).reshape(-1, 1)).T[0]\n",
        "\n",
        "df_train_filled.index = pd.to_datetime(df_train_filled['ds'], format='%Y-%m-%d %H:%M:%S')\n",
        "df_val_filled.index = pd.to_datetime(df_val_filled['ds'], format='%Y-%m-%d %H:%M:%S')\n",
        "df_test_filled.index = pd.to_datetime(df_test_filled['ds'], format='%Y-%m-%d %H:%M:%S')\n",
        "\n",
        "df_train_filled.drop(columns=['ds'], inplace=True)\n",
        "df_val_filled.drop(columns=['ds'], inplace=True)\n",
        "df_test_filled.drop(columns=['ds'], inplace=True)"
      ],
      "metadata": {
        "id": "tleEhkB3HExE"
      },
      "execution_count": 155,
      "outputs": []
    },
    {
      "cell_type": "code",
      "source": [
        "N_LAGS = 5\n",
        "LEARNING_RATE = 1e-2\n",
        "\n",
        "X_train, y_train = df_to_X_y(df_train_filled, N_LAGS)\n",
        "X_val, y_val = df_to_X_y(df_val_filled, N_LAGS)\n",
        "\n",
        "model = Sequential()\n",
        "model.add(Conv1D(filters=128, kernel_size=2, activation='relu', input_shape=(N_LAGS, 1)))\n",
        "model.add(MaxPooling1D(pool_size=2))\n",
        "model.add(Dropout(0.1))\n",
        "model.add(Conv1D(filters=64, kernel_size=2, activation='relu'))\n",
        "model.add(Flatten())\n",
        "model.add(Dense(128, activation='relu'))\n",
        "model.add(Dense(1))\n",
        "\n",
        "cp = ModelCheckpoint('best_model/', save_best_only=True, monitor='val_loss', mode='min')\n",
        "model.compile(loss=MeanSquaredError(), optimizer=SGD(learning_rate=LEARNING_RATE, momentum=0.9), metrics=[RootMeanSquaredError()])\n",
        "model_history = model.fit(X_train, y_train, validation_data=(X_val, y_val), callbacks=[cp], epochs=20)"
      ],
      "metadata": {
        "colab": {
          "base_uri": "https://localhost:8080/"
        },
        "id": "MK3Pl2X7HKKi",
        "outputId": "d650f07f-2b7b-4073-91dd-6ed0d3fd5815"
      },
      "execution_count": 156,
      "outputs": [
        {
          "output_type": "stream",
          "name": "stdout",
          "text": [
            "Epoch 1/20\n",
            "4553/4553 [==============================] - 14s 3ms/step - loss: 0.0184 - root_mean_squared_error: 0.1356 - val_loss: 0.0172 - val_root_mean_squared_error: 0.1311\n",
            "Epoch 2/20\n",
            "4553/4553 [==============================] - 12s 3ms/step - loss: 0.0135 - root_mean_squared_error: 0.1163 - val_loss: 0.0178 - val_root_mean_squared_error: 0.1336\n",
            "Epoch 3/20\n",
            "4553/4553 [==============================] - 13s 3ms/step - loss: 0.0131 - root_mean_squared_error: 0.1143 - val_loss: 0.0123 - val_root_mean_squared_error: 0.1108\n",
            "Epoch 4/20\n",
            "4553/4553 [==============================] - 11s 3ms/step - loss: 0.0128 - root_mean_squared_error: 0.1133 - val_loss: 0.0160 - val_root_mean_squared_error: 0.1267\n",
            "Epoch 5/20\n",
            "4553/4553 [==============================] - 12s 3ms/step - loss: 0.0127 - root_mean_squared_error: 0.1127 - val_loss: 0.0337 - val_root_mean_squared_error: 0.1837\n",
            "Epoch 6/20\n",
            "4553/4553 [==============================] - 12s 3ms/step - loss: 0.0126 - root_mean_squared_error: 0.1122 - val_loss: 0.0238 - val_root_mean_squared_error: 0.1543\n",
            "Epoch 7/20\n",
            "4553/4553 [==============================] - 12s 3ms/step - loss: 0.0125 - root_mean_squared_error: 0.1119 - val_loss: 0.0332 - val_root_mean_squared_error: 0.1821\n",
            "Epoch 8/20\n",
            "4553/4553 [==============================] - 12s 3ms/step - loss: 0.0124 - root_mean_squared_error: 0.1116 - val_loss: 0.0190 - val_root_mean_squared_error: 0.1380\n",
            "Epoch 9/20\n",
            "4553/4553 [==============================] - 13s 3ms/step - loss: 0.0123 - root_mean_squared_error: 0.1111 - val_loss: 0.0116 - val_root_mean_squared_error: 0.1077\n",
            "Epoch 10/20\n",
            "4553/4553 [==============================] - 12s 3ms/step - loss: 0.0123 - root_mean_squared_error: 0.1109 - val_loss: 0.0205 - val_root_mean_squared_error: 0.1433\n",
            "Epoch 11/20\n",
            "4553/4553 [==============================] - 12s 3ms/step - loss: 0.0123 - root_mean_squared_error: 0.1108 - val_loss: 0.0188 - val_root_mean_squared_error: 0.1373\n",
            "Epoch 12/20\n",
            "4553/4553 [==============================] - 12s 3ms/step - loss: 0.0122 - root_mean_squared_error: 0.1106 - val_loss: 0.0437 - val_root_mean_squared_error: 0.2091\n",
            "Epoch 13/20\n",
            "4553/4553 [==============================] - 11s 3ms/step - loss: 0.0121 - root_mean_squared_error: 0.1102 - val_loss: 0.0338 - val_root_mean_squared_error: 0.1838\n",
            "Epoch 14/20\n",
            "4553/4553 [==============================] - 12s 3ms/step - loss: 0.0121 - root_mean_squared_error: 0.1102 - val_loss: 0.0215 - val_root_mean_squared_error: 0.1467\n",
            "Epoch 15/20\n",
            "4553/4553 [==============================] - 12s 3ms/step - loss: 0.0121 - root_mean_squared_error: 0.1102 - val_loss: 0.0361 - val_root_mean_squared_error: 0.1901\n",
            "Epoch 16/20\n",
            "4553/4553 [==============================] - 12s 3ms/step - loss: 0.0121 - root_mean_squared_error: 0.1099 - val_loss: 0.0251 - val_root_mean_squared_error: 0.1583\n",
            "Epoch 17/20\n",
            "4553/4553 [==============================] - 12s 3ms/step - loss: 0.0121 - root_mean_squared_error: 0.1100 - val_loss: 0.0190 - val_root_mean_squared_error: 0.1380\n",
            "Epoch 18/20\n",
            "4553/4553 [==============================] - 12s 3ms/step - loss: 0.0121 - root_mean_squared_error: 0.1099 - val_loss: 0.0297 - val_root_mean_squared_error: 0.1723\n",
            "Epoch 19/20\n",
            "4553/4553 [==============================] - 12s 3ms/step - loss: 0.0120 - root_mean_squared_error: 0.1097 - val_loss: 0.0429 - val_root_mean_squared_error: 0.2070\n",
            "Epoch 20/20\n",
            "4553/4553 [==============================] - 12s 3ms/step - loss: 0.0120 - root_mean_squared_error: 0.1094 - val_loss: 0.0308 - val_root_mean_squared_error: 0.1755\n"
          ]
        }
      ]
    },
    {
      "cell_type": "code",
      "source": [
        "from tensorflow.keras.models import load_model\n",
        "loaded_model = load_model('best_model/')"
      ],
      "metadata": {
        "id": "K9WejLbrFVP6"
      },
      "execution_count": 165,
      "outputs": []
    },
    {
      "cell_type": "code",
      "source": [
        "X_test, y_test = df_to_X_y(df_test_filled, N_LAGS)\n",
        "\n",
        "test_predictions = loaded_model.predict(X_test).flatten()\n",
        "test_results = pd.DataFrame(data={'Test Predictions':list(test_predictions), 'Actuals':np.squeeze(y_test)})\n",
        "test_results"
      ],
      "metadata": {
        "id": "gBFeilKzF5jh",
        "colab": {
          "base_uri": "https://localhost:8080/",
          "height": 436
        },
        "outputId": "e6017a62-4a27-4197-fb2b-a12079e4f81b"
      },
      "execution_count": 166,
      "outputs": [
        {
          "output_type": "stream",
          "name": "stdout",
          "text": [
            "569/569 [==============================] - 1s 1ms/step\n"
          ]
        },
        {
          "output_type": "execute_result",
          "data": {
            "text/plain": [
              "       Test Predictions   Actuals\n",
              "0              2.401803  2.336613\n",
              "1              2.343050  2.257902\n",
              "2              2.275622  2.209770\n",
              "3              2.216471  2.148613\n",
              "4              2.173631  2.132192\n",
              "...                 ...       ...\n",
              "18202          2.936815  3.021790\n",
              "18203          2.936815  3.021790\n",
              "18204          2.936815  3.021790\n",
              "18205          2.936815  3.021790\n",
              "18206          2.936815  3.021790\n",
              "\n",
              "[18207 rows x 2 columns]"
            ],
            "text/html": [
              "\n",
              "  <div id=\"df-0c743bb4-f945-4dda-97a3-74c6514cb977\" class=\"colab-df-container\">\n",
              "    <div>\n",
              "<style scoped>\n",
              "    .dataframe tbody tr th:only-of-type {\n",
              "        vertical-align: middle;\n",
              "    }\n",
              "\n",
              "    .dataframe tbody tr th {\n",
              "        vertical-align: top;\n",
              "    }\n",
              "\n",
              "    .dataframe thead th {\n",
              "        text-align: right;\n",
              "    }\n",
              "</style>\n",
              "<table border=\"1\" class=\"dataframe\">\n",
              "  <thead>\n",
              "    <tr style=\"text-align: right;\">\n",
              "      <th></th>\n",
              "      <th>Test Predictions</th>\n",
              "      <th>Actuals</th>\n",
              "    </tr>\n",
              "  </thead>\n",
              "  <tbody>\n",
              "    <tr>\n",
              "      <th>0</th>\n",
              "      <td>2.401803</td>\n",
              "      <td>2.336613</td>\n",
              "    </tr>\n",
              "    <tr>\n",
              "      <th>1</th>\n",
              "      <td>2.343050</td>\n",
              "      <td>2.257902</td>\n",
              "    </tr>\n",
              "    <tr>\n",
              "      <th>2</th>\n",
              "      <td>2.275622</td>\n",
              "      <td>2.209770</td>\n",
              "    </tr>\n",
              "    <tr>\n",
              "      <th>3</th>\n",
              "      <td>2.216471</td>\n",
              "      <td>2.148613</td>\n",
              "    </tr>\n",
              "    <tr>\n",
              "      <th>4</th>\n",
              "      <td>2.173631</td>\n",
              "      <td>2.132192</td>\n",
              "    </tr>\n",
              "    <tr>\n",
              "      <th>...</th>\n",
              "      <td>...</td>\n",
              "      <td>...</td>\n",
              "    </tr>\n",
              "    <tr>\n",
              "      <th>18202</th>\n",
              "      <td>2.936815</td>\n",
              "      <td>3.021790</td>\n",
              "    </tr>\n",
              "    <tr>\n",
              "      <th>18203</th>\n",
              "      <td>2.936815</td>\n",
              "      <td>3.021790</td>\n",
              "    </tr>\n",
              "    <tr>\n",
              "      <th>18204</th>\n",
              "      <td>2.936815</td>\n",
              "      <td>3.021790</td>\n",
              "    </tr>\n",
              "    <tr>\n",
              "      <th>18205</th>\n",
              "      <td>2.936815</td>\n",
              "      <td>3.021790</td>\n",
              "    </tr>\n",
              "    <tr>\n",
              "      <th>18206</th>\n",
              "      <td>2.936815</td>\n",
              "      <td>3.021790</td>\n",
              "    </tr>\n",
              "  </tbody>\n",
              "</table>\n",
              "<p>18207 rows × 2 columns</p>\n",
              "</div>\n",
              "    <div class=\"colab-df-buttons\">\n",
              "\n",
              "  <div class=\"colab-df-container\">\n",
              "    <button class=\"colab-df-convert\" onclick=\"convertToInteractive('df-0c743bb4-f945-4dda-97a3-74c6514cb977')\"\n",
              "            title=\"Convert this dataframe to an interactive table.\"\n",
              "            style=\"display:none;\">\n",
              "\n",
              "  <svg xmlns=\"http://www.w3.org/2000/svg\" height=\"24px\" viewBox=\"0 -960 960 960\">\n",
              "    <path d=\"M120-120v-720h720v720H120Zm60-500h600v-160H180v160Zm220 220h160v-160H400v160Zm0 220h160v-160H400v160ZM180-400h160v-160H180v160Zm440 0h160v-160H620v160ZM180-180h160v-160H180v160Zm440 0h160v-160H620v160Z\"/>\n",
              "  </svg>\n",
              "    </button>\n",
              "\n",
              "  <style>\n",
              "    .colab-df-container {\n",
              "      display:flex;\n",
              "      gap: 12px;\n",
              "    }\n",
              "\n",
              "    .colab-df-convert {\n",
              "      background-color: #E8F0FE;\n",
              "      border: none;\n",
              "      border-radius: 50%;\n",
              "      cursor: pointer;\n",
              "      display: none;\n",
              "      fill: #1967D2;\n",
              "      height: 32px;\n",
              "      padding: 0 0 0 0;\n",
              "      width: 32px;\n",
              "    }\n",
              "\n",
              "    .colab-df-convert:hover {\n",
              "      background-color: #E2EBFA;\n",
              "      box-shadow: 0px 1px 2px rgba(60, 64, 67, 0.3), 0px 1px 3px 1px rgba(60, 64, 67, 0.15);\n",
              "      fill: #174EA6;\n",
              "    }\n",
              "\n",
              "    .colab-df-buttons div {\n",
              "      margin-bottom: 4px;\n",
              "    }\n",
              "\n",
              "    [theme=dark] .colab-df-convert {\n",
              "      background-color: #3B4455;\n",
              "      fill: #D2E3FC;\n",
              "    }\n",
              "\n",
              "    [theme=dark] .colab-df-convert:hover {\n",
              "      background-color: #434B5C;\n",
              "      box-shadow: 0px 1px 3px 1px rgba(0, 0, 0, 0.15);\n",
              "      filter: drop-shadow(0px 1px 2px rgba(0, 0, 0, 0.3));\n",
              "      fill: #FFFFFF;\n",
              "    }\n",
              "  </style>\n",
              "\n",
              "    <script>\n",
              "      const buttonEl =\n",
              "        document.querySelector('#df-0c743bb4-f945-4dda-97a3-74c6514cb977 button.colab-df-convert');\n",
              "      buttonEl.style.display =\n",
              "        google.colab.kernel.accessAllowed ? 'block' : 'none';\n",
              "\n",
              "      async function convertToInteractive(key) {\n",
              "        const element = document.querySelector('#df-0c743bb4-f945-4dda-97a3-74c6514cb977');\n",
              "        const dataTable =\n",
              "          await google.colab.kernel.invokeFunction('convertToInteractive',\n",
              "                                                    [key], {});\n",
              "        if (!dataTable) return;\n",
              "\n",
              "        const docLinkHtml = 'Like what you see? Visit the ' +\n",
              "          '<a target=\"_blank\" href=https://colab.research.google.com/notebooks/data_table.ipynb>data table notebook</a>'\n",
              "          + ' to learn more about interactive tables.';\n",
              "        element.innerHTML = '';\n",
              "        dataTable['output_type'] = 'display_data';\n",
              "        await google.colab.output.renderOutput(dataTable, element);\n",
              "        const docLink = document.createElement('div');\n",
              "        docLink.innerHTML = docLinkHtml;\n",
              "        element.appendChild(docLink);\n",
              "      }\n",
              "    </script>\n",
              "  </div>\n",
              "\n",
              "\n",
              "<div id=\"df-2b4e292e-bf67-4abc-b2f2-b3078640dd24\">\n",
              "  <button class=\"colab-df-quickchart\" onclick=\"quickchart('df-2b4e292e-bf67-4abc-b2f2-b3078640dd24')\"\n",
              "            title=\"Suggest charts\"\n",
              "            style=\"display:none;\">\n",
              "\n",
              "<svg xmlns=\"http://www.w3.org/2000/svg\" height=\"24px\"viewBox=\"0 0 24 24\"\n",
              "     width=\"24px\">\n",
              "    <g>\n",
              "        <path d=\"M19 3H5c-1.1 0-2 .9-2 2v14c0 1.1.9 2 2 2h14c1.1 0 2-.9 2-2V5c0-1.1-.9-2-2-2zM9 17H7v-7h2v7zm4 0h-2V7h2v10zm4 0h-2v-4h2v4z\"/>\n",
              "    </g>\n",
              "</svg>\n",
              "  </button>\n",
              "\n",
              "<style>\n",
              "  .colab-df-quickchart {\n",
              "      --bg-color: #E8F0FE;\n",
              "      --fill-color: #1967D2;\n",
              "      --hover-bg-color: #E2EBFA;\n",
              "      --hover-fill-color: #174EA6;\n",
              "      --disabled-fill-color: #AAA;\n",
              "      --disabled-bg-color: #DDD;\n",
              "  }\n",
              "\n",
              "  [theme=dark] .colab-df-quickchart {\n",
              "      --bg-color: #3B4455;\n",
              "      --fill-color: #D2E3FC;\n",
              "      --hover-bg-color: #434B5C;\n",
              "      --hover-fill-color: #FFFFFF;\n",
              "      --disabled-bg-color: #3B4455;\n",
              "      --disabled-fill-color: #666;\n",
              "  }\n",
              "\n",
              "  .colab-df-quickchart {\n",
              "    background-color: var(--bg-color);\n",
              "    border: none;\n",
              "    border-radius: 50%;\n",
              "    cursor: pointer;\n",
              "    display: none;\n",
              "    fill: var(--fill-color);\n",
              "    height: 32px;\n",
              "    padding: 0;\n",
              "    width: 32px;\n",
              "  }\n",
              "\n",
              "  .colab-df-quickchart:hover {\n",
              "    background-color: var(--hover-bg-color);\n",
              "    box-shadow: 0 1px 2px rgba(60, 64, 67, 0.3), 0 1px 3px 1px rgba(60, 64, 67, 0.15);\n",
              "    fill: var(--button-hover-fill-color);\n",
              "  }\n",
              "\n",
              "  .colab-df-quickchart-complete:disabled,\n",
              "  .colab-df-quickchart-complete:disabled:hover {\n",
              "    background-color: var(--disabled-bg-color);\n",
              "    fill: var(--disabled-fill-color);\n",
              "    box-shadow: none;\n",
              "  }\n",
              "\n",
              "  .colab-df-spinner {\n",
              "    border: 2px solid var(--fill-color);\n",
              "    border-color: transparent;\n",
              "    border-bottom-color: var(--fill-color);\n",
              "    animation:\n",
              "      spin 1s steps(1) infinite;\n",
              "  }\n",
              "\n",
              "  @keyframes spin {\n",
              "    0% {\n",
              "      border-color: transparent;\n",
              "      border-bottom-color: var(--fill-color);\n",
              "      border-left-color: var(--fill-color);\n",
              "    }\n",
              "    20% {\n",
              "      border-color: transparent;\n",
              "      border-left-color: var(--fill-color);\n",
              "      border-top-color: var(--fill-color);\n",
              "    }\n",
              "    30% {\n",
              "      border-color: transparent;\n",
              "      border-left-color: var(--fill-color);\n",
              "      border-top-color: var(--fill-color);\n",
              "      border-right-color: var(--fill-color);\n",
              "    }\n",
              "    40% {\n",
              "      border-color: transparent;\n",
              "      border-right-color: var(--fill-color);\n",
              "      border-top-color: var(--fill-color);\n",
              "    }\n",
              "    60% {\n",
              "      border-color: transparent;\n",
              "      border-right-color: var(--fill-color);\n",
              "    }\n",
              "    80% {\n",
              "      border-color: transparent;\n",
              "      border-right-color: var(--fill-color);\n",
              "      border-bottom-color: var(--fill-color);\n",
              "    }\n",
              "    90% {\n",
              "      border-color: transparent;\n",
              "      border-bottom-color: var(--fill-color);\n",
              "    }\n",
              "  }\n",
              "</style>\n",
              "\n",
              "  <script>\n",
              "    async function quickchart(key) {\n",
              "      const quickchartButtonEl =\n",
              "        document.querySelector('#' + key + ' button');\n",
              "      quickchartButtonEl.disabled = true;  // To prevent multiple clicks.\n",
              "      quickchartButtonEl.classList.add('colab-df-spinner');\n",
              "      try {\n",
              "        const charts = await google.colab.kernel.invokeFunction(\n",
              "            'suggestCharts', [key], {});\n",
              "      } catch (error) {\n",
              "        console.error('Error during call to suggestCharts:', error);\n",
              "      }\n",
              "      quickchartButtonEl.classList.remove('colab-df-spinner');\n",
              "      quickchartButtonEl.classList.add('colab-df-quickchart-complete');\n",
              "    }\n",
              "    (() => {\n",
              "      let quickchartButtonEl =\n",
              "        document.querySelector('#df-2b4e292e-bf67-4abc-b2f2-b3078640dd24 button');\n",
              "      quickchartButtonEl.style.display =\n",
              "        google.colab.kernel.accessAllowed ? 'block' : 'none';\n",
              "    })();\n",
              "  </script>\n",
              "</div>\n",
              "    </div>\n",
              "  </div>\n"
            ]
          },
          "metadata": {},
          "execution_count": 166
        }
      ]
    },
    {
      "cell_type": "code",
      "source": [
        "print(\"test mse: \", mean_squared_error(test_results['Actuals'], test_results['Test Predictions']))\n",
        "print(f\"mape: {round(mean_absolute_percentage_error(test_results['Actuals'], test_results['Test Predictions']) * 100, 4)}\")\n",
        "print(\"test smape: \", calc_smape(test_results['Actuals'], test_results['Test Predictions']))"
      ],
      "metadata": {
        "id": "tjp8HxpcG-Dm",
        "colab": {
          "base_uri": "https://localhost:8080/"
        },
        "outputId": "d94f314c-137b-412f-fa0a-2d26336bc387"
      },
      "execution_count": 167,
      "outputs": [
        {
          "output_type": "stream",
          "name": "stdout",
          "text": [
            "test mse:  0.023350582394661725\n",
            "mape: 3.2168\n",
            "test smape:  3.2798249366001055\n"
          ]
        }
      ]
    },
    {
      "cell_type": "code",
      "source": [
        "s = slice(5100, 5300)\n",
        "plt.plot(test_results['Test Predictions'][s], label='y_pred')\n",
        "plt.plot(test_results['Actuals'][s], label='y_true')\n",
        "plt.legend()"
      ],
      "metadata": {
        "colab": {
          "base_uri": "https://localhost:8080/",
          "height": 453
        },
        "id": "0wfvnH-QvM5i",
        "outputId": "55ec89fb-d553-4db7-aed6-ec0b0ae1dd85"
      },
      "execution_count": 168,
      "outputs": [
        {
          "output_type": "execute_result",
          "data": {
            "text/plain": [
              "<matplotlib.legend.Legend at 0x7bdfb2d00be0>"
            ]
          },
          "metadata": {},
          "execution_count": 168
        },
        {
          "output_type": "display_data",
          "data": {
            "text/plain": [
              "<Figure size 640x480 with 1 Axes>"
            ],
            "image/png": "[encoded data removed]"
          },
          "metadata": {}
        }
      ]
    },
    {
      "cell_type": "code",
      "source": [],
      "metadata": {
        "id": "LW_3n2FXRVr_"
      },
      "execution_count": null,
      "outputs": []
    }
  ]
}